{
 "cells": [
  {
   "cell_type": "code",
   "execution_count": 1,
   "metadata": {},
   "outputs": [
    {
     "name": "stderr",
     "output_type": "stream",
     "text": [
      "Warning message:\n",
      "\"package 'RNifti' was built under R version 3.6.3\"\n",
      "Attaching package: 'dplyr'\n",
      "\n",
      "The following objects are masked from 'package:stats':\n",
      "\n",
      "    filter, lag\n",
      "\n",
      "The following objects are masked from 'package:base':\n",
      "\n",
      "    intersect, setdiff, setequal, union\n",
      "\n",
      "\n",
      "Attaching package: 'data.table'\n",
      "\n",
      "The following objects are masked from 'package:dplyr':\n",
      "\n",
      "    between, first, last\n",
      "\n",
      "Warning message:\n",
      "\"package 'operators' was built under R version 3.6.3\"\n",
      "Attaching package: 'operators'\n",
      "\n",
      "The following object is masked from 'package:dplyr':\n",
      "\n",
      "    %>%\n",
      "\n",
      "The following objects are masked from 'package:base':\n",
      "\n",
      "    options, strrep\n",
      "\n",
      "Warning message:\n",
      "\"package 'filesstrings' was built under R version 3.6.3\"Loading required package: stringr\n",
      "\n",
      "Attaching package: 'stringr'\n",
      "\n",
      "The following object is masked from 'package:operators':\n",
      "\n",
      "    %>%\n",
      "\n",
      "\n",
      "Attaching package: 'filesstrings'\n",
      "\n",
      "The following object is masked from 'package:dplyr':\n",
      "\n",
      "    all_equal\n",
      "\n"
     ]
    }
   ],
   "source": [
    "library(RNifti)\n",
    "library(dplyr)\n",
    "library(data.table)\n",
    "library(operators)\n",
    "library(filesstrings)"
   ]
  },
  {
   "cell_type": "code",
   "execution_count": 6,
   "metadata": {},
   "outputs": [
    {
     "data": {
      "text/html": [
       "'U:/LUCADI/NIFTI'"
      ],
      "text/latex": [
       "'U:/LUCADI/NIFTI'"
      ],
      "text/markdown": [
       "'U:/LUCADI/NIFTI'"
      ],
      "text/plain": [
       "[1] \"U:/LUCADI/NIFTI\""
      ]
     },
     "metadata": {},
     "output_type": "display_data"
    }
   ],
   "source": [
    "setwd('U:\\\\LUCADI\\\\NIFTI')\n",
    "getwd()"
   ]
  },
  {
   "cell_type": "code",
   "execution_count": 7,
   "metadata": {},
   "outputs": [
    {
     "data": {
      "text/html": [
       "<ol class=list-inline>\n",
       "\t<li>'LUC_0001_Scan_1.nii.gz'</li>\n",
       "\t<li>'LUC_0001_Scan_2.nii.gz'</li>\n",
       "\t<li>'LUC_0002_Scan_1.nii.gz'</li>\n",
       "\t<li>'LUC_0002_Scan_2.nii.gz'</li>\n",
       "\t<li>'LUC_0002_Scan_3.nii.gz'</li>\n",
       "\t<li>'LUC_0003_Scan_1.nii.gz'</li>\n",
       "\t<li>'LUC_0003_Scan_2.nii.gz'</li>\n",
       "\t<li>'LUC_0003_Scan_3.nii.gz'</li>\n",
       "\t<li>'LUC_0004_Scan_1.nii.gz'</li>\n",
       "\t<li>'LUC_0004_Scan_2.nii.gz'</li>\n",
       "\t<li>'LUC_0005_Scan_1.nii.gz'</li>\n",
       "\t<li>'LUC_0005_Scan_3.nii.gz'</li>\n",
       "\t<li>'LUC_0006_Scan_1.nii.gz'</li>\n",
       "\t<li>'LUC_0007_Scan_1.nii.gz'</li>\n",
       "\t<li>'LUC_0008_Scan_1.nii.gz'</li>\n",
       "\t<li>'LUC_0009_Scan_1.nii.gz'</li>\n",
       "\t<li>'LUC_0009_Scan_2.nii.gz'</li>\n",
       "\t<li>'LUC_0009_Scan_3.nii.gz'</li>\n",
       "\t<li>'LUC_0010_Scan_1.nii.gz'</li>\n",
       "\t<li>'LUC_0010_Scan_2.nii.gz'</li>\n",
       "\t<li>'LUC_0010_Scan_3.nii.gz'</li>\n",
       "\t<li>'LUC_0011_Scan_1.nii.gz'</li>\n",
       "\t<li>'LUC_0011_Scan_2.nii.gz'</li>\n",
       "\t<li>'LUC_0012_Scan_1.nii.gz'</li>\n",
       "\t<li>'LUC_0012_Scan_2.nii.gz'</li>\n",
       "\t<li>'LUC_0013_Scan_1.nii.gz'</li>\n",
       "\t<li>'LUC_0014_Scan_1.nii.gz'</li>\n",
       "\t<li>'LUC_0015_Scan_1.nii.gz'</li>\n",
       "\t<li>'LUC_0016_Scan_1.nii.gz'</li>\n",
       "\t<li>'LUC_0017_Scan_1.nii.gz'</li>\n",
       "\t<li>'LUC_0018_Scan_1.nii.gz'</li>\n",
       "\t<li>'LUC_0018_Scan_2.nii.gz'</li>\n",
       "\t<li>'LUC_0018_Scan_3.nii.gz'</li>\n",
       "\t<li>'LUC_0019_Scan_1.nii.gz'</li>\n",
       "\t<li>'LUC_0020_Scan_1.nii.gz'</li>\n",
       "\t<li>'LUC_0021_Scan_1.nii.gz'</li>\n",
       "\t<li>'LUC_0021_Scan_2.nii.gz'</li>\n",
       "\t<li>'LUC_0022_Scan_1.nii.gz'</li>\n",
       "\t<li>'LUC_0022_Scan_2.nii.gz'</li>\n",
       "\t<li>'LUC_0023_Scan_1.nii.gz'</li>\n",
       "\t<li>'LUC_0023_Scan_2.nii.gz'</li>\n",
       "\t<li>'LUC_0024_Scan_1.nii.gz'</li>\n",
       "\t<li>'LUC_0024_Scan_2.nii.gz'</li>\n",
       "\t<li>'LUC_0025_Scan_1.nii.gz'</li>\n",
       "\t<li>'LUC_0025_Scan_2.nii.gz'</li>\n",
       "\t<li>'LUC_0025_Scan_3.nii.gz'</li>\n",
       "\t<li>'LUC_0026_Scan_1.nii.gz'</li>\n",
       "\t<li>'LUC_0026_Scan_2.nii.gz'</li>\n",
       "\t<li>'LUC_0027_Scan_1.nii.gz'</li>\n",
       "\t<li>'LUC_0027_Scan_2.nii.gz'</li>\n",
       "\t<li>'LUC_0027_Scan_3.nii.gz'</li>\n",
       "\t<li>'LUC_0028_Scan_1.nii.gz'</li>\n",
       "\t<li>'LUC_0028_Scan_2.nii.gz'</li>\n",
       "\t<li>'LUC_0028_Scan_3.nii.gz'</li>\n",
       "\t<li>'LUC_0029_Scan_1.nii.gz'</li>\n",
       "\t<li>'LUC_0029_Scan_2.nii.gz'</li>\n",
       "\t<li>'LUC_0029_Scan_3.nii.gz'</li>\n",
       "\t<li>'LUC_0030_Scan_1.nii.gz'</li>\n",
       "\t<li>'LUC_0030_Scan_2.nii.gz'</li>\n",
       "\t<li>'LUC_0030_Scan_3.nii.gz'</li>\n",
       "\t<li>'LUC_0031_Scan_1.nii.gz'</li>\n",
       "\t<li>'LUC_0031_Scan_2.nii.gz'</li>\n",
       "\t<li>'LUC_0032_Scan_1.nii.gz'</li>\n",
       "\t<li>'LUC_0032_Scan_2.nii.gz'</li>\n",
       "\t<li>'LUC_0032_Scan_3.nii.gz'</li>\n",
       "\t<li>'LUC_0033_Scan_1.nii.gz'</li>\n",
       "\t<li>'LUC_0033_Scan_2.nii.gz'</li>\n",
       "\t<li>'LUC_0034_Scan_1.nii.gz'</li>\n",
       "\t<li>'LUC_0034_Scan_2.nii.gz'</li>\n",
       "\t<li>'LUC_0035_Scan_1.nii.gz'</li>\n",
       "\t<li>'LUC_0035_Scan_2.nii.gz'</li>\n",
       "\t<li>'LUC_0036_Scan_1.nii.gz'</li>\n",
       "\t<li>'LUC_0037_Scan_1.nii.gz'</li>\n",
       "\t<li>'LUC_0037_Scan_2.nii.gz'</li>\n",
       "\t<li>'LUC_0037_Scan_3.nii.gz'</li>\n",
       "\t<li>'LUC_0038_Scan_1.nii.gz'</li>\n",
       "\t<li>'LUC_0038_Scan_2.nii.gz'</li>\n",
       "\t<li>'LUC_0038_Scan_3.nii.gz'</li>\n",
       "\t<li>'LUC_0039_Scan_1.nii.gz'</li>\n",
       "\t<li>'LUC_0040_Scan_1.nii.gz'</li>\n",
       "\t<li>'LUC_0040_Scan_2.nii.gz'</li>\n",
       "\t<li>'LUC_0040_Scan_3.nii.gz'</li>\n",
       "\t<li>'LUC_0041_Scan_1.nii.gz'</li>\n",
       "\t<li>'LUC_0041_Scan_2.nii.gz'</li>\n",
       "\t<li>'LUC_0042_Scan_1.nii.gz'</li>\n",
       "\t<li>'LUC_0043_Scan_1.nii.gz'</li>\n",
       "\t<li>'LUC_0043_Scan_2.nii.gz'</li>\n",
       "\t<li>'LUC_0044_Scan_1.nii.gz'</li>\n",
       "\t<li>'LUC_0044_Scan_2.nii.gz'</li>\n",
       "\t<li>'LUC_0045_Scan_1.nii.gz'</li>\n",
       "\t<li>'LUC_0045_Scan_2.nii.gz'</li>\n",
       "\t<li>'LUC_0045_Scan_3.nii.gz'</li>\n",
       "\t<li>'LUC_0046_Scan_1.nii.gz'</li>\n",
       "\t<li>'LUC_0046_Scan_2.nii.gz'</li>\n",
       "\t<li>'LUC_0047_Scan_1.nii.gz'</li>\n",
       "\t<li>'LUC_0047_Scan_2.nii.gz'</li>\n",
       "\t<li>'LUC_0048_Scan_1.nii.gz'</li>\n",
       "\t<li>'LUC_0049_Scan_1.nii.gz'</li>\n",
       "\t<li>'LUC_0049_Scan_2.nii.gz'</li>\n",
       "\t<li>'LUC_0050_Scan_1.nii.gz'</li>\n",
       "\t<li>'LUC_0050_Scan_2.nii.gz'</li>\n",
       "\t<li>'LUC_0050_Scan_3.nii.gz'</li>\n",
       "\t<li>'LUC_0051_Scan_1.nii.gz'</li>\n",
       "\t<li>'LUC_0052_Scan_1.nii.gz'</li>\n",
       "\t<li>'LUC_0052_Scan_2.nii.gz'</li>\n",
       "\t<li>'LUC_0053_Scan_1.nii.gz'</li>\n",
       "\t<li>'LUC_0054_Scan_1.nii.gz'</li>\n",
       "\t<li>'LUC_0054_Scan_2.nii.gz'</li>\n",
       "\t<li>'LUC_0055_Scan_1.nii.gz'</li>\n",
       "\t<li>'LUC_0056_Scan_1.nii.gz'</li>\n",
       "\t<li>'LUC_0057_Scan_1.nii.gz'</li>\n",
       "\t<li>'LUC_0057_Scan_2.nii.gz'</li>\n",
       "\t<li>'LUC_0058_Scan_1.nii.gz'</li>\n",
       "\t<li>'LUC_0058_Scan_2.nii.gz'</li>\n",
       "\t<li>'LUC_0058_Scan_3.nii.gz'</li>\n",
       "\t<li>'LUC_0059_Scan_1.nii.gz'</li>\n",
       "\t<li>'LUC_0059_Scan_2.nii.gz'</li>\n",
       "\t<li>'LUC_0060_Scan_1.nii.gz'</li>\n",
       "\t<li>'LUC_0060_Scan_2.nii.gz'</li>\n",
       "\t<li>'LUC_0061_Scan_1.nii.gz'</li>\n",
       "\t<li>'LUC_0062_Scan_1.nii.gz'</li>\n",
       "\t<li>'LUC_0063_Scan_1.nii.gz'</li>\n",
       "\t<li>'LUC_0063_Scan_2.nii.gz'</li>\n",
       "\t<li>'LUC_0064_Scan_1.nii.gz'</li>\n",
       "\t<li>'LUC_0065_Scan_1.nii.gz'</li>\n",
       "\t<li>'LUC_0065_Scan_2.nii.gz'</li>\n",
       "\t<li>'LUC_0065_Scan_3.nii.gz'</li>\n",
       "\t<li>'LUC_0066_Scan_1.nii.gz'</li>\n",
       "\t<li>'LUC_0066_Scan_2.nii.gz'</li>\n",
       "\t<li>'LUC_0067_Scan_1.nii.gz'</li>\n",
       "\t<li>'LUC_0068_Scan_1.nii.gz'</li>\n",
       "\t<li>'LUC_0068_Scan_2.nii.gz'</li>\n",
       "\t<li>'LUC_0069_Scan_1.nii.gz'</li>\n",
       "\t<li>'LUC_0070_Scan_1.nii.gz'</li>\n",
       "\t<li>'LUC_0071_Scan_1.nii.gz'</li>\n",
       "\t<li>'LUC_0072_Scan_1.nii.gz'</li>\n",
       "\t<li>'LUC_0073_Scan_1.nii.gz'</li>\n",
       "\t<li>'LUC_0073_Scan_2.nii.gz'</li>\n",
       "\t<li>'LUC_0074_Scan_1.nii.gz'</li>\n",
       "\t<li>'LUC_0075_Scan_1.nii.gz'</li>\n",
       "\t<li>'LUC_0075_Scan_2.nii.gz'</li>\n",
       "\t<li>'LUC_0076_Scan_1.nii.gz'</li>\n",
       "\t<li>'LUC_0077_Scan_1.nii.gz'</li>\n",
       "\t<li>'LUC_0078_Scan_1.nii.gz'</li>\n",
       "\t<li>'LUC_0078_Scan_2.nii.gz'</li>\n",
       "\t<li>'LUC_0078_Scan_3.nii.gz'</li>\n",
       "\t<li>'LUC_0079_Scan_1.nii.gz'</li>\n",
       "\t<li>'LUC_0080_Scan_1.nii.gz'</li>\n",
       "\t<li>'LUC_0081_Scan_1.nii.gz'</li>\n",
       "\t<li>'LUC_0082_Scan_1.nii.gz'</li>\n",
       "\t<li>'LUC_0083_Scan_1.nii.gz'</li>\n",
       "\t<li>'LUC_0084_Scan_1.nii.gz'</li>\n",
       "\t<li>'LUC_0085_Scan_1.nii.gz'</li>\n",
       "\t<li>'LUC_0085_Scan_2.nii.gz'</li>\n",
       "\t<li>'LUC_0086_Scan_1.nii.gz'</li>\n",
       "\t<li>'LUC_0087_Scan_1.nii.gz'</li>\n",
       "\t<li>'LUC_0088_Scan_1.nii.gz'</li>\n",
       "\t<li>'LUC_0089_Scan_1.nii.gz'</li>\n",
       "\t<li>'LUC_0089_Scan_2.nii.gz'</li>\n",
       "\t<li>'LUC_0089_Scan_3.nii.gz'</li>\n",
       "\t<li>'LUC_0090_Scan_1.nii.gz'</li>\n",
       "\t<li>'LUC_0091_Scan_1.nii.gz'</li>\n",
       "\t<li>'LUC_0093_Scan_1.nii.gz'</li>\n",
       "\t<li>'LUC_0094_Scan_1.nii.gz'</li>\n",
       "\t<li>'LUC_0095_Scan_1.nii.gz'</li>\n",
       "\t<li>'LUC_0096_Scan_1.nii.gz'</li>\n",
       "\t<li>'LUC_0097_Scan_1.nii.gz'</li>\n",
       "\t<li>'LUC_0098_Scan_1.nii.gz'</li>\n",
       "\t<li>'LUC_0098_Scan_2.nii.gz'</li>\n",
       "\t<li>'LUC_0099_Scan_1.nii.gz'</li>\n",
       "\t<li>'LUC_0100_Scan_1.nii.gz'</li>\n",
       "\t<li>'LUC_0101_Scan_1.nii.gz'</li>\n",
       "\t<li>'LUC_0101_Scan_2.nii.gz'</li>\n",
       "\t<li>'LUC_0102_Scan_1.nii.gz'</li>\n",
       "\t<li>'LUC_0103_Scan_1.nii.gz'</li>\n",
       "\t<li>'LUC_0104_Scan_1.nii.gz'</li>\n",
       "\t<li>'LUC_0105_Scan_1.nii.gz'</li>\n",
       "\t<li>'LUC_0105_Scan_2.nii.gz'</li>\n",
       "\t<li>'LUC_0105_Scan_3.nii.gz'</li>\n",
       "\t<li>'LUC_0106_Scan_1.nii.gz'</li>\n",
       "\t<li>'LUC_0107_Scan_1.nii.gz'</li>\n",
       "\t<li>'LUC_0107_Scan_2.nii.gz'</li>\n",
       "\t<li>'LUC_0107_Scan_3.nii.gz'</li>\n",
       "\t<li>'LUC_0108_Scan_1.nii.gz'</li>\n",
       "\t<li>'LUC_0108_Scan_2.nii.gz'</li>\n",
       "\t<li>'LUC_0109_Scan_1.nii.gz'</li>\n",
       "\t<li>'LUC_0110_Scan_1.nii.gz'</li>\n",
       "\t<li>'LUC_0111_Scan_1.nii.gz'</li>\n",
       "\t<li>'LUC_0111_Scan_2.nii.gz'</li>\n",
       "\t<li>'LUC_0112_Scan_1.nii.gz'</li>\n",
       "\t<li>'LUC_0113_Scan_1.nii.gz'</li>\n",
       "\t<li>'LUC_0114_Scan_1.nii.gz'</li>\n",
       "\t<li>'LUC_0114_Scan_2.nii.gz'</li>\n",
       "\t<li>'LUC_0115_Scan_2.nii.gz'</li>\n",
       "\t<li>'LUC_0115_Scan_3.nii.gz'</li>\n",
       "\t<li>'LUC_0116_Scan_1.nii.gz'</li>\n",
       "\t<li>'LUC_0117_Scan_1.nii.gz'</li>\n",
       "\t<li>'LUC_0117_Scan_2.nii.gz'</li>\n",
       "\t<li>'LUC_0118_Scan_1.nii.gz'</li>\n",
       "\t<li>'LUC_0119_Scan_1.nii.gz'</li>\n",
       "\t<li>'LUC_0120_Scan_1.nii.gz'</li>\n",
       "\t<li>'LUC_0120_Scan_2.nii.gz'</li>\n",
       "\t<li>'LUC_0121_Scan_1.nii.gz'</li>\n",
       "\t<li>'LUC_0121_Scan_2.nii.gz'</li>\n",
       "\t<li>'LUC_0122_Scan_1.nii.gz'</li>\n",
       "\t<li>'LUC_0123_Scan_1.nii.gz'</li>\n",
       "\t<li>'LUC_0123_Scan_2.nii.gz'</li>\n",
       "\t<li>'LUC_0124_Scan_1.nii.gz'</li>\n",
       "\t<li>'LUC_0125_Scan_1.nii.gz'</li>\n",
       "\t<li>'LUC_0126_Scan_1.nii.gz'</li>\n",
       "\t<li>'LUC_0127_Scan_1.nii.gz'</li>\n",
       "\t<li>'LUC_0127_Scan_2.nii.gz'</li>\n",
       "\t<li>'LUC_0128_Scan_1.nii.gz'</li>\n",
       "\t<li>'LUC_0129_Scan_1.nii.gz'</li>\n",
       "\t<li>'LUC_0129_Scan_2.nii.gz'</li>\n",
       "\t<li>'LUC_0130_Scan_1.nii.gz'</li>\n",
       "\t<li>'LUC_0131_Scan_1.nii.gz'</li>\n",
       "\t<li>'LUC_0132_Scan_1.nii.gz'</li>\n",
       "\t<li>'LUC_0133_Scan_1.nii.gz'</li>\n",
       "\t<li>'LUC_0133_Scan_2.nii.gz'</li>\n",
       "\t<li>'LUC_0134_Scan_1.nii.gz'</li>\n",
       "\t<li>'LUC_0134_Scan_2.nii.gz'</li>\n",
       "\t<li>'LUC_0134_Scan_3.nii.gz'</li>\n",
       "\t<li>'LUC_0135_Scan_1.nii.gz'</li>\n",
       "\t<li>'LUC_0135_Scan_2.nii.gz'</li>\n",
       "\t<li>'LUC_0136_Scan_1.nii.gz'</li>\n",
       "\t<li>'LUC_0137_Scan_1.nii.gz'</li>\n",
       "\t<li>'LUC_0137_Scan_2.nii.gz'</li>\n",
       "\t<li>'LUC_0137_Scan_3.nii.gz'</li>\n",
       "\t<li>'LUC_0138_Scan_1.nii.gz'</li>\n",
       "\t<li>'LUC_0138_Scan_2.nii.gz'</li>\n",
       "\t<li>'LUC_0138_Scan_3.nii.gz'</li>\n",
       "\t<li>'LUC_0139_Scan_1.nii.gz'</li>\n",
       "\t<li>'LUC_0140_Scan_1.nii.gz'</li>\n",
       "\t<li>'LUC_0141_Scan_1.nii.gz'</li>\n",
       "\t<li>'LUC_0141_Scan_2.nii.gz'</li>\n",
       "\t<li>'LUC_0142_Scan_1.nii.gz'</li>\n",
       "\t<li>'LUC_0142_Scan_2.nii.gz'</li>\n",
       "\t<li>'LUC_0143_Scan_1.nii.gz'</li>\n",
       "\t<li>'LUC_0144_Scan_1.nii.gz'</li>\n",
       "\t<li>'LUC_0144_Scan_2.nii.gz'</li>\n",
       "\t<li>'LUC_0144_Scan_3.nii.gz'</li>\n",
       "\t<li>'LUC_0145_Scan_1.nii.gz'</li>\n",
       "\t<li>'LUC_0146_Scan_1.nii.gz'</li>\n",
       "\t<li>'LUC_0147_Scan_1.nii.gz'</li>\n",
       "\t<li>'LUC_0147_Scan_2.nii.gz'</li>\n",
       "\t<li>'LUC_0148_Scan_1.nii.gz'</li>\n",
       "\t<li>'LUC_0149_Scan_1.nii.gz'</li>\n",
       "\t<li>'LUC_0150_Scan_1.nii.gz'</li>\n",
       "\t<li>'LUC_0151_Scan_1.nii.gz'</li>\n",
       "\t<li>'LUC_0151_Scan_2.nii.gz'</li>\n",
       "\t<li>'LUC_0152_Scan_1.nii.gz'</li>\n",
       "\t<li>'LUC_0153_Scan_1.nii.gz'</li>\n",
       "\t<li>'LUC_0154_Scan_1.nii.gz'</li>\n",
       "\t<li>'LUC_0154_Scan_2.nii.gz'</li>\n",
       "\t<li>'LUC_0155_Scan_1.nii.gz'</li>\n",
       "\t<li>'LUC_0156_Scan_1.nii.gz'</li>\n",
       "\t<li>'LUC_0156_Scan_2.nii.gz'</li>\n",
       "\t<li>'LUC_0157_Scan_1.nii.gz'</li>\n",
       "\t<li>'LUC_0157_Scan_2.nii.gz'</li>\n",
       "\t<li>'LUC_0157_Scan_3.nii.gz'</li>\n",
       "\t<li>'LUC_0158_Scan_1.nii.gz'</li>\n",
       "\t<li>'LUC_0159_Scan_1.nii.gz'</li>\n",
       "\t<li>'LUC_0160_Scan_1.nii.gz'</li>\n",
       "\t<li>'LUC_0161_Scan_1.nii.gz'</li>\n",
       "\t<li>'LUC_0162_Scan_1.nii.gz'</li>\n",
       "\t<li>'LUC_0163_Scan_1.nii.gz'</li>\n",
       "\t<li>'LUC_0164_Scan_1.nii.gz'</li>\n",
       "\t<li>'LUC_0164_Scan_2.nii.gz'</li>\n",
       "\t<li>'LUC_0164_Scan_3.nii.gz'</li>\n",
       "\t<li>'LUC_0165_Scan_1.nii.gz'</li>\n",
       "\t<li>'LUC_0165_Scan_2.nii.gz'</li>\n",
       "\t<li>'LUC_0165_Scan_3.nii.gz'</li>\n",
       "\t<li>'LUC_0166_Scan_1.nii.gz'</li>\n",
       "\t<li>'LUC_0166_Scan_2.nii.gz'</li>\n",
       "\t<li>'LUC_0167_Scan_1.nii.gz'</li>\n",
       "\t<li>'LUC_0168_Scan_1.nii.gz'</li>\n",
       "\t<li>'LUC_0169_Scan_1.nii.gz'</li>\n",
       "\t<li>'LUC_0170_Scan_1.nii.gz'</li>\n",
       "\t<li>'LUC_0171_Scan_1.nii.gz'</li>\n",
       "\t<li>'LUC_0172_Scan_1.nii.gz'</li>\n",
       "\t<li>'LUC_0173_Scan_1.nii.gz'</li>\n",
       "\t<li>'LUC_0174_Scan_1.nii.gz'</li>\n",
       "\t<li>'LUC_0174_Scan_2.nii.gz'</li>\n",
       "\t<li>'LUC_0175_Scan_1.nii.gz'</li>\n",
       "\t<li>'LUC_0176_Scan_1.nii.gz'</li>\n",
       "\t<li>'LUC_0176_Scan_2.nii.gz'</li>\n",
       "\t<li>'LUC_0177_Scan_1.nii.gz'</li>\n",
       "\t<li>'LUC_0177_Scan_2.nii.gz'</li>\n",
       "\t<li>'LUC_0177_Scan_3.nii.gz'</li>\n",
       "\t<li>'LUC_0178_Scan_1.nii.gz'</li>\n",
       "\t<li>'LUC_0178_Scan_2.nii.gz'</li>\n",
       "\t<li>'LUC_0179_Scan_1.nii.gz'</li>\n",
       "\t<li>'LUC_0179_Scan_2.nii.gz'</li>\n",
       "\t<li>'LUC_0180_Scan_1.nii.gz'</li>\n",
       "\t<li>'LUC_0181_Scan_1.nii.gz'</li>\n",
       "\t<li>'LUC_0181_Scan_2.nii.gz'</li>\n",
       "\t<li>'LUC_0182_Scan_1.nii.gz'</li>\n",
       "\t<li>'LUC_0183_Scan_1.nii.gz'</li>\n",
       "\t<li>'LUC_0184_Scan_1.nii.gz'</li>\n",
       "\t<li>'LUC_0184_Scan_2.nii.gz'</li>\n",
       "\t<li>'LUC_0185_Scan_1.nii.gz'</li>\n",
       "\t<li>'LUC_0185_Scan_2.nii.gz'</li>\n",
       "\t<li>'LUC_0186_Scan_1.nii.gz'</li>\n",
       "\t<li>'LUC_0186_Scan_2.nii.gz'</li>\n",
       "\t<li>'LUC_0187_Scan_1.nii.gz'</li>\n",
       "\t<li>'LUC_0187_Scan_2.nii.gz'</li>\n",
       "\t<li>'LUC_0188_Scan_1.nii.gz'</li>\n",
       "\t<li>'LUC_0188_Scan_2.nii.gz'</li>\n",
       "\t<li>'LUC_0188_Scan_3.nii.gz'</li>\n",
       "\t<li>'LUC_0189_Scan_1.nii.gz'</li>\n",
       "\t<li>'LUC_0189_Scan_2.nii.gz'</li>\n",
       "\t<li>'LUC_0189_Scan_3.nii.gz'</li>\n",
       "\t<li>'LUC_0190_Scan_1.nii.gz'</li>\n",
       "\t<li>'LUC_0190_Scan_2.nii.gz'</li>\n",
       "\t<li>'LUC_0191_Scan_1.nii.gz'</li>\n",
       "\t<li>'LUC_0191_Scan_2.nii.gz'</li>\n",
       "\t<li>'LUC_0192_Scan_1.nii.gz'</li>\n",
       "\t<li>'LUC_0192_Scan_2.nii.gz'</li>\n",
       "\t<li>'LUC_0192_Scan_3.nii.gz'</li>\n",
       "\t<li>'LUC_0193_Scan_1.nii.gz'</li>\n",
       "\t<li>'LUC_0193_Scan_2.nii.gz'</li>\n",
       "\t<li>'LUC_0193_Scan_3.nii.gz'</li>\n",
       "\t<li>'LUC_0194_Scan_1.nii.gz'</li>\n",
       "\t<li>'LUC_0194_Scan_2.nii.gz'</li>\n",
       "\t<li>'LUC_0195_Scan_1.nii.gz'</li>\n",
       "\t<li>'LUC_0195_Scan_2.nii.gz'</li>\n",
       "\t<li>'LUC_0196_Scan_1.nii.gz'</li>\n",
       "\t<li>'LUC_0196_Scan_2.nii.gz'</li>\n",
       "\t<li>'LUC_0197_Scan_1.nii.gz'</li>\n",
       "\t<li>'LUC_0197_Scan_2.nii.gz'</li>\n",
       "\t<li>'LUC_0197_Scan_3.nii.gz'</li>\n",
       "\t<li>'LUC_0198_Scan_1.nii.gz'</li>\n",
       "\t<li>'LUC_0198_Scan_2.nii.gz'</li>\n",
       "\t<li>'LUC_0198_Scan_3.nii.gz'</li>\n",
       "\t<li>'LUC_0199_Scan_1.nii.gz'</li>\n",
       "\t<li>'LUC_0199_Scan_2.nii.gz'</li>\n",
       "\t<li>'LUC_0199_Scan_3.nii.gz'</li>\n",
       "\t<li>'LUC_0200_Scan_1.nii.gz'</li>\n",
       "\t<li>'LUC_0201_Scan_1.nii.gz'</li>\n",
       "\t<li>'LUC_0201_Scan_2.nii.gz'</li>\n",
       "\t<li>'LUC_0201_Scan_3.nii.gz'</li>\n",
       "\t<li>'LUC_0202_Scan_1.nii.gz'</li>\n",
       "\t<li>'LUC_0202_Scan_2.nii.gz'</li>\n",
       "\t<li>'LUC_0203_Scan_1.nii.gz'</li>\n",
       "\t<li>'LUC_0203_Scan_2.nii.gz'</li>\n",
       "\t<li>'LUC_0204_Scan_1.nii.gz'</li>\n",
       "\t<li>'LUC_0204_Scan_2.nii.gz'</li>\n",
       "\t<li>'LUC_0204_Scan_3.nii.gz'</li>\n",
       "\t<li>'LUC_0205_Scan_1.nii.gz'</li>\n",
       "\t<li>'LUC_0205_Scan_2.nii.gz'</li>\n",
       "\t<li>'LUC_0205_Scan_3.nii.gz'</li>\n",
       "\t<li>'LUC_0206_Scan_1.nii.gz'</li>\n",
       "\t<li>'LUC_0206_Scan_2.nii.gz'</li>\n",
       "\t<li>'LUC_0206_Scan_3.nii.gz'</li>\n",
       "\t<li>'LUC_0207_Scan_1.nii.gz'</li>\n",
       "\t<li>'LUC_0208_Scan_1.nii.gz'</li>\n",
       "\t<li>'LUC_0208_Scan_2.nii.gz'</li>\n",
       "\t<li>'LUC_0209_Scan_1.nii.gz'</li>\n",
       "\t<li>'LUC_0209_Scan_2.nii.gz'</li>\n",
       "\t<li>'LUC_0209_Scan_3.nii.gz'</li>\n",
       "\t<li>'LUC_0210_Scan_1.nii.gz'</li>\n",
       "\t<li>'LUC_0210_Scan_2.nii.gz'</li>\n",
       "\t<li>'LUC_0210_Scan_3.nii.gz'</li>\n",
       "\t<li>'LUC_0211_Scan_1.nii.gz'</li>\n",
       "\t<li>'LUC_0211_Scan_2.nii.gz'</li>\n",
       "\t<li>'LUC_0211_Scan_3.nii.gz'</li>\n",
       "\t<li>'LUC_0212_Scan_1.nii.gz'</li>\n",
       "\t<li>'LUC_0212_Scan_2.nii.gz'</li>\n",
       "\t<li>'LUC_0212_Scan_3.nii.gz'</li>\n",
       "\t<li>'LUC_0213_Scan_1.nii.gz'</li>\n",
       "\t<li>'LUC_0213_Scan_2.nii.gz'</li>\n",
       "\t<li>'LUC_0214_Scan_1.nii.gz'</li>\n",
       "\t<li>'LUC_0214_Scan_2.nii.gz'</li>\n",
       "\t<li>'LUC_0214_Scan_3.nii.gz'</li>\n",
       "\t<li>'LUC_0215_Scan_1.nii.gz'</li>\n",
       "\t<li>'LUC_0215_Scan_2.nii.gz'</li>\n",
       "\t<li>'LUC_0216_Scan_1.nii.gz'</li>\n",
       "\t<li>'LUC_0217_Scan_1.nii.gz'</li>\n",
       "\t<li>'LUC_0217_Scan_2.nii.gz'</li>\n",
       "\t<li>'LUC_0217_Scan_3.nii.gz'</li>\n",
       "\t<li>'LUC_0218_Scan_1.nii.gz'</li>\n",
       "\t<li>'LUC_0218_Scan_2.nii.gz'</li>\n",
       "\t<li>'LUC_0219_Scan_1.nii.gz'</li>\n",
       "\t<li>'LUC_0219_Scan_2.nii.gz'</li>\n",
       "\t<li>'LUC_0219_Scan_3.nii.gz'</li>\n",
       "\t<li>'LUC_0220_Scan_1.nii.gz'</li>\n",
       "\t<li>'LUC_0220_Scan_2.nii.gz'</li>\n",
       "\t<li>'LUC_0220_Scan_3.nii.gz'</li>\n",
       "\t<li>'LUC_0221_Scan_1.nii.gz'</li>\n",
       "\t<li>'LUC_0221_Scan_2.nii.gz'</li>\n",
       "\t<li>'LUC_0222_Scan_1.nii.gz'</li>\n",
       "\t<li>'LUC_0222_Scan_2.nii.gz'</li>\n",
       "\t<li>'LUC_0222_Scan_3.nii.gz'</li>\n",
       "\t<li>'LUC_0223_Scan_1.nii.gz'</li>\n",
       "\t<li>'LUC_0223_Scan_2.nii.gz'</li>\n",
       "\t<li>'LUC_0224_Scan_1.nii.gz'</li>\n",
       "\t<li>'LUC_0224_Scan_2.nii.gz'</li>\n",
       "\t<li>'LUC_0224_Scan_3.nii.gz'</li>\n",
       "\t<li>'LUC_0225_Scan_1.nii.gz'</li>\n",
       "\t<li>'LUC_0225_Scan_2.nii.gz'</li>\n",
       "\t<li>'LUC_0225_Scan_3.nii.gz'</li>\n",
       "\t<li>'LUC_0226_Scan_1.nii.gz'</li>\n",
       "\t<li>'LUC_0226_Scan_2.nii.gz'</li>\n",
       "\t<li>'LUC_0227_Scan_1.nii.gz'</li>\n",
       "\t<li>'LUC_0227_Scan_2.nii.gz'</li>\n",
       "\t<li>'LUC_0228_Scan_1.nii.gz'</li>\n",
       "\t<li>'LUC_0228_Scan_2.nii.gz'</li>\n",
       "\t<li>'LUC_0228_Scan_3.nii.gz'</li>\n",
       "\t<li>'LUC_0229_Scan_1.nii.gz'</li>\n",
       "\t<li>'LUC_0229_Scan_2.nii.gz'</li>\n",
       "\t<li>'LUC_0229_Scan_3.nii.gz'</li>\n",
       "\t<li>'LUC_0230_Scan_1.nii.gz'</li>\n",
       "\t<li>'LUC_0230_Scan_2.nii.gz'</li>\n",
       "\t<li>'LUC_0230_Scan_3.nii.gz'</li>\n",
       "\t<li>'LUC_0231_Scan_1.nii.gz'</li>\n",
       "\t<li>'LUC_0233_Scan_1.nii.gz'</li>\n",
       "\t<li>'LUC_0233_Scan_2.nii.gz'</li>\n",
       "\t<li>'LUC_0233_Scan_3.nii.gz'</li>\n",
       "\t<li>'LUC_0234_Scan_1.nii.gz'</li>\n",
       "\t<li>'LUC_0235_Scan_1.nii.gz'</li>\n",
       "\t<li>'LUC_0235_Scan_2.nii.gz'</li>\n",
       "\t<li>'LUC_0236_Scan_1.nii.gz'</li>\n",
       "\t<li>'LUC_0236_Scan_2.nii.gz'</li>\n",
       "\t<li>'LUC_0236_Scan_3.nii.gz'</li>\n",
       "\t<li>'LUC_0237_Scan_1.nii.gz'</li>\n",
       "\t<li>'LUC_0237_Scan_2.nii.gz'</li>\n",
       "\t<li>'LUC_0238_Scan_1.nii.gz'</li>\n",
       "\t<li>'LUC_0238_Scan_2.nii.gz'</li>\n",
       "\t<li>'LUC_0238_Scan_3.nii.gz'</li>\n",
       "\t<li>'LUC_0239_Scan_1.nii.gz'</li>\n",
       "\t<li>'LUC_0239_Scan_2.nii.gz'</li>\n",
       "\t<li>'LUC_0239_Scan_3.nii.gz'</li>\n",
       "\t<li>'LUC_0240_Scan_1.nii.gz'</li>\n",
       "\t<li>'LUC_0240_Scan_2.nii.gz'</li>\n",
       "\t<li>'LUC_0241_Scan_1.nii.gz'</li>\n",
       "\t<li>'LUC_0241_Scan_2.nii.gz'</li>\n",
       "\t<li>'LUC_0242_Scan_1.nii.gz'</li>\n",
       "\t<li>'LUC_0242_Scan_2.nii.gz'</li>\n",
       "\t<li>'LUC_0243_Scan_1.nii.gz'</li>\n",
       "\t<li>'LUC_0243_Scan_2.nii.gz'</li>\n",
       "\t<li>'LUC_0243_Scan_3.nii.gz'</li>\n",
       "\t<li>'LUC_0244_Scan_1.nii.gz'</li>\n",
       "\t<li>'LUC_0244_Scan_2.nii.gz'</li>\n",
       "\t<li>'LUC_0244_Scan_3.nii.gz'</li>\n",
       "\t<li>'LUC_0245_Scan_1.nii.gz'</li>\n",
       "\t<li>'LUC_0245_Scan_2.nii.gz'</li>\n",
       "\t<li>'LUC_0246_Scan_1.nii.gz'</li>\n",
       "\t<li>'LUC_0246_Scan_2.nii.gz'</li>\n",
       "\t<li>'LUC_0246_Scan_3.nii.gz'</li>\n",
       "\t<li>'LUC_0247_Scan_1.nii.gz'</li>\n",
       "\t<li>'LUC_0247_Scan_2.nii.gz'</li>\n",
       "\t<li>'LUC_0248_Scan_1.nii.gz'</li>\n",
       "\t<li>'LUC_0248_Scan_2.nii.gz'</li>\n",
       "\t<li>'LUC_0249_Scan_1.nii.gz'</li>\n",
       "\t<li>'LUC_0249_Scan_2.nii.gz'</li>\n",
       "\t<li>'LUC_0250_Scan_1.nii.gz'</li>\n",
       "\t<li>'LUC_0251_Scan_1.nii.gz'</li>\n",
       "\t<li>'LUC_0251_Scan_2.nii.gz'</li>\n",
       "\t<li>'LUC_0252_Scan_1.nii.gz'</li>\n",
       "\t<li>'LUC_0252_Scan_2.nii.gz'</li>\n",
       "\t<li>'LUC_0252_Scan_3.nii.gz'</li>\n",
       "\t<li>'LUC_0253_Scan_1.nii.gz'</li>\n",
       "\t<li>'LUC_0253_Scan_2.nii.gz'</li>\n",
       "\t<li>'LUC_0254_Scan_1.nii.gz'</li>\n",
       "\t<li>'LUC_0255_Scan_1.nii.gz'</li>\n",
       "\t<li>'LUC_0256_Scan_1.nii.gz'</li>\n",
       "\t<li>'LUC_0256_Scan_2.nii.gz'</li>\n",
       "\t<li>'LUC_0256_Scan_3.nii.gz'</li>\n",
       "\t<li>'LUC_0257_Scan_1.nii.gz'</li>\n",
       "\t<li>'LUC_0257_Scan_2.nii.gz'</li>\n",
       "\t<li>'LUC_0257_Scan_3.nii.gz'</li>\n",
       "\t<li>'LUC_0258_Scan_1.nii.gz'</li>\n",
       "\t<li>'LUC_0258_Scan_2.nii.gz'</li>\n",
       "\t<li>'LUC_0259_Scan_1.nii.gz'</li>\n",
       "\t<li>'LUC_0259_Scan_2.nii.gz'</li>\n",
       "\t<li>'LUC_0260_Scan_1.nii.gz'</li>\n",
       "\t<li>'LUC_0261_Scan_1.nii.gz'</li>\n",
       "\t<li>'LUC_0261_Scan_2.nii.gz'</li>\n",
       "\t<li>'LUC_0262_Scan_1.nii.gz'</li>\n",
       "\t<li>'LUC_0263_Scan_1.nii.gz'</li>\n",
       "\t<li>'LUC_0263_Scan_2.nii.gz'</li>\n",
       "\t<li>'LUC_0264_Scan_1.nii.gz'</li>\n",
       "\t<li>'LUC_0264_Scan_2.nii.gz'</li>\n",
       "\t<li>'LUC_0264_Scan_3.nii.gz'</li>\n",
       "\t<li>'LUC_0265_Scan_1.nii.gz'</li>\n",
       "\t<li>'LUC_0266_Scan_1.nii.gz'</li>\n",
       "\t<li>'LUC_0267_Scan_1.nii.gz'</li>\n",
       "\t<li>'LUC_0268_Scan_1.nii.gz'</li>\n",
       "\t<li>'LUC_0268_Scan_2.nii.gz'</li>\n",
       "\t<li>'LUC_0268_Scan_3.nii.gz'</li>\n",
       "\t<li>'LUC_0269_Scan_1.nii.gz'</li>\n",
       "\t<li>'LUC_0270_Scan_1.nii.gz'</li>\n",
       "\t<li>'LUC_0270_Scan_2.nii.gz'</li>\n",
       "\t<li>'LUC_0271_Scan_1.nii.gz'</li>\n",
       "\t<li>'LUC_0271_Scan_2.nii.gz'</li>\n",
       "\t<li>'LUC_0272_Scan_1.nii.gz'</li>\n",
       "\t<li>'LUC_0272_Scan_2.nii.gz'</li>\n",
       "\t<li>'LUC_0273_Scan_1.nii.gz'</li>\n",
       "\t<li>'LUC_0273_Scan_2.nii.gz'</li>\n",
       "\t<li>'LUC_0273_Scan_3.nii.gz'</li>\n",
       "\t<li>'LUC_0274_Scan_1.nii.gz'</li>\n",
       "\t<li>'LUC_0274_Scan_2.nii.gz'</li>\n",
       "\t<li>'LUC_0275_Scan_1.nii.gz'</li>\n",
       "\t<li>'LUC_0275_Scan_2.nii.gz'</li>\n",
       "\t<li>'LUC_0275_Scan_3.nii.gz'</li>\n",
       "\t<li>'LUC_0276_Scan_1.nii.gz'</li>\n",
       "\t<li>'LUC_0276_Scan_2.nii.gz'</li>\n",
       "\t<li>'LUC_0276_Scan_3.nii.gz'</li>\n",
       "\t<li>'LUC_0277_Scan_1.nii.gz'</li>\n",
       "\t<li>'LUC_0278_Scan_1.nii.gz'</li>\n",
       "\t<li>'LUC_0278_Scan_2.nii.gz'</li>\n",
       "\t<li>'LUC_0279_Scan_1.nii.gz'</li>\n",
       "\t<li>'LUC_0279_Scan_2.nii.gz'</li>\n",
       "\t<li>'LUC_0279_Scan_3.nii.gz'</li>\n",
       "\t<li>'LUC_0280_Scan_1.nii.gz'</li>\n",
       "\t<li>'LUC_0280_Scan_2.nii.gz'</li>\n",
       "\t<li>'LUC_0280_Scan_3.nii.gz'</li>\n",
       "\t<li>'LUC_0281_Scan_1.nii.gz'</li>\n",
       "\t<li>'LUC_0281_Scan_2.nii.gz'</li>\n",
       "\t<li>'LUC_0281_Scan_3.nii.gz'</li>\n",
       "\t<li>'LUC_0282_Scan_1.nii.gz'</li>\n",
       "\t<li>'LUC_0282_Scan_2.nii.gz'</li>\n",
       "\t<li>'LUC_0283_Scan_1.nii.gz'</li>\n",
       "\t<li>'LUC_0283_Scan_2.nii.gz'</li>\n",
       "\t<li>'LUC_0284_Scan_1.nii.gz'</li>\n",
       "\t<li>'LUC_0284_Scan_2.nii.gz'</li>\n",
       "\t<li>'LUC_0284_Scan_3.nii.gz'</li>\n",
       "\t<li>'LUC_0285_Scan_1.nii.gz'</li>\n",
       "\t<li>'LUC_0285_Scan_2.nii.gz'</li>\n",
       "\t<li>'LUC_0286_Scan_1.nii.gz'</li>\n",
       "\t<li>'LUC_0286_Scan_2.nii.gz'</li>\n",
       "\t<li>'LUC_0287_Scan_1.nii.gz'</li>\n",
       "\t<li>'LUC_0288_Scan_1.nii.gz'</li>\n",
       "\t<li>'LUC_0289_Scan_1.nii.gz'</li>\n",
       "\t<li>'LUC_0289_Scan_2.nii.gz'</li>\n",
       "\t<li>'LUC_0290_Scan_1.nii.gz'</li>\n",
       "\t<li>'LUC_0290_Scan_2.nii.gz'</li>\n",
       "\t<li>'LUC_0290_Scan_3.nii.gz'</li>\n",
       "\t<li>'LUC_0291_Scan_1.nii.gz'</li>\n",
       "\t<li>'LUC_0291_Scan_2.nii.gz'</li>\n",
       "\t<li>'LUC_0292_Scan_1.nii.gz'</li>\n",
       "\t<li>'LUC_0292_Scan_2.nii.gz'</li>\n",
       "\t<li>'LUC_0293_Scan_1.nii.gz'</li>\n",
       "\t<li>'LUC_0293_Scan_2.nii.gz'</li>\n",
       "\t<li>'LUC_0293_Scan_3.nii.gz'</li>\n",
       "\t<li>'LUC_0294_Scan_1.nii.gz'</li>\n",
       "\t<li>'LUC_0295_Scan_1.nii.gz'</li>\n",
       "\t<li>'LUC_0295_Scan_2.nii.gz'</li>\n",
       "\t<li>'LUC_0295_Scan_3.nii.gz'</li>\n",
       "\t<li>'LUC_0296_Scan_1.nii.gz'</li>\n",
       "\t<li>'LUC_0296_Scan_3.nii.gz'</li>\n",
       "\t<li>'LUC_0297_Scan_1.nii.gz'</li>\n",
       "\t<li>'LUC_0297_Scan_2.nii.gz'</li>\n",
       "\t<li>'LUC_0298_Scan_1.nii.gz'</li>\n",
       "\t<li>'LUC_0298_Scan_2.nii.gz'</li>\n",
       "\t<li>'LUC_0299_Scan_1.nii.gz'</li>\n",
       "\t<li>'LUC_0299_Scan_2.nii.gz'</li>\n",
       "\t<li>'LUC_0299_Scan_3.nii.gz'</li>\n",
       "\t<li>'LUC_0300_Scan_1.nii.gz'</li>\n",
       "\t<li>'LUC_0300_Scan_2.nii.gz'</li>\n",
       "\t<li>'LUC_0301_Scan_1.nii.gz'</li>\n",
       "\t<li>'LUC_0301_Scan_2.nii.gz'</li>\n",
       "\t<li>'LUC_0301_Scan_3.nii.gz'</li>\n",
       "\t<li>'LUC_0302_Scan_1.nii.gz'</li>\n",
       "\t<li>'LUC_0302_Scan_2.nii.gz'</li>\n",
       "\t<li>'LUC_0302_Scan_3.nii.gz'</li>\n",
       "\t<li>'LUC_0303_Scan_1.nii.gz'</li>\n",
       "\t<li>'LUC_0303_Scan_2.nii.gz'</li>\n",
       "\t<li>'LUC_0303_Scan_3.nii.gz'</li>\n",
       "\t<li>'LUC_0304_Scan_1.nii.gz'</li>\n",
       "\t<li>'LUC_0304_Scan_2.nii.gz'</li>\n",
       "\t<li>'LUC_0304_Scan_3.nii.gz'</li>\n",
       "\t<li>'LUC_0305_Scan_1.nii.gz'</li>\n",
       "\t<li>'LUC_0305_Scan_2.nii.gz'</li>\n",
       "\t<li>'LUC_0306_Scan_1.nii.gz'</li>\n",
       "\t<li>'LUC_0306_Scan_2.nii.gz'</li>\n",
       "\t<li>'LUC_0307_Scan_1.nii.gz'</li>\n",
       "\t<li>'LUC_0308_Scan_1.nii.gz'</li>\n",
       "\t<li>'LUC_0308_Scan_2.nii.gz'</li>\n",
       "\t<li>'LUC_0308_Scan_3.nii.gz'</li>\n",
       "\t<li>'LUC_0309_Scan_1.nii.gz'</li>\n",
       "\t<li>'LUC_0309_Scan_2.nii.gz'</li>\n",
       "\t<li>'LUC_0310_Scan_1.nii.gz'</li>\n",
       "\t<li>'LUC_0310_Scan_2.nii.gz'</li>\n",
       "\t<li>'LUC_0311_Scan_1.nii.gz'</li>\n",
       "\t<li>'LUC_0311_Scan_2.nii.gz'</li>\n",
       "\t<li>'LUC_0312_Scan_1.nii.gz'</li>\n",
       "\t<li>'LUC_0312_Scan_2.nii.gz'</li>\n",
       "\t<li>'LUC_0313_Scan_1.nii.gz'</li>\n",
       "\t<li>'LUC_0313_Scan_2.nii.gz'</li>\n",
       "\t<li>'LUC_0314_Scan_1.nii.gz'</li>\n",
       "\t<li>'LUC_0314_Scan_2.nii.gz'</li>\n",
       "\t<li>'LUC_0315_Scan_1.nii.gz'</li>\n",
       "\t<li>'LUC_0315_Scan_2.nii.gz'</li>\n",
       "\t<li>'LUC_0316_Scan_1.nii.gz'</li>\n",
       "\t<li>'LUC_0316_Scan_2.nii.gz'</li>\n",
       "\t<li>'LUC_0316_Scan_3.nii.gz'</li>\n",
       "\t<li>'LUC_0318_Scan_1.nii.gz'</li>\n",
       "\t<li>'LUC_0318_Scan_2.nii.gz'</li>\n",
       "\t<li>'LUC_0319_Scan_1.nii.gz'</li>\n",
       "\t<li>'LUC_0320_Scan_1.nii.gz'</li>\n",
       "\t<li>'LUC_0320_Scan_2.nii.gz'</li>\n",
       "\t<li>'LUC_0321_Scan_1.nii.gz'</li>\n",
       "\t<li>'LUC_0321_Scan_2.nii.gz'</li>\n",
       "\t<li>'LUC_0322_Scan_1.nii.gz'</li>\n",
       "\t<li>'LUC_0323_Scan_1.nii.gz'</li>\n",
       "\t<li>'LUC_0323_Scan_2.nii.gz'</li>\n",
       "\t<li>'LUC_0324_Scan_1.nii.gz'</li>\n",
       "\t<li>'LUC_0325_Scan_1.nii.gz'</li>\n",
       "\t<li>'LUC_0325_Scan_2.nii.gz'</li>\n",
       "\t<li>'LUC_0326_Scan_1.nii.gz'</li>\n",
       "\t<li>'LUC_0326_Scan_2.nii.gz'</li>\n",
       "</ol>\n"
      ],
      "text/latex": [
       "\\begin{enumerate*}\n",
       "\\item 'LUC\\_0001\\_Scan\\_1.nii.gz'\n",
       "\\item 'LUC\\_0001\\_Scan\\_2.nii.gz'\n",
       "\\item 'LUC\\_0002\\_Scan\\_1.nii.gz'\n",
       "\\item 'LUC\\_0002\\_Scan\\_2.nii.gz'\n",
       "\\item 'LUC\\_0002\\_Scan\\_3.nii.gz'\n",
       "\\item 'LUC\\_0003\\_Scan\\_1.nii.gz'\n",
       "\\item 'LUC\\_0003\\_Scan\\_2.nii.gz'\n",
       "\\item 'LUC\\_0003\\_Scan\\_3.nii.gz'\n",
       "\\item 'LUC\\_0004\\_Scan\\_1.nii.gz'\n",
       "\\item 'LUC\\_0004\\_Scan\\_2.nii.gz'\n",
       "\\item 'LUC\\_0005\\_Scan\\_1.nii.gz'\n",
       "\\item 'LUC\\_0005\\_Scan\\_3.nii.gz'\n",
       "\\item 'LUC\\_0006\\_Scan\\_1.nii.gz'\n",
       "\\item 'LUC\\_0007\\_Scan\\_1.nii.gz'\n",
       "\\item 'LUC\\_0008\\_Scan\\_1.nii.gz'\n",
       "\\item 'LUC\\_0009\\_Scan\\_1.nii.gz'\n",
       "\\item 'LUC\\_0009\\_Scan\\_2.nii.gz'\n",
       "\\item 'LUC\\_0009\\_Scan\\_3.nii.gz'\n",
       "\\item 'LUC\\_0010\\_Scan\\_1.nii.gz'\n",
       "\\item 'LUC\\_0010\\_Scan\\_2.nii.gz'\n",
       "\\item 'LUC\\_0010\\_Scan\\_3.nii.gz'\n",
       "\\item 'LUC\\_0011\\_Scan\\_1.nii.gz'\n",
       "\\item 'LUC\\_0011\\_Scan\\_2.nii.gz'\n",
       "\\item 'LUC\\_0012\\_Scan\\_1.nii.gz'\n",
       "\\item 'LUC\\_0012\\_Scan\\_2.nii.gz'\n",
       "\\item 'LUC\\_0013\\_Scan\\_1.nii.gz'\n",
       "\\item 'LUC\\_0014\\_Scan\\_1.nii.gz'\n",
       "\\item 'LUC\\_0015\\_Scan\\_1.nii.gz'\n",
       "\\item 'LUC\\_0016\\_Scan\\_1.nii.gz'\n",
       "\\item 'LUC\\_0017\\_Scan\\_1.nii.gz'\n",
       "\\item 'LUC\\_0018\\_Scan\\_1.nii.gz'\n",
       "\\item 'LUC\\_0018\\_Scan\\_2.nii.gz'\n",
       "\\item 'LUC\\_0018\\_Scan\\_3.nii.gz'\n",
       "\\item 'LUC\\_0019\\_Scan\\_1.nii.gz'\n",
       "\\item 'LUC\\_0020\\_Scan\\_1.nii.gz'\n",
       "\\item 'LUC\\_0021\\_Scan\\_1.nii.gz'\n",
       "\\item 'LUC\\_0021\\_Scan\\_2.nii.gz'\n",
       "\\item 'LUC\\_0022\\_Scan\\_1.nii.gz'\n",
       "\\item 'LUC\\_0022\\_Scan\\_2.nii.gz'\n",
       "\\item 'LUC\\_0023\\_Scan\\_1.nii.gz'\n",
       "\\item 'LUC\\_0023\\_Scan\\_2.nii.gz'\n",
       "\\item 'LUC\\_0024\\_Scan\\_1.nii.gz'\n",
       "\\item 'LUC\\_0024\\_Scan\\_2.nii.gz'\n",
       "\\item 'LUC\\_0025\\_Scan\\_1.nii.gz'\n",
       "\\item 'LUC\\_0025\\_Scan\\_2.nii.gz'\n",
       "\\item 'LUC\\_0025\\_Scan\\_3.nii.gz'\n",
       "\\item 'LUC\\_0026\\_Scan\\_1.nii.gz'\n",
       "\\item 'LUC\\_0026\\_Scan\\_2.nii.gz'\n",
       "\\item 'LUC\\_0027\\_Scan\\_1.nii.gz'\n",
       "\\item 'LUC\\_0027\\_Scan\\_2.nii.gz'\n",
       "\\item 'LUC\\_0027\\_Scan\\_3.nii.gz'\n",
       "\\item 'LUC\\_0028\\_Scan\\_1.nii.gz'\n",
       "\\item 'LUC\\_0028\\_Scan\\_2.nii.gz'\n",
       "\\item 'LUC\\_0028\\_Scan\\_3.nii.gz'\n",
       "\\item 'LUC\\_0029\\_Scan\\_1.nii.gz'\n",
       "\\item 'LUC\\_0029\\_Scan\\_2.nii.gz'\n",
       "\\item 'LUC\\_0029\\_Scan\\_3.nii.gz'\n",
       "\\item 'LUC\\_0030\\_Scan\\_1.nii.gz'\n",
       "\\item 'LUC\\_0030\\_Scan\\_2.nii.gz'\n",
       "\\item 'LUC\\_0030\\_Scan\\_3.nii.gz'\n",
       "\\item 'LUC\\_0031\\_Scan\\_1.nii.gz'\n",
       "\\item 'LUC\\_0031\\_Scan\\_2.nii.gz'\n",
       "\\item 'LUC\\_0032\\_Scan\\_1.nii.gz'\n",
       "\\item 'LUC\\_0032\\_Scan\\_2.nii.gz'\n",
       "\\item 'LUC\\_0032\\_Scan\\_3.nii.gz'\n",
       "\\item 'LUC\\_0033\\_Scan\\_1.nii.gz'\n",
       "\\item 'LUC\\_0033\\_Scan\\_2.nii.gz'\n",
       "\\item 'LUC\\_0034\\_Scan\\_1.nii.gz'\n",
       "\\item 'LUC\\_0034\\_Scan\\_2.nii.gz'\n",
       "\\item 'LUC\\_0035\\_Scan\\_1.nii.gz'\n",
       "\\item 'LUC\\_0035\\_Scan\\_2.nii.gz'\n",
       "\\item 'LUC\\_0036\\_Scan\\_1.nii.gz'\n",
       "\\item 'LUC\\_0037\\_Scan\\_1.nii.gz'\n",
       "\\item 'LUC\\_0037\\_Scan\\_2.nii.gz'\n",
       "\\item 'LUC\\_0037\\_Scan\\_3.nii.gz'\n",
       "\\item 'LUC\\_0038\\_Scan\\_1.nii.gz'\n",
       "\\item 'LUC\\_0038\\_Scan\\_2.nii.gz'\n",
       "\\item 'LUC\\_0038\\_Scan\\_3.nii.gz'\n",
       "\\item 'LUC\\_0039\\_Scan\\_1.nii.gz'\n",
       "\\item 'LUC\\_0040\\_Scan\\_1.nii.gz'\n",
       "\\item 'LUC\\_0040\\_Scan\\_2.nii.gz'\n",
       "\\item 'LUC\\_0040\\_Scan\\_3.nii.gz'\n",
       "\\item 'LUC\\_0041\\_Scan\\_1.nii.gz'\n",
       "\\item 'LUC\\_0041\\_Scan\\_2.nii.gz'\n",
       "\\item 'LUC\\_0042\\_Scan\\_1.nii.gz'\n",
       "\\item 'LUC\\_0043\\_Scan\\_1.nii.gz'\n",
       "\\item 'LUC\\_0043\\_Scan\\_2.nii.gz'\n",
       "\\item 'LUC\\_0044\\_Scan\\_1.nii.gz'\n",
       "\\item 'LUC\\_0044\\_Scan\\_2.nii.gz'\n",
       "\\item 'LUC\\_0045\\_Scan\\_1.nii.gz'\n",
       "\\item 'LUC\\_0045\\_Scan\\_2.nii.gz'\n",
       "\\item 'LUC\\_0045\\_Scan\\_3.nii.gz'\n",
       "\\item 'LUC\\_0046\\_Scan\\_1.nii.gz'\n",
       "\\item 'LUC\\_0046\\_Scan\\_2.nii.gz'\n",
       "\\item 'LUC\\_0047\\_Scan\\_1.nii.gz'\n",
       "\\item 'LUC\\_0047\\_Scan\\_2.nii.gz'\n",
       "\\item 'LUC\\_0048\\_Scan\\_1.nii.gz'\n",
       "\\item 'LUC\\_0049\\_Scan\\_1.nii.gz'\n",
       "\\item 'LUC\\_0049\\_Scan\\_2.nii.gz'\n",
       "\\item 'LUC\\_0050\\_Scan\\_1.nii.gz'\n",
       "\\item 'LUC\\_0050\\_Scan\\_2.nii.gz'\n",
       "\\item 'LUC\\_0050\\_Scan\\_3.nii.gz'\n",
       "\\item 'LUC\\_0051\\_Scan\\_1.nii.gz'\n",
       "\\item 'LUC\\_0052\\_Scan\\_1.nii.gz'\n",
       "\\item 'LUC\\_0052\\_Scan\\_2.nii.gz'\n",
       "\\item 'LUC\\_0053\\_Scan\\_1.nii.gz'\n",
       "\\item 'LUC\\_0054\\_Scan\\_1.nii.gz'\n",
       "\\item 'LUC\\_0054\\_Scan\\_2.nii.gz'\n",
       "\\item 'LUC\\_0055\\_Scan\\_1.nii.gz'\n",
       "\\item 'LUC\\_0056\\_Scan\\_1.nii.gz'\n",
       "\\item 'LUC\\_0057\\_Scan\\_1.nii.gz'\n",
       "\\item 'LUC\\_0057\\_Scan\\_2.nii.gz'\n",
       "\\item 'LUC\\_0058\\_Scan\\_1.nii.gz'\n",
       "\\item 'LUC\\_0058\\_Scan\\_2.nii.gz'\n",
       "\\item 'LUC\\_0058\\_Scan\\_3.nii.gz'\n",
       "\\item 'LUC\\_0059\\_Scan\\_1.nii.gz'\n",
       "\\item 'LUC\\_0059\\_Scan\\_2.nii.gz'\n",
       "\\item 'LUC\\_0060\\_Scan\\_1.nii.gz'\n",
       "\\item 'LUC\\_0060\\_Scan\\_2.nii.gz'\n",
       "\\item 'LUC\\_0061\\_Scan\\_1.nii.gz'\n",
       "\\item 'LUC\\_0062\\_Scan\\_1.nii.gz'\n",
       "\\item 'LUC\\_0063\\_Scan\\_1.nii.gz'\n",
       "\\item 'LUC\\_0063\\_Scan\\_2.nii.gz'\n",
       "\\item 'LUC\\_0064\\_Scan\\_1.nii.gz'\n",
       "\\item 'LUC\\_0065\\_Scan\\_1.nii.gz'\n",
       "\\item 'LUC\\_0065\\_Scan\\_2.nii.gz'\n",
       "\\item 'LUC\\_0065\\_Scan\\_3.nii.gz'\n",
       "\\item 'LUC\\_0066\\_Scan\\_1.nii.gz'\n",
       "\\item 'LUC\\_0066\\_Scan\\_2.nii.gz'\n",
       "\\item 'LUC\\_0067\\_Scan\\_1.nii.gz'\n",
       "\\item 'LUC\\_0068\\_Scan\\_1.nii.gz'\n",
       "\\item 'LUC\\_0068\\_Scan\\_2.nii.gz'\n",
       "\\item 'LUC\\_0069\\_Scan\\_1.nii.gz'\n",
       "\\item 'LUC\\_0070\\_Scan\\_1.nii.gz'\n",
       "\\item 'LUC\\_0071\\_Scan\\_1.nii.gz'\n",
       "\\item 'LUC\\_0072\\_Scan\\_1.nii.gz'\n",
       "\\item 'LUC\\_0073\\_Scan\\_1.nii.gz'\n",
       "\\item 'LUC\\_0073\\_Scan\\_2.nii.gz'\n",
       "\\item 'LUC\\_0074\\_Scan\\_1.nii.gz'\n",
       "\\item 'LUC\\_0075\\_Scan\\_1.nii.gz'\n",
       "\\item 'LUC\\_0075\\_Scan\\_2.nii.gz'\n",
       "\\item 'LUC\\_0076\\_Scan\\_1.nii.gz'\n",
       "\\item 'LUC\\_0077\\_Scan\\_1.nii.gz'\n",
       "\\item 'LUC\\_0078\\_Scan\\_1.nii.gz'\n",
       "\\item 'LUC\\_0078\\_Scan\\_2.nii.gz'\n",
       "\\item 'LUC\\_0078\\_Scan\\_3.nii.gz'\n",
       "\\item 'LUC\\_0079\\_Scan\\_1.nii.gz'\n",
       "\\item 'LUC\\_0080\\_Scan\\_1.nii.gz'\n",
       "\\item 'LUC\\_0081\\_Scan\\_1.nii.gz'\n",
       "\\item 'LUC\\_0082\\_Scan\\_1.nii.gz'\n",
       "\\item 'LUC\\_0083\\_Scan\\_1.nii.gz'\n",
       "\\item 'LUC\\_0084\\_Scan\\_1.nii.gz'\n",
       "\\item 'LUC\\_0085\\_Scan\\_1.nii.gz'\n",
       "\\item 'LUC\\_0085\\_Scan\\_2.nii.gz'\n",
       "\\item 'LUC\\_0086\\_Scan\\_1.nii.gz'\n",
       "\\item 'LUC\\_0087\\_Scan\\_1.nii.gz'\n",
       "\\item 'LUC\\_0088\\_Scan\\_1.nii.gz'\n",
       "\\item 'LUC\\_0089\\_Scan\\_1.nii.gz'\n",
       "\\item 'LUC\\_0089\\_Scan\\_2.nii.gz'\n",
       "\\item 'LUC\\_0089\\_Scan\\_3.nii.gz'\n",
       "\\item 'LUC\\_0090\\_Scan\\_1.nii.gz'\n",
       "\\item 'LUC\\_0091\\_Scan\\_1.nii.gz'\n",
       "\\item 'LUC\\_0093\\_Scan\\_1.nii.gz'\n",
       "\\item 'LUC\\_0094\\_Scan\\_1.nii.gz'\n",
       "\\item 'LUC\\_0095\\_Scan\\_1.nii.gz'\n",
       "\\item 'LUC\\_0096\\_Scan\\_1.nii.gz'\n",
       "\\item 'LUC\\_0097\\_Scan\\_1.nii.gz'\n",
       "\\item 'LUC\\_0098\\_Scan\\_1.nii.gz'\n",
       "\\item 'LUC\\_0098\\_Scan\\_2.nii.gz'\n",
       "\\item 'LUC\\_0099\\_Scan\\_1.nii.gz'\n",
       "\\item 'LUC\\_0100\\_Scan\\_1.nii.gz'\n",
       "\\item 'LUC\\_0101\\_Scan\\_1.nii.gz'\n",
       "\\item 'LUC\\_0101\\_Scan\\_2.nii.gz'\n",
       "\\item 'LUC\\_0102\\_Scan\\_1.nii.gz'\n",
       "\\item 'LUC\\_0103\\_Scan\\_1.nii.gz'\n",
       "\\item 'LUC\\_0104\\_Scan\\_1.nii.gz'\n",
       "\\item 'LUC\\_0105\\_Scan\\_1.nii.gz'\n",
       "\\item 'LUC\\_0105\\_Scan\\_2.nii.gz'\n",
       "\\item 'LUC\\_0105\\_Scan\\_3.nii.gz'\n",
       "\\item 'LUC\\_0106\\_Scan\\_1.nii.gz'\n",
       "\\item 'LUC\\_0107\\_Scan\\_1.nii.gz'\n",
       "\\item 'LUC\\_0107\\_Scan\\_2.nii.gz'\n",
       "\\item 'LUC\\_0107\\_Scan\\_3.nii.gz'\n",
       "\\item 'LUC\\_0108\\_Scan\\_1.nii.gz'\n",
       "\\item 'LUC\\_0108\\_Scan\\_2.nii.gz'\n",
       "\\item 'LUC\\_0109\\_Scan\\_1.nii.gz'\n",
       "\\item 'LUC\\_0110\\_Scan\\_1.nii.gz'\n",
       "\\item 'LUC\\_0111\\_Scan\\_1.nii.gz'\n",
       "\\item 'LUC\\_0111\\_Scan\\_2.nii.gz'\n",
       "\\item 'LUC\\_0112\\_Scan\\_1.nii.gz'\n",
       "\\item 'LUC\\_0113\\_Scan\\_1.nii.gz'\n",
       "\\item 'LUC\\_0114\\_Scan\\_1.nii.gz'\n",
       "\\item 'LUC\\_0114\\_Scan\\_2.nii.gz'\n",
       "\\item 'LUC\\_0115\\_Scan\\_2.nii.gz'\n",
       "\\item 'LUC\\_0115\\_Scan\\_3.nii.gz'\n",
       "\\item 'LUC\\_0116\\_Scan\\_1.nii.gz'\n",
       "\\item 'LUC\\_0117\\_Scan\\_1.nii.gz'\n",
       "\\item 'LUC\\_0117\\_Scan\\_2.nii.gz'\n",
       "\\item 'LUC\\_0118\\_Scan\\_1.nii.gz'\n",
       "\\item 'LUC\\_0119\\_Scan\\_1.nii.gz'\n",
       "\\item 'LUC\\_0120\\_Scan\\_1.nii.gz'\n",
       "\\item 'LUC\\_0120\\_Scan\\_2.nii.gz'\n",
       "\\item 'LUC\\_0121\\_Scan\\_1.nii.gz'\n",
       "\\item 'LUC\\_0121\\_Scan\\_2.nii.gz'\n",
       "\\item 'LUC\\_0122\\_Scan\\_1.nii.gz'\n",
       "\\item 'LUC\\_0123\\_Scan\\_1.nii.gz'\n",
       "\\item 'LUC\\_0123\\_Scan\\_2.nii.gz'\n",
       "\\item 'LUC\\_0124\\_Scan\\_1.nii.gz'\n",
       "\\item 'LUC\\_0125\\_Scan\\_1.nii.gz'\n",
       "\\item 'LUC\\_0126\\_Scan\\_1.nii.gz'\n",
       "\\item 'LUC\\_0127\\_Scan\\_1.nii.gz'\n",
       "\\item 'LUC\\_0127\\_Scan\\_2.nii.gz'\n",
       "\\item 'LUC\\_0128\\_Scan\\_1.nii.gz'\n",
       "\\item 'LUC\\_0129\\_Scan\\_1.nii.gz'\n",
       "\\item 'LUC\\_0129\\_Scan\\_2.nii.gz'\n",
       "\\item 'LUC\\_0130\\_Scan\\_1.nii.gz'\n",
       "\\item 'LUC\\_0131\\_Scan\\_1.nii.gz'\n",
       "\\item 'LUC\\_0132\\_Scan\\_1.nii.gz'\n",
       "\\item 'LUC\\_0133\\_Scan\\_1.nii.gz'\n",
       "\\item 'LUC\\_0133\\_Scan\\_2.nii.gz'\n",
       "\\item 'LUC\\_0134\\_Scan\\_1.nii.gz'\n",
       "\\item 'LUC\\_0134\\_Scan\\_2.nii.gz'\n",
       "\\item 'LUC\\_0134\\_Scan\\_3.nii.gz'\n",
       "\\item 'LUC\\_0135\\_Scan\\_1.nii.gz'\n",
       "\\item 'LUC\\_0135\\_Scan\\_2.nii.gz'\n",
       "\\item 'LUC\\_0136\\_Scan\\_1.nii.gz'\n",
       "\\item 'LUC\\_0137\\_Scan\\_1.nii.gz'\n",
       "\\item 'LUC\\_0137\\_Scan\\_2.nii.gz'\n",
       "\\item 'LUC\\_0137\\_Scan\\_3.nii.gz'\n",
       "\\item 'LUC\\_0138\\_Scan\\_1.nii.gz'\n",
       "\\item 'LUC\\_0138\\_Scan\\_2.nii.gz'\n",
       "\\item 'LUC\\_0138\\_Scan\\_3.nii.gz'\n",
       "\\item 'LUC\\_0139\\_Scan\\_1.nii.gz'\n",
       "\\item 'LUC\\_0140\\_Scan\\_1.nii.gz'\n",
       "\\item 'LUC\\_0141\\_Scan\\_1.nii.gz'\n",
       "\\item 'LUC\\_0141\\_Scan\\_2.nii.gz'\n",
       "\\item 'LUC\\_0142\\_Scan\\_1.nii.gz'\n",
       "\\item 'LUC\\_0142\\_Scan\\_2.nii.gz'\n",
       "\\item 'LUC\\_0143\\_Scan\\_1.nii.gz'\n",
       "\\item 'LUC\\_0144\\_Scan\\_1.nii.gz'\n",
       "\\item 'LUC\\_0144\\_Scan\\_2.nii.gz'\n",
       "\\item 'LUC\\_0144\\_Scan\\_3.nii.gz'\n",
       "\\item 'LUC\\_0145\\_Scan\\_1.nii.gz'\n",
       "\\item 'LUC\\_0146\\_Scan\\_1.nii.gz'\n",
       "\\item 'LUC\\_0147\\_Scan\\_1.nii.gz'\n",
       "\\item 'LUC\\_0147\\_Scan\\_2.nii.gz'\n",
       "\\item 'LUC\\_0148\\_Scan\\_1.nii.gz'\n",
       "\\item 'LUC\\_0149\\_Scan\\_1.nii.gz'\n",
       "\\item 'LUC\\_0150\\_Scan\\_1.nii.gz'\n",
       "\\item 'LUC\\_0151\\_Scan\\_1.nii.gz'\n",
       "\\item 'LUC\\_0151\\_Scan\\_2.nii.gz'\n",
       "\\item 'LUC\\_0152\\_Scan\\_1.nii.gz'\n",
       "\\item 'LUC\\_0153\\_Scan\\_1.nii.gz'\n",
       "\\item 'LUC\\_0154\\_Scan\\_1.nii.gz'\n",
       "\\item 'LUC\\_0154\\_Scan\\_2.nii.gz'\n",
       "\\item 'LUC\\_0155\\_Scan\\_1.nii.gz'\n",
       "\\item 'LUC\\_0156\\_Scan\\_1.nii.gz'\n",
       "\\item 'LUC\\_0156\\_Scan\\_2.nii.gz'\n",
       "\\item 'LUC\\_0157\\_Scan\\_1.nii.gz'\n",
       "\\item 'LUC\\_0157\\_Scan\\_2.nii.gz'\n",
       "\\item 'LUC\\_0157\\_Scan\\_3.nii.gz'\n",
       "\\item 'LUC\\_0158\\_Scan\\_1.nii.gz'\n",
       "\\item 'LUC\\_0159\\_Scan\\_1.nii.gz'\n",
       "\\item 'LUC\\_0160\\_Scan\\_1.nii.gz'\n",
       "\\item 'LUC\\_0161\\_Scan\\_1.nii.gz'\n",
       "\\item 'LUC\\_0162\\_Scan\\_1.nii.gz'\n",
       "\\item 'LUC\\_0163\\_Scan\\_1.nii.gz'\n",
       "\\item 'LUC\\_0164\\_Scan\\_1.nii.gz'\n",
       "\\item 'LUC\\_0164\\_Scan\\_2.nii.gz'\n",
       "\\item 'LUC\\_0164\\_Scan\\_3.nii.gz'\n",
       "\\item 'LUC\\_0165\\_Scan\\_1.nii.gz'\n",
       "\\item 'LUC\\_0165\\_Scan\\_2.nii.gz'\n",
       "\\item 'LUC\\_0165\\_Scan\\_3.nii.gz'\n",
       "\\item 'LUC\\_0166\\_Scan\\_1.nii.gz'\n",
       "\\item 'LUC\\_0166\\_Scan\\_2.nii.gz'\n",
       "\\item 'LUC\\_0167\\_Scan\\_1.nii.gz'\n",
       "\\item 'LUC\\_0168\\_Scan\\_1.nii.gz'\n",
       "\\item 'LUC\\_0169\\_Scan\\_1.nii.gz'\n",
       "\\item 'LUC\\_0170\\_Scan\\_1.nii.gz'\n",
       "\\item 'LUC\\_0171\\_Scan\\_1.nii.gz'\n",
       "\\item 'LUC\\_0172\\_Scan\\_1.nii.gz'\n",
       "\\item 'LUC\\_0173\\_Scan\\_1.nii.gz'\n",
       "\\item 'LUC\\_0174\\_Scan\\_1.nii.gz'\n",
       "\\item 'LUC\\_0174\\_Scan\\_2.nii.gz'\n",
       "\\item 'LUC\\_0175\\_Scan\\_1.nii.gz'\n",
       "\\item 'LUC\\_0176\\_Scan\\_1.nii.gz'\n",
       "\\item 'LUC\\_0176\\_Scan\\_2.nii.gz'\n",
       "\\item 'LUC\\_0177\\_Scan\\_1.nii.gz'\n",
       "\\item 'LUC\\_0177\\_Scan\\_2.nii.gz'\n",
       "\\item 'LUC\\_0177\\_Scan\\_3.nii.gz'\n",
       "\\item 'LUC\\_0178\\_Scan\\_1.nii.gz'\n",
       "\\item 'LUC\\_0178\\_Scan\\_2.nii.gz'\n",
       "\\item 'LUC\\_0179\\_Scan\\_1.nii.gz'\n",
       "\\item 'LUC\\_0179\\_Scan\\_2.nii.gz'\n",
       "\\item 'LUC\\_0180\\_Scan\\_1.nii.gz'\n",
       "\\item 'LUC\\_0181\\_Scan\\_1.nii.gz'\n",
       "\\item 'LUC\\_0181\\_Scan\\_2.nii.gz'\n",
       "\\item 'LUC\\_0182\\_Scan\\_1.nii.gz'\n",
       "\\item 'LUC\\_0183\\_Scan\\_1.nii.gz'\n",
       "\\item 'LUC\\_0184\\_Scan\\_1.nii.gz'\n",
       "\\item 'LUC\\_0184\\_Scan\\_2.nii.gz'\n",
       "\\item 'LUC\\_0185\\_Scan\\_1.nii.gz'\n",
       "\\item 'LUC\\_0185\\_Scan\\_2.nii.gz'\n",
       "\\item 'LUC\\_0186\\_Scan\\_1.nii.gz'\n",
       "\\item 'LUC\\_0186\\_Scan\\_2.nii.gz'\n",
       "\\item 'LUC\\_0187\\_Scan\\_1.nii.gz'\n",
       "\\item 'LUC\\_0187\\_Scan\\_2.nii.gz'\n",
       "\\item 'LUC\\_0188\\_Scan\\_1.nii.gz'\n",
       "\\item 'LUC\\_0188\\_Scan\\_2.nii.gz'\n",
       "\\item 'LUC\\_0188\\_Scan\\_3.nii.gz'\n",
       "\\item 'LUC\\_0189\\_Scan\\_1.nii.gz'\n",
       "\\item 'LUC\\_0189\\_Scan\\_2.nii.gz'\n",
       "\\item 'LUC\\_0189\\_Scan\\_3.nii.gz'\n",
       "\\item 'LUC\\_0190\\_Scan\\_1.nii.gz'\n",
       "\\item 'LUC\\_0190\\_Scan\\_2.nii.gz'\n",
       "\\item 'LUC\\_0191\\_Scan\\_1.nii.gz'\n",
       "\\item 'LUC\\_0191\\_Scan\\_2.nii.gz'\n",
       "\\item 'LUC\\_0192\\_Scan\\_1.nii.gz'\n",
       "\\item 'LUC\\_0192\\_Scan\\_2.nii.gz'\n",
       "\\item 'LUC\\_0192\\_Scan\\_3.nii.gz'\n",
       "\\item 'LUC\\_0193\\_Scan\\_1.nii.gz'\n",
       "\\item 'LUC\\_0193\\_Scan\\_2.nii.gz'\n",
       "\\item 'LUC\\_0193\\_Scan\\_3.nii.gz'\n",
       "\\item 'LUC\\_0194\\_Scan\\_1.nii.gz'\n",
       "\\item 'LUC\\_0194\\_Scan\\_2.nii.gz'\n",
       "\\item 'LUC\\_0195\\_Scan\\_1.nii.gz'\n",
       "\\item 'LUC\\_0195\\_Scan\\_2.nii.gz'\n",
       "\\item 'LUC\\_0196\\_Scan\\_1.nii.gz'\n",
       "\\item 'LUC\\_0196\\_Scan\\_2.nii.gz'\n",
       "\\item 'LUC\\_0197\\_Scan\\_1.nii.gz'\n",
       "\\item 'LUC\\_0197\\_Scan\\_2.nii.gz'\n",
       "\\item 'LUC\\_0197\\_Scan\\_3.nii.gz'\n",
       "\\item 'LUC\\_0198\\_Scan\\_1.nii.gz'\n",
       "\\item 'LUC\\_0198\\_Scan\\_2.nii.gz'\n",
       "\\item 'LUC\\_0198\\_Scan\\_3.nii.gz'\n",
       "\\item 'LUC\\_0199\\_Scan\\_1.nii.gz'\n",
       "\\item 'LUC\\_0199\\_Scan\\_2.nii.gz'\n",
       "\\item 'LUC\\_0199\\_Scan\\_3.nii.gz'\n",
       "\\item 'LUC\\_0200\\_Scan\\_1.nii.gz'\n",
       "\\item 'LUC\\_0201\\_Scan\\_1.nii.gz'\n",
       "\\item 'LUC\\_0201\\_Scan\\_2.nii.gz'\n",
       "\\item 'LUC\\_0201\\_Scan\\_3.nii.gz'\n",
       "\\item 'LUC\\_0202\\_Scan\\_1.nii.gz'\n",
       "\\item 'LUC\\_0202\\_Scan\\_2.nii.gz'\n",
       "\\item 'LUC\\_0203\\_Scan\\_1.nii.gz'\n",
       "\\item 'LUC\\_0203\\_Scan\\_2.nii.gz'\n",
       "\\item 'LUC\\_0204\\_Scan\\_1.nii.gz'\n",
       "\\item 'LUC\\_0204\\_Scan\\_2.nii.gz'\n",
       "\\item 'LUC\\_0204\\_Scan\\_3.nii.gz'\n",
       "\\item 'LUC\\_0205\\_Scan\\_1.nii.gz'\n",
       "\\item 'LUC\\_0205\\_Scan\\_2.nii.gz'\n",
       "\\item 'LUC\\_0205\\_Scan\\_3.nii.gz'\n",
       "\\item 'LUC\\_0206\\_Scan\\_1.nii.gz'\n",
       "\\item 'LUC\\_0206\\_Scan\\_2.nii.gz'\n",
       "\\item 'LUC\\_0206\\_Scan\\_3.nii.gz'\n",
       "\\item 'LUC\\_0207\\_Scan\\_1.nii.gz'\n",
       "\\item 'LUC\\_0208\\_Scan\\_1.nii.gz'\n",
       "\\item 'LUC\\_0208\\_Scan\\_2.nii.gz'\n",
       "\\item 'LUC\\_0209\\_Scan\\_1.nii.gz'\n",
       "\\item 'LUC\\_0209\\_Scan\\_2.nii.gz'\n",
       "\\item 'LUC\\_0209\\_Scan\\_3.nii.gz'\n",
       "\\item 'LUC\\_0210\\_Scan\\_1.nii.gz'\n",
       "\\item 'LUC\\_0210\\_Scan\\_2.nii.gz'\n",
       "\\item 'LUC\\_0210\\_Scan\\_3.nii.gz'\n",
       "\\item 'LUC\\_0211\\_Scan\\_1.nii.gz'\n",
       "\\item 'LUC\\_0211\\_Scan\\_2.nii.gz'\n",
       "\\item 'LUC\\_0211\\_Scan\\_3.nii.gz'\n",
       "\\item 'LUC\\_0212\\_Scan\\_1.nii.gz'\n",
       "\\item 'LUC\\_0212\\_Scan\\_2.nii.gz'\n",
       "\\item 'LUC\\_0212\\_Scan\\_3.nii.gz'\n",
       "\\item 'LUC\\_0213\\_Scan\\_1.nii.gz'\n",
       "\\item 'LUC\\_0213\\_Scan\\_2.nii.gz'\n",
       "\\item 'LUC\\_0214\\_Scan\\_1.nii.gz'\n",
       "\\item 'LUC\\_0214\\_Scan\\_2.nii.gz'\n",
       "\\item 'LUC\\_0214\\_Scan\\_3.nii.gz'\n",
       "\\item 'LUC\\_0215\\_Scan\\_1.nii.gz'\n",
       "\\item 'LUC\\_0215\\_Scan\\_2.nii.gz'\n",
       "\\item 'LUC\\_0216\\_Scan\\_1.nii.gz'\n",
       "\\item 'LUC\\_0217\\_Scan\\_1.nii.gz'\n",
       "\\item 'LUC\\_0217\\_Scan\\_2.nii.gz'\n",
       "\\item 'LUC\\_0217\\_Scan\\_3.nii.gz'\n",
       "\\item 'LUC\\_0218\\_Scan\\_1.nii.gz'\n",
       "\\item 'LUC\\_0218\\_Scan\\_2.nii.gz'\n",
       "\\item 'LUC\\_0219\\_Scan\\_1.nii.gz'\n",
       "\\item 'LUC\\_0219\\_Scan\\_2.nii.gz'\n",
       "\\item 'LUC\\_0219\\_Scan\\_3.nii.gz'\n",
       "\\item 'LUC\\_0220\\_Scan\\_1.nii.gz'\n",
       "\\item 'LUC\\_0220\\_Scan\\_2.nii.gz'\n",
       "\\item 'LUC\\_0220\\_Scan\\_3.nii.gz'\n",
       "\\item 'LUC\\_0221\\_Scan\\_1.nii.gz'\n",
       "\\item 'LUC\\_0221\\_Scan\\_2.nii.gz'\n",
       "\\item 'LUC\\_0222\\_Scan\\_1.nii.gz'\n",
       "\\item 'LUC\\_0222\\_Scan\\_2.nii.gz'\n",
       "\\item 'LUC\\_0222\\_Scan\\_3.nii.gz'\n",
       "\\item 'LUC\\_0223\\_Scan\\_1.nii.gz'\n",
       "\\item 'LUC\\_0223\\_Scan\\_2.nii.gz'\n",
       "\\item 'LUC\\_0224\\_Scan\\_1.nii.gz'\n",
       "\\item 'LUC\\_0224\\_Scan\\_2.nii.gz'\n",
       "\\item 'LUC\\_0224\\_Scan\\_3.nii.gz'\n",
       "\\item 'LUC\\_0225\\_Scan\\_1.nii.gz'\n",
       "\\item 'LUC\\_0225\\_Scan\\_2.nii.gz'\n",
       "\\item 'LUC\\_0225\\_Scan\\_3.nii.gz'\n",
       "\\item 'LUC\\_0226\\_Scan\\_1.nii.gz'\n",
       "\\item 'LUC\\_0226\\_Scan\\_2.nii.gz'\n",
       "\\item 'LUC\\_0227\\_Scan\\_1.nii.gz'\n",
       "\\item 'LUC\\_0227\\_Scan\\_2.nii.gz'\n",
       "\\item 'LUC\\_0228\\_Scan\\_1.nii.gz'\n",
       "\\item 'LUC\\_0228\\_Scan\\_2.nii.gz'\n",
       "\\item 'LUC\\_0228\\_Scan\\_3.nii.gz'\n",
       "\\item 'LUC\\_0229\\_Scan\\_1.nii.gz'\n",
       "\\item 'LUC\\_0229\\_Scan\\_2.nii.gz'\n",
       "\\item 'LUC\\_0229\\_Scan\\_3.nii.gz'\n",
       "\\item 'LUC\\_0230\\_Scan\\_1.nii.gz'\n",
       "\\item 'LUC\\_0230\\_Scan\\_2.nii.gz'\n",
       "\\item 'LUC\\_0230\\_Scan\\_3.nii.gz'\n",
       "\\item 'LUC\\_0231\\_Scan\\_1.nii.gz'\n",
       "\\item 'LUC\\_0233\\_Scan\\_1.nii.gz'\n",
       "\\item 'LUC\\_0233\\_Scan\\_2.nii.gz'\n",
       "\\item 'LUC\\_0233\\_Scan\\_3.nii.gz'\n",
       "\\item 'LUC\\_0234\\_Scan\\_1.nii.gz'\n",
       "\\item 'LUC\\_0235\\_Scan\\_1.nii.gz'\n",
       "\\item 'LUC\\_0235\\_Scan\\_2.nii.gz'\n",
       "\\item 'LUC\\_0236\\_Scan\\_1.nii.gz'\n",
       "\\item 'LUC\\_0236\\_Scan\\_2.nii.gz'\n",
       "\\item 'LUC\\_0236\\_Scan\\_3.nii.gz'\n",
       "\\item 'LUC\\_0237\\_Scan\\_1.nii.gz'\n",
       "\\item 'LUC\\_0237\\_Scan\\_2.nii.gz'\n",
       "\\item 'LUC\\_0238\\_Scan\\_1.nii.gz'\n",
       "\\item 'LUC\\_0238\\_Scan\\_2.nii.gz'\n",
       "\\item 'LUC\\_0238\\_Scan\\_3.nii.gz'\n",
       "\\item 'LUC\\_0239\\_Scan\\_1.nii.gz'\n",
       "\\item 'LUC\\_0239\\_Scan\\_2.nii.gz'\n",
       "\\item 'LUC\\_0239\\_Scan\\_3.nii.gz'\n",
       "\\item 'LUC\\_0240\\_Scan\\_1.nii.gz'\n",
       "\\item 'LUC\\_0240\\_Scan\\_2.nii.gz'\n",
       "\\item 'LUC\\_0241\\_Scan\\_1.nii.gz'\n",
       "\\item 'LUC\\_0241\\_Scan\\_2.nii.gz'\n",
       "\\item 'LUC\\_0242\\_Scan\\_1.nii.gz'\n",
       "\\item 'LUC\\_0242\\_Scan\\_2.nii.gz'\n",
       "\\item 'LUC\\_0243\\_Scan\\_1.nii.gz'\n",
       "\\item 'LUC\\_0243\\_Scan\\_2.nii.gz'\n",
       "\\item 'LUC\\_0243\\_Scan\\_3.nii.gz'\n",
       "\\item 'LUC\\_0244\\_Scan\\_1.nii.gz'\n",
       "\\item 'LUC\\_0244\\_Scan\\_2.nii.gz'\n",
       "\\item 'LUC\\_0244\\_Scan\\_3.nii.gz'\n",
       "\\item 'LUC\\_0245\\_Scan\\_1.nii.gz'\n",
       "\\item 'LUC\\_0245\\_Scan\\_2.nii.gz'\n",
       "\\item 'LUC\\_0246\\_Scan\\_1.nii.gz'\n",
       "\\item 'LUC\\_0246\\_Scan\\_2.nii.gz'\n",
       "\\item 'LUC\\_0246\\_Scan\\_3.nii.gz'\n",
       "\\item 'LUC\\_0247\\_Scan\\_1.nii.gz'\n",
       "\\item 'LUC\\_0247\\_Scan\\_2.nii.gz'\n",
       "\\item 'LUC\\_0248\\_Scan\\_1.nii.gz'\n",
       "\\item 'LUC\\_0248\\_Scan\\_2.nii.gz'\n",
       "\\item 'LUC\\_0249\\_Scan\\_1.nii.gz'\n",
       "\\item 'LUC\\_0249\\_Scan\\_2.nii.gz'\n",
       "\\item 'LUC\\_0250\\_Scan\\_1.nii.gz'\n",
       "\\item 'LUC\\_0251\\_Scan\\_1.nii.gz'\n",
       "\\item 'LUC\\_0251\\_Scan\\_2.nii.gz'\n",
       "\\item 'LUC\\_0252\\_Scan\\_1.nii.gz'\n",
       "\\item 'LUC\\_0252\\_Scan\\_2.nii.gz'\n",
       "\\item 'LUC\\_0252\\_Scan\\_3.nii.gz'\n",
       "\\item 'LUC\\_0253\\_Scan\\_1.nii.gz'\n",
       "\\item 'LUC\\_0253\\_Scan\\_2.nii.gz'\n",
       "\\item 'LUC\\_0254\\_Scan\\_1.nii.gz'\n",
       "\\item 'LUC\\_0255\\_Scan\\_1.nii.gz'\n",
       "\\item 'LUC\\_0256\\_Scan\\_1.nii.gz'\n",
       "\\item 'LUC\\_0256\\_Scan\\_2.nii.gz'\n",
       "\\item 'LUC\\_0256\\_Scan\\_3.nii.gz'\n",
       "\\item 'LUC\\_0257\\_Scan\\_1.nii.gz'\n",
       "\\item 'LUC\\_0257\\_Scan\\_2.nii.gz'\n",
       "\\item 'LUC\\_0257\\_Scan\\_3.nii.gz'\n",
       "\\item 'LUC\\_0258\\_Scan\\_1.nii.gz'\n",
       "\\item 'LUC\\_0258\\_Scan\\_2.nii.gz'\n",
       "\\item 'LUC\\_0259\\_Scan\\_1.nii.gz'\n",
       "\\item 'LUC\\_0259\\_Scan\\_2.nii.gz'\n",
       "\\item 'LUC\\_0260\\_Scan\\_1.nii.gz'\n",
       "\\item 'LUC\\_0261\\_Scan\\_1.nii.gz'\n",
       "\\item 'LUC\\_0261\\_Scan\\_2.nii.gz'\n",
       "\\item 'LUC\\_0262\\_Scan\\_1.nii.gz'\n",
       "\\item 'LUC\\_0263\\_Scan\\_1.nii.gz'\n",
       "\\item 'LUC\\_0263\\_Scan\\_2.nii.gz'\n",
       "\\item 'LUC\\_0264\\_Scan\\_1.nii.gz'\n",
       "\\item 'LUC\\_0264\\_Scan\\_2.nii.gz'\n",
       "\\item 'LUC\\_0264\\_Scan\\_3.nii.gz'\n",
       "\\item 'LUC\\_0265\\_Scan\\_1.nii.gz'\n",
       "\\item 'LUC\\_0266\\_Scan\\_1.nii.gz'\n",
       "\\item 'LUC\\_0267\\_Scan\\_1.nii.gz'\n",
       "\\item 'LUC\\_0268\\_Scan\\_1.nii.gz'\n",
       "\\item 'LUC\\_0268\\_Scan\\_2.nii.gz'\n",
       "\\item 'LUC\\_0268\\_Scan\\_3.nii.gz'\n",
       "\\item 'LUC\\_0269\\_Scan\\_1.nii.gz'\n",
       "\\item 'LUC\\_0270\\_Scan\\_1.nii.gz'\n",
       "\\item 'LUC\\_0270\\_Scan\\_2.nii.gz'\n",
       "\\item 'LUC\\_0271\\_Scan\\_1.nii.gz'\n",
       "\\item 'LUC\\_0271\\_Scan\\_2.nii.gz'\n",
       "\\item 'LUC\\_0272\\_Scan\\_1.nii.gz'\n",
       "\\item 'LUC\\_0272\\_Scan\\_2.nii.gz'\n",
       "\\item 'LUC\\_0273\\_Scan\\_1.nii.gz'\n",
       "\\item 'LUC\\_0273\\_Scan\\_2.nii.gz'\n",
       "\\item 'LUC\\_0273\\_Scan\\_3.nii.gz'\n",
       "\\item 'LUC\\_0274\\_Scan\\_1.nii.gz'\n",
       "\\item 'LUC\\_0274\\_Scan\\_2.nii.gz'\n",
       "\\item 'LUC\\_0275\\_Scan\\_1.nii.gz'\n",
       "\\item 'LUC\\_0275\\_Scan\\_2.nii.gz'\n",
       "\\item 'LUC\\_0275\\_Scan\\_3.nii.gz'\n",
       "\\item 'LUC\\_0276\\_Scan\\_1.nii.gz'\n",
       "\\item 'LUC\\_0276\\_Scan\\_2.nii.gz'\n",
       "\\item 'LUC\\_0276\\_Scan\\_3.nii.gz'\n",
       "\\item 'LUC\\_0277\\_Scan\\_1.nii.gz'\n",
       "\\item 'LUC\\_0278\\_Scan\\_1.nii.gz'\n",
       "\\item 'LUC\\_0278\\_Scan\\_2.nii.gz'\n",
       "\\item 'LUC\\_0279\\_Scan\\_1.nii.gz'\n",
       "\\item 'LUC\\_0279\\_Scan\\_2.nii.gz'\n",
       "\\item 'LUC\\_0279\\_Scan\\_3.nii.gz'\n",
       "\\item 'LUC\\_0280\\_Scan\\_1.nii.gz'\n",
       "\\item 'LUC\\_0280\\_Scan\\_2.nii.gz'\n",
       "\\item 'LUC\\_0280\\_Scan\\_3.nii.gz'\n",
       "\\item 'LUC\\_0281\\_Scan\\_1.nii.gz'\n",
       "\\item 'LUC\\_0281\\_Scan\\_2.nii.gz'\n",
       "\\item 'LUC\\_0281\\_Scan\\_3.nii.gz'\n",
       "\\item 'LUC\\_0282\\_Scan\\_1.nii.gz'\n",
       "\\item 'LUC\\_0282\\_Scan\\_2.nii.gz'\n",
       "\\item 'LUC\\_0283\\_Scan\\_1.nii.gz'\n",
       "\\item 'LUC\\_0283\\_Scan\\_2.nii.gz'\n",
       "\\item 'LUC\\_0284\\_Scan\\_1.nii.gz'\n",
       "\\item 'LUC\\_0284\\_Scan\\_2.nii.gz'\n",
       "\\item 'LUC\\_0284\\_Scan\\_3.nii.gz'\n",
       "\\item 'LUC\\_0285\\_Scan\\_1.nii.gz'\n",
       "\\item 'LUC\\_0285\\_Scan\\_2.nii.gz'\n",
       "\\item 'LUC\\_0286\\_Scan\\_1.nii.gz'\n",
       "\\item 'LUC\\_0286\\_Scan\\_2.nii.gz'\n",
       "\\item 'LUC\\_0287\\_Scan\\_1.nii.gz'\n",
       "\\item 'LUC\\_0288\\_Scan\\_1.nii.gz'\n",
       "\\item 'LUC\\_0289\\_Scan\\_1.nii.gz'\n",
       "\\item 'LUC\\_0289\\_Scan\\_2.nii.gz'\n",
       "\\item 'LUC\\_0290\\_Scan\\_1.nii.gz'\n",
       "\\item 'LUC\\_0290\\_Scan\\_2.nii.gz'\n",
       "\\item 'LUC\\_0290\\_Scan\\_3.nii.gz'\n",
       "\\item 'LUC\\_0291\\_Scan\\_1.nii.gz'\n",
       "\\item 'LUC\\_0291\\_Scan\\_2.nii.gz'\n",
       "\\item 'LUC\\_0292\\_Scan\\_1.nii.gz'\n",
       "\\item 'LUC\\_0292\\_Scan\\_2.nii.gz'\n",
       "\\item 'LUC\\_0293\\_Scan\\_1.nii.gz'\n",
       "\\item 'LUC\\_0293\\_Scan\\_2.nii.gz'\n",
       "\\item 'LUC\\_0293\\_Scan\\_3.nii.gz'\n",
       "\\item 'LUC\\_0294\\_Scan\\_1.nii.gz'\n",
       "\\item 'LUC\\_0295\\_Scan\\_1.nii.gz'\n",
       "\\item 'LUC\\_0295\\_Scan\\_2.nii.gz'\n",
       "\\item 'LUC\\_0295\\_Scan\\_3.nii.gz'\n",
       "\\item 'LUC\\_0296\\_Scan\\_1.nii.gz'\n",
       "\\item 'LUC\\_0296\\_Scan\\_3.nii.gz'\n",
       "\\item 'LUC\\_0297\\_Scan\\_1.nii.gz'\n",
       "\\item 'LUC\\_0297\\_Scan\\_2.nii.gz'\n",
       "\\item 'LUC\\_0298\\_Scan\\_1.nii.gz'\n",
       "\\item 'LUC\\_0298\\_Scan\\_2.nii.gz'\n",
       "\\item 'LUC\\_0299\\_Scan\\_1.nii.gz'\n",
       "\\item 'LUC\\_0299\\_Scan\\_2.nii.gz'\n",
       "\\item 'LUC\\_0299\\_Scan\\_3.nii.gz'\n",
       "\\item 'LUC\\_0300\\_Scan\\_1.nii.gz'\n",
       "\\item 'LUC\\_0300\\_Scan\\_2.nii.gz'\n",
       "\\item 'LUC\\_0301\\_Scan\\_1.nii.gz'\n",
       "\\item 'LUC\\_0301\\_Scan\\_2.nii.gz'\n",
       "\\item 'LUC\\_0301\\_Scan\\_3.nii.gz'\n",
       "\\item 'LUC\\_0302\\_Scan\\_1.nii.gz'\n",
       "\\item 'LUC\\_0302\\_Scan\\_2.nii.gz'\n",
       "\\item 'LUC\\_0302\\_Scan\\_3.nii.gz'\n",
       "\\item 'LUC\\_0303\\_Scan\\_1.nii.gz'\n",
       "\\item 'LUC\\_0303\\_Scan\\_2.nii.gz'\n",
       "\\item 'LUC\\_0303\\_Scan\\_3.nii.gz'\n",
       "\\item 'LUC\\_0304\\_Scan\\_1.nii.gz'\n",
       "\\item 'LUC\\_0304\\_Scan\\_2.nii.gz'\n",
       "\\item 'LUC\\_0304\\_Scan\\_3.nii.gz'\n",
       "\\item 'LUC\\_0305\\_Scan\\_1.nii.gz'\n",
       "\\item 'LUC\\_0305\\_Scan\\_2.nii.gz'\n",
       "\\item 'LUC\\_0306\\_Scan\\_1.nii.gz'\n",
       "\\item 'LUC\\_0306\\_Scan\\_2.nii.gz'\n",
       "\\item 'LUC\\_0307\\_Scan\\_1.nii.gz'\n",
       "\\item 'LUC\\_0308\\_Scan\\_1.nii.gz'\n",
       "\\item 'LUC\\_0308\\_Scan\\_2.nii.gz'\n",
       "\\item 'LUC\\_0308\\_Scan\\_3.nii.gz'\n",
       "\\item 'LUC\\_0309\\_Scan\\_1.nii.gz'\n",
       "\\item 'LUC\\_0309\\_Scan\\_2.nii.gz'\n",
       "\\item 'LUC\\_0310\\_Scan\\_1.nii.gz'\n",
       "\\item 'LUC\\_0310\\_Scan\\_2.nii.gz'\n",
       "\\item 'LUC\\_0311\\_Scan\\_1.nii.gz'\n",
       "\\item 'LUC\\_0311\\_Scan\\_2.nii.gz'\n",
       "\\item 'LUC\\_0312\\_Scan\\_1.nii.gz'\n",
       "\\item 'LUC\\_0312\\_Scan\\_2.nii.gz'\n",
       "\\item 'LUC\\_0313\\_Scan\\_1.nii.gz'\n",
       "\\item 'LUC\\_0313\\_Scan\\_2.nii.gz'\n",
       "\\item 'LUC\\_0314\\_Scan\\_1.nii.gz'\n",
       "\\item 'LUC\\_0314\\_Scan\\_2.nii.gz'\n",
       "\\item 'LUC\\_0315\\_Scan\\_1.nii.gz'\n",
       "\\item 'LUC\\_0315\\_Scan\\_2.nii.gz'\n",
       "\\item 'LUC\\_0316\\_Scan\\_1.nii.gz'\n",
       "\\item 'LUC\\_0316\\_Scan\\_2.nii.gz'\n",
       "\\item 'LUC\\_0316\\_Scan\\_3.nii.gz'\n",
       "\\item 'LUC\\_0318\\_Scan\\_1.nii.gz'\n",
       "\\item 'LUC\\_0318\\_Scan\\_2.nii.gz'\n",
       "\\item 'LUC\\_0319\\_Scan\\_1.nii.gz'\n",
       "\\item 'LUC\\_0320\\_Scan\\_1.nii.gz'\n",
       "\\item 'LUC\\_0320\\_Scan\\_2.nii.gz'\n",
       "\\item 'LUC\\_0321\\_Scan\\_1.nii.gz'\n",
       "\\item 'LUC\\_0321\\_Scan\\_2.nii.gz'\n",
       "\\item 'LUC\\_0322\\_Scan\\_1.nii.gz'\n",
       "\\item 'LUC\\_0323\\_Scan\\_1.nii.gz'\n",
       "\\item 'LUC\\_0323\\_Scan\\_2.nii.gz'\n",
       "\\item 'LUC\\_0324\\_Scan\\_1.nii.gz'\n",
       "\\item 'LUC\\_0325\\_Scan\\_1.nii.gz'\n",
       "\\item 'LUC\\_0325\\_Scan\\_2.nii.gz'\n",
       "\\item 'LUC\\_0326\\_Scan\\_1.nii.gz'\n",
       "\\item 'LUC\\_0326\\_Scan\\_2.nii.gz'\n",
       "\\end{enumerate*}\n"
      ],
      "text/markdown": [
       "1. 'LUC_0001_Scan_1.nii.gz'\n",
       "2. 'LUC_0001_Scan_2.nii.gz'\n",
       "3. 'LUC_0002_Scan_1.nii.gz'\n",
       "4. 'LUC_0002_Scan_2.nii.gz'\n",
       "5. 'LUC_0002_Scan_3.nii.gz'\n",
       "6. 'LUC_0003_Scan_1.nii.gz'\n",
       "7. 'LUC_0003_Scan_2.nii.gz'\n",
       "8. 'LUC_0003_Scan_3.nii.gz'\n",
       "9. 'LUC_0004_Scan_1.nii.gz'\n",
       "10. 'LUC_0004_Scan_2.nii.gz'\n",
       "11. 'LUC_0005_Scan_1.nii.gz'\n",
       "12. 'LUC_0005_Scan_3.nii.gz'\n",
       "13. 'LUC_0006_Scan_1.nii.gz'\n",
       "14. 'LUC_0007_Scan_1.nii.gz'\n",
       "15. 'LUC_0008_Scan_1.nii.gz'\n",
       "16. 'LUC_0009_Scan_1.nii.gz'\n",
       "17. 'LUC_0009_Scan_2.nii.gz'\n",
       "18. 'LUC_0009_Scan_3.nii.gz'\n",
       "19. 'LUC_0010_Scan_1.nii.gz'\n",
       "20. 'LUC_0010_Scan_2.nii.gz'\n",
       "21. 'LUC_0010_Scan_3.nii.gz'\n",
       "22. 'LUC_0011_Scan_1.nii.gz'\n",
       "23. 'LUC_0011_Scan_2.nii.gz'\n",
       "24. 'LUC_0012_Scan_1.nii.gz'\n",
       "25. 'LUC_0012_Scan_2.nii.gz'\n",
       "26. 'LUC_0013_Scan_1.nii.gz'\n",
       "27. 'LUC_0014_Scan_1.nii.gz'\n",
       "28. 'LUC_0015_Scan_1.nii.gz'\n",
       "29. 'LUC_0016_Scan_1.nii.gz'\n",
       "30. 'LUC_0017_Scan_1.nii.gz'\n",
       "31. 'LUC_0018_Scan_1.nii.gz'\n",
       "32. 'LUC_0018_Scan_2.nii.gz'\n",
       "33. 'LUC_0018_Scan_3.nii.gz'\n",
       "34. 'LUC_0019_Scan_1.nii.gz'\n",
       "35. 'LUC_0020_Scan_1.nii.gz'\n",
       "36. 'LUC_0021_Scan_1.nii.gz'\n",
       "37. 'LUC_0021_Scan_2.nii.gz'\n",
       "38. 'LUC_0022_Scan_1.nii.gz'\n",
       "39. 'LUC_0022_Scan_2.nii.gz'\n",
       "40. 'LUC_0023_Scan_1.nii.gz'\n",
       "41. 'LUC_0023_Scan_2.nii.gz'\n",
       "42. 'LUC_0024_Scan_1.nii.gz'\n",
       "43. 'LUC_0024_Scan_2.nii.gz'\n",
       "44. 'LUC_0025_Scan_1.nii.gz'\n",
       "45. 'LUC_0025_Scan_2.nii.gz'\n",
       "46. 'LUC_0025_Scan_3.nii.gz'\n",
       "47. 'LUC_0026_Scan_1.nii.gz'\n",
       "48. 'LUC_0026_Scan_2.nii.gz'\n",
       "49. 'LUC_0027_Scan_1.nii.gz'\n",
       "50. 'LUC_0027_Scan_2.nii.gz'\n",
       "51. 'LUC_0027_Scan_3.nii.gz'\n",
       "52. 'LUC_0028_Scan_1.nii.gz'\n",
       "53. 'LUC_0028_Scan_2.nii.gz'\n",
       "54. 'LUC_0028_Scan_3.nii.gz'\n",
       "55. 'LUC_0029_Scan_1.nii.gz'\n",
       "56. 'LUC_0029_Scan_2.nii.gz'\n",
       "57. 'LUC_0029_Scan_3.nii.gz'\n",
       "58. 'LUC_0030_Scan_1.nii.gz'\n",
       "59. 'LUC_0030_Scan_2.nii.gz'\n",
       "60. 'LUC_0030_Scan_3.nii.gz'\n",
       "61. 'LUC_0031_Scan_1.nii.gz'\n",
       "62. 'LUC_0031_Scan_2.nii.gz'\n",
       "63. 'LUC_0032_Scan_1.nii.gz'\n",
       "64. 'LUC_0032_Scan_2.nii.gz'\n",
       "65. 'LUC_0032_Scan_3.nii.gz'\n",
       "66. 'LUC_0033_Scan_1.nii.gz'\n",
       "67. 'LUC_0033_Scan_2.nii.gz'\n",
       "68. 'LUC_0034_Scan_1.nii.gz'\n",
       "69. 'LUC_0034_Scan_2.nii.gz'\n",
       "70. 'LUC_0035_Scan_1.nii.gz'\n",
       "71. 'LUC_0035_Scan_2.nii.gz'\n",
       "72. 'LUC_0036_Scan_1.nii.gz'\n",
       "73. 'LUC_0037_Scan_1.nii.gz'\n",
       "74. 'LUC_0037_Scan_2.nii.gz'\n",
       "75. 'LUC_0037_Scan_3.nii.gz'\n",
       "76. 'LUC_0038_Scan_1.nii.gz'\n",
       "77. 'LUC_0038_Scan_2.nii.gz'\n",
       "78. 'LUC_0038_Scan_3.nii.gz'\n",
       "79. 'LUC_0039_Scan_1.nii.gz'\n",
       "80. 'LUC_0040_Scan_1.nii.gz'\n",
       "81. 'LUC_0040_Scan_2.nii.gz'\n",
       "82. 'LUC_0040_Scan_3.nii.gz'\n",
       "83. 'LUC_0041_Scan_1.nii.gz'\n",
       "84. 'LUC_0041_Scan_2.nii.gz'\n",
       "85. 'LUC_0042_Scan_1.nii.gz'\n",
       "86. 'LUC_0043_Scan_1.nii.gz'\n",
       "87. 'LUC_0043_Scan_2.nii.gz'\n",
       "88. 'LUC_0044_Scan_1.nii.gz'\n",
       "89. 'LUC_0044_Scan_2.nii.gz'\n",
       "90. 'LUC_0045_Scan_1.nii.gz'\n",
       "91. 'LUC_0045_Scan_2.nii.gz'\n",
       "92. 'LUC_0045_Scan_3.nii.gz'\n",
       "93. 'LUC_0046_Scan_1.nii.gz'\n",
       "94. 'LUC_0046_Scan_2.nii.gz'\n",
       "95. 'LUC_0047_Scan_1.nii.gz'\n",
       "96. 'LUC_0047_Scan_2.nii.gz'\n",
       "97. 'LUC_0048_Scan_1.nii.gz'\n",
       "98. 'LUC_0049_Scan_1.nii.gz'\n",
       "99. 'LUC_0049_Scan_2.nii.gz'\n",
       "100. 'LUC_0050_Scan_1.nii.gz'\n",
       "101. 'LUC_0050_Scan_2.nii.gz'\n",
       "102. 'LUC_0050_Scan_3.nii.gz'\n",
       "103. 'LUC_0051_Scan_1.nii.gz'\n",
       "104. 'LUC_0052_Scan_1.nii.gz'\n",
       "105. 'LUC_0052_Scan_2.nii.gz'\n",
       "106. 'LUC_0053_Scan_1.nii.gz'\n",
       "107. 'LUC_0054_Scan_1.nii.gz'\n",
       "108. 'LUC_0054_Scan_2.nii.gz'\n",
       "109. 'LUC_0055_Scan_1.nii.gz'\n",
       "110. 'LUC_0056_Scan_1.nii.gz'\n",
       "111. 'LUC_0057_Scan_1.nii.gz'\n",
       "112. 'LUC_0057_Scan_2.nii.gz'\n",
       "113. 'LUC_0058_Scan_1.nii.gz'\n",
       "114. 'LUC_0058_Scan_2.nii.gz'\n",
       "115. 'LUC_0058_Scan_3.nii.gz'\n",
       "116. 'LUC_0059_Scan_1.nii.gz'\n",
       "117. 'LUC_0059_Scan_2.nii.gz'\n",
       "118. 'LUC_0060_Scan_1.nii.gz'\n",
       "119. 'LUC_0060_Scan_2.nii.gz'\n",
       "120. 'LUC_0061_Scan_1.nii.gz'\n",
       "121. 'LUC_0062_Scan_1.nii.gz'\n",
       "122. 'LUC_0063_Scan_1.nii.gz'\n",
       "123. 'LUC_0063_Scan_2.nii.gz'\n",
       "124. 'LUC_0064_Scan_1.nii.gz'\n",
       "125. 'LUC_0065_Scan_1.nii.gz'\n",
       "126. 'LUC_0065_Scan_2.nii.gz'\n",
       "127. 'LUC_0065_Scan_3.nii.gz'\n",
       "128. 'LUC_0066_Scan_1.nii.gz'\n",
       "129. 'LUC_0066_Scan_2.nii.gz'\n",
       "130. 'LUC_0067_Scan_1.nii.gz'\n",
       "131. 'LUC_0068_Scan_1.nii.gz'\n",
       "132. 'LUC_0068_Scan_2.nii.gz'\n",
       "133. 'LUC_0069_Scan_1.nii.gz'\n",
       "134. 'LUC_0070_Scan_1.nii.gz'\n",
       "135. 'LUC_0071_Scan_1.nii.gz'\n",
       "136. 'LUC_0072_Scan_1.nii.gz'\n",
       "137. 'LUC_0073_Scan_1.nii.gz'\n",
       "138. 'LUC_0073_Scan_2.nii.gz'\n",
       "139. 'LUC_0074_Scan_1.nii.gz'\n",
       "140. 'LUC_0075_Scan_1.nii.gz'\n",
       "141. 'LUC_0075_Scan_2.nii.gz'\n",
       "142. 'LUC_0076_Scan_1.nii.gz'\n",
       "143. 'LUC_0077_Scan_1.nii.gz'\n",
       "144. 'LUC_0078_Scan_1.nii.gz'\n",
       "145. 'LUC_0078_Scan_2.nii.gz'\n",
       "146. 'LUC_0078_Scan_3.nii.gz'\n",
       "147. 'LUC_0079_Scan_1.nii.gz'\n",
       "148. 'LUC_0080_Scan_1.nii.gz'\n",
       "149. 'LUC_0081_Scan_1.nii.gz'\n",
       "150. 'LUC_0082_Scan_1.nii.gz'\n",
       "151. 'LUC_0083_Scan_1.nii.gz'\n",
       "152. 'LUC_0084_Scan_1.nii.gz'\n",
       "153. 'LUC_0085_Scan_1.nii.gz'\n",
       "154. 'LUC_0085_Scan_2.nii.gz'\n",
       "155. 'LUC_0086_Scan_1.nii.gz'\n",
       "156. 'LUC_0087_Scan_1.nii.gz'\n",
       "157. 'LUC_0088_Scan_1.nii.gz'\n",
       "158. 'LUC_0089_Scan_1.nii.gz'\n",
       "159. 'LUC_0089_Scan_2.nii.gz'\n",
       "160. 'LUC_0089_Scan_3.nii.gz'\n",
       "161. 'LUC_0090_Scan_1.nii.gz'\n",
       "162. 'LUC_0091_Scan_1.nii.gz'\n",
       "163. 'LUC_0093_Scan_1.nii.gz'\n",
       "164. 'LUC_0094_Scan_1.nii.gz'\n",
       "165. 'LUC_0095_Scan_1.nii.gz'\n",
       "166. 'LUC_0096_Scan_1.nii.gz'\n",
       "167. 'LUC_0097_Scan_1.nii.gz'\n",
       "168. 'LUC_0098_Scan_1.nii.gz'\n",
       "169. 'LUC_0098_Scan_2.nii.gz'\n",
       "170. 'LUC_0099_Scan_1.nii.gz'\n",
       "171. 'LUC_0100_Scan_1.nii.gz'\n",
       "172. 'LUC_0101_Scan_1.nii.gz'\n",
       "173. 'LUC_0101_Scan_2.nii.gz'\n",
       "174. 'LUC_0102_Scan_1.nii.gz'\n",
       "175. 'LUC_0103_Scan_1.nii.gz'\n",
       "176. 'LUC_0104_Scan_1.nii.gz'\n",
       "177. 'LUC_0105_Scan_1.nii.gz'\n",
       "178. 'LUC_0105_Scan_2.nii.gz'\n",
       "179. 'LUC_0105_Scan_3.nii.gz'\n",
       "180. 'LUC_0106_Scan_1.nii.gz'\n",
       "181. 'LUC_0107_Scan_1.nii.gz'\n",
       "182. 'LUC_0107_Scan_2.nii.gz'\n",
       "183. 'LUC_0107_Scan_3.nii.gz'\n",
       "184. 'LUC_0108_Scan_1.nii.gz'\n",
       "185. 'LUC_0108_Scan_2.nii.gz'\n",
       "186. 'LUC_0109_Scan_1.nii.gz'\n",
       "187. 'LUC_0110_Scan_1.nii.gz'\n",
       "188. 'LUC_0111_Scan_1.nii.gz'\n",
       "189. 'LUC_0111_Scan_2.nii.gz'\n",
       "190. 'LUC_0112_Scan_1.nii.gz'\n",
       "191. 'LUC_0113_Scan_1.nii.gz'\n",
       "192. 'LUC_0114_Scan_1.nii.gz'\n",
       "193. 'LUC_0114_Scan_2.nii.gz'\n",
       "194. 'LUC_0115_Scan_2.nii.gz'\n",
       "195. 'LUC_0115_Scan_3.nii.gz'\n",
       "196. 'LUC_0116_Scan_1.nii.gz'\n",
       "197. 'LUC_0117_Scan_1.nii.gz'\n",
       "198. 'LUC_0117_Scan_2.nii.gz'\n",
       "199. 'LUC_0118_Scan_1.nii.gz'\n",
       "200. 'LUC_0119_Scan_1.nii.gz'\n",
       "201. 'LUC_0120_Scan_1.nii.gz'\n",
       "202. 'LUC_0120_Scan_2.nii.gz'\n",
       "203. 'LUC_0121_Scan_1.nii.gz'\n",
       "204. 'LUC_0121_Scan_2.nii.gz'\n",
       "205. 'LUC_0122_Scan_1.nii.gz'\n",
       "206. 'LUC_0123_Scan_1.nii.gz'\n",
       "207. 'LUC_0123_Scan_2.nii.gz'\n",
       "208. 'LUC_0124_Scan_1.nii.gz'\n",
       "209. 'LUC_0125_Scan_1.nii.gz'\n",
       "210. 'LUC_0126_Scan_1.nii.gz'\n",
       "211. 'LUC_0127_Scan_1.nii.gz'\n",
       "212. 'LUC_0127_Scan_2.nii.gz'\n",
       "213. 'LUC_0128_Scan_1.nii.gz'\n",
       "214. 'LUC_0129_Scan_1.nii.gz'\n",
       "215. 'LUC_0129_Scan_2.nii.gz'\n",
       "216. 'LUC_0130_Scan_1.nii.gz'\n",
       "217. 'LUC_0131_Scan_1.nii.gz'\n",
       "218. 'LUC_0132_Scan_1.nii.gz'\n",
       "219. 'LUC_0133_Scan_1.nii.gz'\n",
       "220. 'LUC_0133_Scan_2.nii.gz'\n",
       "221. 'LUC_0134_Scan_1.nii.gz'\n",
       "222. 'LUC_0134_Scan_2.nii.gz'\n",
       "223. 'LUC_0134_Scan_3.nii.gz'\n",
       "224. 'LUC_0135_Scan_1.nii.gz'\n",
       "225. 'LUC_0135_Scan_2.nii.gz'\n",
       "226. 'LUC_0136_Scan_1.nii.gz'\n",
       "227. 'LUC_0137_Scan_1.nii.gz'\n",
       "228. 'LUC_0137_Scan_2.nii.gz'\n",
       "229. 'LUC_0137_Scan_3.nii.gz'\n",
       "230. 'LUC_0138_Scan_1.nii.gz'\n",
       "231. 'LUC_0138_Scan_2.nii.gz'\n",
       "232. 'LUC_0138_Scan_3.nii.gz'\n",
       "233. 'LUC_0139_Scan_1.nii.gz'\n",
       "234. 'LUC_0140_Scan_1.nii.gz'\n",
       "235. 'LUC_0141_Scan_1.nii.gz'\n",
       "236. 'LUC_0141_Scan_2.nii.gz'\n",
       "237. 'LUC_0142_Scan_1.nii.gz'\n",
       "238. 'LUC_0142_Scan_2.nii.gz'\n",
       "239. 'LUC_0143_Scan_1.nii.gz'\n",
       "240. 'LUC_0144_Scan_1.nii.gz'\n",
       "241. 'LUC_0144_Scan_2.nii.gz'\n",
       "242. 'LUC_0144_Scan_3.nii.gz'\n",
       "243. 'LUC_0145_Scan_1.nii.gz'\n",
       "244. 'LUC_0146_Scan_1.nii.gz'\n",
       "245. 'LUC_0147_Scan_1.nii.gz'\n",
       "246. 'LUC_0147_Scan_2.nii.gz'\n",
       "247. 'LUC_0148_Scan_1.nii.gz'\n",
       "248. 'LUC_0149_Scan_1.nii.gz'\n",
       "249. 'LUC_0150_Scan_1.nii.gz'\n",
       "250. 'LUC_0151_Scan_1.nii.gz'\n",
       "251. 'LUC_0151_Scan_2.nii.gz'\n",
       "252. 'LUC_0152_Scan_1.nii.gz'\n",
       "253. 'LUC_0153_Scan_1.nii.gz'\n",
       "254. 'LUC_0154_Scan_1.nii.gz'\n",
       "255. 'LUC_0154_Scan_2.nii.gz'\n",
       "256. 'LUC_0155_Scan_1.nii.gz'\n",
       "257. 'LUC_0156_Scan_1.nii.gz'\n",
       "258. 'LUC_0156_Scan_2.nii.gz'\n",
       "259. 'LUC_0157_Scan_1.nii.gz'\n",
       "260. 'LUC_0157_Scan_2.nii.gz'\n",
       "261. 'LUC_0157_Scan_3.nii.gz'\n",
       "262. 'LUC_0158_Scan_1.nii.gz'\n",
       "263. 'LUC_0159_Scan_1.nii.gz'\n",
       "264. 'LUC_0160_Scan_1.nii.gz'\n",
       "265. 'LUC_0161_Scan_1.nii.gz'\n",
       "266. 'LUC_0162_Scan_1.nii.gz'\n",
       "267. 'LUC_0163_Scan_1.nii.gz'\n",
       "268. 'LUC_0164_Scan_1.nii.gz'\n",
       "269. 'LUC_0164_Scan_2.nii.gz'\n",
       "270. 'LUC_0164_Scan_3.nii.gz'\n",
       "271. 'LUC_0165_Scan_1.nii.gz'\n",
       "272. 'LUC_0165_Scan_2.nii.gz'\n",
       "273. 'LUC_0165_Scan_3.nii.gz'\n",
       "274. 'LUC_0166_Scan_1.nii.gz'\n",
       "275. 'LUC_0166_Scan_2.nii.gz'\n",
       "276. 'LUC_0167_Scan_1.nii.gz'\n",
       "277. 'LUC_0168_Scan_1.nii.gz'\n",
       "278. 'LUC_0169_Scan_1.nii.gz'\n",
       "279. 'LUC_0170_Scan_1.nii.gz'\n",
       "280. 'LUC_0171_Scan_1.nii.gz'\n",
       "281. 'LUC_0172_Scan_1.nii.gz'\n",
       "282. 'LUC_0173_Scan_1.nii.gz'\n",
       "283. 'LUC_0174_Scan_1.nii.gz'\n",
       "284. 'LUC_0174_Scan_2.nii.gz'\n",
       "285. 'LUC_0175_Scan_1.nii.gz'\n",
       "286. 'LUC_0176_Scan_1.nii.gz'\n",
       "287. 'LUC_0176_Scan_2.nii.gz'\n",
       "288. 'LUC_0177_Scan_1.nii.gz'\n",
       "289. 'LUC_0177_Scan_2.nii.gz'\n",
       "290. 'LUC_0177_Scan_3.nii.gz'\n",
       "291. 'LUC_0178_Scan_1.nii.gz'\n",
       "292. 'LUC_0178_Scan_2.nii.gz'\n",
       "293. 'LUC_0179_Scan_1.nii.gz'\n",
       "294. 'LUC_0179_Scan_2.nii.gz'\n",
       "295. 'LUC_0180_Scan_1.nii.gz'\n",
       "296. 'LUC_0181_Scan_1.nii.gz'\n",
       "297. 'LUC_0181_Scan_2.nii.gz'\n",
       "298. 'LUC_0182_Scan_1.nii.gz'\n",
       "299. 'LUC_0183_Scan_1.nii.gz'\n",
       "300. 'LUC_0184_Scan_1.nii.gz'\n",
       "301. 'LUC_0184_Scan_2.nii.gz'\n",
       "302. 'LUC_0185_Scan_1.nii.gz'\n",
       "303. 'LUC_0185_Scan_2.nii.gz'\n",
       "304. 'LUC_0186_Scan_1.nii.gz'\n",
       "305. 'LUC_0186_Scan_2.nii.gz'\n",
       "306. 'LUC_0187_Scan_1.nii.gz'\n",
       "307. 'LUC_0187_Scan_2.nii.gz'\n",
       "308. 'LUC_0188_Scan_1.nii.gz'\n",
       "309. 'LUC_0188_Scan_2.nii.gz'\n",
       "310. 'LUC_0188_Scan_3.nii.gz'\n",
       "311. 'LUC_0189_Scan_1.nii.gz'\n",
       "312. 'LUC_0189_Scan_2.nii.gz'\n",
       "313. 'LUC_0189_Scan_3.nii.gz'\n",
       "314. 'LUC_0190_Scan_1.nii.gz'\n",
       "315. 'LUC_0190_Scan_2.nii.gz'\n",
       "316. 'LUC_0191_Scan_1.nii.gz'\n",
       "317. 'LUC_0191_Scan_2.nii.gz'\n",
       "318. 'LUC_0192_Scan_1.nii.gz'\n",
       "319. 'LUC_0192_Scan_2.nii.gz'\n",
       "320. 'LUC_0192_Scan_3.nii.gz'\n",
       "321. 'LUC_0193_Scan_1.nii.gz'\n",
       "322. 'LUC_0193_Scan_2.nii.gz'\n",
       "323. 'LUC_0193_Scan_3.nii.gz'\n",
       "324. 'LUC_0194_Scan_1.nii.gz'\n",
       "325. 'LUC_0194_Scan_2.nii.gz'\n",
       "326. 'LUC_0195_Scan_1.nii.gz'\n",
       "327. 'LUC_0195_Scan_2.nii.gz'\n",
       "328. 'LUC_0196_Scan_1.nii.gz'\n",
       "329. 'LUC_0196_Scan_2.nii.gz'\n",
       "330. 'LUC_0197_Scan_1.nii.gz'\n",
       "331. 'LUC_0197_Scan_2.nii.gz'\n",
       "332. 'LUC_0197_Scan_3.nii.gz'\n",
       "333. 'LUC_0198_Scan_1.nii.gz'\n",
       "334. 'LUC_0198_Scan_2.nii.gz'\n",
       "335. 'LUC_0198_Scan_3.nii.gz'\n",
       "336. 'LUC_0199_Scan_1.nii.gz'\n",
       "337. 'LUC_0199_Scan_2.nii.gz'\n",
       "338. 'LUC_0199_Scan_3.nii.gz'\n",
       "339. 'LUC_0200_Scan_1.nii.gz'\n",
       "340. 'LUC_0201_Scan_1.nii.gz'\n",
       "341. 'LUC_0201_Scan_2.nii.gz'\n",
       "342. 'LUC_0201_Scan_3.nii.gz'\n",
       "343. 'LUC_0202_Scan_1.nii.gz'\n",
       "344. 'LUC_0202_Scan_2.nii.gz'\n",
       "345. 'LUC_0203_Scan_1.nii.gz'\n",
       "346. 'LUC_0203_Scan_2.nii.gz'\n",
       "347. 'LUC_0204_Scan_1.nii.gz'\n",
       "348. 'LUC_0204_Scan_2.nii.gz'\n",
       "349. 'LUC_0204_Scan_3.nii.gz'\n",
       "350. 'LUC_0205_Scan_1.nii.gz'\n",
       "351. 'LUC_0205_Scan_2.nii.gz'\n",
       "352. 'LUC_0205_Scan_3.nii.gz'\n",
       "353. 'LUC_0206_Scan_1.nii.gz'\n",
       "354. 'LUC_0206_Scan_2.nii.gz'\n",
       "355. 'LUC_0206_Scan_3.nii.gz'\n",
       "356. 'LUC_0207_Scan_1.nii.gz'\n",
       "357. 'LUC_0208_Scan_1.nii.gz'\n",
       "358. 'LUC_0208_Scan_2.nii.gz'\n",
       "359. 'LUC_0209_Scan_1.nii.gz'\n",
       "360. 'LUC_0209_Scan_2.nii.gz'\n",
       "361. 'LUC_0209_Scan_3.nii.gz'\n",
       "362. 'LUC_0210_Scan_1.nii.gz'\n",
       "363. 'LUC_0210_Scan_2.nii.gz'\n",
       "364. 'LUC_0210_Scan_3.nii.gz'\n",
       "365. 'LUC_0211_Scan_1.nii.gz'\n",
       "366. 'LUC_0211_Scan_2.nii.gz'\n",
       "367. 'LUC_0211_Scan_3.nii.gz'\n",
       "368. 'LUC_0212_Scan_1.nii.gz'\n",
       "369. 'LUC_0212_Scan_2.nii.gz'\n",
       "370. 'LUC_0212_Scan_3.nii.gz'\n",
       "371. 'LUC_0213_Scan_1.nii.gz'\n",
       "372. 'LUC_0213_Scan_2.nii.gz'\n",
       "373. 'LUC_0214_Scan_1.nii.gz'\n",
       "374. 'LUC_0214_Scan_2.nii.gz'\n",
       "375. 'LUC_0214_Scan_3.nii.gz'\n",
       "376. 'LUC_0215_Scan_1.nii.gz'\n",
       "377. 'LUC_0215_Scan_2.nii.gz'\n",
       "378. 'LUC_0216_Scan_1.nii.gz'\n",
       "379. 'LUC_0217_Scan_1.nii.gz'\n",
       "380. 'LUC_0217_Scan_2.nii.gz'\n",
       "381. 'LUC_0217_Scan_3.nii.gz'\n",
       "382. 'LUC_0218_Scan_1.nii.gz'\n",
       "383. 'LUC_0218_Scan_2.nii.gz'\n",
       "384. 'LUC_0219_Scan_1.nii.gz'\n",
       "385. 'LUC_0219_Scan_2.nii.gz'\n",
       "386. 'LUC_0219_Scan_3.nii.gz'\n",
       "387. 'LUC_0220_Scan_1.nii.gz'\n",
       "388. 'LUC_0220_Scan_2.nii.gz'\n",
       "389. 'LUC_0220_Scan_3.nii.gz'\n",
       "390. 'LUC_0221_Scan_1.nii.gz'\n",
       "391. 'LUC_0221_Scan_2.nii.gz'\n",
       "392. 'LUC_0222_Scan_1.nii.gz'\n",
       "393. 'LUC_0222_Scan_2.nii.gz'\n",
       "394. 'LUC_0222_Scan_3.nii.gz'\n",
       "395. 'LUC_0223_Scan_1.nii.gz'\n",
       "396. 'LUC_0223_Scan_2.nii.gz'\n",
       "397. 'LUC_0224_Scan_1.nii.gz'\n",
       "398. 'LUC_0224_Scan_2.nii.gz'\n",
       "399. 'LUC_0224_Scan_3.nii.gz'\n",
       "400. 'LUC_0225_Scan_1.nii.gz'\n",
       "401. 'LUC_0225_Scan_2.nii.gz'\n",
       "402. 'LUC_0225_Scan_3.nii.gz'\n",
       "403. 'LUC_0226_Scan_1.nii.gz'\n",
       "404. 'LUC_0226_Scan_2.nii.gz'\n",
       "405. 'LUC_0227_Scan_1.nii.gz'\n",
       "406. 'LUC_0227_Scan_2.nii.gz'\n",
       "407. 'LUC_0228_Scan_1.nii.gz'\n",
       "408. 'LUC_0228_Scan_2.nii.gz'\n",
       "409. 'LUC_0228_Scan_3.nii.gz'\n",
       "410. 'LUC_0229_Scan_1.nii.gz'\n",
       "411. 'LUC_0229_Scan_2.nii.gz'\n",
       "412. 'LUC_0229_Scan_3.nii.gz'\n",
       "413. 'LUC_0230_Scan_1.nii.gz'\n",
       "414. 'LUC_0230_Scan_2.nii.gz'\n",
       "415. 'LUC_0230_Scan_3.nii.gz'\n",
       "416. 'LUC_0231_Scan_1.nii.gz'\n",
       "417. 'LUC_0233_Scan_1.nii.gz'\n",
       "418. 'LUC_0233_Scan_2.nii.gz'\n",
       "419. 'LUC_0233_Scan_3.nii.gz'\n",
       "420. 'LUC_0234_Scan_1.nii.gz'\n",
       "421. 'LUC_0235_Scan_1.nii.gz'\n",
       "422. 'LUC_0235_Scan_2.nii.gz'\n",
       "423. 'LUC_0236_Scan_1.nii.gz'\n",
       "424. 'LUC_0236_Scan_2.nii.gz'\n",
       "425. 'LUC_0236_Scan_3.nii.gz'\n",
       "426. 'LUC_0237_Scan_1.nii.gz'\n",
       "427. 'LUC_0237_Scan_2.nii.gz'\n",
       "428. 'LUC_0238_Scan_1.nii.gz'\n",
       "429. 'LUC_0238_Scan_2.nii.gz'\n",
       "430. 'LUC_0238_Scan_3.nii.gz'\n",
       "431. 'LUC_0239_Scan_1.nii.gz'\n",
       "432. 'LUC_0239_Scan_2.nii.gz'\n",
       "433. 'LUC_0239_Scan_3.nii.gz'\n",
       "434. 'LUC_0240_Scan_1.nii.gz'\n",
       "435. 'LUC_0240_Scan_2.nii.gz'\n",
       "436. 'LUC_0241_Scan_1.nii.gz'\n",
       "437. 'LUC_0241_Scan_2.nii.gz'\n",
       "438. 'LUC_0242_Scan_1.nii.gz'\n",
       "439. 'LUC_0242_Scan_2.nii.gz'\n",
       "440. 'LUC_0243_Scan_1.nii.gz'\n",
       "441. 'LUC_0243_Scan_2.nii.gz'\n",
       "442. 'LUC_0243_Scan_3.nii.gz'\n",
       "443. 'LUC_0244_Scan_1.nii.gz'\n",
       "444. 'LUC_0244_Scan_2.nii.gz'\n",
       "445. 'LUC_0244_Scan_3.nii.gz'\n",
       "446. 'LUC_0245_Scan_1.nii.gz'\n",
       "447. 'LUC_0245_Scan_2.nii.gz'\n",
       "448. 'LUC_0246_Scan_1.nii.gz'\n",
       "449. 'LUC_0246_Scan_2.nii.gz'\n",
       "450. 'LUC_0246_Scan_3.nii.gz'\n",
       "451. 'LUC_0247_Scan_1.nii.gz'\n",
       "452. 'LUC_0247_Scan_2.nii.gz'\n",
       "453. 'LUC_0248_Scan_1.nii.gz'\n",
       "454. 'LUC_0248_Scan_2.nii.gz'\n",
       "455. 'LUC_0249_Scan_1.nii.gz'\n",
       "456. 'LUC_0249_Scan_2.nii.gz'\n",
       "457. 'LUC_0250_Scan_1.nii.gz'\n",
       "458. 'LUC_0251_Scan_1.nii.gz'\n",
       "459. 'LUC_0251_Scan_2.nii.gz'\n",
       "460. 'LUC_0252_Scan_1.nii.gz'\n",
       "461. 'LUC_0252_Scan_2.nii.gz'\n",
       "462. 'LUC_0252_Scan_3.nii.gz'\n",
       "463. 'LUC_0253_Scan_1.nii.gz'\n",
       "464. 'LUC_0253_Scan_2.nii.gz'\n",
       "465. 'LUC_0254_Scan_1.nii.gz'\n",
       "466. 'LUC_0255_Scan_1.nii.gz'\n",
       "467. 'LUC_0256_Scan_1.nii.gz'\n",
       "468. 'LUC_0256_Scan_2.nii.gz'\n",
       "469. 'LUC_0256_Scan_3.nii.gz'\n",
       "470. 'LUC_0257_Scan_1.nii.gz'\n",
       "471. 'LUC_0257_Scan_2.nii.gz'\n",
       "472. 'LUC_0257_Scan_3.nii.gz'\n",
       "473. 'LUC_0258_Scan_1.nii.gz'\n",
       "474. 'LUC_0258_Scan_2.nii.gz'\n",
       "475. 'LUC_0259_Scan_1.nii.gz'\n",
       "476. 'LUC_0259_Scan_2.nii.gz'\n",
       "477. 'LUC_0260_Scan_1.nii.gz'\n",
       "478. 'LUC_0261_Scan_1.nii.gz'\n",
       "479. 'LUC_0261_Scan_2.nii.gz'\n",
       "480. 'LUC_0262_Scan_1.nii.gz'\n",
       "481. 'LUC_0263_Scan_1.nii.gz'\n",
       "482. 'LUC_0263_Scan_2.nii.gz'\n",
       "483. 'LUC_0264_Scan_1.nii.gz'\n",
       "484. 'LUC_0264_Scan_2.nii.gz'\n",
       "485. 'LUC_0264_Scan_3.nii.gz'\n",
       "486. 'LUC_0265_Scan_1.nii.gz'\n",
       "487. 'LUC_0266_Scan_1.nii.gz'\n",
       "488. 'LUC_0267_Scan_1.nii.gz'\n",
       "489. 'LUC_0268_Scan_1.nii.gz'\n",
       "490. 'LUC_0268_Scan_2.nii.gz'\n",
       "491. 'LUC_0268_Scan_3.nii.gz'\n",
       "492. 'LUC_0269_Scan_1.nii.gz'\n",
       "493. 'LUC_0270_Scan_1.nii.gz'\n",
       "494. 'LUC_0270_Scan_2.nii.gz'\n",
       "495. 'LUC_0271_Scan_1.nii.gz'\n",
       "496. 'LUC_0271_Scan_2.nii.gz'\n",
       "497. 'LUC_0272_Scan_1.nii.gz'\n",
       "498. 'LUC_0272_Scan_2.nii.gz'\n",
       "499. 'LUC_0273_Scan_1.nii.gz'\n",
       "500. 'LUC_0273_Scan_2.nii.gz'\n",
       "501. 'LUC_0273_Scan_3.nii.gz'\n",
       "502. 'LUC_0274_Scan_1.nii.gz'\n",
       "503. 'LUC_0274_Scan_2.nii.gz'\n",
       "504. 'LUC_0275_Scan_1.nii.gz'\n",
       "505. 'LUC_0275_Scan_2.nii.gz'\n",
       "506. 'LUC_0275_Scan_3.nii.gz'\n",
       "507. 'LUC_0276_Scan_1.nii.gz'\n",
       "508. 'LUC_0276_Scan_2.nii.gz'\n",
       "509. 'LUC_0276_Scan_3.nii.gz'\n",
       "510. 'LUC_0277_Scan_1.nii.gz'\n",
       "511. 'LUC_0278_Scan_1.nii.gz'\n",
       "512. 'LUC_0278_Scan_2.nii.gz'\n",
       "513. 'LUC_0279_Scan_1.nii.gz'\n",
       "514. 'LUC_0279_Scan_2.nii.gz'\n",
       "515. 'LUC_0279_Scan_3.nii.gz'\n",
       "516. 'LUC_0280_Scan_1.nii.gz'\n",
       "517. 'LUC_0280_Scan_2.nii.gz'\n",
       "518. 'LUC_0280_Scan_3.nii.gz'\n",
       "519. 'LUC_0281_Scan_1.nii.gz'\n",
       "520. 'LUC_0281_Scan_2.nii.gz'\n",
       "521. 'LUC_0281_Scan_3.nii.gz'\n",
       "522. 'LUC_0282_Scan_1.nii.gz'\n",
       "523. 'LUC_0282_Scan_2.nii.gz'\n",
       "524. 'LUC_0283_Scan_1.nii.gz'\n",
       "525. 'LUC_0283_Scan_2.nii.gz'\n",
       "526. 'LUC_0284_Scan_1.nii.gz'\n",
       "527. 'LUC_0284_Scan_2.nii.gz'\n",
       "528. 'LUC_0284_Scan_3.nii.gz'\n",
       "529. 'LUC_0285_Scan_1.nii.gz'\n",
       "530. 'LUC_0285_Scan_2.nii.gz'\n",
       "531. 'LUC_0286_Scan_1.nii.gz'\n",
       "532. 'LUC_0286_Scan_2.nii.gz'\n",
       "533. 'LUC_0287_Scan_1.nii.gz'\n",
       "534. 'LUC_0288_Scan_1.nii.gz'\n",
       "535. 'LUC_0289_Scan_1.nii.gz'\n",
       "536. 'LUC_0289_Scan_2.nii.gz'\n",
       "537. 'LUC_0290_Scan_1.nii.gz'\n",
       "538. 'LUC_0290_Scan_2.nii.gz'\n",
       "539. 'LUC_0290_Scan_3.nii.gz'\n",
       "540. 'LUC_0291_Scan_1.nii.gz'\n",
       "541. 'LUC_0291_Scan_2.nii.gz'\n",
       "542. 'LUC_0292_Scan_1.nii.gz'\n",
       "543. 'LUC_0292_Scan_2.nii.gz'\n",
       "544. 'LUC_0293_Scan_1.nii.gz'\n",
       "545. 'LUC_0293_Scan_2.nii.gz'\n",
       "546. 'LUC_0293_Scan_3.nii.gz'\n",
       "547. 'LUC_0294_Scan_1.nii.gz'\n",
       "548. 'LUC_0295_Scan_1.nii.gz'\n",
       "549. 'LUC_0295_Scan_2.nii.gz'\n",
       "550. 'LUC_0295_Scan_3.nii.gz'\n",
       "551. 'LUC_0296_Scan_1.nii.gz'\n",
       "552. 'LUC_0296_Scan_3.nii.gz'\n",
       "553. 'LUC_0297_Scan_1.nii.gz'\n",
       "554. 'LUC_0297_Scan_2.nii.gz'\n",
       "555. 'LUC_0298_Scan_1.nii.gz'\n",
       "556. 'LUC_0298_Scan_2.nii.gz'\n",
       "557. 'LUC_0299_Scan_1.nii.gz'\n",
       "558. 'LUC_0299_Scan_2.nii.gz'\n",
       "559. 'LUC_0299_Scan_3.nii.gz'\n",
       "560. 'LUC_0300_Scan_1.nii.gz'\n",
       "561. 'LUC_0300_Scan_2.nii.gz'\n",
       "562. 'LUC_0301_Scan_1.nii.gz'\n",
       "563. 'LUC_0301_Scan_2.nii.gz'\n",
       "564. 'LUC_0301_Scan_3.nii.gz'\n",
       "565. 'LUC_0302_Scan_1.nii.gz'\n",
       "566. 'LUC_0302_Scan_2.nii.gz'\n",
       "567. 'LUC_0302_Scan_3.nii.gz'\n",
       "568. 'LUC_0303_Scan_1.nii.gz'\n",
       "569. 'LUC_0303_Scan_2.nii.gz'\n",
       "570. 'LUC_0303_Scan_3.nii.gz'\n",
       "571. 'LUC_0304_Scan_1.nii.gz'\n",
       "572. 'LUC_0304_Scan_2.nii.gz'\n",
       "573. 'LUC_0304_Scan_3.nii.gz'\n",
       "574. 'LUC_0305_Scan_1.nii.gz'\n",
       "575. 'LUC_0305_Scan_2.nii.gz'\n",
       "576. 'LUC_0306_Scan_1.nii.gz'\n",
       "577. 'LUC_0306_Scan_2.nii.gz'\n",
       "578. 'LUC_0307_Scan_1.nii.gz'\n",
       "579. 'LUC_0308_Scan_1.nii.gz'\n",
       "580. 'LUC_0308_Scan_2.nii.gz'\n",
       "581. 'LUC_0308_Scan_3.nii.gz'\n",
       "582. 'LUC_0309_Scan_1.nii.gz'\n",
       "583. 'LUC_0309_Scan_2.nii.gz'\n",
       "584. 'LUC_0310_Scan_1.nii.gz'\n",
       "585. 'LUC_0310_Scan_2.nii.gz'\n",
       "586. 'LUC_0311_Scan_1.nii.gz'\n",
       "587. 'LUC_0311_Scan_2.nii.gz'\n",
       "588. 'LUC_0312_Scan_1.nii.gz'\n",
       "589. 'LUC_0312_Scan_2.nii.gz'\n",
       "590. 'LUC_0313_Scan_1.nii.gz'\n",
       "591. 'LUC_0313_Scan_2.nii.gz'\n",
       "592. 'LUC_0314_Scan_1.nii.gz'\n",
       "593. 'LUC_0314_Scan_2.nii.gz'\n",
       "594. 'LUC_0315_Scan_1.nii.gz'\n",
       "595. 'LUC_0315_Scan_2.nii.gz'\n",
       "596. 'LUC_0316_Scan_1.nii.gz'\n",
       "597. 'LUC_0316_Scan_2.nii.gz'\n",
       "598. 'LUC_0316_Scan_3.nii.gz'\n",
       "599. 'LUC_0318_Scan_1.nii.gz'\n",
       "600. 'LUC_0318_Scan_2.nii.gz'\n",
       "601. 'LUC_0319_Scan_1.nii.gz'\n",
       "602. 'LUC_0320_Scan_1.nii.gz'\n",
       "603. 'LUC_0320_Scan_2.nii.gz'\n",
       "604. 'LUC_0321_Scan_1.nii.gz'\n",
       "605. 'LUC_0321_Scan_2.nii.gz'\n",
       "606. 'LUC_0322_Scan_1.nii.gz'\n",
       "607. 'LUC_0323_Scan_1.nii.gz'\n",
       "608. 'LUC_0323_Scan_2.nii.gz'\n",
       "609. 'LUC_0324_Scan_1.nii.gz'\n",
       "610. 'LUC_0325_Scan_1.nii.gz'\n",
       "611. 'LUC_0325_Scan_2.nii.gz'\n",
       "612. 'LUC_0326_Scan_1.nii.gz'\n",
       "613. 'LUC_0326_Scan_2.nii.gz'\n",
       "\n",
       "\n"
      ],
      "text/plain": [
       "  [1] \"LUC_0001_Scan_1.nii.gz\" \"LUC_0001_Scan_2.nii.gz\" \"LUC_0002_Scan_1.nii.gz\"\n",
       "  [4] \"LUC_0002_Scan_2.nii.gz\" \"LUC_0002_Scan_3.nii.gz\" \"LUC_0003_Scan_1.nii.gz\"\n",
       "  [7] \"LUC_0003_Scan_2.nii.gz\" \"LUC_0003_Scan_3.nii.gz\" \"LUC_0004_Scan_1.nii.gz\"\n",
       " [10] \"LUC_0004_Scan_2.nii.gz\" \"LUC_0005_Scan_1.nii.gz\" \"LUC_0005_Scan_3.nii.gz\"\n",
       " [13] \"LUC_0006_Scan_1.nii.gz\" \"LUC_0007_Scan_1.nii.gz\" \"LUC_0008_Scan_1.nii.gz\"\n",
       " [16] \"LUC_0009_Scan_1.nii.gz\" \"LUC_0009_Scan_2.nii.gz\" \"LUC_0009_Scan_3.nii.gz\"\n",
       " [19] \"LUC_0010_Scan_1.nii.gz\" \"LUC_0010_Scan_2.nii.gz\" \"LUC_0010_Scan_3.nii.gz\"\n",
       " [22] \"LUC_0011_Scan_1.nii.gz\" \"LUC_0011_Scan_2.nii.gz\" \"LUC_0012_Scan_1.nii.gz\"\n",
       " [25] \"LUC_0012_Scan_2.nii.gz\" \"LUC_0013_Scan_1.nii.gz\" \"LUC_0014_Scan_1.nii.gz\"\n",
       " [28] \"LUC_0015_Scan_1.nii.gz\" \"LUC_0016_Scan_1.nii.gz\" \"LUC_0017_Scan_1.nii.gz\"\n",
       " [31] \"LUC_0018_Scan_1.nii.gz\" \"LUC_0018_Scan_2.nii.gz\" \"LUC_0018_Scan_3.nii.gz\"\n",
       " [34] \"LUC_0019_Scan_1.nii.gz\" \"LUC_0020_Scan_1.nii.gz\" \"LUC_0021_Scan_1.nii.gz\"\n",
       " [37] \"LUC_0021_Scan_2.nii.gz\" \"LUC_0022_Scan_1.nii.gz\" \"LUC_0022_Scan_2.nii.gz\"\n",
       " [40] \"LUC_0023_Scan_1.nii.gz\" \"LUC_0023_Scan_2.nii.gz\" \"LUC_0024_Scan_1.nii.gz\"\n",
       " [43] \"LUC_0024_Scan_2.nii.gz\" \"LUC_0025_Scan_1.nii.gz\" \"LUC_0025_Scan_2.nii.gz\"\n",
       " [46] \"LUC_0025_Scan_3.nii.gz\" \"LUC_0026_Scan_1.nii.gz\" \"LUC_0026_Scan_2.nii.gz\"\n",
       " [49] \"LUC_0027_Scan_1.nii.gz\" \"LUC_0027_Scan_2.nii.gz\" \"LUC_0027_Scan_3.nii.gz\"\n",
       " [52] \"LUC_0028_Scan_1.nii.gz\" \"LUC_0028_Scan_2.nii.gz\" \"LUC_0028_Scan_3.nii.gz\"\n",
       " [55] \"LUC_0029_Scan_1.nii.gz\" \"LUC_0029_Scan_2.nii.gz\" \"LUC_0029_Scan_3.nii.gz\"\n",
       " [58] \"LUC_0030_Scan_1.nii.gz\" \"LUC_0030_Scan_2.nii.gz\" \"LUC_0030_Scan_3.nii.gz\"\n",
       " [61] \"LUC_0031_Scan_1.nii.gz\" \"LUC_0031_Scan_2.nii.gz\" \"LUC_0032_Scan_1.nii.gz\"\n",
       " [64] \"LUC_0032_Scan_2.nii.gz\" \"LUC_0032_Scan_3.nii.gz\" \"LUC_0033_Scan_1.nii.gz\"\n",
       " [67] \"LUC_0033_Scan_2.nii.gz\" \"LUC_0034_Scan_1.nii.gz\" \"LUC_0034_Scan_2.nii.gz\"\n",
       " [70] \"LUC_0035_Scan_1.nii.gz\" \"LUC_0035_Scan_2.nii.gz\" \"LUC_0036_Scan_1.nii.gz\"\n",
       " [73] \"LUC_0037_Scan_1.nii.gz\" \"LUC_0037_Scan_2.nii.gz\" \"LUC_0037_Scan_3.nii.gz\"\n",
       " [76] \"LUC_0038_Scan_1.nii.gz\" \"LUC_0038_Scan_2.nii.gz\" \"LUC_0038_Scan_3.nii.gz\"\n",
       " [79] \"LUC_0039_Scan_1.nii.gz\" \"LUC_0040_Scan_1.nii.gz\" \"LUC_0040_Scan_2.nii.gz\"\n",
       " [82] \"LUC_0040_Scan_3.nii.gz\" \"LUC_0041_Scan_1.nii.gz\" \"LUC_0041_Scan_2.nii.gz\"\n",
       " [85] \"LUC_0042_Scan_1.nii.gz\" \"LUC_0043_Scan_1.nii.gz\" \"LUC_0043_Scan_2.nii.gz\"\n",
       " [88] \"LUC_0044_Scan_1.nii.gz\" \"LUC_0044_Scan_2.nii.gz\" \"LUC_0045_Scan_1.nii.gz\"\n",
       " [91] \"LUC_0045_Scan_2.nii.gz\" \"LUC_0045_Scan_3.nii.gz\" \"LUC_0046_Scan_1.nii.gz\"\n",
       " [94] \"LUC_0046_Scan_2.nii.gz\" \"LUC_0047_Scan_1.nii.gz\" \"LUC_0047_Scan_2.nii.gz\"\n",
       " [97] \"LUC_0048_Scan_1.nii.gz\" \"LUC_0049_Scan_1.nii.gz\" \"LUC_0049_Scan_2.nii.gz\"\n",
       "[100] \"LUC_0050_Scan_1.nii.gz\" \"LUC_0050_Scan_2.nii.gz\" \"LUC_0050_Scan_3.nii.gz\"\n",
       "[103] \"LUC_0051_Scan_1.nii.gz\" \"LUC_0052_Scan_1.nii.gz\" \"LUC_0052_Scan_2.nii.gz\"\n",
       "[106] \"LUC_0053_Scan_1.nii.gz\" \"LUC_0054_Scan_1.nii.gz\" \"LUC_0054_Scan_2.nii.gz\"\n",
       "[109] \"LUC_0055_Scan_1.nii.gz\" \"LUC_0056_Scan_1.nii.gz\" \"LUC_0057_Scan_1.nii.gz\"\n",
       "[112] \"LUC_0057_Scan_2.nii.gz\" \"LUC_0058_Scan_1.nii.gz\" \"LUC_0058_Scan_2.nii.gz\"\n",
       "[115] \"LUC_0058_Scan_3.nii.gz\" \"LUC_0059_Scan_1.nii.gz\" \"LUC_0059_Scan_2.nii.gz\"\n",
       "[118] \"LUC_0060_Scan_1.nii.gz\" \"LUC_0060_Scan_2.nii.gz\" \"LUC_0061_Scan_1.nii.gz\"\n",
       "[121] \"LUC_0062_Scan_1.nii.gz\" \"LUC_0063_Scan_1.nii.gz\" \"LUC_0063_Scan_2.nii.gz\"\n",
       "[124] \"LUC_0064_Scan_1.nii.gz\" \"LUC_0065_Scan_1.nii.gz\" \"LUC_0065_Scan_2.nii.gz\"\n",
       "[127] \"LUC_0065_Scan_3.nii.gz\" \"LUC_0066_Scan_1.nii.gz\" \"LUC_0066_Scan_2.nii.gz\"\n",
       "[130] \"LUC_0067_Scan_1.nii.gz\" \"LUC_0068_Scan_1.nii.gz\" \"LUC_0068_Scan_2.nii.gz\"\n",
       "[133] \"LUC_0069_Scan_1.nii.gz\" \"LUC_0070_Scan_1.nii.gz\" \"LUC_0071_Scan_1.nii.gz\"\n",
       "[136] \"LUC_0072_Scan_1.nii.gz\" \"LUC_0073_Scan_1.nii.gz\" \"LUC_0073_Scan_2.nii.gz\"\n",
       "[139] \"LUC_0074_Scan_1.nii.gz\" \"LUC_0075_Scan_1.nii.gz\" \"LUC_0075_Scan_2.nii.gz\"\n",
       "[142] \"LUC_0076_Scan_1.nii.gz\" \"LUC_0077_Scan_1.nii.gz\" \"LUC_0078_Scan_1.nii.gz\"\n",
       "[145] \"LUC_0078_Scan_2.nii.gz\" \"LUC_0078_Scan_3.nii.gz\" \"LUC_0079_Scan_1.nii.gz\"\n",
       "[148] \"LUC_0080_Scan_1.nii.gz\" \"LUC_0081_Scan_1.nii.gz\" \"LUC_0082_Scan_1.nii.gz\"\n",
       "[151] \"LUC_0083_Scan_1.nii.gz\" \"LUC_0084_Scan_1.nii.gz\" \"LUC_0085_Scan_1.nii.gz\"\n",
       "[154] \"LUC_0085_Scan_2.nii.gz\" \"LUC_0086_Scan_1.nii.gz\" \"LUC_0087_Scan_1.nii.gz\"\n",
       "[157] \"LUC_0088_Scan_1.nii.gz\" \"LUC_0089_Scan_1.nii.gz\" \"LUC_0089_Scan_2.nii.gz\"\n",
       "[160] \"LUC_0089_Scan_3.nii.gz\" \"LUC_0090_Scan_1.nii.gz\" \"LUC_0091_Scan_1.nii.gz\"\n",
       "[163] \"LUC_0093_Scan_1.nii.gz\" \"LUC_0094_Scan_1.nii.gz\" \"LUC_0095_Scan_1.nii.gz\"\n",
       "[166] \"LUC_0096_Scan_1.nii.gz\" \"LUC_0097_Scan_1.nii.gz\" \"LUC_0098_Scan_1.nii.gz\"\n",
       "[169] \"LUC_0098_Scan_2.nii.gz\" \"LUC_0099_Scan_1.nii.gz\" \"LUC_0100_Scan_1.nii.gz\"\n",
       "[172] \"LUC_0101_Scan_1.nii.gz\" \"LUC_0101_Scan_2.nii.gz\" \"LUC_0102_Scan_1.nii.gz\"\n",
       "[175] \"LUC_0103_Scan_1.nii.gz\" \"LUC_0104_Scan_1.nii.gz\" \"LUC_0105_Scan_1.nii.gz\"\n",
       "[178] \"LUC_0105_Scan_2.nii.gz\" \"LUC_0105_Scan_3.nii.gz\" \"LUC_0106_Scan_1.nii.gz\"\n",
       "[181] \"LUC_0107_Scan_1.nii.gz\" \"LUC_0107_Scan_2.nii.gz\" \"LUC_0107_Scan_3.nii.gz\"\n",
       "[184] \"LUC_0108_Scan_1.nii.gz\" \"LUC_0108_Scan_2.nii.gz\" \"LUC_0109_Scan_1.nii.gz\"\n",
       "[187] \"LUC_0110_Scan_1.nii.gz\" \"LUC_0111_Scan_1.nii.gz\" \"LUC_0111_Scan_2.nii.gz\"\n",
       "[190] \"LUC_0112_Scan_1.nii.gz\" \"LUC_0113_Scan_1.nii.gz\" \"LUC_0114_Scan_1.nii.gz\"\n",
       "[193] \"LUC_0114_Scan_2.nii.gz\" \"LUC_0115_Scan_2.nii.gz\" \"LUC_0115_Scan_3.nii.gz\"\n",
       "[196] \"LUC_0116_Scan_1.nii.gz\" \"LUC_0117_Scan_1.nii.gz\" \"LUC_0117_Scan_2.nii.gz\"\n",
       "[199] \"LUC_0118_Scan_1.nii.gz\" \"LUC_0119_Scan_1.nii.gz\" \"LUC_0120_Scan_1.nii.gz\"\n",
       "[202] \"LUC_0120_Scan_2.nii.gz\" \"LUC_0121_Scan_1.nii.gz\" \"LUC_0121_Scan_2.nii.gz\"\n",
       "[205] \"LUC_0122_Scan_1.nii.gz\" \"LUC_0123_Scan_1.nii.gz\" \"LUC_0123_Scan_2.nii.gz\"\n",
       "[208] \"LUC_0124_Scan_1.nii.gz\" \"LUC_0125_Scan_1.nii.gz\" \"LUC_0126_Scan_1.nii.gz\"\n",
       "[211] \"LUC_0127_Scan_1.nii.gz\" \"LUC_0127_Scan_2.nii.gz\" \"LUC_0128_Scan_1.nii.gz\"\n",
       "[214] \"LUC_0129_Scan_1.nii.gz\" \"LUC_0129_Scan_2.nii.gz\" \"LUC_0130_Scan_1.nii.gz\"\n",
       "[217] \"LUC_0131_Scan_1.nii.gz\" \"LUC_0132_Scan_1.nii.gz\" \"LUC_0133_Scan_1.nii.gz\"\n",
       "[220] \"LUC_0133_Scan_2.nii.gz\" \"LUC_0134_Scan_1.nii.gz\" \"LUC_0134_Scan_2.nii.gz\"\n",
       "[223] \"LUC_0134_Scan_3.nii.gz\" \"LUC_0135_Scan_1.nii.gz\" \"LUC_0135_Scan_2.nii.gz\"\n",
       "[226] \"LUC_0136_Scan_1.nii.gz\" \"LUC_0137_Scan_1.nii.gz\" \"LUC_0137_Scan_2.nii.gz\"\n",
       "[229] \"LUC_0137_Scan_3.nii.gz\" \"LUC_0138_Scan_1.nii.gz\" \"LUC_0138_Scan_2.nii.gz\"\n",
       "[232] \"LUC_0138_Scan_3.nii.gz\" \"LUC_0139_Scan_1.nii.gz\" \"LUC_0140_Scan_1.nii.gz\"\n",
       "[235] \"LUC_0141_Scan_1.nii.gz\" \"LUC_0141_Scan_2.nii.gz\" \"LUC_0142_Scan_1.nii.gz\"\n",
       "[238] \"LUC_0142_Scan_2.nii.gz\" \"LUC_0143_Scan_1.nii.gz\" \"LUC_0144_Scan_1.nii.gz\"\n",
       "[241] \"LUC_0144_Scan_2.nii.gz\" \"LUC_0144_Scan_3.nii.gz\" \"LUC_0145_Scan_1.nii.gz\"\n",
       "[244] \"LUC_0146_Scan_1.nii.gz\" \"LUC_0147_Scan_1.nii.gz\" \"LUC_0147_Scan_2.nii.gz\"\n",
       "[247] \"LUC_0148_Scan_1.nii.gz\" \"LUC_0149_Scan_1.nii.gz\" \"LUC_0150_Scan_1.nii.gz\"\n",
       "[250] \"LUC_0151_Scan_1.nii.gz\" \"LUC_0151_Scan_2.nii.gz\" \"LUC_0152_Scan_1.nii.gz\"\n",
       "[253] \"LUC_0153_Scan_1.nii.gz\" \"LUC_0154_Scan_1.nii.gz\" \"LUC_0154_Scan_2.nii.gz\"\n",
       "[256] \"LUC_0155_Scan_1.nii.gz\" \"LUC_0156_Scan_1.nii.gz\" \"LUC_0156_Scan_2.nii.gz\"\n",
       "[259] \"LUC_0157_Scan_1.nii.gz\" \"LUC_0157_Scan_2.nii.gz\" \"LUC_0157_Scan_3.nii.gz\"\n",
       "[262] \"LUC_0158_Scan_1.nii.gz\" \"LUC_0159_Scan_1.nii.gz\" \"LUC_0160_Scan_1.nii.gz\"\n",
       "[265] \"LUC_0161_Scan_1.nii.gz\" \"LUC_0162_Scan_1.nii.gz\" \"LUC_0163_Scan_1.nii.gz\"\n",
       "[268] \"LUC_0164_Scan_1.nii.gz\" \"LUC_0164_Scan_2.nii.gz\" \"LUC_0164_Scan_3.nii.gz\"\n",
       "[271] \"LUC_0165_Scan_1.nii.gz\" \"LUC_0165_Scan_2.nii.gz\" \"LUC_0165_Scan_3.nii.gz\"\n",
       "[274] \"LUC_0166_Scan_1.nii.gz\" \"LUC_0166_Scan_2.nii.gz\" \"LUC_0167_Scan_1.nii.gz\"\n",
       "[277] \"LUC_0168_Scan_1.nii.gz\" \"LUC_0169_Scan_1.nii.gz\" \"LUC_0170_Scan_1.nii.gz\"\n",
       "[280] \"LUC_0171_Scan_1.nii.gz\" \"LUC_0172_Scan_1.nii.gz\" \"LUC_0173_Scan_1.nii.gz\"\n",
       "[283] \"LUC_0174_Scan_1.nii.gz\" \"LUC_0174_Scan_2.nii.gz\" \"LUC_0175_Scan_1.nii.gz\"\n",
       "[286] \"LUC_0176_Scan_1.nii.gz\" \"LUC_0176_Scan_2.nii.gz\" \"LUC_0177_Scan_1.nii.gz\"\n",
       "[289] \"LUC_0177_Scan_2.nii.gz\" \"LUC_0177_Scan_3.nii.gz\" \"LUC_0178_Scan_1.nii.gz\"\n",
       "[292] \"LUC_0178_Scan_2.nii.gz\" \"LUC_0179_Scan_1.nii.gz\" \"LUC_0179_Scan_2.nii.gz\"\n",
       "[295] \"LUC_0180_Scan_1.nii.gz\" \"LUC_0181_Scan_1.nii.gz\" \"LUC_0181_Scan_2.nii.gz\"\n",
       "[298] \"LUC_0182_Scan_1.nii.gz\" \"LUC_0183_Scan_1.nii.gz\" \"LUC_0184_Scan_1.nii.gz\"\n",
       "[301] \"LUC_0184_Scan_2.nii.gz\" \"LUC_0185_Scan_1.nii.gz\" \"LUC_0185_Scan_2.nii.gz\"\n",
       "[304] \"LUC_0186_Scan_1.nii.gz\" \"LUC_0186_Scan_2.nii.gz\" \"LUC_0187_Scan_1.nii.gz\"\n",
       "[307] \"LUC_0187_Scan_2.nii.gz\" \"LUC_0188_Scan_1.nii.gz\" \"LUC_0188_Scan_2.nii.gz\"\n",
       "[310] \"LUC_0188_Scan_3.nii.gz\" \"LUC_0189_Scan_1.nii.gz\" \"LUC_0189_Scan_2.nii.gz\"\n",
       "[313] \"LUC_0189_Scan_3.nii.gz\" \"LUC_0190_Scan_1.nii.gz\" \"LUC_0190_Scan_2.nii.gz\"\n",
       "[316] \"LUC_0191_Scan_1.nii.gz\" \"LUC_0191_Scan_2.nii.gz\" \"LUC_0192_Scan_1.nii.gz\"\n",
       "[319] \"LUC_0192_Scan_2.nii.gz\" \"LUC_0192_Scan_3.nii.gz\" \"LUC_0193_Scan_1.nii.gz\"\n",
       "[322] \"LUC_0193_Scan_2.nii.gz\" \"LUC_0193_Scan_3.nii.gz\" \"LUC_0194_Scan_1.nii.gz\"\n",
       "[325] \"LUC_0194_Scan_2.nii.gz\" \"LUC_0195_Scan_1.nii.gz\" \"LUC_0195_Scan_2.nii.gz\"\n",
       "[328] \"LUC_0196_Scan_1.nii.gz\" \"LUC_0196_Scan_2.nii.gz\" \"LUC_0197_Scan_1.nii.gz\"\n",
       "[331] \"LUC_0197_Scan_2.nii.gz\" \"LUC_0197_Scan_3.nii.gz\" \"LUC_0198_Scan_1.nii.gz\"\n",
       "[334] \"LUC_0198_Scan_2.nii.gz\" \"LUC_0198_Scan_3.nii.gz\" \"LUC_0199_Scan_1.nii.gz\"\n",
       "[337] \"LUC_0199_Scan_2.nii.gz\" \"LUC_0199_Scan_3.nii.gz\" \"LUC_0200_Scan_1.nii.gz\"\n",
       "[340] \"LUC_0201_Scan_1.nii.gz\" \"LUC_0201_Scan_2.nii.gz\" \"LUC_0201_Scan_3.nii.gz\"\n",
       "[343] \"LUC_0202_Scan_1.nii.gz\" \"LUC_0202_Scan_2.nii.gz\" \"LUC_0203_Scan_1.nii.gz\"\n",
       "[346] \"LUC_0203_Scan_2.nii.gz\" \"LUC_0204_Scan_1.nii.gz\" \"LUC_0204_Scan_2.nii.gz\"\n",
       "[349] \"LUC_0204_Scan_3.nii.gz\" \"LUC_0205_Scan_1.nii.gz\" \"LUC_0205_Scan_2.nii.gz\"\n",
       "[352] \"LUC_0205_Scan_3.nii.gz\" \"LUC_0206_Scan_1.nii.gz\" \"LUC_0206_Scan_2.nii.gz\"\n",
       "[355] \"LUC_0206_Scan_3.nii.gz\" \"LUC_0207_Scan_1.nii.gz\" \"LUC_0208_Scan_1.nii.gz\"\n",
       "[358] \"LUC_0208_Scan_2.nii.gz\" \"LUC_0209_Scan_1.nii.gz\" \"LUC_0209_Scan_2.nii.gz\"\n",
       "[361] \"LUC_0209_Scan_3.nii.gz\" \"LUC_0210_Scan_1.nii.gz\" \"LUC_0210_Scan_2.nii.gz\"\n",
       "[364] \"LUC_0210_Scan_3.nii.gz\" \"LUC_0211_Scan_1.nii.gz\" \"LUC_0211_Scan_2.nii.gz\"\n",
       "[367] \"LUC_0211_Scan_3.nii.gz\" \"LUC_0212_Scan_1.nii.gz\" \"LUC_0212_Scan_2.nii.gz\"\n",
       "[370] \"LUC_0212_Scan_3.nii.gz\" \"LUC_0213_Scan_1.nii.gz\" \"LUC_0213_Scan_2.nii.gz\"\n",
       "[373] \"LUC_0214_Scan_1.nii.gz\" \"LUC_0214_Scan_2.nii.gz\" \"LUC_0214_Scan_3.nii.gz\"\n",
       "[376] \"LUC_0215_Scan_1.nii.gz\" \"LUC_0215_Scan_2.nii.gz\" \"LUC_0216_Scan_1.nii.gz\"\n",
       "[379] \"LUC_0217_Scan_1.nii.gz\" \"LUC_0217_Scan_2.nii.gz\" \"LUC_0217_Scan_3.nii.gz\"\n",
       "[382] \"LUC_0218_Scan_1.nii.gz\" \"LUC_0218_Scan_2.nii.gz\" \"LUC_0219_Scan_1.nii.gz\"\n",
       "[385] \"LUC_0219_Scan_2.nii.gz\" \"LUC_0219_Scan_3.nii.gz\" \"LUC_0220_Scan_1.nii.gz\"\n",
       "[388] \"LUC_0220_Scan_2.nii.gz\" \"LUC_0220_Scan_3.nii.gz\" \"LUC_0221_Scan_1.nii.gz\"\n",
       "[391] \"LUC_0221_Scan_2.nii.gz\" \"LUC_0222_Scan_1.nii.gz\" \"LUC_0222_Scan_2.nii.gz\"\n",
       "[394] \"LUC_0222_Scan_3.nii.gz\" \"LUC_0223_Scan_1.nii.gz\" \"LUC_0223_Scan_2.nii.gz\"\n",
       "[397] \"LUC_0224_Scan_1.nii.gz\" \"LUC_0224_Scan_2.nii.gz\" \"LUC_0224_Scan_3.nii.gz\"\n",
       "[400] \"LUC_0225_Scan_1.nii.gz\" \"LUC_0225_Scan_2.nii.gz\" \"LUC_0225_Scan_3.nii.gz\"\n",
       "[403] \"LUC_0226_Scan_1.nii.gz\" \"LUC_0226_Scan_2.nii.gz\" \"LUC_0227_Scan_1.nii.gz\"\n",
       "[406] \"LUC_0227_Scan_2.nii.gz\" \"LUC_0228_Scan_1.nii.gz\" \"LUC_0228_Scan_2.nii.gz\"\n",
       "[409] \"LUC_0228_Scan_3.nii.gz\" \"LUC_0229_Scan_1.nii.gz\" \"LUC_0229_Scan_2.nii.gz\"\n",
       "[412] \"LUC_0229_Scan_3.nii.gz\" \"LUC_0230_Scan_1.nii.gz\" \"LUC_0230_Scan_2.nii.gz\"\n",
       "[415] \"LUC_0230_Scan_3.nii.gz\" \"LUC_0231_Scan_1.nii.gz\" \"LUC_0233_Scan_1.nii.gz\"\n",
       "[418] \"LUC_0233_Scan_2.nii.gz\" \"LUC_0233_Scan_3.nii.gz\" \"LUC_0234_Scan_1.nii.gz\"\n",
       "[421] \"LUC_0235_Scan_1.nii.gz\" \"LUC_0235_Scan_2.nii.gz\" \"LUC_0236_Scan_1.nii.gz\"\n",
       "[424] \"LUC_0236_Scan_2.nii.gz\" \"LUC_0236_Scan_3.nii.gz\" \"LUC_0237_Scan_1.nii.gz\"\n",
       "[427] \"LUC_0237_Scan_2.nii.gz\" \"LUC_0238_Scan_1.nii.gz\" \"LUC_0238_Scan_2.nii.gz\"\n",
       "[430] \"LUC_0238_Scan_3.nii.gz\" \"LUC_0239_Scan_1.nii.gz\" \"LUC_0239_Scan_2.nii.gz\"\n",
       "[433] \"LUC_0239_Scan_3.nii.gz\" \"LUC_0240_Scan_1.nii.gz\" \"LUC_0240_Scan_2.nii.gz\"\n",
       "[436] \"LUC_0241_Scan_1.nii.gz\" \"LUC_0241_Scan_2.nii.gz\" \"LUC_0242_Scan_1.nii.gz\"\n",
       "[439] \"LUC_0242_Scan_2.nii.gz\" \"LUC_0243_Scan_1.nii.gz\" \"LUC_0243_Scan_2.nii.gz\"\n",
       "[442] \"LUC_0243_Scan_3.nii.gz\" \"LUC_0244_Scan_1.nii.gz\" \"LUC_0244_Scan_2.nii.gz\"\n",
       "[445] \"LUC_0244_Scan_3.nii.gz\" \"LUC_0245_Scan_1.nii.gz\" \"LUC_0245_Scan_2.nii.gz\"\n",
       "[448] \"LUC_0246_Scan_1.nii.gz\" \"LUC_0246_Scan_2.nii.gz\" \"LUC_0246_Scan_3.nii.gz\"\n",
       "[451] \"LUC_0247_Scan_1.nii.gz\" \"LUC_0247_Scan_2.nii.gz\" \"LUC_0248_Scan_1.nii.gz\"\n",
       "[454] \"LUC_0248_Scan_2.nii.gz\" \"LUC_0249_Scan_1.nii.gz\" \"LUC_0249_Scan_2.nii.gz\"\n",
       "[457] \"LUC_0250_Scan_1.nii.gz\" \"LUC_0251_Scan_1.nii.gz\" \"LUC_0251_Scan_2.nii.gz\"\n",
       "[460] \"LUC_0252_Scan_1.nii.gz\" \"LUC_0252_Scan_2.nii.gz\" \"LUC_0252_Scan_3.nii.gz\"\n",
       "[463] \"LUC_0253_Scan_1.nii.gz\" \"LUC_0253_Scan_2.nii.gz\" \"LUC_0254_Scan_1.nii.gz\"\n",
       "[466] \"LUC_0255_Scan_1.nii.gz\" \"LUC_0256_Scan_1.nii.gz\" \"LUC_0256_Scan_2.nii.gz\"\n",
       "[469] \"LUC_0256_Scan_3.nii.gz\" \"LUC_0257_Scan_1.nii.gz\" \"LUC_0257_Scan_2.nii.gz\"\n",
       "[472] \"LUC_0257_Scan_3.nii.gz\" \"LUC_0258_Scan_1.nii.gz\" \"LUC_0258_Scan_2.nii.gz\"\n",
       "[475] \"LUC_0259_Scan_1.nii.gz\" \"LUC_0259_Scan_2.nii.gz\" \"LUC_0260_Scan_1.nii.gz\"\n",
       "[478] \"LUC_0261_Scan_1.nii.gz\" \"LUC_0261_Scan_2.nii.gz\" \"LUC_0262_Scan_1.nii.gz\"\n",
       "[481] \"LUC_0263_Scan_1.nii.gz\" \"LUC_0263_Scan_2.nii.gz\" \"LUC_0264_Scan_1.nii.gz\"\n",
       "[484] \"LUC_0264_Scan_2.nii.gz\" \"LUC_0264_Scan_3.nii.gz\" \"LUC_0265_Scan_1.nii.gz\"\n",
       "[487] \"LUC_0266_Scan_1.nii.gz\" \"LUC_0267_Scan_1.nii.gz\" \"LUC_0268_Scan_1.nii.gz\"\n",
       "[490] \"LUC_0268_Scan_2.nii.gz\" \"LUC_0268_Scan_3.nii.gz\" \"LUC_0269_Scan_1.nii.gz\"\n",
       "[493] \"LUC_0270_Scan_1.nii.gz\" \"LUC_0270_Scan_2.nii.gz\" \"LUC_0271_Scan_1.nii.gz\"\n",
       "[496] \"LUC_0271_Scan_2.nii.gz\" \"LUC_0272_Scan_1.nii.gz\" \"LUC_0272_Scan_2.nii.gz\"\n",
       "[499] \"LUC_0273_Scan_1.nii.gz\" \"LUC_0273_Scan_2.nii.gz\" \"LUC_0273_Scan_3.nii.gz\"\n",
       "[502] \"LUC_0274_Scan_1.nii.gz\" \"LUC_0274_Scan_2.nii.gz\" \"LUC_0275_Scan_1.nii.gz\"\n",
       "[505] \"LUC_0275_Scan_2.nii.gz\" \"LUC_0275_Scan_3.nii.gz\" \"LUC_0276_Scan_1.nii.gz\"\n",
       "[508] \"LUC_0276_Scan_2.nii.gz\" \"LUC_0276_Scan_3.nii.gz\" \"LUC_0277_Scan_1.nii.gz\"\n",
       "[511] \"LUC_0278_Scan_1.nii.gz\" \"LUC_0278_Scan_2.nii.gz\" \"LUC_0279_Scan_1.nii.gz\"\n",
       "[514] \"LUC_0279_Scan_2.nii.gz\" \"LUC_0279_Scan_3.nii.gz\" \"LUC_0280_Scan_1.nii.gz\"\n",
       "[517] \"LUC_0280_Scan_2.nii.gz\" \"LUC_0280_Scan_3.nii.gz\" \"LUC_0281_Scan_1.nii.gz\"\n",
       "[520] \"LUC_0281_Scan_2.nii.gz\" \"LUC_0281_Scan_3.nii.gz\" \"LUC_0282_Scan_1.nii.gz\"\n",
       "[523] \"LUC_0282_Scan_2.nii.gz\" \"LUC_0283_Scan_1.nii.gz\" \"LUC_0283_Scan_2.nii.gz\"\n",
       "[526] \"LUC_0284_Scan_1.nii.gz\" \"LUC_0284_Scan_2.nii.gz\" \"LUC_0284_Scan_3.nii.gz\"\n",
       "[529] \"LUC_0285_Scan_1.nii.gz\" \"LUC_0285_Scan_2.nii.gz\" \"LUC_0286_Scan_1.nii.gz\"\n",
       "[532] \"LUC_0286_Scan_2.nii.gz\" \"LUC_0287_Scan_1.nii.gz\" \"LUC_0288_Scan_1.nii.gz\"\n",
       "[535] \"LUC_0289_Scan_1.nii.gz\" \"LUC_0289_Scan_2.nii.gz\" \"LUC_0290_Scan_1.nii.gz\"\n",
       "[538] \"LUC_0290_Scan_2.nii.gz\" \"LUC_0290_Scan_3.nii.gz\" \"LUC_0291_Scan_1.nii.gz\"\n",
       "[541] \"LUC_0291_Scan_2.nii.gz\" \"LUC_0292_Scan_1.nii.gz\" \"LUC_0292_Scan_2.nii.gz\"\n",
       "[544] \"LUC_0293_Scan_1.nii.gz\" \"LUC_0293_Scan_2.nii.gz\" \"LUC_0293_Scan_3.nii.gz\"\n",
       "[547] \"LUC_0294_Scan_1.nii.gz\" \"LUC_0295_Scan_1.nii.gz\" \"LUC_0295_Scan_2.nii.gz\"\n",
       "[550] \"LUC_0295_Scan_3.nii.gz\" \"LUC_0296_Scan_1.nii.gz\" \"LUC_0296_Scan_3.nii.gz\"\n",
       "[553] \"LUC_0297_Scan_1.nii.gz\" \"LUC_0297_Scan_2.nii.gz\" \"LUC_0298_Scan_1.nii.gz\"\n",
       "[556] \"LUC_0298_Scan_2.nii.gz\" \"LUC_0299_Scan_1.nii.gz\" \"LUC_0299_Scan_2.nii.gz\"\n",
       "[559] \"LUC_0299_Scan_3.nii.gz\" \"LUC_0300_Scan_1.nii.gz\" \"LUC_0300_Scan_2.nii.gz\"\n",
       "[562] \"LUC_0301_Scan_1.nii.gz\" \"LUC_0301_Scan_2.nii.gz\" \"LUC_0301_Scan_3.nii.gz\"\n",
       "[565] \"LUC_0302_Scan_1.nii.gz\" \"LUC_0302_Scan_2.nii.gz\" \"LUC_0302_Scan_3.nii.gz\"\n",
       "[568] \"LUC_0303_Scan_1.nii.gz\" \"LUC_0303_Scan_2.nii.gz\" \"LUC_0303_Scan_3.nii.gz\"\n",
       "[571] \"LUC_0304_Scan_1.nii.gz\" \"LUC_0304_Scan_2.nii.gz\" \"LUC_0304_Scan_3.nii.gz\"\n",
       "[574] \"LUC_0305_Scan_1.nii.gz\" \"LUC_0305_Scan_2.nii.gz\" \"LUC_0306_Scan_1.nii.gz\"\n",
       "[577] \"LUC_0306_Scan_2.nii.gz\" \"LUC_0307_Scan_1.nii.gz\" \"LUC_0308_Scan_1.nii.gz\"\n",
       "[580] \"LUC_0308_Scan_2.nii.gz\" \"LUC_0308_Scan_3.nii.gz\" \"LUC_0309_Scan_1.nii.gz\"\n",
       "[583] \"LUC_0309_Scan_2.nii.gz\" \"LUC_0310_Scan_1.nii.gz\" \"LUC_0310_Scan_2.nii.gz\"\n",
       "[586] \"LUC_0311_Scan_1.nii.gz\" \"LUC_0311_Scan_2.nii.gz\" \"LUC_0312_Scan_1.nii.gz\"\n",
       "[589] \"LUC_0312_Scan_2.nii.gz\" \"LUC_0313_Scan_1.nii.gz\" \"LUC_0313_Scan_2.nii.gz\"\n",
       "[592] \"LUC_0314_Scan_1.nii.gz\" \"LUC_0314_Scan_2.nii.gz\" \"LUC_0315_Scan_1.nii.gz\"\n",
       "[595] \"LUC_0315_Scan_2.nii.gz\" \"LUC_0316_Scan_1.nii.gz\" \"LUC_0316_Scan_2.nii.gz\"\n",
       "[598] \"LUC_0316_Scan_3.nii.gz\" \"LUC_0318_Scan_1.nii.gz\" \"LUC_0318_Scan_2.nii.gz\"\n",
       "[601] \"LUC_0319_Scan_1.nii.gz\" \"LUC_0320_Scan_1.nii.gz\" \"LUC_0320_Scan_2.nii.gz\"\n",
       "[604] \"LUC_0321_Scan_1.nii.gz\" \"LUC_0321_Scan_2.nii.gz\" \"LUC_0322_Scan_1.nii.gz\"\n",
       "[607] \"LUC_0323_Scan_1.nii.gz\" \"LUC_0323_Scan_2.nii.gz\" \"LUC_0324_Scan_1.nii.gz\"\n",
       "[610] \"LUC_0325_Scan_1.nii.gz\" \"LUC_0325_Scan_2.nii.gz\" \"LUC_0326_Scan_1.nii.gz\"\n",
       "[613] \"LUC_0326_Scan_2.nii.gz\""
      ]
     },
     "metadata": {},
     "output_type": "display_data"
    }
   ],
   "source": [
    "FileList = list.files(path = \".\", recursive = TRUE, pattern = \"nii.gz$\")\n",
    "FileList"
   ]
  },
  {
   "cell_type": "code",
   "execution_count": 20,
   "metadata": {},
   "outputs": [
    {
     "name": "stdout",
     "output_type": "stream",
     "text": [
      "File  1  out of  613 . Name: LUC_0001_Scan_1.nii.gzNULL\n",
      "Making folder U:\\LUCADI\\NIFTI\\LUC_0001_Scan_1NULL\n",
      "[1] \"Moving files\"\n"
     ]
    },
    {
     "name": "stderr",
     "output_type": "stream",
     "text": [
      "1 file moved. 0 failed.\n"
     ]
    },
    {
     "name": "stdout",
     "output_type": "stream",
     "text": [
      "[1] \"Done.\"\n",
      "File  2  out of  613 . Name: LUC_0001_Scan_2.nii.gzNULL\n",
      "Making folder U:\\LUCADI\\NIFTI\\LUC_0001_Scan_2NULL\n",
      "[1] \"Moving files\"\n"
     ]
    },
    {
     "name": "stderr",
     "output_type": "stream",
     "text": [
      "1 file moved. 0 failed.\n"
     ]
    },
    {
     "name": "stdout",
     "output_type": "stream",
     "text": [
      "[1] \"Done.\"\n",
      "File  3  out of  613 . Name: LUC_0002_Scan_1.nii.gzNULL\n",
      "Making folder U:\\LUCADI\\NIFTI\\LUC_0002_Scan_1NULL\n",
      "[1] \"Moving files\"\n"
     ]
    },
    {
     "name": "stderr",
     "output_type": "stream",
     "text": [
      "1 file moved. 0 failed.\n"
     ]
    },
    {
     "name": "stdout",
     "output_type": "stream",
     "text": [
      "[1] \"Done.\"\n",
      "File  4  out of  613 . Name: LUC_0002_Scan_2.nii.gzNULL\n",
      "Making folder U:\\LUCADI\\NIFTI\\LUC_0002_Scan_2NULL\n",
      "[1] \"Moving files\"\n"
     ]
    },
    {
     "name": "stderr",
     "output_type": "stream",
     "text": [
      "1 file moved. 0 failed.\n"
     ]
    },
    {
     "name": "stdout",
     "output_type": "stream",
     "text": [
      "[1] \"Done.\"\n",
      "File  5  out of  613 . Name: LUC_0002_Scan_3.nii.gzNULL\n",
      "Making folder U:\\LUCADI\\NIFTI\\LUC_0002_Scan_3NULL\n",
      "[1] \"Moving files\"\n"
     ]
    },
    {
     "name": "stderr",
     "output_type": "stream",
     "text": [
      "1 file moved. 0 failed.\n"
     ]
    },
    {
     "name": "stdout",
     "output_type": "stream",
     "text": [
      "[1] \"Done.\"\n",
      "File  6  out of  613 . Name: LUC_0003_Scan_1.nii.gzNULL\n",
      "Making folder U:\\LUCADI\\NIFTI\\LUC_0003_Scan_1NULL\n",
      "[1] \"Moving files\"\n"
     ]
    },
    {
     "name": "stderr",
     "output_type": "stream",
     "text": [
      "1 file moved. 0 failed.\n"
     ]
    },
    {
     "name": "stdout",
     "output_type": "stream",
     "text": [
      "[1] \"Done.\"\n",
      "File  7  out of  613 . Name: LUC_0003_Scan_2.nii.gzNULL\n",
      "Making folder U:\\LUCADI\\NIFTI\\LUC_0003_Scan_2NULL\n",
      "[1] \"Moving files\"\n"
     ]
    },
    {
     "name": "stderr",
     "output_type": "stream",
     "text": [
      "1 file moved. 0 failed.\n"
     ]
    },
    {
     "name": "stdout",
     "output_type": "stream",
     "text": [
      "[1] \"Done.\"\n",
      "File  8  out of  613 . Name: LUC_0003_Scan_3.nii.gzNULL\n",
      "Making folder U:\\LUCADI\\NIFTI\\LUC_0003_Scan_3NULL\n",
      "[1] \"Moving files\"\n"
     ]
    },
    {
     "name": "stderr",
     "output_type": "stream",
     "text": [
      "1 file moved. 0 failed.\n"
     ]
    },
    {
     "name": "stdout",
     "output_type": "stream",
     "text": [
      "[1] \"Done.\"\n",
      "File  9  out of  613 . Name: LUC_0004_Scan_1.nii.gzNULL\n",
      "Making folder U:\\LUCADI\\NIFTI\\LUC_0004_Scan_1NULL\n",
      "[1] \"Moving files\"\n"
     ]
    },
    {
     "name": "stderr",
     "output_type": "stream",
     "text": [
      "1 file moved. 0 failed.\n"
     ]
    },
    {
     "name": "stdout",
     "output_type": "stream",
     "text": [
      "[1] \"Done.\"\n",
      "File  10  out of  613 . Name: LUC_0004_Scan_2.nii.gzNULL\n",
      "Making folder U:\\LUCADI\\NIFTI\\LUC_0004_Scan_2NULL\n",
      "[1] \"Moving files\"\n"
     ]
    },
    {
     "name": "stderr",
     "output_type": "stream",
     "text": [
      "1 file moved. 0 failed.\n"
     ]
    },
    {
     "name": "stdout",
     "output_type": "stream",
     "text": [
      "[1] \"Done.\"\n",
      "File  11  out of  613 . Name: LUC_0005_Scan_1.nii.gzNULL\n",
      "Making folder U:\\LUCADI\\NIFTI\\LUC_0005_Scan_1NULL\n",
      "[1] \"Moving files\"\n"
     ]
    },
    {
     "name": "stderr",
     "output_type": "stream",
     "text": [
      "1 file moved. 0 failed.\n"
     ]
    },
    {
     "name": "stdout",
     "output_type": "stream",
     "text": [
      "[1] \"Done.\"\n",
      "File  12  out of  613 . Name: LUC_0005_Scan_3.nii.gzNULL\n",
      "Making folder U:\\LUCADI\\NIFTI\\LUC_0005_Scan_3NULL\n",
      "[1] \"Moving files\"\n"
     ]
    },
    {
     "name": "stderr",
     "output_type": "stream",
     "text": [
      "1 file moved. 0 failed.\n"
     ]
    },
    {
     "name": "stdout",
     "output_type": "stream",
     "text": [
      "[1] \"Done.\"\n",
      "File  13  out of  613 . Name: LUC_0006_Scan_1.nii.gzNULL\n",
      "Making folder U:\\LUCADI\\NIFTI\\LUC_0006_Scan_1NULL\n",
      "[1] \"Moving files\"\n"
     ]
    },
    {
     "name": "stderr",
     "output_type": "stream",
     "text": [
      "1 file moved. 0 failed.\n"
     ]
    },
    {
     "name": "stdout",
     "output_type": "stream",
     "text": [
      "[1] \"Done.\"\n",
      "File  14  out of  613 . Name: LUC_0007_Scan_1.nii.gzNULL\n",
      "Making folder U:\\LUCADI\\NIFTI\\LUC_0007_Scan_1NULL\n",
      "[1] \"Moving files\"\n"
     ]
    },
    {
     "name": "stderr",
     "output_type": "stream",
     "text": [
      "1 file moved. 0 failed.\n"
     ]
    },
    {
     "name": "stdout",
     "output_type": "stream",
     "text": [
      "[1] \"Done.\"\n",
      "File  15  out of  613 . Name: LUC_0008_Scan_1.nii.gzNULL\n",
      "Making folder U:\\LUCADI\\NIFTI\\LUC_0008_Scan_1NULL\n",
      "[1] \"Moving files\"\n"
     ]
    },
    {
     "name": "stderr",
     "output_type": "stream",
     "text": [
      "1 file moved. 0 failed.\n"
     ]
    },
    {
     "name": "stdout",
     "output_type": "stream",
     "text": [
      "[1] \"Done.\"\n",
      "File  16  out of  613 . Name: LUC_0009_Scan_1.nii.gzNULL\n",
      "Making folder U:\\LUCADI\\NIFTI\\LUC_0009_Scan_1NULL\n",
      "[1] \"Moving files\"\n"
     ]
    },
    {
     "name": "stderr",
     "output_type": "stream",
     "text": [
      "1 file moved. 0 failed.\n"
     ]
    },
    {
     "name": "stdout",
     "output_type": "stream",
     "text": [
      "[1] \"Done.\"\n",
      "File  17  out of  613 . Name: LUC_0009_Scan_2.nii.gzNULL\n",
      "Making folder U:\\LUCADI\\NIFTI\\LUC_0009_Scan_2NULL\n",
      "[1] \"Moving files\"\n"
     ]
    },
    {
     "name": "stderr",
     "output_type": "stream",
     "text": [
      "1 file moved. 0 failed.\n"
     ]
    },
    {
     "name": "stdout",
     "output_type": "stream",
     "text": [
      "[1] \"Done.\"\n",
      "File  18  out of  613 . Name: LUC_0009_Scan_3.nii.gzNULL\n",
      "Making folder U:\\LUCADI\\NIFTI\\LUC_0009_Scan_3NULL\n",
      "[1] \"Moving files\"\n"
     ]
    },
    {
     "name": "stderr",
     "output_type": "stream",
     "text": [
      "1 file moved. 0 failed.\n"
     ]
    },
    {
     "name": "stdout",
     "output_type": "stream",
     "text": [
      "[1] \"Done.\"\n",
      "File  19  out of  613 . Name: LUC_0010_Scan_1.nii.gzNULL\n",
      "Making folder U:\\LUCADI\\NIFTI\\LUC_0010_Scan_1NULL\n",
      "[1] \"Moving files\"\n"
     ]
    },
    {
     "name": "stderr",
     "output_type": "stream",
     "text": [
      "1 file moved. 0 failed.\n"
     ]
    },
    {
     "name": "stdout",
     "output_type": "stream",
     "text": [
      "[1] \"Done.\"\n",
      "File  20  out of  613 . Name: LUC_0010_Scan_2.nii.gzNULL\n",
      "Making folder U:\\LUCADI\\NIFTI\\LUC_0010_Scan_2NULL\n",
      "[1] \"Moving files\"\n"
     ]
    },
    {
     "name": "stderr",
     "output_type": "stream",
     "text": [
      "1 file moved. 0 failed.\n"
     ]
    },
    {
     "name": "stdout",
     "output_type": "stream",
     "text": [
      "[1] \"Done.\"\n",
      "File  21  out of  613 . Name: LUC_0010_Scan_3.nii.gzNULL\n",
      "Making folder U:\\LUCADI\\NIFTI\\LUC_0010_Scan_3NULL\n",
      "[1] \"Moving files\"\n"
     ]
    },
    {
     "name": "stderr",
     "output_type": "stream",
     "text": [
      "1 file moved. 0 failed.\n"
     ]
    },
    {
     "name": "stdout",
     "output_type": "stream",
     "text": [
      "[1] \"Done.\"\n",
      "File  22  out of  613 . Name: LUC_0011_Scan_1.nii.gzNULL\n",
      "Making folder U:\\LUCADI\\NIFTI\\LUC_0011_Scan_1NULL\n",
      "[1] \"Moving files\"\n"
     ]
    },
    {
     "name": "stderr",
     "output_type": "stream",
     "text": [
      "1 file moved. 0 failed.\n"
     ]
    },
    {
     "name": "stdout",
     "output_type": "stream",
     "text": [
      "[1] \"Done.\"\n",
      "File  23  out of  613 . Name: LUC_0011_Scan_2.nii.gzNULL\n",
      "Making folder U:\\LUCADI\\NIFTI\\LUC_0011_Scan_2NULL\n",
      "[1] \"Moving files\"\n"
     ]
    },
    {
     "name": "stderr",
     "output_type": "stream",
     "text": [
      "1 file moved. 0 failed.\n"
     ]
    },
    {
     "name": "stdout",
     "output_type": "stream",
     "text": [
      "[1] \"Done.\"\n",
      "File  24  out of  613 . Name: LUC_0012_Scan_1.nii.gzNULL\n",
      "Making folder U:\\LUCADI\\NIFTI\\LUC_0012_Scan_1NULL\n",
      "[1] \"Moving files\"\n"
     ]
    },
    {
     "name": "stderr",
     "output_type": "stream",
     "text": [
      "1 file moved. 0 failed.\n"
     ]
    },
    {
     "name": "stdout",
     "output_type": "stream",
     "text": [
      "[1] \"Done.\"\n",
      "File  25  out of  613 . Name: LUC_0012_Scan_2.nii.gzNULL\n",
      "Making folder U:\\LUCADI\\NIFTI\\LUC_0012_Scan_2NULL\n",
      "[1] \"Moving files\"\n"
     ]
    },
    {
     "name": "stderr",
     "output_type": "stream",
     "text": [
      "1 file moved. 0 failed.\n"
     ]
    },
    {
     "name": "stdout",
     "output_type": "stream",
     "text": [
      "[1] \"Done.\"\n",
      "File  26  out of  613 . Name: LUC_0013_Scan_1.nii.gzNULL\n",
      "Making folder U:\\LUCADI\\NIFTI\\LUC_0013_Scan_1NULL\n",
      "[1] \"Moving files\"\n"
     ]
    },
    {
     "name": "stderr",
     "output_type": "stream",
     "text": [
      "1 file moved. 0 failed.\n"
     ]
    },
    {
     "name": "stdout",
     "output_type": "stream",
     "text": [
      "[1] \"Done.\"\n",
      "File  27  out of  613 . Name: LUC_0014_Scan_1.nii.gzNULL\n",
      "Making folder U:\\LUCADI\\NIFTI\\LUC_0014_Scan_1NULL\n",
      "[1] \"Moving files\"\n"
     ]
    },
    {
     "name": "stderr",
     "output_type": "stream",
     "text": [
      "1 file moved. 0 failed.\n"
     ]
    },
    {
     "name": "stdout",
     "output_type": "stream",
     "text": [
      "[1] \"Done.\"\n",
      "File  28  out of  613 . Name: LUC_0015_Scan_1.nii.gzNULL\n",
      "Making folder U:\\LUCADI\\NIFTI\\LUC_0015_Scan_1NULL\n",
      "[1] \"Moving files\"\n"
     ]
    },
    {
     "name": "stderr",
     "output_type": "stream",
     "text": [
      "1 file moved. 0 failed.\n"
     ]
    },
    {
     "name": "stdout",
     "output_type": "stream",
     "text": [
      "[1] \"Done.\"\n",
      "File  29  out of  613 . Name: LUC_0016_Scan_1.nii.gzNULL\n",
      "Making folder U:\\LUCADI\\NIFTI\\LUC_0016_Scan_1NULL\n",
      "[1] \"Moving files\"\n"
     ]
    },
    {
     "name": "stderr",
     "output_type": "stream",
     "text": [
      "1 file moved. 0 failed.\n"
     ]
    },
    {
     "name": "stdout",
     "output_type": "stream",
     "text": [
      "[1] \"Done.\"\n",
      "File  30  out of  613 . Name: LUC_0017_Scan_1.nii.gzNULL\n",
      "Making folder U:\\LUCADI\\NIFTI\\LUC_0017_Scan_1NULL\n",
      "[1] \"Moving files\"\n"
     ]
    },
    {
     "name": "stderr",
     "output_type": "stream",
     "text": [
      "1 file moved. 0 failed.\n"
     ]
    },
    {
     "name": "stdout",
     "output_type": "stream",
     "text": [
      "[1] \"Done.\"\n",
      "File  31  out of  613 . Name: LUC_0018_Scan_1.nii.gzNULL\n",
      "Making folder U:\\LUCADI\\NIFTI\\LUC_0018_Scan_1NULL\n",
      "[1] \"Moving files\"\n"
     ]
    },
    {
     "name": "stderr",
     "output_type": "stream",
     "text": [
      "1 file moved. 0 failed.\n"
     ]
    },
    {
     "name": "stdout",
     "output_type": "stream",
     "text": [
      "[1] \"Done.\"\n",
      "File  32  out of  613 . Name: LUC_0018_Scan_2.nii.gzNULL\n",
      "Making folder U:\\LUCADI\\NIFTI\\LUC_0018_Scan_2NULL\n",
      "[1] \"Moving files\"\n"
     ]
    },
    {
     "name": "stderr",
     "output_type": "stream",
     "text": [
      "1 file moved. 0 failed.\n"
     ]
    },
    {
     "name": "stdout",
     "output_type": "stream",
     "text": [
      "[1] \"Done.\"\n",
      "File  33  out of  613 . Name: LUC_0018_Scan_3.nii.gzNULL\n",
      "Making folder U:\\LUCADI\\NIFTI\\LUC_0018_Scan_3NULL\n",
      "[1] \"Moving files\"\n"
     ]
    },
    {
     "name": "stderr",
     "output_type": "stream",
     "text": [
      "1 file moved. 0 failed.\n"
     ]
    },
    {
     "name": "stdout",
     "output_type": "stream",
     "text": [
      "[1] \"Done.\"\n",
      "File  34  out of  613 . Name: LUC_0019_Scan_1.nii.gzNULL\n",
      "Making folder U:\\LUCADI\\NIFTI\\LUC_0019_Scan_1NULL\n",
      "[1] \"Moving files\"\n"
     ]
    },
    {
     "name": "stderr",
     "output_type": "stream",
     "text": [
      "1 file moved. 0 failed.\n"
     ]
    },
    {
     "name": "stdout",
     "output_type": "stream",
     "text": [
      "[1] \"Done.\"\n",
      "File  35  out of  613 . Name: LUC_0020_Scan_1.nii.gzNULL\n",
      "Making folder U:\\LUCADI\\NIFTI\\LUC_0020_Scan_1NULL\n",
      "[1] \"Moving files\"\n"
     ]
    },
    {
     "name": "stderr",
     "output_type": "stream",
     "text": [
      "1 file moved. 0 failed.\n"
     ]
    },
    {
     "name": "stdout",
     "output_type": "stream",
     "text": [
      "[1] \"Done.\"\n",
      "File  36  out of  613 . Name: LUC_0021_Scan_1.nii.gzNULL\n",
      "Making folder U:\\LUCADI\\NIFTI\\LUC_0021_Scan_1NULL\n",
      "[1] \"Moving files\"\n"
     ]
    },
    {
     "name": "stderr",
     "output_type": "stream",
     "text": [
      "1 file moved. 0 failed.\n"
     ]
    },
    {
     "name": "stdout",
     "output_type": "stream",
     "text": [
      "[1] \"Done.\"\n",
      "File  37  out of  613 . Name: LUC_0021_Scan_2.nii.gzNULL\n",
      "Making folder U:\\LUCADI\\NIFTI\\LUC_0021_Scan_2NULL\n",
      "[1] \"Moving files\"\n"
     ]
    },
    {
     "name": "stderr",
     "output_type": "stream",
     "text": [
      "1 file moved. 0 failed.\n"
     ]
    },
    {
     "name": "stdout",
     "output_type": "stream",
     "text": [
      "[1] \"Done.\"\n",
      "File  38  out of  613 . Name: LUC_0022_Scan_1.nii.gzNULL\n",
      "Making folder U:\\LUCADI\\NIFTI\\LUC_0022_Scan_1NULL\n",
      "[1] \"Moving files\"\n"
     ]
    },
    {
     "name": "stderr",
     "output_type": "stream",
     "text": [
      "1 file moved. 0 failed.\n"
     ]
    },
    {
     "name": "stdout",
     "output_type": "stream",
     "text": [
      "[1] \"Done.\"\n",
      "File  39  out of  613 . Name: LUC_0022_Scan_2.nii.gzNULL\n",
      "Making folder U:\\LUCADI\\NIFTI\\LUC_0022_Scan_2NULL\n",
      "[1] \"Moving files\"\n"
     ]
    },
    {
     "name": "stderr",
     "output_type": "stream",
     "text": [
      "1 file moved. 0 failed.\n"
     ]
    },
    {
     "name": "stdout",
     "output_type": "stream",
     "text": [
      "[1] \"Done.\"\n",
      "File  40  out of  613 . Name: LUC_0023_Scan_1.nii.gzNULL\n",
      "Making folder U:\\LUCADI\\NIFTI\\LUC_0023_Scan_1NULL\n",
      "[1] \"Moving files\"\n"
     ]
    },
    {
     "name": "stderr",
     "output_type": "stream",
     "text": [
      "1 file moved. 0 failed.\n"
     ]
    },
    {
     "name": "stdout",
     "output_type": "stream",
     "text": [
      "[1] \"Done.\"\n",
      "File  41  out of  613 . Name: LUC_0023_Scan_2.nii.gzNULL\n",
      "Making folder U:\\LUCADI\\NIFTI\\LUC_0023_Scan_2NULL\n",
      "[1] \"Moving files\"\n"
     ]
    },
    {
     "name": "stderr",
     "output_type": "stream",
     "text": [
      "1 file moved. 0 failed.\n"
     ]
    },
    {
     "name": "stdout",
     "output_type": "stream",
     "text": [
      "[1] \"Done.\"\n",
      "File  42  out of  613 . Name: LUC_0024_Scan_1.nii.gzNULL\n",
      "Making folder U:\\LUCADI\\NIFTI\\LUC_0024_Scan_1NULL\n",
      "[1] \"Moving files\"\n"
     ]
    },
    {
     "name": "stderr",
     "output_type": "stream",
     "text": [
      "1 file moved. 0 failed.\n"
     ]
    },
    {
     "name": "stdout",
     "output_type": "stream",
     "text": [
      "[1] \"Done.\"\n",
      "File  43  out of  613 . Name: LUC_0024_Scan_2.nii.gzNULL\n",
      "Making folder U:\\LUCADI\\NIFTI\\LUC_0024_Scan_2NULL\n",
      "[1] \"Moving files\"\n"
     ]
    },
    {
     "name": "stderr",
     "output_type": "stream",
     "text": [
      "1 file moved. 0 failed.\n"
     ]
    },
    {
     "name": "stdout",
     "output_type": "stream",
     "text": [
      "[1] \"Done.\"\n",
      "File  44  out of  613 . Name: LUC_0025_Scan_1.nii.gzNULL\n",
      "Making folder U:\\LUCADI\\NIFTI\\LUC_0025_Scan_1NULL\n",
      "[1] \"Moving files\"\n"
     ]
    },
    {
     "name": "stderr",
     "output_type": "stream",
     "text": [
      "1 file moved. 0 failed.\n"
     ]
    },
    {
     "name": "stdout",
     "output_type": "stream",
     "text": [
      "[1] \"Done.\"\n",
      "File  45  out of  613 . Name: LUC_0025_Scan_2.nii.gzNULL\n",
      "Making folder U:\\LUCADI\\NIFTI\\LUC_0025_Scan_2NULL\n",
      "[1] \"Moving files\"\n"
     ]
    },
    {
     "name": "stderr",
     "output_type": "stream",
     "text": [
      "1 file moved. 0 failed.\n"
     ]
    },
    {
     "name": "stdout",
     "output_type": "stream",
     "text": [
      "[1] \"Done.\"\n",
      "File  46  out of  613 . Name: LUC_0025_Scan_3.nii.gzNULL\n",
      "Making folder U:\\LUCADI\\NIFTI\\LUC_0025_Scan_3NULL\n",
      "[1] \"Moving files\"\n"
     ]
    },
    {
     "name": "stderr",
     "output_type": "stream",
     "text": [
      "1 file moved. 0 failed.\n"
     ]
    },
    {
     "name": "stdout",
     "output_type": "stream",
     "text": [
      "[1] \"Done.\"\n",
      "File  47  out of  613 . Name: LUC_0026_Scan_1.nii.gzNULL\n",
      "Making folder U:\\LUCADI\\NIFTI\\LUC_0026_Scan_1NULL\n",
      "[1] \"Moving files\"\n"
     ]
    },
    {
     "name": "stderr",
     "output_type": "stream",
     "text": [
      "1 file moved. 0 failed.\n"
     ]
    },
    {
     "name": "stdout",
     "output_type": "stream",
     "text": [
      "[1] \"Done.\"\n",
      "File  48  out of  613 . Name: LUC_0026_Scan_2.nii.gzNULL\n",
      "Making folder U:\\LUCADI\\NIFTI\\LUC_0026_Scan_2NULL\n",
      "[1] \"Moving files\"\n"
     ]
    },
    {
     "name": "stderr",
     "output_type": "stream",
     "text": [
      "1 file moved. 0 failed.\n"
     ]
    },
    {
     "name": "stdout",
     "output_type": "stream",
     "text": [
      "[1] \"Done.\"\n",
      "File  49  out of  613 . Name: LUC_0027_Scan_1.nii.gzNULL\n",
      "Making folder U:\\LUCADI\\NIFTI\\LUC_0027_Scan_1NULL\n",
      "[1] \"Moving files\"\n"
     ]
    },
    {
     "name": "stderr",
     "output_type": "stream",
     "text": [
      "1 file moved. 0 failed.\n"
     ]
    },
    {
     "name": "stdout",
     "output_type": "stream",
     "text": [
      "[1] \"Done.\"\n",
      "File  50  out of  613 . Name: LUC_0027_Scan_2.nii.gzNULL\n",
      "Making folder U:\\LUCADI\\NIFTI\\LUC_0027_Scan_2NULL\n",
      "[1] \"Moving files\"\n"
     ]
    },
    {
     "name": "stderr",
     "output_type": "stream",
     "text": [
      "1 file moved. 0 failed.\n"
     ]
    },
    {
     "name": "stdout",
     "output_type": "stream",
     "text": [
      "[1] \"Done.\"\n",
      "File  51  out of  613 . Name: LUC_0027_Scan_3.nii.gzNULL\n",
      "Making folder U:\\LUCADI\\NIFTI\\LUC_0027_Scan_3NULL\n",
      "[1] \"Moving files\"\n"
     ]
    },
    {
     "name": "stderr",
     "output_type": "stream",
     "text": [
      "1 file moved. 0 failed.\n"
     ]
    },
    {
     "name": "stdout",
     "output_type": "stream",
     "text": [
      "[1] \"Done.\"\n",
      "File  52  out of  613 . Name: LUC_0028_Scan_1.nii.gzNULL\n",
      "Making folder U:\\LUCADI\\NIFTI\\LUC_0028_Scan_1NULL\n",
      "[1] \"Moving files\"\n"
     ]
    },
    {
     "name": "stderr",
     "output_type": "stream",
     "text": [
      "1 file moved. 0 failed.\n"
     ]
    },
    {
     "name": "stdout",
     "output_type": "stream",
     "text": [
      "[1] \"Done.\"\n",
      "File  53  out of  613 . Name: LUC_0028_Scan_2.nii.gzNULL\n",
      "Making folder U:\\LUCADI\\NIFTI\\LUC_0028_Scan_2NULL\n",
      "[1] \"Moving files\"\n"
     ]
    },
    {
     "name": "stderr",
     "output_type": "stream",
     "text": [
      "1 file moved. 0 failed.\n"
     ]
    },
    {
     "name": "stdout",
     "output_type": "stream",
     "text": [
      "[1] \"Done.\"\n",
      "File  54  out of  613 . Name: LUC_0028_Scan_3.nii.gzNULL\n",
      "Making folder U:\\LUCADI\\NIFTI\\LUC_0028_Scan_3NULL\n",
      "[1] \"Moving files\"\n"
     ]
    },
    {
     "name": "stderr",
     "output_type": "stream",
     "text": [
      "1 file moved. 0 failed.\n"
     ]
    },
    {
     "name": "stdout",
     "output_type": "stream",
     "text": [
      "[1] \"Done.\"\n",
      "File  55  out of  613 . Name: LUC_0029_Scan_1.nii.gzNULL\n",
      "Making folder U:\\LUCADI\\NIFTI\\LUC_0029_Scan_1NULL\n",
      "[1] \"Moving files\"\n"
     ]
    },
    {
     "name": "stderr",
     "output_type": "stream",
     "text": [
      "1 file moved. 0 failed.\n"
     ]
    },
    {
     "name": "stdout",
     "output_type": "stream",
     "text": [
      "[1] \"Done.\"\n",
      "File  56  out of  613 . Name: LUC_0029_Scan_2.nii.gzNULL\n",
      "Making folder U:\\LUCADI\\NIFTI\\LUC_0029_Scan_2NULL\n",
      "[1] \"Moving files\"\n"
     ]
    },
    {
     "name": "stderr",
     "output_type": "stream",
     "text": [
      "1 file moved. 0 failed.\n"
     ]
    },
    {
     "name": "stdout",
     "output_type": "stream",
     "text": [
      "[1] \"Done.\"\n",
      "File  57  out of  613 . Name: LUC_0029_Scan_3.nii.gzNULL\n",
      "Making folder U:\\LUCADI\\NIFTI\\LUC_0029_Scan_3NULL\n",
      "[1] \"Moving files\"\n"
     ]
    },
    {
     "name": "stderr",
     "output_type": "stream",
     "text": [
      "1 file moved. 0 failed.\n"
     ]
    },
    {
     "name": "stdout",
     "output_type": "stream",
     "text": [
      "[1] \"Done.\"\n",
      "File  58  out of  613 . Name: LUC_0030_Scan_1.nii.gzNULL\n",
      "Making folder U:\\LUCADI\\NIFTI\\LUC_0030_Scan_1NULL\n",
      "[1] \"Moving files\"\n"
     ]
    },
    {
     "name": "stderr",
     "output_type": "stream",
     "text": [
      "1 file moved. 0 failed.\n"
     ]
    },
    {
     "name": "stdout",
     "output_type": "stream",
     "text": [
      "[1] \"Done.\"\n",
      "File  59  out of  613 . Name: LUC_0030_Scan_2.nii.gzNULL\n",
      "Making folder U:\\LUCADI\\NIFTI\\LUC_0030_Scan_2NULL\n",
      "[1] \"Moving files\"\n"
     ]
    },
    {
     "name": "stderr",
     "output_type": "stream",
     "text": [
      "1 file moved. 0 failed.\n"
     ]
    },
    {
     "name": "stdout",
     "output_type": "stream",
     "text": [
      "[1] \"Done.\"\n",
      "File  60  out of  613 . Name: LUC_0030_Scan_3.nii.gzNULL\n",
      "Making folder U:\\LUCADI\\NIFTI\\LUC_0030_Scan_3NULL\n",
      "[1] \"Moving files\"\n"
     ]
    },
    {
     "name": "stderr",
     "output_type": "stream",
     "text": [
      "1 file moved. 0 failed.\n"
     ]
    },
    {
     "name": "stdout",
     "output_type": "stream",
     "text": [
      "[1] \"Done.\"\n",
      "File  61  out of  613 . Name: LUC_0031_Scan_1.nii.gzNULL\n",
      "Making folder U:\\LUCADI\\NIFTI\\LUC_0031_Scan_1NULL\n",
      "[1] \"Moving files\"\n"
     ]
    },
    {
     "name": "stderr",
     "output_type": "stream",
     "text": [
      "1 file moved. 0 failed.\n"
     ]
    },
    {
     "name": "stdout",
     "output_type": "stream",
     "text": [
      "[1] \"Done.\"\n",
      "File  62  out of  613 . Name: LUC_0031_Scan_2.nii.gzNULL\n",
      "Making folder U:\\LUCADI\\NIFTI\\LUC_0031_Scan_2NULL\n",
      "[1] \"Moving files\"\n"
     ]
    },
    {
     "name": "stderr",
     "output_type": "stream",
     "text": [
      "1 file moved. 0 failed.\n"
     ]
    },
    {
     "name": "stdout",
     "output_type": "stream",
     "text": [
      "[1] \"Done.\"\n",
      "File  63  out of  613 . Name: LUC_0032_Scan_1.nii.gzNULL\n",
      "Making folder U:\\LUCADI\\NIFTI\\LUC_0032_Scan_1NULL\n",
      "[1] \"Moving files\"\n"
     ]
    },
    {
     "name": "stderr",
     "output_type": "stream",
     "text": [
      "1 file moved. 0 failed.\n"
     ]
    },
    {
     "name": "stdout",
     "output_type": "stream",
     "text": [
      "[1] \"Done.\"\n",
      "File  64  out of  613 . Name: LUC_0032_Scan_2.nii.gzNULL\n",
      "Making folder U:\\LUCADI\\NIFTI\\LUC_0032_Scan_2NULL\n",
      "[1] \"Moving files\"\n"
     ]
    },
    {
     "name": "stderr",
     "output_type": "stream",
     "text": [
      "1 file moved. 0 failed.\n"
     ]
    },
    {
     "name": "stdout",
     "output_type": "stream",
     "text": [
      "[1] \"Done.\"\n",
      "File  65  out of  613 . Name: LUC_0032_Scan_3.nii.gzNULL\n",
      "Making folder U:\\LUCADI\\NIFTI\\LUC_0032_Scan_3NULL\n",
      "[1] \"Moving files\"\n"
     ]
    },
    {
     "name": "stderr",
     "output_type": "stream",
     "text": [
      "1 file moved. 0 failed.\n"
     ]
    },
    {
     "name": "stdout",
     "output_type": "stream",
     "text": [
      "[1] \"Done.\"\n",
      "File  66  out of  613 . Name: LUC_0033_Scan_1.nii.gzNULL\n",
      "Making folder U:\\LUCADI\\NIFTI\\LUC_0033_Scan_1NULL\n",
      "[1] \"Moving files\"\n"
     ]
    },
    {
     "name": "stderr",
     "output_type": "stream",
     "text": [
      "1 file moved. 0 failed.\n"
     ]
    },
    {
     "name": "stdout",
     "output_type": "stream",
     "text": [
      "[1] \"Done.\"\n",
      "File  67  out of  613 . Name: LUC_0033_Scan_2.nii.gzNULL\n",
      "Making folder U:\\LUCADI\\NIFTI\\LUC_0033_Scan_2NULL\n",
      "[1] \"Moving files\"\n"
     ]
    },
    {
     "name": "stderr",
     "output_type": "stream",
     "text": [
      "1 file moved. 0 failed.\n"
     ]
    },
    {
     "name": "stdout",
     "output_type": "stream",
     "text": [
      "[1] \"Done.\"\n",
      "File  68  out of  613 . Name: LUC_0034_Scan_1.nii.gzNULL\n",
      "Making folder U:\\LUCADI\\NIFTI\\LUC_0034_Scan_1NULL\n",
      "[1] \"Moving files\"\n"
     ]
    },
    {
     "name": "stderr",
     "output_type": "stream",
     "text": [
      "1 file moved. 0 failed.\n"
     ]
    },
    {
     "name": "stdout",
     "output_type": "stream",
     "text": [
      "[1] \"Done.\"\n",
      "File  69  out of  613 . Name: LUC_0034_Scan_2.nii.gzNULL\n",
      "Making folder U:\\LUCADI\\NIFTI\\LUC_0034_Scan_2NULL\n",
      "[1] \"Moving files\"\n"
     ]
    },
    {
     "name": "stderr",
     "output_type": "stream",
     "text": [
      "1 file moved. 0 failed.\n"
     ]
    },
    {
     "name": "stdout",
     "output_type": "stream",
     "text": [
      "[1] \"Done.\"\n",
      "File  70  out of  613 . Name: LUC_0035_Scan_1.nii.gzNULL\n",
      "Making folder U:\\LUCADI\\NIFTI\\LUC_0035_Scan_1NULL\n",
      "[1] \"Moving files\"\n"
     ]
    },
    {
     "name": "stderr",
     "output_type": "stream",
     "text": [
      "1 file moved. 0 failed.\n"
     ]
    },
    {
     "name": "stdout",
     "output_type": "stream",
     "text": [
      "[1] \"Done.\"\n",
      "File  71  out of  613 . Name: LUC_0035_Scan_2.nii.gzNULL\n",
      "Making folder U:\\LUCADI\\NIFTI\\LUC_0035_Scan_2NULL\n",
      "[1] \"Moving files\"\n"
     ]
    },
    {
     "name": "stderr",
     "output_type": "stream",
     "text": [
      "1 file moved. 0 failed.\n"
     ]
    },
    {
     "name": "stdout",
     "output_type": "stream",
     "text": [
      "[1] \"Done.\"\n",
      "File  72  out of  613 . Name: LUC_0036_Scan_1.nii.gzNULL\n",
      "Making folder U:\\LUCADI\\NIFTI\\LUC_0036_Scan_1NULL\n",
      "[1] \"Moving files\"\n"
     ]
    },
    {
     "name": "stderr",
     "output_type": "stream",
     "text": [
      "1 file moved. 0 failed.\n"
     ]
    },
    {
     "name": "stdout",
     "output_type": "stream",
     "text": [
      "[1] \"Done.\"\n",
      "File  73  out of  613 . Name: LUC_0037_Scan_1.nii.gzNULL\n",
      "Making folder U:\\LUCADI\\NIFTI\\LUC_0037_Scan_1NULL\n",
      "[1] \"Moving files\"\n"
     ]
    },
    {
     "name": "stderr",
     "output_type": "stream",
     "text": [
      "1 file moved. 0 failed.\n"
     ]
    },
    {
     "name": "stdout",
     "output_type": "stream",
     "text": [
      "[1] \"Done.\"\n",
      "File  74  out of  613 . Name: LUC_0037_Scan_2.nii.gzNULL\n",
      "Making folder U:\\LUCADI\\NIFTI\\LUC_0037_Scan_2NULL\n",
      "[1] \"Moving files\"\n"
     ]
    },
    {
     "name": "stderr",
     "output_type": "stream",
     "text": [
      "1 file moved. 0 failed.\n"
     ]
    },
    {
     "name": "stdout",
     "output_type": "stream",
     "text": [
      "[1] \"Done.\"\n",
      "File  75  out of  613 . Name: LUC_0037_Scan_3.nii.gzNULL\n",
      "Making folder U:\\LUCADI\\NIFTI\\LUC_0037_Scan_3NULL\n",
      "[1] \"Moving files\"\n"
     ]
    },
    {
     "name": "stderr",
     "output_type": "stream",
     "text": [
      "1 file moved. 0 failed.\n"
     ]
    },
    {
     "name": "stdout",
     "output_type": "stream",
     "text": [
      "[1] \"Done.\"\n",
      "File  76  out of  613 . Name: LUC_0038_Scan_1.nii.gzNULL\n",
      "Making folder U:\\LUCADI\\NIFTI\\LUC_0038_Scan_1NULL\n",
      "[1] \"Moving files\"\n"
     ]
    },
    {
     "name": "stderr",
     "output_type": "stream",
     "text": [
      "1 file moved. 0 failed.\n"
     ]
    },
    {
     "name": "stdout",
     "output_type": "stream",
     "text": [
      "[1] \"Done.\"\n",
      "File  77  out of  613 . Name: LUC_0038_Scan_2.nii.gzNULL\n",
      "Making folder U:\\LUCADI\\NIFTI\\LUC_0038_Scan_2NULL\n",
      "[1] \"Moving files\"\n"
     ]
    },
    {
     "name": "stderr",
     "output_type": "stream",
     "text": [
      "1 file moved. 0 failed.\n"
     ]
    },
    {
     "name": "stdout",
     "output_type": "stream",
     "text": [
      "[1] \"Done.\"\n",
      "File  78  out of  613 . Name: LUC_0038_Scan_3.nii.gzNULL\n",
      "Making folder U:\\LUCADI\\NIFTI\\LUC_0038_Scan_3NULL\n",
      "[1] \"Moving files\"\n"
     ]
    },
    {
     "name": "stderr",
     "output_type": "stream",
     "text": [
      "1 file moved. 0 failed.\n"
     ]
    },
    {
     "name": "stdout",
     "output_type": "stream",
     "text": [
      "[1] \"Done.\"\n",
      "File  79  out of  613 . Name: LUC_0039_Scan_1.nii.gzNULL\n",
      "Making folder U:\\LUCADI\\NIFTI\\LUC_0039_Scan_1NULL\n",
      "[1] \"Moving files\"\n"
     ]
    },
    {
     "name": "stderr",
     "output_type": "stream",
     "text": [
      "1 file moved. 0 failed.\n"
     ]
    },
    {
     "name": "stdout",
     "output_type": "stream",
     "text": [
      "[1] \"Done.\"\n",
      "File  80  out of  613 . Name: LUC_0040_Scan_1.nii.gzNULL\n",
      "Making folder U:\\LUCADI\\NIFTI\\LUC_0040_Scan_1NULL\n",
      "[1] \"Moving files\"\n"
     ]
    },
    {
     "name": "stderr",
     "output_type": "stream",
     "text": [
      "1 file moved. 0 failed.\n"
     ]
    },
    {
     "name": "stdout",
     "output_type": "stream",
     "text": [
      "[1] \"Done.\"\n",
      "File  81  out of  613 . Name: LUC_0040_Scan_2.nii.gzNULL\n",
      "Making folder U:\\LUCADI\\NIFTI\\LUC_0040_Scan_2NULL\n",
      "[1] \"Moving files\"\n"
     ]
    },
    {
     "name": "stderr",
     "output_type": "stream",
     "text": [
      "1 file moved. 0 failed.\n"
     ]
    },
    {
     "name": "stdout",
     "output_type": "stream",
     "text": [
      "[1] \"Done.\"\n",
      "File  82  out of  613 . Name: LUC_0040_Scan_3.nii.gzNULL\n",
      "Making folder U:\\LUCADI\\NIFTI\\LUC_0040_Scan_3NULL\n",
      "[1] \"Moving files\"\n"
     ]
    },
    {
     "name": "stderr",
     "output_type": "stream",
     "text": [
      "1 file moved. 0 failed.\n"
     ]
    },
    {
     "name": "stdout",
     "output_type": "stream",
     "text": [
      "[1] \"Done.\"\n",
      "File  83  out of  613 . Name: LUC_0041_Scan_1.nii.gzNULL\n",
      "Making folder U:\\LUCADI\\NIFTI\\LUC_0041_Scan_1NULL\n",
      "[1] \"Moving files\"\n"
     ]
    },
    {
     "name": "stderr",
     "output_type": "stream",
     "text": [
      "1 file moved. 0 failed.\n"
     ]
    },
    {
     "name": "stdout",
     "output_type": "stream",
     "text": [
      "[1] \"Done.\"\n",
      "File  84  out of  613 . Name: LUC_0041_Scan_2.nii.gzNULL\n",
      "Making folder U:\\LUCADI\\NIFTI\\LUC_0041_Scan_2NULL\n",
      "[1] \"Moving files\"\n"
     ]
    },
    {
     "name": "stderr",
     "output_type": "stream",
     "text": [
      "1 file moved. 0 failed.\n"
     ]
    },
    {
     "name": "stdout",
     "output_type": "stream",
     "text": [
      "[1] \"Done.\"\n",
      "File  85  out of  613 . Name: LUC_0042_Scan_1.nii.gzNULL\n",
      "Making folder U:\\LUCADI\\NIFTI\\LUC_0042_Scan_1NULL\n",
      "[1] \"Moving files\"\n"
     ]
    },
    {
     "name": "stderr",
     "output_type": "stream",
     "text": [
      "1 file moved. 0 failed.\n"
     ]
    },
    {
     "name": "stdout",
     "output_type": "stream",
     "text": [
      "[1] \"Done.\"\n",
      "File  86  out of  613 . Name: LUC_0043_Scan_1.nii.gzNULL\n",
      "Making folder U:\\LUCADI\\NIFTI\\LUC_0043_Scan_1NULL\n",
      "[1] \"Moving files\"\n"
     ]
    },
    {
     "name": "stderr",
     "output_type": "stream",
     "text": [
      "1 file moved. 0 failed.\n"
     ]
    },
    {
     "name": "stdout",
     "output_type": "stream",
     "text": [
      "[1] \"Done.\"\n",
      "File  87  out of  613 . Name: LUC_0043_Scan_2.nii.gzNULL\n",
      "Making folder U:\\LUCADI\\NIFTI\\LUC_0043_Scan_2NULL\n",
      "[1] \"Moving files\"\n"
     ]
    },
    {
     "name": "stderr",
     "output_type": "stream",
     "text": [
      "1 file moved. 0 failed.\n"
     ]
    },
    {
     "name": "stdout",
     "output_type": "stream",
     "text": [
      "[1] \"Done.\"\n",
      "File  88  out of  613 . Name: LUC_0044_Scan_1.nii.gzNULL\n",
      "Making folder U:\\LUCADI\\NIFTI\\LUC_0044_Scan_1NULL\n",
      "[1] \"Moving files\"\n"
     ]
    },
    {
     "name": "stderr",
     "output_type": "stream",
     "text": [
      "1 file moved. 0 failed.\n"
     ]
    },
    {
     "name": "stdout",
     "output_type": "stream",
     "text": [
      "[1] \"Done.\"\n",
      "File  89  out of  613 . Name: LUC_0044_Scan_2.nii.gzNULL\n",
      "Making folder U:\\LUCADI\\NIFTI\\LUC_0044_Scan_2NULL\n",
      "[1] \"Moving files\"\n"
     ]
    },
    {
     "name": "stderr",
     "output_type": "stream",
     "text": [
      "1 file moved. 0 failed.\n"
     ]
    },
    {
     "name": "stdout",
     "output_type": "stream",
     "text": [
      "[1] \"Done.\"\n",
      "File  90  out of  613 . Name: LUC_0045_Scan_1.nii.gzNULL\n",
      "Making folder U:\\LUCADI\\NIFTI\\LUC_0045_Scan_1NULL\n",
      "[1] \"Moving files\"\n"
     ]
    },
    {
     "name": "stderr",
     "output_type": "stream",
     "text": [
      "1 file moved. 0 failed.\n"
     ]
    },
    {
     "name": "stdout",
     "output_type": "stream",
     "text": [
      "[1] \"Done.\"\n",
      "File  91  out of  613 . Name: LUC_0045_Scan_2.nii.gzNULL\n",
      "Making folder U:\\LUCADI\\NIFTI\\LUC_0045_Scan_2NULL\n",
      "[1] \"Moving files\"\n"
     ]
    },
    {
     "name": "stderr",
     "output_type": "stream",
     "text": [
      "1 file moved. 0 failed.\n"
     ]
    },
    {
     "name": "stdout",
     "output_type": "stream",
     "text": [
      "[1] \"Done.\"\n",
      "File  92  out of  613 . Name: LUC_0045_Scan_3.nii.gzNULL\n",
      "Making folder U:\\LUCADI\\NIFTI\\LUC_0045_Scan_3NULL\n",
      "[1] \"Moving files\"\n"
     ]
    },
    {
     "name": "stderr",
     "output_type": "stream",
     "text": [
      "1 file moved. 0 failed.\n"
     ]
    },
    {
     "name": "stdout",
     "output_type": "stream",
     "text": [
      "[1] \"Done.\"\n",
      "File  93  out of  613 . Name: LUC_0046_Scan_1.nii.gzNULL\n",
      "Making folder U:\\LUCADI\\NIFTI\\LUC_0046_Scan_1NULL\n",
      "[1] \"Moving files\"\n"
     ]
    },
    {
     "name": "stderr",
     "output_type": "stream",
     "text": [
      "1 file moved. 0 failed.\n"
     ]
    },
    {
     "name": "stdout",
     "output_type": "stream",
     "text": [
      "[1] \"Done.\"\n",
      "File  94  out of  613 . Name: LUC_0046_Scan_2.nii.gzNULL\n",
      "Making folder U:\\LUCADI\\NIFTI\\LUC_0046_Scan_2NULL\n",
      "[1] \"Moving files\"\n"
     ]
    },
    {
     "name": "stderr",
     "output_type": "stream",
     "text": [
      "1 file moved. 0 failed.\n"
     ]
    },
    {
     "name": "stdout",
     "output_type": "stream",
     "text": [
      "[1] \"Done.\"\n",
      "File  95  out of  613 . Name: LUC_0047_Scan_1.nii.gzNULL\n",
      "Making folder U:\\LUCADI\\NIFTI\\LUC_0047_Scan_1NULL\n",
      "[1] \"Moving files\"\n"
     ]
    },
    {
     "name": "stderr",
     "output_type": "stream",
     "text": [
      "1 file moved. 0 failed.\n"
     ]
    },
    {
     "name": "stdout",
     "output_type": "stream",
     "text": [
      "[1] \"Done.\"\n",
      "File  96  out of  613 . Name: LUC_0047_Scan_2.nii.gzNULL\n",
      "Making folder U:\\LUCADI\\NIFTI\\LUC_0047_Scan_2NULL\n",
      "[1] \"Moving files\"\n"
     ]
    },
    {
     "name": "stderr",
     "output_type": "stream",
     "text": [
      "1 file moved. 0 failed.\n"
     ]
    },
    {
     "name": "stdout",
     "output_type": "stream",
     "text": [
      "[1] \"Done.\"\n",
      "File  97  out of  613 . Name: LUC_0048_Scan_1.nii.gzNULL\n",
      "Making folder U:\\LUCADI\\NIFTI\\LUC_0048_Scan_1NULL\n",
      "[1] \"Moving files\"\n"
     ]
    },
    {
     "name": "stderr",
     "output_type": "stream",
     "text": [
      "1 file moved. 0 failed.\n"
     ]
    },
    {
     "name": "stdout",
     "output_type": "stream",
     "text": [
      "[1] \"Done.\"\n",
      "File  98  out of  613 . Name: LUC_0049_Scan_1.nii.gzNULL\n",
      "Making folder U:\\LUCADI\\NIFTI\\LUC_0049_Scan_1NULL\n",
      "[1] \"Moving files\"\n"
     ]
    },
    {
     "name": "stderr",
     "output_type": "stream",
     "text": [
      "1 file moved. 0 failed.\n"
     ]
    },
    {
     "name": "stdout",
     "output_type": "stream",
     "text": [
      "[1] \"Done.\"\n",
      "File  99  out of  613 . Name: LUC_0049_Scan_2.nii.gzNULL\n",
      "Making folder U:\\LUCADI\\NIFTI\\LUC_0049_Scan_2NULL\n",
      "[1] \"Moving files\"\n"
     ]
    },
    {
     "name": "stderr",
     "output_type": "stream",
     "text": [
      "1 file moved. 0 failed.\n"
     ]
    },
    {
     "name": "stdout",
     "output_type": "stream",
     "text": [
      "[1] \"Done.\"\n",
      "File  100  out of  613 . Name: LUC_0050_Scan_1.nii.gzNULL\n",
      "Making folder U:\\LUCADI\\NIFTI\\LUC_0050_Scan_1NULL\n",
      "[1] \"Moving files\"\n"
     ]
    },
    {
     "name": "stderr",
     "output_type": "stream",
     "text": [
      "1 file moved. 0 failed.\n"
     ]
    },
    {
     "name": "stdout",
     "output_type": "stream",
     "text": [
      "[1] \"Done.\"\n",
      "File  101  out of  613 . Name: LUC_0050_Scan_2.nii.gzNULL\n",
      "Making folder U:\\LUCADI\\NIFTI\\LUC_0050_Scan_2NULL\n",
      "[1] \"Moving files\"\n"
     ]
    },
    {
     "name": "stderr",
     "output_type": "stream",
     "text": [
      "1 file moved. 0 failed.\n"
     ]
    },
    {
     "name": "stdout",
     "output_type": "stream",
     "text": [
      "[1] \"Done.\"\n",
      "File  102  out of  613 . Name: LUC_0050_Scan_3.nii.gzNULL\n",
      "Making folder U:\\LUCADI\\NIFTI\\LUC_0050_Scan_3NULL\n",
      "[1] \"Moving files\"\n"
     ]
    },
    {
     "name": "stderr",
     "output_type": "stream",
     "text": [
      "1 file moved. 0 failed.\n"
     ]
    },
    {
     "name": "stdout",
     "output_type": "stream",
     "text": [
      "[1] \"Done.\"\n",
      "File  103  out of  613 . Name: LUC_0051_Scan_1.nii.gzNULL\n",
      "Making folder U:\\LUCADI\\NIFTI\\LUC_0051_Scan_1NULL\n",
      "[1] \"Moving files\"\n"
     ]
    },
    {
     "name": "stderr",
     "output_type": "stream",
     "text": [
      "1 file moved. 0 failed.\n"
     ]
    },
    {
     "name": "stdout",
     "output_type": "stream",
     "text": [
      "[1] \"Done.\"\n",
      "File  104  out of  613 . Name: LUC_0052_Scan_1.nii.gzNULL\n",
      "Making folder U:\\LUCADI\\NIFTI\\LUC_0052_Scan_1NULL\n",
      "[1] \"Moving files\"\n"
     ]
    },
    {
     "name": "stderr",
     "output_type": "stream",
     "text": [
      "1 file moved. 0 failed.\n"
     ]
    },
    {
     "name": "stdout",
     "output_type": "stream",
     "text": [
      "[1] \"Done.\"\n",
      "File  105  out of  613 . Name: LUC_0052_Scan_2.nii.gzNULL\n",
      "Making folder U:\\LUCADI\\NIFTI\\LUC_0052_Scan_2NULL\n",
      "[1] \"Moving files\"\n"
     ]
    },
    {
     "name": "stderr",
     "output_type": "stream",
     "text": [
      "1 file moved. 0 failed.\n"
     ]
    },
    {
     "name": "stdout",
     "output_type": "stream",
     "text": [
      "[1] \"Done.\"\n",
      "File  106  out of  613 . Name: LUC_0053_Scan_1.nii.gzNULL\n",
      "Making folder U:\\LUCADI\\NIFTI\\LUC_0053_Scan_1NULL\n",
      "[1] \"Moving files\"\n"
     ]
    },
    {
     "name": "stderr",
     "output_type": "stream",
     "text": [
      "1 file moved. 0 failed.\n"
     ]
    },
    {
     "name": "stdout",
     "output_type": "stream",
     "text": [
      "[1] \"Done.\"\n",
      "File  107  out of  613 . Name: LUC_0054_Scan_1.nii.gzNULL\n",
      "Making folder U:\\LUCADI\\NIFTI\\LUC_0054_Scan_1NULL\n",
      "[1] \"Moving files\"\n"
     ]
    },
    {
     "name": "stderr",
     "output_type": "stream",
     "text": [
      "1 file moved. 0 failed.\n"
     ]
    },
    {
     "name": "stdout",
     "output_type": "stream",
     "text": [
      "[1] \"Done.\"\n",
      "File  108  out of  613 . Name: LUC_0054_Scan_2.nii.gzNULL\n",
      "Making folder U:\\LUCADI\\NIFTI\\LUC_0054_Scan_2NULL\n",
      "[1] \"Moving files\"\n"
     ]
    },
    {
     "name": "stderr",
     "output_type": "stream",
     "text": [
      "1 file moved. 0 failed.\n"
     ]
    },
    {
     "name": "stdout",
     "output_type": "stream",
     "text": [
      "[1] \"Done.\"\n",
      "File  109  out of  613 . Name: LUC_0055_Scan_1.nii.gzNULL\n",
      "Making folder U:\\LUCADI\\NIFTI\\LUC_0055_Scan_1NULL\n",
      "[1] \"Moving files\"\n"
     ]
    },
    {
     "name": "stderr",
     "output_type": "stream",
     "text": [
      "1 file moved. 0 failed.\n"
     ]
    },
    {
     "name": "stdout",
     "output_type": "stream",
     "text": [
      "[1] \"Done.\"\n",
      "File  110  out of  613 . Name: LUC_0056_Scan_1.nii.gzNULL\n",
      "Making folder U:\\LUCADI\\NIFTI\\LUC_0056_Scan_1NULL\n",
      "[1] \"Moving files\"\n"
     ]
    },
    {
     "name": "stderr",
     "output_type": "stream",
     "text": [
      "1 file moved. 0 failed.\n"
     ]
    },
    {
     "name": "stdout",
     "output_type": "stream",
     "text": [
      "[1] \"Done.\"\n",
      "File  111  out of  613 . Name: LUC_0057_Scan_1.nii.gzNULL\n",
      "Making folder U:\\LUCADI\\NIFTI\\LUC_0057_Scan_1NULL\n",
      "[1] \"Moving files\"\n"
     ]
    },
    {
     "name": "stderr",
     "output_type": "stream",
     "text": [
      "1 file moved. 0 failed.\n"
     ]
    },
    {
     "name": "stdout",
     "output_type": "stream",
     "text": [
      "[1] \"Done.\"\n",
      "File  112  out of  613 . Name: LUC_0057_Scan_2.nii.gzNULL\n",
      "Making folder U:\\LUCADI\\NIFTI\\LUC_0057_Scan_2NULL\n",
      "[1] \"Moving files\"\n"
     ]
    },
    {
     "name": "stderr",
     "output_type": "stream",
     "text": [
      "1 file moved. 0 failed.\n"
     ]
    },
    {
     "name": "stdout",
     "output_type": "stream",
     "text": [
      "[1] \"Done.\"\n",
      "File  113  out of  613 . Name: LUC_0058_Scan_1.nii.gzNULL\n",
      "Making folder U:\\LUCADI\\NIFTI\\LUC_0058_Scan_1NULL\n",
      "[1] \"Moving files\"\n"
     ]
    },
    {
     "name": "stderr",
     "output_type": "stream",
     "text": [
      "1 file moved. 0 failed.\n"
     ]
    },
    {
     "name": "stdout",
     "output_type": "stream",
     "text": [
      "[1] \"Done.\"\n",
      "File  114  out of  613 . Name: LUC_0058_Scan_2.nii.gzNULL\n",
      "Making folder U:\\LUCADI\\NIFTI\\LUC_0058_Scan_2NULL\n",
      "[1] \"Moving files\"\n"
     ]
    },
    {
     "name": "stderr",
     "output_type": "stream",
     "text": [
      "1 file moved. 0 failed.\n"
     ]
    },
    {
     "name": "stdout",
     "output_type": "stream",
     "text": [
      "[1] \"Done.\"\n",
      "File  115  out of  613 . Name: LUC_0058_Scan_3.nii.gzNULL\n",
      "Making folder U:\\LUCADI\\NIFTI\\LUC_0058_Scan_3NULL\n",
      "[1] \"Moving files\"\n"
     ]
    },
    {
     "name": "stderr",
     "output_type": "stream",
     "text": [
      "1 file moved. 0 failed.\n"
     ]
    },
    {
     "name": "stdout",
     "output_type": "stream",
     "text": [
      "[1] \"Done.\"\n",
      "File  116  out of  613 . Name: LUC_0059_Scan_1.nii.gzNULL\n",
      "Making folder U:\\LUCADI\\NIFTI\\LUC_0059_Scan_1NULL\n",
      "[1] \"Moving files\"\n"
     ]
    },
    {
     "name": "stderr",
     "output_type": "stream",
     "text": [
      "1 file moved. 0 failed.\n"
     ]
    },
    {
     "name": "stdout",
     "output_type": "stream",
     "text": [
      "[1] \"Done.\"\n",
      "File  117  out of  613 . Name: LUC_0059_Scan_2.nii.gzNULL\n",
      "Making folder U:\\LUCADI\\NIFTI\\LUC_0059_Scan_2NULL\n",
      "[1] \"Moving files\"\n"
     ]
    },
    {
     "name": "stderr",
     "output_type": "stream",
     "text": [
      "1 file moved. 0 failed.\n"
     ]
    },
    {
     "name": "stdout",
     "output_type": "stream",
     "text": [
      "[1] \"Done.\"\n",
      "File  118  out of  613 . Name: LUC_0060_Scan_1.nii.gzNULL\n",
      "Making folder U:\\LUCADI\\NIFTI\\LUC_0060_Scan_1NULL\n",
      "[1] \"Moving files\"\n"
     ]
    },
    {
     "name": "stderr",
     "output_type": "stream",
     "text": [
      "1 file moved. 0 failed.\n"
     ]
    },
    {
     "name": "stdout",
     "output_type": "stream",
     "text": [
      "[1] \"Done.\"\n",
      "File  119  out of  613 . Name: LUC_0060_Scan_2.nii.gzNULL\n",
      "Making folder U:\\LUCADI\\NIFTI\\LUC_0060_Scan_2NULL\n",
      "[1] \"Moving files\"\n"
     ]
    },
    {
     "name": "stderr",
     "output_type": "stream",
     "text": [
      "1 file moved. 0 failed.\n"
     ]
    },
    {
     "name": "stdout",
     "output_type": "stream",
     "text": [
      "[1] \"Done.\"\n",
      "File  120  out of  613 . Name: LUC_0061_Scan_1.nii.gzNULL\n",
      "Making folder U:\\LUCADI\\NIFTI\\LUC_0061_Scan_1NULL\n",
      "[1] \"Moving files\"\n"
     ]
    },
    {
     "name": "stderr",
     "output_type": "stream",
     "text": [
      "1 file moved. 0 failed.\n"
     ]
    },
    {
     "name": "stdout",
     "output_type": "stream",
     "text": [
      "[1] \"Done.\"\n",
      "File  121  out of  613 . Name: LUC_0062_Scan_1.nii.gzNULL\n",
      "Making folder U:\\LUCADI\\NIFTI\\LUC_0062_Scan_1NULL\n",
      "[1] \"Moving files\"\n"
     ]
    },
    {
     "name": "stderr",
     "output_type": "stream",
     "text": [
      "1 file moved. 0 failed.\n"
     ]
    },
    {
     "name": "stdout",
     "output_type": "stream",
     "text": [
      "[1] \"Done.\"\n",
      "File  122  out of  613 . Name: LUC_0063_Scan_1.nii.gzNULL\n",
      "Making folder U:\\LUCADI\\NIFTI\\LUC_0063_Scan_1NULL\n",
      "[1] \"Moving files\"\n"
     ]
    },
    {
     "name": "stderr",
     "output_type": "stream",
     "text": [
      "1 file moved. 0 failed.\n"
     ]
    },
    {
     "name": "stdout",
     "output_type": "stream",
     "text": [
      "[1] \"Done.\"\n",
      "File  123  out of  613 . Name: LUC_0063_Scan_2.nii.gzNULL\n",
      "Making folder U:\\LUCADI\\NIFTI\\LUC_0063_Scan_2NULL\n",
      "[1] \"Moving files\"\n"
     ]
    },
    {
     "name": "stderr",
     "output_type": "stream",
     "text": [
      "1 file moved. 0 failed.\n"
     ]
    },
    {
     "name": "stdout",
     "output_type": "stream",
     "text": [
      "[1] \"Done.\"\n",
      "File  124  out of  613 . Name: LUC_0064_Scan_1.nii.gzNULL\n",
      "Making folder U:\\LUCADI\\NIFTI\\LUC_0064_Scan_1NULL\n",
      "[1] \"Moving files\"\n"
     ]
    },
    {
     "name": "stderr",
     "output_type": "stream",
     "text": [
      "1 file moved. 0 failed.\n"
     ]
    },
    {
     "name": "stdout",
     "output_type": "stream",
     "text": [
      "[1] \"Done.\"\n",
      "File  125  out of  613 . Name: LUC_0065_Scan_1.nii.gzNULL\n",
      "Making folder U:\\LUCADI\\NIFTI\\LUC_0065_Scan_1NULL\n",
      "[1] \"Moving files\"\n"
     ]
    },
    {
     "name": "stderr",
     "output_type": "stream",
     "text": [
      "1 file moved. 0 failed.\n"
     ]
    },
    {
     "name": "stdout",
     "output_type": "stream",
     "text": [
      "[1] \"Done.\"\n",
      "File  126  out of  613 . Name: LUC_0065_Scan_2.nii.gzNULL\n",
      "Making folder U:\\LUCADI\\NIFTI\\LUC_0065_Scan_2NULL\n",
      "[1] \"Moving files\"\n"
     ]
    },
    {
     "name": "stderr",
     "output_type": "stream",
     "text": [
      "1 file moved. 0 failed.\n"
     ]
    },
    {
     "name": "stdout",
     "output_type": "stream",
     "text": [
      "[1] \"Done.\"\n",
      "File  127  out of  613 . Name: LUC_0065_Scan_3.nii.gzNULL\n",
      "Making folder U:\\LUCADI\\NIFTI\\LUC_0065_Scan_3NULL\n",
      "[1] \"Moving files\"\n"
     ]
    },
    {
     "name": "stderr",
     "output_type": "stream",
     "text": [
      "1 file moved. 0 failed.\n"
     ]
    },
    {
     "name": "stdout",
     "output_type": "stream",
     "text": [
      "[1] \"Done.\"\n",
      "File  128  out of  613 . Name: LUC_0066_Scan_1.nii.gzNULL\n",
      "Making folder U:\\LUCADI\\NIFTI\\LUC_0066_Scan_1NULL\n",
      "[1] \"Moving files\"\n"
     ]
    },
    {
     "name": "stderr",
     "output_type": "stream",
     "text": [
      "1 file moved. 0 failed.\n"
     ]
    },
    {
     "name": "stdout",
     "output_type": "stream",
     "text": [
      "[1] \"Done.\"\n",
      "File  129  out of  613 . Name: LUC_0066_Scan_2.nii.gzNULL\n",
      "Making folder U:\\LUCADI\\NIFTI\\LUC_0066_Scan_2NULL\n",
      "[1] \"Moving files\"\n"
     ]
    },
    {
     "name": "stderr",
     "output_type": "stream",
     "text": [
      "1 file moved. 0 failed.\n"
     ]
    },
    {
     "name": "stdout",
     "output_type": "stream",
     "text": [
      "[1] \"Done.\"\n",
      "File  130  out of  613 . Name: LUC_0067_Scan_1.nii.gzNULL\n",
      "Making folder U:\\LUCADI\\NIFTI\\LUC_0067_Scan_1NULL\n",
      "[1] \"Moving files\"\n"
     ]
    },
    {
     "name": "stderr",
     "output_type": "stream",
     "text": [
      "1 file moved. 0 failed.\n"
     ]
    },
    {
     "name": "stdout",
     "output_type": "stream",
     "text": [
      "[1] \"Done.\"\n",
      "File  131  out of  613 . Name: LUC_0068_Scan_1.nii.gzNULL\n",
      "Making folder U:\\LUCADI\\NIFTI\\LUC_0068_Scan_1NULL\n",
      "[1] \"Moving files\"\n"
     ]
    },
    {
     "name": "stderr",
     "output_type": "stream",
     "text": [
      "1 file moved. 0 failed.\n"
     ]
    },
    {
     "name": "stdout",
     "output_type": "stream",
     "text": [
      "[1] \"Done.\"\n",
      "File  132  out of  613 . Name: LUC_0068_Scan_2.nii.gzNULL\n",
      "Making folder U:\\LUCADI\\NIFTI\\LUC_0068_Scan_2NULL\n",
      "[1] \"Moving files\"\n"
     ]
    },
    {
     "name": "stderr",
     "output_type": "stream",
     "text": [
      "1 file moved. 0 failed.\n"
     ]
    },
    {
     "name": "stdout",
     "output_type": "stream",
     "text": [
      "[1] \"Done.\"\n",
      "File  133  out of  613 . Name: LUC_0069_Scan_1.nii.gzNULL\n",
      "Making folder U:\\LUCADI\\NIFTI\\LUC_0069_Scan_1NULL\n",
      "[1] \"Moving files\"\n"
     ]
    },
    {
     "name": "stderr",
     "output_type": "stream",
     "text": [
      "1 file moved. 0 failed.\n"
     ]
    },
    {
     "name": "stdout",
     "output_type": "stream",
     "text": [
      "[1] \"Done.\"\n",
      "File  134  out of  613 . Name: LUC_0070_Scan_1.nii.gzNULL\n",
      "Making folder U:\\LUCADI\\NIFTI\\LUC_0070_Scan_1NULL\n",
      "[1] \"Moving files\"\n"
     ]
    },
    {
     "name": "stderr",
     "output_type": "stream",
     "text": [
      "1 file moved. 0 failed.\n"
     ]
    },
    {
     "name": "stdout",
     "output_type": "stream",
     "text": [
      "[1] \"Done.\"\n",
      "File  135  out of  613 . Name: LUC_0071_Scan_1.nii.gzNULL\n",
      "Making folder U:\\LUCADI\\NIFTI\\LUC_0071_Scan_1NULL\n",
      "[1] \"Moving files\"\n"
     ]
    },
    {
     "name": "stderr",
     "output_type": "stream",
     "text": [
      "1 file moved. 0 failed.\n"
     ]
    },
    {
     "name": "stdout",
     "output_type": "stream",
     "text": [
      "[1] \"Done.\"\n",
      "File  136  out of  613 . Name: LUC_0072_Scan_1.nii.gzNULL\n",
      "Making folder U:\\LUCADI\\NIFTI\\LUC_0072_Scan_1NULL\n",
      "[1] \"Moving files\"\n"
     ]
    },
    {
     "name": "stderr",
     "output_type": "stream",
     "text": [
      "1 file moved. 0 failed.\n"
     ]
    },
    {
     "name": "stdout",
     "output_type": "stream",
     "text": [
      "[1] \"Done.\"\n",
      "File  137  out of  613 . Name: LUC_0073_Scan_1.nii.gzNULL\n",
      "Making folder U:\\LUCADI\\NIFTI\\LUC_0073_Scan_1NULL\n",
      "[1] \"Moving files\"\n"
     ]
    },
    {
     "name": "stderr",
     "output_type": "stream",
     "text": [
      "1 file moved. 0 failed.\n"
     ]
    },
    {
     "name": "stdout",
     "output_type": "stream",
     "text": [
      "[1] \"Done.\"\n",
      "File  138  out of  613 . Name: LUC_0073_Scan_2.nii.gzNULL\n",
      "Making folder U:\\LUCADI\\NIFTI\\LUC_0073_Scan_2NULL\n",
      "[1] \"Moving files\"\n"
     ]
    },
    {
     "name": "stderr",
     "output_type": "stream",
     "text": [
      "1 file moved. 0 failed.\n"
     ]
    },
    {
     "name": "stdout",
     "output_type": "stream",
     "text": [
      "[1] \"Done.\"\n",
      "File  139  out of  613 . Name: LUC_0074_Scan_1.nii.gzNULL\n",
      "Making folder U:\\LUCADI\\NIFTI\\LUC_0074_Scan_1NULL\n",
      "[1] \"Moving files\"\n"
     ]
    },
    {
     "name": "stderr",
     "output_type": "stream",
     "text": [
      "1 file moved. 0 failed.\n"
     ]
    },
    {
     "name": "stdout",
     "output_type": "stream",
     "text": [
      "[1] \"Done.\"\n",
      "File  140  out of  613 . Name: LUC_0075_Scan_1.nii.gzNULL\n",
      "Making folder U:\\LUCADI\\NIFTI\\LUC_0075_Scan_1NULL\n",
      "[1] \"Moving files\"\n"
     ]
    },
    {
     "name": "stderr",
     "output_type": "stream",
     "text": [
      "1 file moved. 0 failed.\n"
     ]
    },
    {
     "name": "stdout",
     "output_type": "stream",
     "text": [
      "[1] \"Done.\"\n",
      "File  141  out of  613 . Name: LUC_0075_Scan_2.nii.gzNULL\n",
      "Making folder U:\\LUCADI\\NIFTI\\LUC_0075_Scan_2NULL\n",
      "[1] \"Moving files\"\n"
     ]
    },
    {
     "name": "stderr",
     "output_type": "stream",
     "text": [
      "1 file moved. 0 failed.\n"
     ]
    },
    {
     "name": "stdout",
     "output_type": "stream",
     "text": [
      "[1] \"Done.\"\n",
      "File  142  out of  613 . Name: LUC_0076_Scan_1.nii.gzNULL\n",
      "Making folder U:\\LUCADI\\NIFTI\\LUC_0076_Scan_1NULL\n",
      "[1] \"Moving files\"\n"
     ]
    },
    {
     "name": "stderr",
     "output_type": "stream",
     "text": [
      "1 file moved. 0 failed.\n"
     ]
    },
    {
     "name": "stdout",
     "output_type": "stream",
     "text": [
      "[1] \"Done.\"\n",
      "File  143  out of  613 . Name: LUC_0077_Scan_1.nii.gzNULL\n",
      "Making folder U:\\LUCADI\\NIFTI\\LUC_0077_Scan_1NULL\n",
      "[1] \"Moving files\"\n"
     ]
    },
    {
     "name": "stderr",
     "output_type": "stream",
     "text": [
      "1 file moved. 0 failed.\n"
     ]
    },
    {
     "name": "stdout",
     "output_type": "stream",
     "text": [
      "[1] \"Done.\"\n",
      "File  144  out of  613 . Name: LUC_0078_Scan_1.nii.gzNULL\n",
      "Making folder U:\\LUCADI\\NIFTI\\LUC_0078_Scan_1NULL\n",
      "[1] \"Moving files\"\n"
     ]
    },
    {
     "name": "stderr",
     "output_type": "stream",
     "text": [
      "1 file moved. 0 failed.\n"
     ]
    },
    {
     "name": "stdout",
     "output_type": "stream",
     "text": [
      "[1] \"Done.\"\n",
      "File  145  out of  613 . Name: LUC_0078_Scan_2.nii.gzNULL\n",
      "Making folder U:\\LUCADI\\NIFTI\\LUC_0078_Scan_2NULL\n",
      "[1] \"Moving files\"\n"
     ]
    },
    {
     "name": "stderr",
     "output_type": "stream",
     "text": [
      "1 file moved. 0 failed.\n"
     ]
    },
    {
     "name": "stdout",
     "output_type": "stream",
     "text": [
      "[1] \"Done.\"\n",
      "File  146  out of  613 . Name: LUC_0078_Scan_3.nii.gzNULL\n",
      "Making folder U:\\LUCADI\\NIFTI\\LUC_0078_Scan_3NULL\n",
      "[1] \"Moving files\"\n"
     ]
    },
    {
     "name": "stderr",
     "output_type": "stream",
     "text": [
      "1 file moved. 0 failed.\n"
     ]
    },
    {
     "name": "stdout",
     "output_type": "stream",
     "text": [
      "[1] \"Done.\"\n",
      "File  147  out of  613 . Name: LUC_0079_Scan_1.nii.gzNULL\n",
      "Making folder U:\\LUCADI\\NIFTI\\LUC_0079_Scan_1NULL\n",
      "[1] \"Moving files\"\n"
     ]
    },
    {
     "name": "stderr",
     "output_type": "stream",
     "text": [
      "1 file moved. 0 failed.\n"
     ]
    },
    {
     "name": "stdout",
     "output_type": "stream",
     "text": [
      "[1] \"Done.\"\n",
      "File  148  out of  613 . Name: LUC_0080_Scan_1.nii.gzNULL\n",
      "Making folder U:\\LUCADI\\NIFTI\\LUC_0080_Scan_1NULL\n",
      "[1] \"Moving files\"\n"
     ]
    },
    {
     "name": "stderr",
     "output_type": "stream",
     "text": [
      "1 file moved. 0 failed.\n"
     ]
    },
    {
     "name": "stdout",
     "output_type": "stream",
     "text": [
      "[1] \"Done.\"\n",
      "File  149  out of  613 . Name: LUC_0081_Scan_1.nii.gzNULL\n",
      "Making folder U:\\LUCADI\\NIFTI\\LUC_0081_Scan_1NULL\n",
      "[1] \"Moving files\"\n"
     ]
    },
    {
     "name": "stderr",
     "output_type": "stream",
     "text": [
      "1 file moved. 0 failed.\n"
     ]
    },
    {
     "name": "stdout",
     "output_type": "stream",
     "text": [
      "[1] \"Done.\"\n",
      "File  150  out of  613 . Name: LUC_0082_Scan_1.nii.gzNULL\n",
      "Making folder U:\\LUCADI\\NIFTI\\LUC_0082_Scan_1NULL\n",
      "[1] \"Moving files\"\n"
     ]
    },
    {
     "name": "stderr",
     "output_type": "stream",
     "text": [
      "1 file moved. 0 failed.\n"
     ]
    },
    {
     "name": "stdout",
     "output_type": "stream",
     "text": [
      "[1] \"Done.\"\n",
      "File  151  out of  613 . Name: LUC_0083_Scan_1.nii.gzNULL\n",
      "Making folder U:\\LUCADI\\NIFTI\\LUC_0083_Scan_1NULL\n",
      "[1] \"Moving files\"\n"
     ]
    },
    {
     "name": "stderr",
     "output_type": "stream",
     "text": [
      "1 file moved. 0 failed.\n"
     ]
    },
    {
     "name": "stdout",
     "output_type": "stream",
     "text": [
      "[1] \"Done.\"\n",
      "File  152  out of  613 . Name: LUC_0084_Scan_1.nii.gzNULL\n",
      "Making folder U:\\LUCADI\\NIFTI\\LUC_0084_Scan_1NULL\n",
      "[1] \"Moving files\"\n"
     ]
    },
    {
     "name": "stderr",
     "output_type": "stream",
     "text": [
      "1 file moved. 0 failed.\n"
     ]
    },
    {
     "name": "stdout",
     "output_type": "stream",
     "text": [
      "[1] \"Done.\"\n",
      "File  153  out of  613 . Name: LUC_0085_Scan_1.nii.gzNULL\n",
      "Making folder U:\\LUCADI\\NIFTI\\LUC_0085_Scan_1NULL\n",
      "[1] \"Moving files\"\n"
     ]
    },
    {
     "name": "stderr",
     "output_type": "stream",
     "text": [
      "1 file moved. 0 failed.\n"
     ]
    },
    {
     "name": "stdout",
     "output_type": "stream",
     "text": [
      "[1] \"Done.\"\n",
      "File  154  out of  613 . Name: LUC_0085_Scan_2.nii.gzNULL\n",
      "Making folder U:\\LUCADI\\NIFTI\\LUC_0085_Scan_2NULL\n",
      "[1] \"Moving files\"\n"
     ]
    },
    {
     "name": "stderr",
     "output_type": "stream",
     "text": [
      "1 file moved. 0 failed.\n"
     ]
    },
    {
     "name": "stdout",
     "output_type": "stream",
     "text": [
      "[1] \"Done.\"\n",
      "File  155  out of  613 . Name: LUC_0086_Scan_1.nii.gzNULL\n",
      "Making folder U:\\LUCADI\\NIFTI\\LUC_0086_Scan_1NULL\n",
      "[1] \"Moving files\"\n"
     ]
    },
    {
     "name": "stderr",
     "output_type": "stream",
     "text": [
      "1 file moved. 0 failed.\n"
     ]
    },
    {
     "name": "stdout",
     "output_type": "stream",
     "text": [
      "[1] \"Done.\"\n",
      "File  156  out of  613 . Name: LUC_0087_Scan_1.nii.gzNULL\n",
      "Making folder U:\\LUCADI\\NIFTI\\LUC_0087_Scan_1NULL\n",
      "[1] \"Moving files\"\n"
     ]
    },
    {
     "name": "stderr",
     "output_type": "stream",
     "text": [
      "1 file moved. 0 failed.\n"
     ]
    },
    {
     "name": "stdout",
     "output_type": "stream",
     "text": [
      "[1] \"Done.\"\n",
      "File  157  out of  613 . Name: LUC_0088_Scan_1.nii.gzNULL\n",
      "Making folder U:\\LUCADI\\NIFTI\\LUC_0088_Scan_1NULL\n",
      "[1] \"Moving files\"\n"
     ]
    },
    {
     "name": "stderr",
     "output_type": "stream",
     "text": [
      "1 file moved. 0 failed.\n"
     ]
    },
    {
     "name": "stdout",
     "output_type": "stream",
     "text": [
      "[1] \"Done.\"\n",
      "File  158  out of  613 . Name: LUC_0089_Scan_1.nii.gzNULL\n",
      "Making folder U:\\LUCADI\\NIFTI\\LUC_0089_Scan_1NULL\n",
      "[1] \"Moving files\"\n"
     ]
    },
    {
     "name": "stderr",
     "output_type": "stream",
     "text": [
      "1 file moved. 0 failed.\n"
     ]
    },
    {
     "name": "stdout",
     "output_type": "stream",
     "text": [
      "[1] \"Done.\"\n",
      "File  159  out of  613 . Name: LUC_0089_Scan_2.nii.gzNULL\n",
      "Making folder U:\\LUCADI\\NIFTI\\LUC_0089_Scan_2NULL\n",
      "[1] \"Moving files\"\n"
     ]
    },
    {
     "name": "stderr",
     "output_type": "stream",
     "text": [
      "1 file moved. 0 failed.\n"
     ]
    },
    {
     "name": "stdout",
     "output_type": "stream",
     "text": [
      "[1] \"Done.\"\n",
      "File  160  out of  613 . Name: LUC_0089_Scan_3.nii.gzNULL\n",
      "Making folder U:\\LUCADI\\NIFTI\\LUC_0089_Scan_3NULL\n",
      "[1] \"Moving files\"\n"
     ]
    },
    {
     "name": "stderr",
     "output_type": "stream",
     "text": [
      "1 file moved. 0 failed.\n"
     ]
    },
    {
     "name": "stdout",
     "output_type": "stream",
     "text": [
      "[1] \"Done.\"\n",
      "File  161  out of  613 . Name: LUC_0090_Scan_1.nii.gzNULL\n",
      "Making folder U:\\LUCADI\\NIFTI\\LUC_0090_Scan_1NULL\n",
      "[1] \"Moving files\"\n"
     ]
    },
    {
     "name": "stderr",
     "output_type": "stream",
     "text": [
      "1 file moved. 0 failed.\n"
     ]
    },
    {
     "name": "stdout",
     "output_type": "stream",
     "text": [
      "[1] \"Done.\"\n",
      "File  162  out of  613 . Name: LUC_0091_Scan_1.nii.gzNULL\n",
      "Making folder U:\\LUCADI\\NIFTI\\LUC_0091_Scan_1NULL\n",
      "[1] \"Moving files\"\n"
     ]
    },
    {
     "name": "stderr",
     "output_type": "stream",
     "text": [
      "1 file moved. 0 failed.\n"
     ]
    },
    {
     "name": "stdout",
     "output_type": "stream",
     "text": [
      "[1] \"Done.\"\n",
      "File  163  out of  613 . Name: LUC_0093_Scan_1.nii.gzNULL\n",
      "Making folder U:\\LUCADI\\NIFTI\\LUC_0093_Scan_1NULL\n",
      "[1] \"Moving files\"\n"
     ]
    },
    {
     "name": "stderr",
     "output_type": "stream",
     "text": [
      "1 file moved. 0 failed.\n"
     ]
    },
    {
     "name": "stdout",
     "output_type": "stream",
     "text": [
      "[1] \"Done.\"\n",
      "File  164  out of  613 . Name: LUC_0094_Scan_1.nii.gzNULL\n",
      "Making folder U:\\LUCADI\\NIFTI\\LUC_0094_Scan_1NULL\n",
      "[1] \"Moving files\"\n"
     ]
    },
    {
     "name": "stderr",
     "output_type": "stream",
     "text": [
      "1 file moved. 0 failed.\n"
     ]
    },
    {
     "name": "stdout",
     "output_type": "stream",
     "text": [
      "[1] \"Done.\"\n",
      "File  165  out of  613 . Name: LUC_0095_Scan_1.nii.gzNULL\n",
      "Making folder U:\\LUCADI\\NIFTI\\LUC_0095_Scan_1NULL\n",
      "[1] \"Moving files\"\n"
     ]
    },
    {
     "name": "stderr",
     "output_type": "stream",
     "text": [
      "1 file moved. 0 failed.\n"
     ]
    },
    {
     "name": "stdout",
     "output_type": "stream",
     "text": [
      "[1] \"Done.\"\n",
      "File  166  out of  613 . Name: LUC_0096_Scan_1.nii.gzNULL\n",
      "Making folder U:\\LUCADI\\NIFTI\\LUC_0096_Scan_1NULL\n",
      "[1] \"Moving files\"\n"
     ]
    },
    {
     "name": "stderr",
     "output_type": "stream",
     "text": [
      "1 file moved. 0 failed.\n"
     ]
    },
    {
     "name": "stdout",
     "output_type": "stream",
     "text": [
      "[1] \"Done.\"\n",
      "File  167  out of  613 . Name: LUC_0097_Scan_1.nii.gzNULL\n",
      "Making folder U:\\LUCADI\\NIFTI\\LUC_0097_Scan_1NULL\n",
      "[1] \"Moving files\"\n"
     ]
    },
    {
     "name": "stderr",
     "output_type": "stream",
     "text": [
      "1 file moved. 0 failed.\n"
     ]
    },
    {
     "name": "stdout",
     "output_type": "stream",
     "text": [
      "[1] \"Done.\"\n",
      "File  168  out of  613 . Name: LUC_0098_Scan_1.nii.gzNULL\n",
      "Making folder U:\\LUCADI\\NIFTI\\LUC_0098_Scan_1NULL\n",
      "[1] \"Moving files\"\n"
     ]
    },
    {
     "name": "stderr",
     "output_type": "stream",
     "text": [
      "1 file moved. 0 failed.\n"
     ]
    },
    {
     "name": "stdout",
     "output_type": "stream",
     "text": [
      "[1] \"Done.\"\n",
      "File  169  out of  613 . Name: LUC_0098_Scan_2.nii.gzNULL\n",
      "Making folder U:\\LUCADI\\NIFTI\\LUC_0098_Scan_2NULL\n",
      "[1] \"Moving files\"\n"
     ]
    },
    {
     "name": "stderr",
     "output_type": "stream",
     "text": [
      "1 file moved. 0 failed.\n"
     ]
    },
    {
     "name": "stdout",
     "output_type": "stream",
     "text": [
      "[1] \"Done.\"\n",
      "File  170  out of  613 . Name: LUC_0099_Scan_1.nii.gzNULL\n",
      "Making folder U:\\LUCADI\\NIFTI\\LUC_0099_Scan_1NULL\n",
      "[1] \"Moving files\"\n"
     ]
    },
    {
     "name": "stderr",
     "output_type": "stream",
     "text": [
      "1 file moved. 0 failed.\n"
     ]
    },
    {
     "name": "stdout",
     "output_type": "stream",
     "text": [
      "[1] \"Done.\"\n",
      "File  171  out of  613 . Name: LUC_0100_Scan_1.nii.gzNULL\n",
      "Making folder U:\\LUCADI\\NIFTI\\LUC_0100_Scan_1NULL\n",
      "[1] \"Moving files\"\n"
     ]
    },
    {
     "name": "stderr",
     "output_type": "stream",
     "text": [
      "1 file moved. 0 failed.\n"
     ]
    },
    {
     "name": "stdout",
     "output_type": "stream",
     "text": [
      "[1] \"Done.\"\n",
      "File  172  out of  613 . Name: LUC_0101_Scan_1.nii.gzNULL\n",
      "Making folder U:\\LUCADI\\NIFTI\\LUC_0101_Scan_1NULL\n",
      "[1] \"Moving files\"\n"
     ]
    },
    {
     "name": "stderr",
     "output_type": "stream",
     "text": [
      "1 file moved. 0 failed.\n"
     ]
    },
    {
     "name": "stdout",
     "output_type": "stream",
     "text": [
      "[1] \"Done.\"\n",
      "File  173  out of  613 . Name: LUC_0101_Scan_2.nii.gzNULL\n",
      "Making folder U:\\LUCADI\\NIFTI\\LUC_0101_Scan_2NULL\n",
      "[1] \"Moving files\"\n"
     ]
    },
    {
     "name": "stderr",
     "output_type": "stream",
     "text": [
      "1 file moved. 0 failed.\n"
     ]
    },
    {
     "name": "stdout",
     "output_type": "stream",
     "text": [
      "[1] \"Done.\"\n",
      "File  174  out of  613 . Name: LUC_0102_Scan_1.nii.gzNULL\n",
      "Making folder U:\\LUCADI\\NIFTI\\LUC_0102_Scan_1NULL\n",
      "[1] \"Moving files\"\n"
     ]
    },
    {
     "name": "stderr",
     "output_type": "stream",
     "text": [
      "1 file moved. 0 failed.\n"
     ]
    },
    {
     "name": "stdout",
     "output_type": "stream",
     "text": [
      "[1] \"Done.\"\n",
      "File  175  out of  613 . Name: LUC_0103_Scan_1.nii.gzNULL\n",
      "Making folder U:\\LUCADI\\NIFTI\\LUC_0103_Scan_1NULL\n",
      "[1] \"Moving files\"\n"
     ]
    },
    {
     "name": "stderr",
     "output_type": "stream",
     "text": [
      "1 file moved. 0 failed.\n"
     ]
    },
    {
     "name": "stdout",
     "output_type": "stream",
     "text": [
      "[1] \"Done.\"\n",
      "File  176  out of  613 . Name: LUC_0104_Scan_1.nii.gzNULL\n",
      "Making folder U:\\LUCADI\\NIFTI\\LUC_0104_Scan_1NULL\n",
      "[1] \"Moving files\"\n"
     ]
    },
    {
     "name": "stderr",
     "output_type": "stream",
     "text": [
      "1 file moved. 0 failed.\n"
     ]
    },
    {
     "name": "stdout",
     "output_type": "stream",
     "text": [
      "[1] \"Done.\"\n",
      "File  177  out of  613 . Name: LUC_0105_Scan_1.nii.gzNULL\n",
      "Making folder U:\\LUCADI\\NIFTI\\LUC_0105_Scan_1NULL\n",
      "[1] \"Moving files\"\n"
     ]
    },
    {
     "name": "stderr",
     "output_type": "stream",
     "text": [
      "1 file moved. 0 failed.\n"
     ]
    },
    {
     "name": "stdout",
     "output_type": "stream",
     "text": [
      "[1] \"Done.\"\n",
      "File  178  out of  613 . Name: LUC_0105_Scan_2.nii.gzNULL\n",
      "Making folder U:\\LUCADI\\NIFTI\\LUC_0105_Scan_2NULL\n",
      "[1] \"Moving files\"\n"
     ]
    },
    {
     "name": "stderr",
     "output_type": "stream",
     "text": [
      "1 file moved. 0 failed.\n"
     ]
    },
    {
     "name": "stdout",
     "output_type": "stream",
     "text": [
      "[1] \"Done.\"\n",
      "File  179  out of  613 . Name: LUC_0105_Scan_3.nii.gzNULL\n",
      "Making folder U:\\LUCADI\\NIFTI\\LUC_0105_Scan_3NULL\n",
      "[1] \"Moving files\"\n"
     ]
    },
    {
     "name": "stderr",
     "output_type": "stream",
     "text": [
      "1 file moved. 0 failed.\n"
     ]
    },
    {
     "name": "stdout",
     "output_type": "stream",
     "text": [
      "[1] \"Done.\"\n",
      "File  180  out of  613 . Name: LUC_0106_Scan_1.nii.gzNULL\n",
      "Making folder U:\\LUCADI\\NIFTI\\LUC_0106_Scan_1NULL\n",
      "[1] \"Moving files\"\n"
     ]
    },
    {
     "name": "stderr",
     "output_type": "stream",
     "text": [
      "1 file moved. 0 failed.\n"
     ]
    },
    {
     "name": "stdout",
     "output_type": "stream",
     "text": [
      "[1] \"Done.\"\n",
      "File  181  out of  613 . Name: LUC_0107_Scan_1.nii.gzNULL\n",
      "Making folder U:\\LUCADI\\NIFTI\\LUC_0107_Scan_1NULL\n",
      "[1] \"Moving files\"\n"
     ]
    },
    {
     "name": "stderr",
     "output_type": "stream",
     "text": [
      "1 file moved. 0 failed.\n"
     ]
    },
    {
     "name": "stdout",
     "output_type": "stream",
     "text": [
      "[1] \"Done.\"\n",
      "File  182  out of  613 . Name: LUC_0107_Scan_2.nii.gzNULL\n",
      "Making folder U:\\LUCADI\\NIFTI\\LUC_0107_Scan_2NULL\n",
      "[1] \"Moving files\"\n"
     ]
    },
    {
     "name": "stderr",
     "output_type": "stream",
     "text": [
      "1 file moved. 0 failed.\n"
     ]
    },
    {
     "name": "stdout",
     "output_type": "stream",
     "text": [
      "[1] \"Done.\"\n",
      "File  183  out of  613 . Name: LUC_0107_Scan_3.nii.gzNULL\n",
      "Making folder U:\\LUCADI\\NIFTI\\LUC_0107_Scan_3NULL\n",
      "[1] \"Moving files\"\n"
     ]
    },
    {
     "name": "stderr",
     "output_type": "stream",
     "text": [
      "1 file moved. 0 failed.\n"
     ]
    },
    {
     "name": "stdout",
     "output_type": "stream",
     "text": [
      "[1] \"Done.\"\n",
      "File  184  out of  613 . Name: LUC_0108_Scan_1.nii.gzNULL\n",
      "Making folder U:\\LUCADI\\NIFTI\\LUC_0108_Scan_1NULL\n",
      "[1] \"Moving files\"\n"
     ]
    },
    {
     "name": "stderr",
     "output_type": "stream",
     "text": [
      "1 file moved. 0 failed.\n"
     ]
    },
    {
     "name": "stdout",
     "output_type": "stream",
     "text": [
      "[1] \"Done.\"\n",
      "File  185  out of  613 . Name: LUC_0108_Scan_2.nii.gzNULL\n",
      "Making folder U:\\LUCADI\\NIFTI\\LUC_0108_Scan_2NULL\n",
      "[1] \"Moving files\"\n"
     ]
    },
    {
     "name": "stderr",
     "output_type": "stream",
     "text": [
      "1 file moved. 0 failed.\n"
     ]
    },
    {
     "name": "stdout",
     "output_type": "stream",
     "text": [
      "[1] \"Done.\"\n",
      "File  186  out of  613 . Name: LUC_0109_Scan_1.nii.gzNULL\n",
      "Making folder U:\\LUCADI\\NIFTI\\LUC_0109_Scan_1NULL\n",
      "[1] \"Moving files\"\n"
     ]
    },
    {
     "name": "stderr",
     "output_type": "stream",
     "text": [
      "1 file moved. 0 failed.\n"
     ]
    },
    {
     "name": "stdout",
     "output_type": "stream",
     "text": [
      "[1] \"Done.\"\n",
      "File  187  out of  613 . Name: LUC_0110_Scan_1.nii.gzNULL\n",
      "Making folder U:\\LUCADI\\NIFTI\\LUC_0110_Scan_1NULL\n",
      "[1] \"Moving files\"\n"
     ]
    },
    {
     "name": "stderr",
     "output_type": "stream",
     "text": [
      "1 file moved. 0 failed.\n"
     ]
    },
    {
     "name": "stdout",
     "output_type": "stream",
     "text": [
      "[1] \"Done.\"\n",
      "File  188  out of  613 . Name: LUC_0111_Scan_1.nii.gzNULL\n",
      "Making folder U:\\LUCADI\\NIFTI\\LUC_0111_Scan_1NULL\n",
      "[1] \"Moving files\"\n"
     ]
    },
    {
     "name": "stderr",
     "output_type": "stream",
     "text": [
      "1 file moved. 0 failed.\n"
     ]
    },
    {
     "name": "stdout",
     "output_type": "stream",
     "text": [
      "[1] \"Done.\"\n",
      "File  189  out of  613 . Name: LUC_0111_Scan_2.nii.gzNULL\n",
      "Making folder U:\\LUCADI\\NIFTI\\LUC_0111_Scan_2NULL\n",
      "[1] \"Moving files\"\n"
     ]
    },
    {
     "name": "stderr",
     "output_type": "stream",
     "text": [
      "1 file moved. 0 failed.\n"
     ]
    },
    {
     "name": "stdout",
     "output_type": "stream",
     "text": [
      "[1] \"Done.\"\n",
      "File  190  out of  613 . Name: LUC_0112_Scan_1.nii.gzNULL\n",
      "Making folder U:\\LUCADI\\NIFTI\\LUC_0112_Scan_1NULL\n",
      "[1] \"Moving files\"\n"
     ]
    },
    {
     "name": "stderr",
     "output_type": "stream",
     "text": [
      "1 file moved. 0 failed.\n"
     ]
    },
    {
     "name": "stdout",
     "output_type": "stream",
     "text": [
      "[1] \"Done.\"\n",
      "File  191  out of  613 . Name: LUC_0113_Scan_1.nii.gzNULL\n",
      "Making folder U:\\LUCADI\\NIFTI\\LUC_0113_Scan_1NULL\n",
      "[1] \"Moving files\"\n"
     ]
    },
    {
     "name": "stderr",
     "output_type": "stream",
     "text": [
      "1 file moved. 0 failed.\n"
     ]
    },
    {
     "name": "stdout",
     "output_type": "stream",
     "text": [
      "[1] \"Done.\"\n",
      "File  192  out of  613 . Name: LUC_0114_Scan_1.nii.gzNULL\n",
      "Making folder U:\\LUCADI\\NIFTI\\LUC_0114_Scan_1NULL\n",
      "[1] \"Moving files\"\n"
     ]
    },
    {
     "name": "stderr",
     "output_type": "stream",
     "text": [
      "1 file moved. 0 failed.\n"
     ]
    },
    {
     "name": "stdout",
     "output_type": "stream",
     "text": [
      "[1] \"Done.\"\n",
      "File  193  out of  613 . Name: LUC_0114_Scan_2.nii.gzNULL\n",
      "Making folder U:\\LUCADI\\NIFTI\\LUC_0114_Scan_2NULL\n",
      "[1] \"Moving files\"\n"
     ]
    },
    {
     "name": "stderr",
     "output_type": "stream",
     "text": [
      "1 file moved. 0 failed.\n"
     ]
    },
    {
     "name": "stdout",
     "output_type": "stream",
     "text": [
      "[1] \"Done.\"\n",
      "File  194  out of  613 . Name: LUC_0115_Scan_2.nii.gzNULL\n",
      "Making folder U:\\LUCADI\\NIFTI\\LUC_0115_Scan_2NULL\n",
      "[1] \"Moving files\"\n"
     ]
    },
    {
     "name": "stderr",
     "output_type": "stream",
     "text": [
      "1 file moved. 0 failed.\n"
     ]
    },
    {
     "name": "stdout",
     "output_type": "stream",
     "text": [
      "[1] \"Done.\"\n",
      "File  195  out of  613 . Name: LUC_0115_Scan_3.nii.gzNULL\n",
      "Making folder U:\\LUCADI\\NIFTI\\LUC_0115_Scan_3NULL\n",
      "[1] \"Moving files\"\n"
     ]
    },
    {
     "name": "stderr",
     "output_type": "stream",
     "text": [
      "1 file moved. 0 failed.\n"
     ]
    },
    {
     "name": "stdout",
     "output_type": "stream",
     "text": [
      "[1] \"Done.\"\n",
      "File  196  out of  613 . Name: LUC_0116_Scan_1.nii.gzNULL\n",
      "Making folder U:\\LUCADI\\NIFTI\\LUC_0116_Scan_1NULL\n",
      "[1] \"Moving files\"\n"
     ]
    },
    {
     "name": "stderr",
     "output_type": "stream",
     "text": [
      "1 file moved. 0 failed.\n"
     ]
    },
    {
     "name": "stdout",
     "output_type": "stream",
     "text": [
      "[1] \"Done.\"\n",
      "File  197  out of  613 . Name: LUC_0117_Scan_1.nii.gzNULL\n",
      "Making folder U:\\LUCADI\\NIFTI\\LUC_0117_Scan_1NULL\n",
      "[1] \"Moving files\"\n"
     ]
    },
    {
     "name": "stderr",
     "output_type": "stream",
     "text": [
      "1 file moved. 0 failed.\n"
     ]
    },
    {
     "name": "stdout",
     "output_type": "stream",
     "text": [
      "[1] \"Done.\"\n",
      "File  198  out of  613 . Name: LUC_0117_Scan_2.nii.gzNULL\n",
      "Making folder U:\\LUCADI\\NIFTI\\LUC_0117_Scan_2NULL\n",
      "[1] \"Moving files\"\n"
     ]
    },
    {
     "name": "stderr",
     "output_type": "stream",
     "text": [
      "1 file moved. 0 failed.\n"
     ]
    },
    {
     "name": "stdout",
     "output_type": "stream",
     "text": [
      "[1] \"Done.\"\n",
      "File  199  out of  613 . Name: LUC_0118_Scan_1.nii.gzNULL\n",
      "Making folder U:\\LUCADI\\NIFTI\\LUC_0118_Scan_1NULL\n",
      "[1] \"Moving files\"\n"
     ]
    },
    {
     "name": "stderr",
     "output_type": "stream",
     "text": [
      "1 file moved. 0 failed.\n"
     ]
    },
    {
     "name": "stdout",
     "output_type": "stream",
     "text": [
      "[1] \"Done.\"\n",
      "File  200  out of  613 . Name: LUC_0119_Scan_1.nii.gzNULL\n",
      "Making folder U:\\LUCADI\\NIFTI\\LUC_0119_Scan_1NULL\n",
      "[1] \"Moving files\"\n"
     ]
    },
    {
     "name": "stderr",
     "output_type": "stream",
     "text": [
      "1 file moved. 0 failed.\n"
     ]
    },
    {
     "name": "stdout",
     "output_type": "stream",
     "text": [
      "[1] \"Done.\"\n",
      "File  201  out of  613 . Name: LUC_0120_Scan_1.nii.gzNULL\n",
      "Making folder U:\\LUCADI\\NIFTI\\LUC_0120_Scan_1NULL\n",
      "[1] \"Moving files\"\n"
     ]
    },
    {
     "name": "stderr",
     "output_type": "stream",
     "text": [
      "1 file moved. 0 failed.\n"
     ]
    },
    {
     "name": "stdout",
     "output_type": "stream",
     "text": [
      "[1] \"Done.\"\n",
      "File  202  out of  613 . Name: LUC_0120_Scan_2.nii.gzNULL\n",
      "Making folder U:\\LUCADI\\NIFTI\\LUC_0120_Scan_2NULL\n",
      "[1] \"Moving files\"\n"
     ]
    },
    {
     "name": "stderr",
     "output_type": "stream",
     "text": [
      "1 file moved. 0 failed.\n"
     ]
    },
    {
     "name": "stdout",
     "output_type": "stream",
     "text": [
      "[1] \"Done.\"\n",
      "File  203  out of  613 . Name: LUC_0121_Scan_1.nii.gzNULL\n",
      "Making folder U:\\LUCADI\\NIFTI\\LUC_0121_Scan_1NULL\n",
      "[1] \"Moving files\"\n"
     ]
    },
    {
     "name": "stderr",
     "output_type": "stream",
     "text": [
      "1 file moved. 0 failed.\n"
     ]
    },
    {
     "name": "stdout",
     "output_type": "stream",
     "text": [
      "[1] \"Done.\"\n",
      "File  204  out of  613 . Name: LUC_0121_Scan_2.nii.gzNULL\n",
      "Making folder U:\\LUCADI\\NIFTI\\LUC_0121_Scan_2NULL\n",
      "[1] \"Moving files\"\n"
     ]
    },
    {
     "name": "stderr",
     "output_type": "stream",
     "text": [
      "1 file moved. 0 failed.\n"
     ]
    },
    {
     "name": "stdout",
     "output_type": "stream",
     "text": [
      "[1] \"Done.\"\n",
      "File  205  out of  613 . Name: LUC_0122_Scan_1.nii.gzNULL\n",
      "Making folder U:\\LUCADI\\NIFTI\\LUC_0122_Scan_1NULL\n",
      "[1] \"Moving files\"\n"
     ]
    },
    {
     "name": "stderr",
     "output_type": "stream",
     "text": [
      "1 file moved. 0 failed.\n"
     ]
    },
    {
     "name": "stdout",
     "output_type": "stream",
     "text": [
      "[1] \"Done.\"\n",
      "File  206  out of  613 . Name: LUC_0123_Scan_1.nii.gzNULL\n",
      "Making folder U:\\LUCADI\\NIFTI\\LUC_0123_Scan_1NULL\n",
      "[1] \"Moving files\"\n"
     ]
    },
    {
     "name": "stderr",
     "output_type": "stream",
     "text": [
      "1 file moved. 0 failed.\n"
     ]
    },
    {
     "name": "stdout",
     "output_type": "stream",
     "text": [
      "[1] \"Done.\"\n",
      "File  207  out of  613 . Name: LUC_0123_Scan_2.nii.gzNULL\n",
      "Making folder U:\\LUCADI\\NIFTI\\LUC_0123_Scan_2NULL\n",
      "[1] \"Moving files\"\n"
     ]
    },
    {
     "name": "stderr",
     "output_type": "stream",
     "text": [
      "1 file moved. 0 failed.\n"
     ]
    },
    {
     "name": "stdout",
     "output_type": "stream",
     "text": [
      "[1] \"Done.\"\n",
      "File  208  out of  613 . Name: LUC_0124_Scan_1.nii.gzNULL\n",
      "Making folder U:\\LUCADI\\NIFTI\\LUC_0124_Scan_1NULL\n",
      "[1] \"Moving files\"\n"
     ]
    },
    {
     "name": "stderr",
     "output_type": "stream",
     "text": [
      "1 file moved. 0 failed.\n"
     ]
    },
    {
     "name": "stdout",
     "output_type": "stream",
     "text": [
      "[1] \"Done.\"\n",
      "File  209  out of  613 . Name: LUC_0125_Scan_1.nii.gzNULL\n",
      "Making folder U:\\LUCADI\\NIFTI\\LUC_0125_Scan_1NULL\n",
      "[1] \"Moving files\"\n"
     ]
    },
    {
     "name": "stderr",
     "output_type": "stream",
     "text": [
      "1 file moved. 0 failed.\n"
     ]
    },
    {
     "name": "stdout",
     "output_type": "stream",
     "text": [
      "[1] \"Done.\"\n",
      "File  210  out of  613 . Name: LUC_0126_Scan_1.nii.gzNULL\n",
      "Making folder U:\\LUCADI\\NIFTI\\LUC_0126_Scan_1NULL\n",
      "[1] \"Moving files\"\n"
     ]
    },
    {
     "name": "stderr",
     "output_type": "stream",
     "text": [
      "1 file moved. 0 failed.\n"
     ]
    },
    {
     "name": "stdout",
     "output_type": "stream",
     "text": [
      "[1] \"Done.\"\n",
      "File  211  out of  613 . Name: LUC_0127_Scan_1.nii.gzNULL\n",
      "Making folder U:\\LUCADI\\NIFTI\\LUC_0127_Scan_1NULL\n",
      "[1] \"Moving files\"\n"
     ]
    },
    {
     "name": "stderr",
     "output_type": "stream",
     "text": [
      "1 file moved. 0 failed.\n"
     ]
    },
    {
     "name": "stdout",
     "output_type": "stream",
     "text": [
      "[1] \"Done.\"\n",
      "File  212  out of  613 . Name: LUC_0127_Scan_2.nii.gzNULL\n",
      "Making folder U:\\LUCADI\\NIFTI\\LUC_0127_Scan_2NULL\n",
      "[1] \"Moving files\"\n"
     ]
    },
    {
     "name": "stderr",
     "output_type": "stream",
     "text": [
      "1 file moved. 0 failed.\n"
     ]
    },
    {
     "name": "stdout",
     "output_type": "stream",
     "text": [
      "[1] \"Done.\"\n",
      "File  213  out of  613 . Name: LUC_0128_Scan_1.nii.gzNULL\n",
      "Making folder U:\\LUCADI\\NIFTI\\LUC_0128_Scan_1NULL\n",
      "[1] \"Moving files\"\n"
     ]
    },
    {
     "name": "stderr",
     "output_type": "stream",
     "text": [
      "1 file moved. 0 failed.\n"
     ]
    },
    {
     "name": "stdout",
     "output_type": "stream",
     "text": [
      "[1] \"Done.\"\n",
      "File  214  out of  613 . Name: LUC_0129_Scan_1.nii.gzNULL\n",
      "Making folder U:\\LUCADI\\NIFTI\\LUC_0129_Scan_1NULL\n",
      "[1] \"Moving files\"\n"
     ]
    },
    {
     "name": "stderr",
     "output_type": "stream",
     "text": [
      "1 file moved. 0 failed.\n"
     ]
    },
    {
     "name": "stdout",
     "output_type": "stream",
     "text": [
      "[1] \"Done.\"\n",
      "File  215  out of  613 . Name: LUC_0129_Scan_2.nii.gzNULL\n",
      "Making folder U:\\LUCADI\\NIFTI\\LUC_0129_Scan_2NULL\n",
      "[1] \"Moving files\"\n"
     ]
    },
    {
     "name": "stderr",
     "output_type": "stream",
     "text": [
      "1 file moved. 0 failed.\n"
     ]
    },
    {
     "name": "stdout",
     "output_type": "stream",
     "text": [
      "[1] \"Done.\"\n",
      "File  216  out of  613 . Name: LUC_0130_Scan_1.nii.gzNULL\n",
      "Making folder U:\\LUCADI\\NIFTI\\LUC_0130_Scan_1NULL\n",
      "[1] \"Moving files\"\n"
     ]
    },
    {
     "name": "stderr",
     "output_type": "stream",
     "text": [
      "1 file moved. 0 failed.\n"
     ]
    },
    {
     "name": "stdout",
     "output_type": "stream",
     "text": [
      "[1] \"Done.\"\n",
      "File  217  out of  613 . Name: LUC_0131_Scan_1.nii.gzNULL\n",
      "Making folder U:\\LUCADI\\NIFTI\\LUC_0131_Scan_1NULL\n",
      "[1] \"Moving files\"\n"
     ]
    },
    {
     "name": "stderr",
     "output_type": "stream",
     "text": [
      "1 file moved. 0 failed.\n"
     ]
    },
    {
     "name": "stdout",
     "output_type": "stream",
     "text": [
      "[1] \"Done.\"\n",
      "File  218  out of  613 . Name: LUC_0132_Scan_1.nii.gzNULL\n",
      "Making folder U:\\LUCADI\\NIFTI\\LUC_0132_Scan_1NULL\n",
      "[1] \"Moving files\"\n"
     ]
    },
    {
     "name": "stderr",
     "output_type": "stream",
     "text": [
      "1 file moved. 0 failed.\n"
     ]
    },
    {
     "name": "stdout",
     "output_type": "stream",
     "text": [
      "[1] \"Done.\"\n",
      "File  219  out of  613 . Name: LUC_0133_Scan_1.nii.gzNULL\n",
      "Making folder U:\\LUCADI\\NIFTI\\LUC_0133_Scan_1NULL\n",
      "[1] \"Moving files\"\n"
     ]
    },
    {
     "name": "stderr",
     "output_type": "stream",
     "text": [
      "1 file moved. 0 failed.\n"
     ]
    },
    {
     "name": "stdout",
     "output_type": "stream",
     "text": [
      "[1] \"Done.\"\n",
      "File  220  out of  613 . Name: LUC_0133_Scan_2.nii.gzNULL\n",
      "Making folder U:\\LUCADI\\NIFTI\\LUC_0133_Scan_2NULL\n",
      "[1] \"Moving files\"\n"
     ]
    },
    {
     "name": "stderr",
     "output_type": "stream",
     "text": [
      "1 file moved. 0 failed.\n"
     ]
    },
    {
     "name": "stdout",
     "output_type": "stream",
     "text": [
      "[1] \"Done.\"\n",
      "File  221  out of  613 . Name: LUC_0134_Scan_1.nii.gzNULL\n",
      "Making folder U:\\LUCADI\\NIFTI\\LUC_0134_Scan_1NULL\n",
      "[1] \"Moving files\"\n"
     ]
    },
    {
     "name": "stderr",
     "output_type": "stream",
     "text": [
      "1 file moved. 0 failed.\n"
     ]
    },
    {
     "name": "stdout",
     "output_type": "stream",
     "text": [
      "[1] \"Done.\"\n",
      "File  222  out of  613 . Name: LUC_0134_Scan_2.nii.gzNULL\n",
      "Making folder U:\\LUCADI\\NIFTI\\LUC_0134_Scan_2NULL\n",
      "[1] \"Moving files\"\n"
     ]
    },
    {
     "name": "stderr",
     "output_type": "stream",
     "text": [
      "1 file moved. 0 failed.\n"
     ]
    },
    {
     "name": "stdout",
     "output_type": "stream",
     "text": [
      "[1] \"Done.\"\n",
      "File  223  out of  613 . Name: LUC_0134_Scan_3.nii.gzNULL\n",
      "Making folder U:\\LUCADI\\NIFTI\\LUC_0134_Scan_3NULL\n",
      "[1] \"Moving files\"\n"
     ]
    },
    {
     "name": "stderr",
     "output_type": "stream",
     "text": [
      "1 file moved. 0 failed.\n"
     ]
    },
    {
     "name": "stdout",
     "output_type": "stream",
     "text": [
      "[1] \"Done.\"\n",
      "File  224  out of  613 . Name: LUC_0135_Scan_1.nii.gzNULL\n",
      "Making folder U:\\LUCADI\\NIFTI\\LUC_0135_Scan_1NULL\n",
      "[1] \"Moving files\"\n"
     ]
    },
    {
     "name": "stderr",
     "output_type": "stream",
     "text": [
      "1 file moved. 0 failed.\n"
     ]
    },
    {
     "name": "stdout",
     "output_type": "stream",
     "text": [
      "[1] \"Done.\"\n",
      "File  225  out of  613 . Name: LUC_0135_Scan_2.nii.gzNULL\n",
      "Making folder U:\\LUCADI\\NIFTI\\LUC_0135_Scan_2NULL\n",
      "[1] \"Moving files\"\n"
     ]
    },
    {
     "name": "stderr",
     "output_type": "stream",
     "text": [
      "1 file moved. 0 failed.\n"
     ]
    },
    {
     "name": "stdout",
     "output_type": "stream",
     "text": [
      "[1] \"Done.\"\n",
      "File  226  out of  613 . Name: LUC_0136_Scan_1.nii.gzNULL\n",
      "Making folder U:\\LUCADI\\NIFTI\\LUC_0136_Scan_1NULL\n",
      "[1] \"Moving files\"\n"
     ]
    },
    {
     "name": "stderr",
     "output_type": "stream",
     "text": [
      "1 file moved. 0 failed.\n"
     ]
    },
    {
     "name": "stdout",
     "output_type": "stream",
     "text": [
      "[1] \"Done.\"\n",
      "File  227  out of  613 . Name: LUC_0137_Scan_1.nii.gzNULL\n",
      "Making folder U:\\LUCADI\\NIFTI\\LUC_0137_Scan_1NULL\n",
      "[1] \"Moving files\"\n"
     ]
    },
    {
     "name": "stderr",
     "output_type": "stream",
     "text": [
      "1 file moved. 0 failed.\n"
     ]
    },
    {
     "name": "stdout",
     "output_type": "stream",
     "text": [
      "[1] \"Done.\"\n",
      "File  228  out of  613 . Name: LUC_0137_Scan_2.nii.gzNULL\n",
      "Making folder U:\\LUCADI\\NIFTI\\LUC_0137_Scan_2NULL\n",
      "[1] \"Moving files\"\n"
     ]
    },
    {
     "name": "stderr",
     "output_type": "stream",
     "text": [
      "1 file moved. 0 failed.\n"
     ]
    },
    {
     "name": "stdout",
     "output_type": "stream",
     "text": [
      "[1] \"Done.\"\n",
      "File  229  out of  613 . Name: LUC_0137_Scan_3.nii.gzNULL\n",
      "Making folder U:\\LUCADI\\NIFTI\\LUC_0137_Scan_3NULL\n",
      "[1] \"Moving files\"\n"
     ]
    },
    {
     "name": "stderr",
     "output_type": "stream",
     "text": [
      "1 file moved. 0 failed.\n"
     ]
    },
    {
     "name": "stdout",
     "output_type": "stream",
     "text": [
      "[1] \"Done.\"\n",
      "File  230  out of  613 . Name: LUC_0138_Scan_1.nii.gzNULL\n",
      "Making folder U:\\LUCADI\\NIFTI\\LUC_0138_Scan_1NULL\n",
      "[1] \"Moving files\"\n"
     ]
    },
    {
     "name": "stderr",
     "output_type": "stream",
     "text": [
      "1 file moved. 0 failed.\n"
     ]
    },
    {
     "name": "stdout",
     "output_type": "stream",
     "text": [
      "[1] \"Done.\"\n",
      "File  231  out of  613 . Name: LUC_0138_Scan_2.nii.gzNULL\n",
      "Making folder U:\\LUCADI\\NIFTI\\LUC_0138_Scan_2NULL\n",
      "[1] \"Moving files\"\n"
     ]
    },
    {
     "name": "stderr",
     "output_type": "stream",
     "text": [
      "1 file moved. 0 failed.\n"
     ]
    },
    {
     "name": "stdout",
     "output_type": "stream",
     "text": [
      "[1] \"Done.\"\n",
      "File  232  out of  613 . Name: LUC_0138_Scan_3.nii.gzNULL\n",
      "Making folder U:\\LUCADI\\NIFTI\\LUC_0138_Scan_3NULL\n",
      "[1] \"Moving files\"\n"
     ]
    },
    {
     "name": "stderr",
     "output_type": "stream",
     "text": [
      "1 file moved. 0 failed.\n"
     ]
    },
    {
     "name": "stdout",
     "output_type": "stream",
     "text": [
      "[1] \"Done.\"\n",
      "File  233  out of  613 . Name: LUC_0139_Scan_1.nii.gzNULL\n",
      "Making folder U:\\LUCADI\\NIFTI\\LUC_0139_Scan_1NULL\n",
      "[1] \"Moving files\"\n"
     ]
    },
    {
     "name": "stderr",
     "output_type": "stream",
     "text": [
      "1 file moved. 0 failed.\n"
     ]
    },
    {
     "name": "stdout",
     "output_type": "stream",
     "text": [
      "[1] \"Done.\"\n",
      "File  234  out of  613 . Name: LUC_0140_Scan_1.nii.gzNULL\n",
      "Making folder U:\\LUCADI\\NIFTI\\LUC_0140_Scan_1NULL\n",
      "[1] \"Moving files\"\n"
     ]
    },
    {
     "name": "stderr",
     "output_type": "stream",
     "text": [
      "1 file moved. 0 failed.\n"
     ]
    },
    {
     "name": "stdout",
     "output_type": "stream",
     "text": [
      "[1] \"Done.\"\n",
      "File  235  out of  613 . Name: LUC_0141_Scan_1.nii.gzNULL\n",
      "Making folder U:\\LUCADI\\NIFTI\\LUC_0141_Scan_1NULL\n",
      "[1] \"Moving files\"\n"
     ]
    },
    {
     "name": "stderr",
     "output_type": "stream",
     "text": [
      "1 file moved. 0 failed.\n"
     ]
    },
    {
     "name": "stdout",
     "output_type": "stream",
     "text": [
      "[1] \"Done.\"\n",
      "File  236  out of  613 . Name: LUC_0141_Scan_2.nii.gzNULL\n",
      "Making folder U:\\LUCADI\\NIFTI\\LUC_0141_Scan_2NULL\n",
      "[1] \"Moving files\"\n"
     ]
    },
    {
     "name": "stderr",
     "output_type": "stream",
     "text": [
      "1 file moved. 0 failed.\n"
     ]
    },
    {
     "name": "stdout",
     "output_type": "stream",
     "text": [
      "[1] \"Done.\"\n",
      "File  237  out of  613 . Name: LUC_0142_Scan_1.nii.gzNULL\n",
      "Making folder U:\\LUCADI\\NIFTI\\LUC_0142_Scan_1NULL\n",
      "[1] \"Moving files\"\n"
     ]
    },
    {
     "name": "stderr",
     "output_type": "stream",
     "text": [
      "1 file moved. 0 failed.\n"
     ]
    },
    {
     "name": "stdout",
     "output_type": "stream",
     "text": [
      "[1] \"Done.\"\n",
      "File  238  out of  613 . Name: LUC_0142_Scan_2.nii.gzNULL\n",
      "Making folder U:\\LUCADI\\NIFTI\\LUC_0142_Scan_2NULL\n",
      "[1] \"Moving files\"\n"
     ]
    },
    {
     "name": "stderr",
     "output_type": "stream",
     "text": [
      "1 file moved. 0 failed.\n"
     ]
    },
    {
     "name": "stdout",
     "output_type": "stream",
     "text": [
      "[1] \"Done.\"\n",
      "File  239  out of  613 . Name: LUC_0143_Scan_1.nii.gzNULL\n",
      "Making folder U:\\LUCADI\\NIFTI\\LUC_0143_Scan_1NULL\n",
      "[1] \"Moving files\"\n"
     ]
    },
    {
     "name": "stderr",
     "output_type": "stream",
     "text": [
      "1 file moved. 0 failed.\n"
     ]
    },
    {
     "name": "stdout",
     "output_type": "stream",
     "text": [
      "[1] \"Done.\"\n",
      "File  240  out of  613 . Name: LUC_0144_Scan_1.nii.gzNULL\n",
      "Making folder U:\\LUCADI\\NIFTI\\LUC_0144_Scan_1NULL\n",
      "[1] \"Moving files\"\n"
     ]
    },
    {
     "name": "stderr",
     "output_type": "stream",
     "text": [
      "1 file moved. 0 failed.\n"
     ]
    },
    {
     "name": "stdout",
     "output_type": "stream",
     "text": [
      "[1] \"Done.\"\n",
      "File  241  out of  613 . Name: LUC_0144_Scan_2.nii.gzNULL\n",
      "Making folder U:\\LUCADI\\NIFTI\\LUC_0144_Scan_2NULL\n",
      "[1] \"Moving files\"\n"
     ]
    },
    {
     "name": "stderr",
     "output_type": "stream",
     "text": [
      "1 file moved. 0 failed.\n"
     ]
    },
    {
     "name": "stdout",
     "output_type": "stream",
     "text": [
      "[1] \"Done.\"\n",
      "File  242  out of  613 . Name: LUC_0144_Scan_3.nii.gzNULL\n",
      "Making folder U:\\LUCADI\\NIFTI\\LUC_0144_Scan_3NULL\n",
      "[1] \"Moving files\"\n"
     ]
    },
    {
     "name": "stderr",
     "output_type": "stream",
     "text": [
      "1 file moved. 0 failed.\n"
     ]
    },
    {
     "name": "stdout",
     "output_type": "stream",
     "text": [
      "[1] \"Done.\"\n",
      "File  243  out of  613 . Name: LUC_0145_Scan_1.nii.gzNULL\n",
      "Making folder U:\\LUCADI\\NIFTI\\LUC_0145_Scan_1NULL\n",
      "[1] \"Moving files\"\n"
     ]
    },
    {
     "name": "stderr",
     "output_type": "stream",
     "text": [
      "1 file moved. 0 failed.\n"
     ]
    },
    {
     "name": "stdout",
     "output_type": "stream",
     "text": [
      "[1] \"Done.\"\n",
      "File  244  out of  613 . Name: LUC_0146_Scan_1.nii.gzNULL\n",
      "Making folder U:\\LUCADI\\NIFTI\\LUC_0146_Scan_1NULL\n",
      "[1] \"Moving files\"\n"
     ]
    },
    {
     "name": "stderr",
     "output_type": "stream",
     "text": [
      "1 file moved. 0 failed.\n"
     ]
    },
    {
     "name": "stdout",
     "output_type": "stream",
     "text": [
      "[1] \"Done.\"\n",
      "File  245  out of  613 . Name: LUC_0147_Scan_1.nii.gzNULL\n",
      "Making folder U:\\LUCADI\\NIFTI\\LUC_0147_Scan_1NULL\n",
      "[1] \"Moving files\"\n"
     ]
    },
    {
     "name": "stderr",
     "output_type": "stream",
     "text": [
      "1 file moved. 0 failed.\n"
     ]
    },
    {
     "name": "stdout",
     "output_type": "stream",
     "text": [
      "[1] \"Done.\"\n",
      "File  246  out of  613 . Name: LUC_0147_Scan_2.nii.gzNULL\n",
      "Making folder U:\\LUCADI\\NIFTI\\LUC_0147_Scan_2NULL\n",
      "[1] \"Moving files\"\n"
     ]
    },
    {
     "name": "stderr",
     "output_type": "stream",
     "text": [
      "1 file moved. 0 failed.\n"
     ]
    },
    {
     "name": "stdout",
     "output_type": "stream",
     "text": [
      "[1] \"Done.\"\n",
      "File  247  out of  613 . Name: LUC_0148_Scan_1.nii.gzNULL\n",
      "Making folder U:\\LUCADI\\NIFTI\\LUC_0148_Scan_1NULL\n",
      "[1] \"Moving files\"\n"
     ]
    },
    {
     "name": "stderr",
     "output_type": "stream",
     "text": [
      "1 file moved. 0 failed.\n"
     ]
    },
    {
     "name": "stdout",
     "output_type": "stream",
     "text": [
      "[1] \"Done.\"\n",
      "File  248  out of  613 . Name: LUC_0149_Scan_1.nii.gzNULL\n",
      "Making folder U:\\LUCADI\\NIFTI\\LUC_0149_Scan_1NULL\n",
      "[1] \"Moving files\"\n"
     ]
    },
    {
     "name": "stderr",
     "output_type": "stream",
     "text": [
      "1 file moved. 0 failed.\n"
     ]
    },
    {
     "name": "stdout",
     "output_type": "stream",
     "text": [
      "[1] \"Done.\"\n",
      "File  249  out of  613 . Name: LUC_0150_Scan_1.nii.gzNULL\n",
      "Making folder U:\\LUCADI\\NIFTI\\LUC_0150_Scan_1NULL\n",
      "[1] \"Moving files\"\n"
     ]
    },
    {
     "name": "stderr",
     "output_type": "stream",
     "text": [
      "1 file moved. 0 failed.\n"
     ]
    },
    {
     "name": "stdout",
     "output_type": "stream",
     "text": [
      "[1] \"Done.\"\n",
      "File  250  out of  613 . Name: LUC_0151_Scan_1.nii.gzNULL\n",
      "Making folder U:\\LUCADI\\NIFTI\\LUC_0151_Scan_1NULL\n",
      "[1] \"Moving files\"\n"
     ]
    },
    {
     "name": "stderr",
     "output_type": "stream",
     "text": [
      "1 file moved. 0 failed.\n"
     ]
    },
    {
     "name": "stdout",
     "output_type": "stream",
     "text": [
      "[1] \"Done.\"\n",
      "File  251  out of  613 . Name: LUC_0151_Scan_2.nii.gzNULL\n",
      "Making folder U:\\LUCADI\\NIFTI\\LUC_0151_Scan_2NULL\n",
      "[1] \"Moving files\"\n"
     ]
    },
    {
     "name": "stderr",
     "output_type": "stream",
     "text": [
      "1 file moved. 0 failed.\n"
     ]
    },
    {
     "name": "stdout",
     "output_type": "stream",
     "text": [
      "[1] \"Done.\"\n",
      "File  252  out of  613 . Name: LUC_0152_Scan_1.nii.gzNULL\n",
      "Making folder U:\\LUCADI\\NIFTI\\LUC_0152_Scan_1NULL\n",
      "[1] \"Moving files\"\n"
     ]
    },
    {
     "name": "stderr",
     "output_type": "stream",
     "text": [
      "1 file moved. 0 failed.\n"
     ]
    },
    {
     "name": "stdout",
     "output_type": "stream",
     "text": [
      "[1] \"Done.\"\n",
      "File  253  out of  613 . Name: LUC_0153_Scan_1.nii.gzNULL\n",
      "Making folder U:\\LUCADI\\NIFTI\\LUC_0153_Scan_1NULL\n",
      "[1] \"Moving files\"\n"
     ]
    },
    {
     "name": "stderr",
     "output_type": "stream",
     "text": [
      "1 file moved. 0 failed.\n"
     ]
    },
    {
     "name": "stdout",
     "output_type": "stream",
     "text": [
      "[1] \"Done.\"\n",
      "File  254  out of  613 . Name: LUC_0154_Scan_1.nii.gzNULL\n",
      "Making folder U:\\LUCADI\\NIFTI\\LUC_0154_Scan_1NULL\n",
      "[1] \"Moving files\"\n"
     ]
    },
    {
     "name": "stderr",
     "output_type": "stream",
     "text": [
      "1 file moved. 0 failed.\n"
     ]
    },
    {
     "name": "stdout",
     "output_type": "stream",
     "text": [
      "[1] \"Done.\"\n",
      "File  255  out of  613 . Name: LUC_0154_Scan_2.nii.gzNULL\n",
      "Making folder U:\\LUCADI\\NIFTI\\LUC_0154_Scan_2NULL\n",
      "[1] \"Moving files\"\n"
     ]
    },
    {
     "name": "stderr",
     "output_type": "stream",
     "text": [
      "1 file moved. 0 failed.\n"
     ]
    },
    {
     "name": "stdout",
     "output_type": "stream",
     "text": [
      "[1] \"Done.\"\n",
      "File  256  out of  613 . Name: LUC_0155_Scan_1.nii.gzNULL\n",
      "Making folder U:\\LUCADI\\NIFTI\\LUC_0155_Scan_1NULL\n",
      "[1] \"Moving files\"\n"
     ]
    },
    {
     "name": "stderr",
     "output_type": "stream",
     "text": [
      "1 file moved. 0 failed.\n"
     ]
    },
    {
     "name": "stdout",
     "output_type": "stream",
     "text": [
      "[1] \"Done.\"\n",
      "File  257  out of  613 . Name: LUC_0156_Scan_1.nii.gzNULL\n",
      "Making folder U:\\LUCADI\\NIFTI\\LUC_0156_Scan_1NULL\n",
      "[1] \"Moving files\"\n"
     ]
    },
    {
     "name": "stderr",
     "output_type": "stream",
     "text": [
      "1 file moved. 0 failed.\n"
     ]
    },
    {
     "name": "stdout",
     "output_type": "stream",
     "text": [
      "[1] \"Done.\"\n",
      "File  258  out of  613 . Name: LUC_0156_Scan_2.nii.gzNULL\n",
      "Making folder U:\\LUCADI\\NIFTI\\LUC_0156_Scan_2NULL\n",
      "[1] \"Moving files\"\n"
     ]
    },
    {
     "name": "stderr",
     "output_type": "stream",
     "text": [
      "1 file moved. 0 failed.\n"
     ]
    },
    {
     "name": "stdout",
     "output_type": "stream",
     "text": [
      "[1] \"Done.\"\n",
      "File  259  out of  613 . Name: LUC_0157_Scan_1.nii.gzNULL\n",
      "Making folder U:\\LUCADI\\NIFTI\\LUC_0157_Scan_1NULL\n",
      "[1] \"Moving files\"\n"
     ]
    },
    {
     "name": "stderr",
     "output_type": "stream",
     "text": [
      "1 file moved. 0 failed.\n"
     ]
    },
    {
     "name": "stdout",
     "output_type": "stream",
     "text": [
      "[1] \"Done.\"\n",
      "File  260  out of  613 . Name: LUC_0157_Scan_2.nii.gzNULL\n",
      "Making folder U:\\LUCADI\\NIFTI\\LUC_0157_Scan_2NULL\n",
      "[1] \"Moving files\"\n"
     ]
    },
    {
     "name": "stderr",
     "output_type": "stream",
     "text": [
      "1 file moved. 0 failed.\n"
     ]
    },
    {
     "name": "stdout",
     "output_type": "stream",
     "text": [
      "[1] \"Done.\"\n",
      "File  261  out of  613 . Name: LUC_0157_Scan_3.nii.gzNULL\n",
      "Making folder U:\\LUCADI\\NIFTI\\LUC_0157_Scan_3NULL\n",
      "[1] \"Moving files\"\n"
     ]
    },
    {
     "name": "stderr",
     "output_type": "stream",
     "text": [
      "1 file moved. 0 failed.\n"
     ]
    },
    {
     "name": "stdout",
     "output_type": "stream",
     "text": [
      "[1] \"Done.\"\n",
      "File  262  out of  613 . Name: LUC_0158_Scan_1.nii.gzNULL\n",
      "Making folder U:\\LUCADI\\NIFTI\\LUC_0158_Scan_1NULL\n",
      "[1] \"Moving files\"\n"
     ]
    },
    {
     "name": "stderr",
     "output_type": "stream",
     "text": [
      "1 file moved. 0 failed.\n"
     ]
    },
    {
     "name": "stdout",
     "output_type": "stream",
     "text": [
      "[1] \"Done.\"\n",
      "File  263  out of  613 . Name: LUC_0159_Scan_1.nii.gzNULL\n",
      "Making folder U:\\LUCADI\\NIFTI\\LUC_0159_Scan_1NULL\n",
      "[1] \"Moving files\"\n"
     ]
    },
    {
     "name": "stderr",
     "output_type": "stream",
     "text": [
      "1 file moved. 0 failed.\n"
     ]
    },
    {
     "name": "stdout",
     "output_type": "stream",
     "text": [
      "[1] \"Done.\"\n",
      "File  264  out of  613 . Name: LUC_0160_Scan_1.nii.gzNULL\n",
      "Making folder U:\\LUCADI\\NIFTI\\LUC_0160_Scan_1NULL\n",
      "[1] \"Moving files\"\n"
     ]
    },
    {
     "name": "stderr",
     "output_type": "stream",
     "text": [
      "1 file moved. 0 failed.\n"
     ]
    },
    {
     "name": "stdout",
     "output_type": "stream",
     "text": [
      "[1] \"Done.\"\n",
      "File  265  out of  613 . Name: LUC_0161_Scan_1.nii.gzNULL\n",
      "Making folder U:\\LUCADI\\NIFTI\\LUC_0161_Scan_1NULL\n",
      "[1] \"Moving files\"\n"
     ]
    },
    {
     "name": "stderr",
     "output_type": "stream",
     "text": [
      "1 file moved. 0 failed.\n"
     ]
    },
    {
     "name": "stdout",
     "output_type": "stream",
     "text": [
      "[1] \"Done.\"\n",
      "File  266  out of  613 . Name: LUC_0162_Scan_1.nii.gzNULL\n",
      "Making folder U:\\LUCADI\\NIFTI\\LUC_0162_Scan_1NULL\n",
      "[1] \"Moving files\"\n"
     ]
    },
    {
     "name": "stderr",
     "output_type": "stream",
     "text": [
      "1 file moved. 0 failed.\n"
     ]
    },
    {
     "name": "stdout",
     "output_type": "stream",
     "text": [
      "[1] \"Done.\"\n",
      "File  267  out of  613 . Name: LUC_0163_Scan_1.nii.gzNULL\n",
      "Making folder U:\\LUCADI\\NIFTI\\LUC_0163_Scan_1NULL\n",
      "[1] \"Moving files\"\n"
     ]
    },
    {
     "name": "stderr",
     "output_type": "stream",
     "text": [
      "1 file moved. 0 failed.\n"
     ]
    },
    {
     "name": "stdout",
     "output_type": "stream",
     "text": [
      "[1] \"Done.\"\n",
      "File  268  out of  613 . Name: LUC_0164_Scan_1.nii.gzNULL\n",
      "Making folder U:\\LUCADI\\NIFTI\\LUC_0164_Scan_1NULL\n",
      "[1] \"Moving files\"\n"
     ]
    },
    {
     "name": "stderr",
     "output_type": "stream",
     "text": [
      "1 file moved. 0 failed.\n"
     ]
    },
    {
     "name": "stdout",
     "output_type": "stream",
     "text": [
      "[1] \"Done.\"\n",
      "File  269  out of  613 . Name: LUC_0164_Scan_2.nii.gzNULL\n",
      "Making folder U:\\LUCADI\\NIFTI\\LUC_0164_Scan_2NULL\n",
      "[1] \"Moving files\"\n"
     ]
    },
    {
     "name": "stderr",
     "output_type": "stream",
     "text": [
      "1 file moved. 0 failed.\n"
     ]
    },
    {
     "name": "stdout",
     "output_type": "stream",
     "text": [
      "[1] \"Done.\"\n",
      "File  270  out of  613 . Name: LUC_0164_Scan_3.nii.gzNULL\n",
      "Making folder U:\\LUCADI\\NIFTI\\LUC_0164_Scan_3NULL\n",
      "[1] \"Moving files\"\n"
     ]
    },
    {
     "name": "stderr",
     "output_type": "stream",
     "text": [
      "1 file moved. 0 failed.\n"
     ]
    },
    {
     "name": "stdout",
     "output_type": "stream",
     "text": [
      "[1] \"Done.\"\n",
      "File  271  out of  613 . Name: LUC_0165_Scan_1.nii.gzNULL\n",
      "Making folder U:\\LUCADI\\NIFTI\\LUC_0165_Scan_1NULL\n",
      "[1] \"Moving files\"\n"
     ]
    },
    {
     "name": "stderr",
     "output_type": "stream",
     "text": [
      "1 file moved. 0 failed.\n"
     ]
    },
    {
     "name": "stdout",
     "output_type": "stream",
     "text": [
      "[1] \"Done.\"\n",
      "File  272  out of  613 . Name: LUC_0165_Scan_2.nii.gzNULL\n",
      "Making folder U:\\LUCADI\\NIFTI\\LUC_0165_Scan_2NULL\n",
      "[1] \"Moving files\"\n"
     ]
    },
    {
     "name": "stderr",
     "output_type": "stream",
     "text": [
      "1 file moved. 0 failed.\n"
     ]
    },
    {
     "name": "stdout",
     "output_type": "stream",
     "text": [
      "[1] \"Done.\"\n",
      "File  273  out of  613 . Name: LUC_0165_Scan_3.nii.gzNULL\n",
      "Making folder U:\\LUCADI\\NIFTI\\LUC_0165_Scan_3NULL\n",
      "[1] \"Moving files\"\n"
     ]
    },
    {
     "name": "stderr",
     "output_type": "stream",
     "text": [
      "1 file moved. 0 failed.\n"
     ]
    },
    {
     "name": "stdout",
     "output_type": "stream",
     "text": [
      "[1] \"Done.\"\n",
      "File  274  out of  613 . Name: LUC_0166_Scan_1.nii.gzNULL\n",
      "Making folder U:\\LUCADI\\NIFTI\\LUC_0166_Scan_1NULL\n",
      "[1] \"Moving files\"\n"
     ]
    },
    {
     "name": "stderr",
     "output_type": "stream",
     "text": [
      "1 file moved. 0 failed.\n"
     ]
    },
    {
     "name": "stdout",
     "output_type": "stream",
     "text": [
      "[1] \"Done.\"\n",
      "File  275  out of  613 . Name: LUC_0166_Scan_2.nii.gzNULL\n",
      "Making folder U:\\LUCADI\\NIFTI\\LUC_0166_Scan_2NULL\n",
      "[1] \"Moving files\"\n"
     ]
    },
    {
     "name": "stderr",
     "output_type": "stream",
     "text": [
      "1 file moved. 0 failed.\n"
     ]
    },
    {
     "name": "stdout",
     "output_type": "stream",
     "text": [
      "[1] \"Done.\"\n",
      "File  276  out of  613 . Name: LUC_0167_Scan_1.nii.gzNULL\n",
      "Making folder U:\\LUCADI\\NIFTI\\LUC_0167_Scan_1NULL\n",
      "[1] \"Moving files\"\n"
     ]
    },
    {
     "name": "stderr",
     "output_type": "stream",
     "text": [
      "1 file moved. 0 failed.\n"
     ]
    },
    {
     "name": "stdout",
     "output_type": "stream",
     "text": [
      "[1] \"Done.\"\n",
      "File  277  out of  613 . Name: LUC_0168_Scan_1.nii.gzNULL\n",
      "Making folder U:\\LUCADI\\NIFTI\\LUC_0168_Scan_1NULL\n",
      "[1] \"Moving files\"\n"
     ]
    },
    {
     "name": "stderr",
     "output_type": "stream",
     "text": [
      "1 file moved. 0 failed.\n"
     ]
    },
    {
     "name": "stdout",
     "output_type": "stream",
     "text": [
      "[1] \"Done.\"\n",
      "File  278  out of  613 . Name: LUC_0169_Scan_1.nii.gzNULL\n",
      "Making folder U:\\LUCADI\\NIFTI\\LUC_0169_Scan_1NULL\n",
      "[1] \"Moving files\"\n"
     ]
    },
    {
     "name": "stderr",
     "output_type": "stream",
     "text": [
      "1 file moved. 0 failed.\n"
     ]
    },
    {
     "name": "stdout",
     "output_type": "stream",
     "text": [
      "[1] \"Done.\"\n",
      "File  279  out of  613 . Name: LUC_0170_Scan_1.nii.gzNULL\n",
      "Making folder U:\\LUCADI\\NIFTI\\LUC_0170_Scan_1NULL\n",
      "[1] \"Moving files\"\n"
     ]
    },
    {
     "name": "stderr",
     "output_type": "stream",
     "text": [
      "1 file moved. 0 failed.\n"
     ]
    },
    {
     "name": "stdout",
     "output_type": "stream",
     "text": [
      "[1] \"Done.\"\n",
      "File  280  out of  613 . Name: LUC_0171_Scan_1.nii.gzNULL\n",
      "Making folder U:\\LUCADI\\NIFTI\\LUC_0171_Scan_1NULL\n",
      "[1] \"Moving files\"\n"
     ]
    },
    {
     "name": "stderr",
     "output_type": "stream",
     "text": [
      "1 file moved. 0 failed.\n"
     ]
    },
    {
     "name": "stdout",
     "output_type": "stream",
     "text": [
      "[1] \"Done.\"\n",
      "File  281  out of  613 . Name: LUC_0172_Scan_1.nii.gzNULL\n",
      "Making folder U:\\LUCADI\\NIFTI\\LUC_0172_Scan_1NULL\n",
      "[1] \"Moving files\"\n"
     ]
    },
    {
     "name": "stderr",
     "output_type": "stream",
     "text": [
      "1 file moved. 0 failed.\n"
     ]
    },
    {
     "name": "stdout",
     "output_type": "stream",
     "text": [
      "[1] \"Done.\"\n",
      "File  282  out of  613 . Name: LUC_0173_Scan_1.nii.gzNULL\n",
      "Making folder U:\\LUCADI\\NIFTI\\LUC_0173_Scan_1NULL\n",
      "[1] \"Moving files\"\n"
     ]
    },
    {
     "name": "stderr",
     "output_type": "stream",
     "text": [
      "1 file moved. 0 failed.\n"
     ]
    },
    {
     "name": "stdout",
     "output_type": "stream",
     "text": [
      "[1] \"Done.\"\n",
      "File  283  out of  613 . Name: LUC_0174_Scan_1.nii.gzNULL\n",
      "Making folder U:\\LUCADI\\NIFTI\\LUC_0174_Scan_1NULL\n",
      "[1] \"Moving files\"\n"
     ]
    },
    {
     "name": "stderr",
     "output_type": "stream",
     "text": [
      "1 file moved. 0 failed.\n"
     ]
    },
    {
     "name": "stdout",
     "output_type": "stream",
     "text": [
      "[1] \"Done.\"\n",
      "File  284  out of  613 . Name: LUC_0174_Scan_2.nii.gzNULL\n",
      "Making folder U:\\LUCADI\\NIFTI\\LUC_0174_Scan_2NULL\n",
      "[1] \"Moving files\"\n"
     ]
    },
    {
     "name": "stderr",
     "output_type": "stream",
     "text": [
      "1 file moved. 0 failed.\n"
     ]
    },
    {
     "name": "stdout",
     "output_type": "stream",
     "text": [
      "[1] \"Done.\"\n",
      "File  285  out of  613 . Name: LUC_0175_Scan_1.nii.gzNULL\n",
      "Making folder U:\\LUCADI\\NIFTI\\LUC_0175_Scan_1NULL\n",
      "[1] \"Moving files\"\n"
     ]
    },
    {
     "name": "stderr",
     "output_type": "stream",
     "text": [
      "1 file moved. 0 failed.\n"
     ]
    },
    {
     "name": "stdout",
     "output_type": "stream",
     "text": [
      "[1] \"Done.\"\n",
      "File  286  out of  613 . Name: LUC_0176_Scan_1.nii.gzNULL\n",
      "Making folder U:\\LUCADI\\NIFTI\\LUC_0176_Scan_1NULL\n",
      "[1] \"Moving files\"\n"
     ]
    },
    {
     "name": "stderr",
     "output_type": "stream",
     "text": [
      "1 file moved. 0 failed.\n"
     ]
    },
    {
     "name": "stdout",
     "output_type": "stream",
     "text": [
      "[1] \"Done.\"\n",
      "File  287  out of  613 . Name: LUC_0176_Scan_2.nii.gzNULL\n",
      "Making folder U:\\LUCADI\\NIFTI\\LUC_0176_Scan_2NULL\n",
      "[1] \"Moving files\"\n"
     ]
    },
    {
     "name": "stderr",
     "output_type": "stream",
     "text": [
      "1 file moved. 0 failed.\n"
     ]
    },
    {
     "name": "stdout",
     "output_type": "stream",
     "text": [
      "[1] \"Done.\"\n",
      "File  288  out of  613 . Name: LUC_0177_Scan_1.nii.gzNULL\n",
      "Making folder U:\\LUCADI\\NIFTI\\LUC_0177_Scan_1NULL\n",
      "[1] \"Moving files\"\n"
     ]
    },
    {
     "name": "stderr",
     "output_type": "stream",
     "text": [
      "1 file moved. 0 failed.\n"
     ]
    },
    {
     "name": "stdout",
     "output_type": "stream",
     "text": [
      "[1] \"Done.\"\n",
      "File  289  out of  613 . Name: LUC_0177_Scan_2.nii.gzNULL\n",
      "Making folder U:\\LUCADI\\NIFTI\\LUC_0177_Scan_2NULL\n",
      "[1] \"Moving files\"\n"
     ]
    },
    {
     "name": "stderr",
     "output_type": "stream",
     "text": [
      "1 file moved. 0 failed.\n"
     ]
    },
    {
     "name": "stdout",
     "output_type": "stream",
     "text": [
      "[1] \"Done.\"\n",
      "File  290  out of  613 . Name: LUC_0177_Scan_3.nii.gzNULL\n",
      "Making folder U:\\LUCADI\\NIFTI\\LUC_0177_Scan_3NULL\n",
      "[1] \"Moving files\"\n"
     ]
    },
    {
     "name": "stderr",
     "output_type": "stream",
     "text": [
      "1 file moved. 0 failed.\n"
     ]
    },
    {
     "name": "stdout",
     "output_type": "stream",
     "text": [
      "[1] \"Done.\"\n",
      "File  291  out of  613 . Name: LUC_0178_Scan_1.nii.gzNULL\n",
      "Making folder U:\\LUCADI\\NIFTI\\LUC_0178_Scan_1NULL\n",
      "[1] \"Moving files\"\n"
     ]
    },
    {
     "name": "stderr",
     "output_type": "stream",
     "text": [
      "1 file moved. 0 failed.\n"
     ]
    },
    {
     "name": "stdout",
     "output_type": "stream",
     "text": [
      "[1] \"Done.\"\n",
      "File  292  out of  613 . Name: LUC_0178_Scan_2.nii.gzNULL\n",
      "Making folder U:\\LUCADI\\NIFTI\\LUC_0178_Scan_2NULL\n",
      "[1] \"Moving files\"\n"
     ]
    },
    {
     "name": "stderr",
     "output_type": "stream",
     "text": [
      "1 file moved. 0 failed.\n"
     ]
    },
    {
     "name": "stdout",
     "output_type": "stream",
     "text": [
      "[1] \"Done.\"\n",
      "File  293  out of  613 . Name: LUC_0179_Scan_1.nii.gzNULL\n",
      "Making folder U:\\LUCADI\\NIFTI\\LUC_0179_Scan_1NULL\n",
      "[1] \"Moving files\"\n"
     ]
    },
    {
     "name": "stderr",
     "output_type": "stream",
     "text": [
      "1 file moved. 0 failed.\n"
     ]
    },
    {
     "name": "stdout",
     "output_type": "stream",
     "text": [
      "[1] \"Done.\"\n",
      "File  294  out of  613 . Name: LUC_0179_Scan_2.nii.gzNULL\n",
      "Making folder U:\\LUCADI\\NIFTI\\LUC_0179_Scan_2NULL\n",
      "[1] \"Moving files\"\n"
     ]
    },
    {
     "name": "stderr",
     "output_type": "stream",
     "text": [
      "1 file moved. 0 failed.\n"
     ]
    },
    {
     "name": "stdout",
     "output_type": "stream",
     "text": [
      "[1] \"Done.\"\n",
      "File  295  out of  613 . Name: LUC_0180_Scan_1.nii.gzNULL\n",
      "Making folder U:\\LUCADI\\NIFTI\\LUC_0180_Scan_1NULL\n",
      "[1] \"Moving files\"\n"
     ]
    },
    {
     "name": "stderr",
     "output_type": "stream",
     "text": [
      "1 file moved. 0 failed.\n"
     ]
    },
    {
     "name": "stdout",
     "output_type": "stream",
     "text": [
      "[1] \"Done.\"\n",
      "File  296  out of  613 . Name: LUC_0181_Scan_1.nii.gzNULL\n",
      "Making folder U:\\LUCADI\\NIFTI\\LUC_0181_Scan_1NULL\n",
      "[1] \"Moving files\"\n"
     ]
    },
    {
     "name": "stderr",
     "output_type": "stream",
     "text": [
      "1 file moved. 0 failed.\n"
     ]
    },
    {
     "name": "stdout",
     "output_type": "stream",
     "text": [
      "[1] \"Done.\"\n",
      "File  297  out of  613 . Name: LUC_0181_Scan_2.nii.gzNULL\n",
      "Making folder U:\\LUCADI\\NIFTI\\LUC_0181_Scan_2NULL\n",
      "[1] \"Moving files\"\n"
     ]
    },
    {
     "name": "stderr",
     "output_type": "stream",
     "text": [
      "1 file moved. 0 failed.\n"
     ]
    },
    {
     "name": "stdout",
     "output_type": "stream",
     "text": [
      "[1] \"Done.\"\n",
      "File  298  out of  613 . Name: LUC_0182_Scan_1.nii.gzNULL\n",
      "Making folder U:\\LUCADI\\NIFTI\\LUC_0182_Scan_1NULL\n",
      "[1] \"Moving files\"\n"
     ]
    },
    {
     "name": "stderr",
     "output_type": "stream",
     "text": [
      "1 file moved. 0 failed.\n"
     ]
    },
    {
     "name": "stdout",
     "output_type": "stream",
     "text": [
      "[1] \"Done.\"\n",
      "File  299  out of  613 . Name: LUC_0183_Scan_1.nii.gzNULL\n",
      "Making folder U:\\LUCADI\\NIFTI\\LUC_0183_Scan_1NULL\n",
      "[1] \"Moving files\"\n"
     ]
    },
    {
     "name": "stderr",
     "output_type": "stream",
     "text": [
      "1 file moved. 0 failed.\n"
     ]
    },
    {
     "name": "stdout",
     "output_type": "stream",
     "text": [
      "[1] \"Done.\"\n",
      "File  300  out of  613 . Name: LUC_0184_Scan_1.nii.gzNULL\n",
      "Making folder U:\\LUCADI\\NIFTI\\LUC_0184_Scan_1NULL\n",
      "[1] \"Moving files\"\n"
     ]
    },
    {
     "name": "stderr",
     "output_type": "stream",
     "text": [
      "1 file moved. 0 failed.\n"
     ]
    },
    {
     "name": "stdout",
     "output_type": "stream",
     "text": [
      "[1] \"Done.\"\n",
      "File  301  out of  613 . Name: LUC_0184_Scan_2.nii.gzNULL\n",
      "Making folder U:\\LUCADI\\NIFTI\\LUC_0184_Scan_2NULL\n",
      "[1] \"Moving files\"\n"
     ]
    },
    {
     "name": "stderr",
     "output_type": "stream",
     "text": [
      "1 file moved. 0 failed.\n"
     ]
    },
    {
     "name": "stdout",
     "output_type": "stream",
     "text": [
      "[1] \"Done.\"\n",
      "File  302  out of  613 . Name: LUC_0185_Scan_1.nii.gzNULL\n",
      "Making folder U:\\LUCADI\\NIFTI\\LUC_0185_Scan_1NULL\n",
      "[1] \"Moving files\"\n"
     ]
    },
    {
     "name": "stderr",
     "output_type": "stream",
     "text": [
      "1 file moved. 0 failed.\n"
     ]
    },
    {
     "name": "stdout",
     "output_type": "stream",
     "text": [
      "[1] \"Done.\"\n",
      "File  303  out of  613 . Name: LUC_0185_Scan_2.nii.gzNULL\n",
      "Making folder U:\\LUCADI\\NIFTI\\LUC_0185_Scan_2NULL\n",
      "[1] \"Moving files\"\n"
     ]
    },
    {
     "name": "stderr",
     "output_type": "stream",
     "text": [
      "1 file moved. 0 failed.\n"
     ]
    },
    {
     "name": "stdout",
     "output_type": "stream",
     "text": [
      "[1] \"Done.\"\n",
      "File  304  out of  613 . Name: LUC_0186_Scan_1.nii.gzNULL\n",
      "Making folder U:\\LUCADI\\NIFTI\\LUC_0186_Scan_1NULL\n",
      "[1] \"Moving files\"\n"
     ]
    },
    {
     "name": "stderr",
     "output_type": "stream",
     "text": [
      "1 file moved. 0 failed.\n"
     ]
    },
    {
     "name": "stdout",
     "output_type": "stream",
     "text": [
      "[1] \"Done.\"\n",
      "File  305  out of  613 . Name: LUC_0186_Scan_2.nii.gzNULL\n",
      "Making folder U:\\LUCADI\\NIFTI\\LUC_0186_Scan_2NULL\n",
      "[1] \"Moving files\"\n"
     ]
    },
    {
     "name": "stderr",
     "output_type": "stream",
     "text": [
      "1 file moved. 0 failed.\n"
     ]
    },
    {
     "name": "stdout",
     "output_type": "stream",
     "text": [
      "[1] \"Done.\"\n",
      "File  306  out of  613 . Name: LUC_0187_Scan_1.nii.gzNULL\n",
      "Making folder U:\\LUCADI\\NIFTI\\LUC_0187_Scan_1NULL\n",
      "[1] \"Moving files\"\n"
     ]
    },
    {
     "name": "stderr",
     "output_type": "stream",
     "text": [
      "1 file moved. 0 failed.\n"
     ]
    },
    {
     "name": "stdout",
     "output_type": "stream",
     "text": [
      "[1] \"Done.\"\n",
      "File  307  out of  613 . Name: LUC_0187_Scan_2.nii.gzNULL\n",
      "Making folder U:\\LUCADI\\NIFTI\\LUC_0187_Scan_2NULL\n",
      "[1] \"Moving files\"\n"
     ]
    },
    {
     "name": "stderr",
     "output_type": "stream",
     "text": [
      "1 file moved. 0 failed.\n"
     ]
    },
    {
     "name": "stdout",
     "output_type": "stream",
     "text": [
      "[1] \"Done.\"\n",
      "File  308  out of  613 . Name: LUC_0188_Scan_1.nii.gzNULL\n",
      "Making folder U:\\LUCADI\\NIFTI\\LUC_0188_Scan_1NULL\n",
      "[1] \"Moving files\"\n"
     ]
    },
    {
     "name": "stderr",
     "output_type": "stream",
     "text": [
      "1 file moved. 0 failed.\n"
     ]
    },
    {
     "name": "stdout",
     "output_type": "stream",
     "text": [
      "[1] \"Done.\"\n",
      "File  309  out of  613 . Name: LUC_0188_Scan_2.nii.gzNULL\n",
      "Making folder U:\\LUCADI\\NIFTI\\LUC_0188_Scan_2NULL\n",
      "[1] \"Moving files\"\n"
     ]
    },
    {
     "name": "stderr",
     "output_type": "stream",
     "text": [
      "1 file moved. 0 failed.\n"
     ]
    },
    {
     "name": "stdout",
     "output_type": "stream",
     "text": [
      "[1] \"Done.\"\n",
      "File  310  out of  613 . Name: LUC_0188_Scan_3.nii.gzNULL\n",
      "Making folder U:\\LUCADI\\NIFTI\\LUC_0188_Scan_3NULL\n",
      "[1] \"Moving files\"\n"
     ]
    },
    {
     "name": "stderr",
     "output_type": "stream",
     "text": [
      "1 file moved. 0 failed.\n"
     ]
    },
    {
     "name": "stdout",
     "output_type": "stream",
     "text": [
      "[1] \"Done.\"\n",
      "File  311  out of  613 . Name: LUC_0189_Scan_1.nii.gzNULL\n",
      "Making folder U:\\LUCADI\\NIFTI\\LUC_0189_Scan_1NULL\n",
      "[1] \"Moving files\"\n"
     ]
    },
    {
     "name": "stderr",
     "output_type": "stream",
     "text": [
      "1 file moved. 0 failed.\n"
     ]
    },
    {
     "name": "stdout",
     "output_type": "stream",
     "text": [
      "[1] \"Done.\"\n",
      "File  312  out of  613 . Name: LUC_0189_Scan_2.nii.gzNULL\n",
      "Making folder U:\\LUCADI\\NIFTI\\LUC_0189_Scan_2NULL\n",
      "[1] \"Moving files\"\n"
     ]
    },
    {
     "name": "stderr",
     "output_type": "stream",
     "text": [
      "1 file moved. 0 failed.\n"
     ]
    },
    {
     "name": "stdout",
     "output_type": "stream",
     "text": [
      "[1] \"Done.\"\n",
      "File  313  out of  613 . Name: LUC_0189_Scan_3.nii.gzNULL\n",
      "Making folder U:\\LUCADI\\NIFTI\\LUC_0189_Scan_3NULL\n",
      "[1] \"Moving files\"\n"
     ]
    },
    {
     "name": "stderr",
     "output_type": "stream",
     "text": [
      "1 file moved. 0 failed.\n"
     ]
    },
    {
     "name": "stdout",
     "output_type": "stream",
     "text": [
      "[1] \"Done.\"\n",
      "File  314  out of  613 . Name: LUC_0190_Scan_1.nii.gzNULL\n",
      "Making folder U:\\LUCADI\\NIFTI\\LUC_0190_Scan_1NULL\n",
      "[1] \"Moving files\"\n"
     ]
    },
    {
     "name": "stderr",
     "output_type": "stream",
     "text": [
      "1 file moved. 0 failed.\n"
     ]
    },
    {
     "name": "stdout",
     "output_type": "stream",
     "text": [
      "[1] \"Done.\"\n",
      "File  315  out of  613 . Name: LUC_0190_Scan_2.nii.gzNULL\n",
      "Making folder U:\\LUCADI\\NIFTI\\LUC_0190_Scan_2NULL\n",
      "[1] \"Moving files\"\n"
     ]
    },
    {
     "name": "stderr",
     "output_type": "stream",
     "text": [
      "1 file moved. 0 failed.\n"
     ]
    },
    {
     "name": "stdout",
     "output_type": "stream",
     "text": [
      "[1] \"Done.\"\n",
      "File  316  out of  613 . Name: LUC_0191_Scan_1.nii.gzNULL\n",
      "Making folder U:\\LUCADI\\NIFTI\\LUC_0191_Scan_1NULL\n",
      "[1] \"Moving files\"\n"
     ]
    },
    {
     "name": "stderr",
     "output_type": "stream",
     "text": [
      "1 file moved. 0 failed.\n"
     ]
    },
    {
     "name": "stdout",
     "output_type": "stream",
     "text": [
      "[1] \"Done.\"\n",
      "File  317  out of  613 . Name: LUC_0191_Scan_2.nii.gzNULL\n",
      "Making folder U:\\LUCADI\\NIFTI\\LUC_0191_Scan_2NULL\n",
      "[1] \"Moving files\"\n"
     ]
    },
    {
     "name": "stderr",
     "output_type": "stream",
     "text": [
      "1 file moved. 0 failed.\n"
     ]
    },
    {
     "name": "stdout",
     "output_type": "stream",
     "text": [
      "[1] \"Done.\"\n",
      "File  318  out of  613 . Name: LUC_0192_Scan_1.nii.gzNULL\n",
      "Making folder U:\\LUCADI\\NIFTI\\LUC_0192_Scan_1NULL\n",
      "[1] \"Moving files\"\n"
     ]
    },
    {
     "name": "stderr",
     "output_type": "stream",
     "text": [
      "1 file moved. 0 failed.\n"
     ]
    },
    {
     "name": "stdout",
     "output_type": "stream",
     "text": [
      "[1] \"Done.\"\n",
      "File  319  out of  613 . Name: LUC_0192_Scan_2.nii.gzNULL\n",
      "Making folder U:\\LUCADI\\NIFTI\\LUC_0192_Scan_2NULL\n",
      "[1] \"Moving files\"\n"
     ]
    },
    {
     "name": "stderr",
     "output_type": "stream",
     "text": [
      "1 file moved. 0 failed.\n"
     ]
    },
    {
     "name": "stdout",
     "output_type": "stream",
     "text": [
      "[1] \"Done.\"\n",
      "File  320  out of  613 . Name: LUC_0192_Scan_3.nii.gzNULL\n",
      "Making folder U:\\LUCADI\\NIFTI\\LUC_0192_Scan_3NULL\n",
      "[1] \"Moving files\"\n"
     ]
    },
    {
     "name": "stderr",
     "output_type": "stream",
     "text": [
      "1 file moved. 0 failed.\n"
     ]
    },
    {
     "name": "stdout",
     "output_type": "stream",
     "text": [
      "[1] \"Done.\"\n",
      "File  321  out of  613 . Name: LUC_0193_Scan_1.nii.gzNULL\n",
      "Making folder U:\\LUCADI\\NIFTI\\LUC_0193_Scan_1NULL\n",
      "[1] \"Moving files\"\n"
     ]
    },
    {
     "name": "stderr",
     "output_type": "stream",
     "text": [
      "1 file moved. 0 failed.\n"
     ]
    },
    {
     "name": "stdout",
     "output_type": "stream",
     "text": [
      "[1] \"Done.\"\n",
      "File  322  out of  613 . Name: LUC_0193_Scan_2.nii.gzNULL\n",
      "Making folder U:\\LUCADI\\NIFTI\\LUC_0193_Scan_2NULL\n",
      "[1] \"Moving files\"\n"
     ]
    },
    {
     "name": "stderr",
     "output_type": "stream",
     "text": [
      "1 file moved. 0 failed.\n"
     ]
    },
    {
     "name": "stdout",
     "output_type": "stream",
     "text": [
      "[1] \"Done.\"\n",
      "File  323  out of  613 . Name: LUC_0193_Scan_3.nii.gzNULL\n",
      "Making folder U:\\LUCADI\\NIFTI\\LUC_0193_Scan_3NULL\n",
      "[1] \"Moving files\"\n"
     ]
    },
    {
     "name": "stderr",
     "output_type": "stream",
     "text": [
      "1 file moved. 0 failed.\n"
     ]
    },
    {
     "name": "stdout",
     "output_type": "stream",
     "text": [
      "[1] \"Done.\"\n",
      "File  324  out of  613 . Name: LUC_0194_Scan_1.nii.gzNULL\n",
      "Making folder U:\\LUCADI\\NIFTI\\LUC_0194_Scan_1NULL\n",
      "[1] \"Moving files\"\n"
     ]
    },
    {
     "name": "stderr",
     "output_type": "stream",
     "text": [
      "1 file moved. 0 failed.\n"
     ]
    },
    {
     "name": "stdout",
     "output_type": "stream",
     "text": [
      "[1] \"Done.\"\n",
      "File  325  out of  613 . Name: LUC_0194_Scan_2.nii.gzNULL\n",
      "Making folder U:\\LUCADI\\NIFTI\\LUC_0194_Scan_2NULL\n",
      "[1] \"Moving files\"\n"
     ]
    },
    {
     "name": "stderr",
     "output_type": "stream",
     "text": [
      "1 file moved. 0 failed.\n"
     ]
    },
    {
     "name": "stdout",
     "output_type": "stream",
     "text": [
      "[1] \"Done.\"\n",
      "File  326  out of  613 . Name: LUC_0195_Scan_1.nii.gzNULL\n",
      "Making folder U:\\LUCADI\\NIFTI\\LUC_0195_Scan_1NULL\n",
      "[1] \"Moving files\"\n"
     ]
    },
    {
     "name": "stderr",
     "output_type": "stream",
     "text": [
      "1 file moved. 0 failed.\n"
     ]
    },
    {
     "name": "stdout",
     "output_type": "stream",
     "text": [
      "[1] \"Done.\"\n",
      "File  327  out of  613 . Name: LUC_0195_Scan_2.nii.gzNULL\n",
      "Making folder U:\\LUCADI\\NIFTI\\LUC_0195_Scan_2NULL\n",
      "[1] \"Moving files\"\n"
     ]
    },
    {
     "name": "stderr",
     "output_type": "stream",
     "text": [
      "1 file moved. 0 failed.\n"
     ]
    },
    {
     "name": "stdout",
     "output_type": "stream",
     "text": [
      "[1] \"Done.\"\n",
      "File  328  out of  613 . Name: LUC_0196_Scan_1.nii.gzNULL\n",
      "Making folder U:\\LUCADI\\NIFTI\\LUC_0196_Scan_1NULL\n",
      "[1] \"Moving files\"\n"
     ]
    },
    {
     "name": "stderr",
     "output_type": "stream",
     "text": [
      "1 file moved. 0 failed.\n"
     ]
    },
    {
     "name": "stdout",
     "output_type": "stream",
     "text": [
      "[1] \"Done.\"\n",
      "File  329  out of  613 . Name: LUC_0196_Scan_2.nii.gzNULL\n",
      "Making folder U:\\LUCADI\\NIFTI\\LUC_0196_Scan_2NULL\n",
      "[1] \"Moving files\"\n"
     ]
    },
    {
     "name": "stderr",
     "output_type": "stream",
     "text": [
      "1 file moved. 0 failed.\n"
     ]
    },
    {
     "name": "stdout",
     "output_type": "stream",
     "text": [
      "[1] \"Done.\"\n",
      "File  330  out of  613 . Name: LUC_0197_Scan_1.nii.gzNULL\n",
      "Making folder U:\\LUCADI\\NIFTI\\LUC_0197_Scan_1NULL\n",
      "[1] \"Moving files\"\n"
     ]
    },
    {
     "name": "stderr",
     "output_type": "stream",
     "text": [
      "1 file moved. 0 failed.\n"
     ]
    },
    {
     "name": "stdout",
     "output_type": "stream",
     "text": [
      "[1] \"Done.\"\n",
      "File  331  out of  613 . Name: LUC_0197_Scan_2.nii.gzNULL\n",
      "Making folder U:\\LUCADI\\NIFTI\\LUC_0197_Scan_2NULL\n",
      "[1] \"Moving files\"\n"
     ]
    },
    {
     "name": "stderr",
     "output_type": "stream",
     "text": [
      "1 file moved. 0 failed.\n"
     ]
    },
    {
     "name": "stdout",
     "output_type": "stream",
     "text": [
      "[1] \"Done.\"\n",
      "File  332  out of  613 . Name: LUC_0197_Scan_3.nii.gzNULL\n",
      "Making folder U:\\LUCADI\\NIFTI\\LUC_0197_Scan_3NULL\n",
      "[1] \"Moving files\"\n"
     ]
    },
    {
     "name": "stderr",
     "output_type": "stream",
     "text": [
      "1 file moved. 0 failed.\n"
     ]
    },
    {
     "name": "stdout",
     "output_type": "stream",
     "text": [
      "[1] \"Done.\"\n",
      "File  333  out of  613 . Name: LUC_0198_Scan_1.nii.gzNULL\n",
      "Making folder U:\\LUCADI\\NIFTI\\LUC_0198_Scan_1NULL\n",
      "[1] \"Moving files\"\n"
     ]
    },
    {
     "name": "stderr",
     "output_type": "stream",
     "text": [
      "1 file moved. 0 failed.\n"
     ]
    },
    {
     "name": "stdout",
     "output_type": "stream",
     "text": [
      "[1] \"Done.\"\n",
      "File  334  out of  613 . Name: LUC_0198_Scan_2.nii.gzNULL\n",
      "Making folder U:\\LUCADI\\NIFTI\\LUC_0198_Scan_2NULL\n",
      "[1] \"Moving files\"\n"
     ]
    },
    {
     "name": "stderr",
     "output_type": "stream",
     "text": [
      "1 file moved. 0 failed.\n"
     ]
    },
    {
     "name": "stdout",
     "output_type": "stream",
     "text": [
      "[1] \"Done.\"\n",
      "File  335  out of  613 . Name: LUC_0198_Scan_3.nii.gzNULL\n",
      "Making folder U:\\LUCADI\\NIFTI\\LUC_0198_Scan_3NULL\n",
      "[1] \"Moving files\"\n"
     ]
    },
    {
     "name": "stderr",
     "output_type": "stream",
     "text": [
      "1 file moved. 0 failed.\n"
     ]
    },
    {
     "name": "stdout",
     "output_type": "stream",
     "text": [
      "[1] \"Done.\"\n",
      "File  336  out of  613 . Name: LUC_0199_Scan_1.nii.gzNULL\n",
      "Making folder U:\\LUCADI\\NIFTI\\LUC_0199_Scan_1NULL\n",
      "[1] \"Moving files\"\n"
     ]
    },
    {
     "name": "stderr",
     "output_type": "stream",
     "text": [
      "1 file moved. 0 failed.\n"
     ]
    },
    {
     "name": "stdout",
     "output_type": "stream",
     "text": [
      "[1] \"Done.\"\n",
      "File  337  out of  613 . Name: LUC_0199_Scan_2.nii.gzNULL\n",
      "Making folder U:\\LUCADI\\NIFTI\\LUC_0199_Scan_2NULL\n",
      "[1] \"Moving files\"\n"
     ]
    },
    {
     "name": "stderr",
     "output_type": "stream",
     "text": [
      "1 file moved. 0 failed.\n"
     ]
    },
    {
     "name": "stdout",
     "output_type": "stream",
     "text": [
      "[1] \"Done.\"\n",
      "File  338  out of  613 . Name: LUC_0199_Scan_3.nii.gzNULL\n",
      "Making folder U:\\LUCADI\\NIFTI\\LUC_0199_Scan_3NULL\n",
      "[1] \"Moving files\"\n"
     ]
    },
    {
     "name": "stderr",
     "output_type": "stream",
     "text": [
      "1 file moved. 0 failed.\n"
     ]
    },
    {
     "name": "stdout",
     "output_type": "stream",
     "text": [
      "[1] \"Done.\"\n",
      "File  339  out of  613 . Name: LUC_0200_Scan_1.nii.gzNULL\n",
      "Making folder U:\\LUCADI\\NIFTI\\LUC_0200_Scan_1NULL\n",
      "[1] \"Moving files\"\n"
     ]
    },
    {
     "name": "stderr",
     "output_type": "stream",
     "text": [
      "1 file moved. 0 failed.\n"
     ]
    },
    {
     "name": "stdout",
     "output_type": "stream",
     "text": [
      "[1] \"Done.\"\n",
      "File  340  out of  613 . Name: LUC_0201_Scan_1.nii.gzNULL\n",
      "Making folder U:\\LUCADI\\NIFTI\\LUC_0201_Scan_1NULL\n",
      "[1] \"Moving files\"\n"
     ]
    },
    {
     "name": "stderr",
     "output_type": "stream",
     "text": [
      "1 file moved. 0 failed.\n"
     ]
    },
    {
     "name": "stdout",
     "output_type": "stream",
     "text": [
      "[1] \"Done.\"\n",
      "File  341  out of  613 . Name: LUC_0201_Scan_2.nii.gzNULL\n",
      "Making folder U:\\LUCADI\\NIFTI\\LUC_0201_Scan_2NULL\n",
      "[1] \"Moving files\"\n"
     ]
    },
    {
     "name": "stderr",
     "output_type": "stream",
     "text": [
      "1 file moved. 0 failed.\n"
     ]
    },
    {
     "name": "stdout",
     "output_type": "stream",
     "text": [
      "[1] \"Done.\"\n",
      "File  342  out of  613 . Name: LUC_0201_Scan_3.nii.gzNULL\n",
      "Making folder U:\\LUCADI\\NIFTI\\LUC_0201_Scan_3NULL\n",
      "[1] \"Moving files\"\n"
     ]
    },
    {
     "name": "stderr",
     "output_type": "stream",
     "text": [
      "1 file moved. 0 failed.\n"
     ]
    },
    {
     "name": "stdout",
     "output_type": "stream",
     "text": [
      "[1] \"Done.\"\n",
      "File  343  out of  613 . Name: LUC_0202_Scan_1.nii.gzNULL\n",
      "Making folder U:\\LUCADI\\NIFTI\\LUC_0202_Scan_1NULL\n",
      "[1] \"Moving files\"\n"
     ]
    },
    {
     "name": "stderr",
     "output_type": "stream",
     "text": [
      "1 file moved. 0 failed.\n"
     ]
    },
    {
     "name": "stdout",
     "output_type": "stream",
     "text": [
      "[1] \"Done.\"\n",
      "File  344  out of  613 . Name: LUC_0202_Scan_2.nii.gzNULL\n",
      "Making folder U:\\LUCADI\\NIFTI\\LUC_0202_Scan_2NULL\n",
      "[1] \"Moving files\"\n"
     ]
    },
    {
     "name": "stderr",
     "output_type": "stream",
     "text": [
      "1 file moved. 0 failed.\n"
     ]
    },
    {
     "name": "stdout",
     "output_type": "stream",
     "text": [
      "[1] \"Done.\"\n",
      "File  345  out of  613 . Name: LUC_0203_Scan_1.nii.gzNULL\n",
      "Making folder U:\\LUCADI\\NIFTI\\LUC_0203_Scan_1NULL\n",
      "[1] \"Moving files\"\n"
     ]
    },
    {
     "name": "stderr",
     "output_type": "stream",
     "text": [
      "1 file moved. 0 failed.\n"
     ]
    },
    {
     "name": "stdout",
     "output_type": "stream",
     "text": [
      "[1] \"Done.\"\n",
      "File  346  out of  613 . Name: LUC_0203_Scan_2.nii.gzNULL\n",
      "Making folder U:\\LUCADI\\NIFTI\\LUC_0203_Scan_2NULL\n",
      "[1] \"Moving files\"\n"
     ]
    },
    {
     "name": "stderr",
     "output_type": "stream",
     "text": [
      "1 file moved. 0 failed.\n"
     ]
    },
    {
     "name": "stdout",
     "output_type": "stream",
     "text": [
      "[1] \"Done.\"\n",
      "File  347  out of  613 . Name: LUC_0204_Scan_1.nii.gzNULL\n",
      "Making folder U:\\LUCADI\\NIFTI\\LUC_0204_Scan_1NULL\n",
      "[1] \"Moving files\"\n"
     ]
    },
    {
     "name": "stderr",
     "output_type": "stream",
     "text": [
      "1 file moved. 0 failed.\n"
     ]
    },
    {
     "name": "stdout",
     "output_type": "stream",
     "text": [
      "[1] \"Done.\"\n",
      "File  348  out of  613 . Name: LUC_0204_Scan_2.nii.gzNULL\n",
      "Making folder U:\\LUCADI\\NIFTI\\LUC_0204_Scan_2NULL\n",
      "[1] \"Moving files\"\n"
     ]
    },
    {
     "name": "stderr",
     "output_type": "stream",
     "text": [
      "1 file moved. 0 failed.\n"
     ]
    },
    {
     "name": "stdout",
     "output_type": "stream",
     "text": [
      "[1] \"Done.\"\n",
      "File  349  out of  613 . Name: LUC_0204_Scan_3.nii.gzNULL\n",
      "Making folder U:\\LUCADI\\NIFTI\\LUC_0204_Scan_3NULL\n",
      "[1] \"Moving files\"\n"
     ]
    },
    {
     "name": "stderr",
     "output_type": "stream",
     "text": [
      "1 file moved. 0 failed.\n"
     ]
    },
    {
     "name": "stdout",
     "output_type": "stream",
     "text": [
      "[1] \"Done.\"\n",
      "File  350  out of  613 . Name: LUC_0205_Scan_1.nii.gzNULL\n",
      "Making folder U:\\LUCADI\\NIFTI\\LUC_0205_Scan_1NULL\n",
      "[1] \"Moving files\"\n"
     ]
    },
    {
     "name": "stderr",
     "output_type": "stream",
     "text": [
      "1 file moved. 0 failed.\n"
     ]
    },
    {
     "name": "stdout",
     "output_type": "stream",
     "text": [
      "[1] \"Done.\"\n",
      "File  351  out of  613 . Name: LUC_0205_Scan_2.nii.gzNULL\n",
      "Making folder U:\\LUCADI\\NIFTI\\LUC_0205_Scan_2NULL\n",
      "[1] \"Moving files\"\n"
     ]
    },
    {
     "name": "stderr",
     "output_type": "stream",
     "text": [
      "1 file moved. 0 failed.\n"
     ]
    },
    {
     "name": "stdout",
     "output_type": "stream",
     "text": [
      "[1] \"Done.\"\n",
      "File  352  out of  613 . Name: LUC_0205_Scan_3.nii.gzNULL\n",
      "Making folder U:\\LUCADI\\NIFTI\\LUC_0205_Scan_3NULL\n",
      "[1] \"Moving files\"\n"
     ]
    },
    {
     "name": "stderr",
     "output_type": "stream",
     "text": [
      "1 file moved. 0 failed.\n"
     ]
    },
    {
     "name": "stdout",
     "output_type": "stream",
     "text": [
      "[1] \"Done.\"\n",
      "File  353  out of  613 . Name: LUC_0206_Scan_1.nii.gzNULL\n",
      "Making folder U:\\LUCADI\\NIFTI\\LUC_0206_Scan_1NULL\n",
      "[1] \"Moving files\"\n"
     ]
    },
    {
     "name": "stderr",
     "output_type": "stream",
     "text": [
      "1 file moved. 0 failed.\n"
     ]
    },
    {
     "name": "stdout",
     "output_type": "stream",
     "text": [
      "[1] \"Done.\"\n",
      "File  354  out of  613 . Name: LUC_0206_Scan_2.nii.gzNULL\n",
      "Making folder U:\\LUCADI\\NIFTI\\LUC_0206_Scan_2NULL\n",
      "[1] \"Moving files\"\n"
     ]
    },
    {
     "name": "stderr",
     "output_type": "stream",
     "text": [
      "1 file moved. 0 failed.\n"
     ]
    },
    {
     "name": "stdout",
     "output_type": "stream",
     "text": [
      "[1] \"Done.\"\n",
      "File  355  out of  613 . Name: LUC_0206_Scan_3.nii.gzNULL\n",
      "Making folder U:\\LUCADI\\NIFTI\\LUC_0206_Scan_3NULL\n",
      "[1] \"Moving files\"\n"
     ]
    },
    {
     "name": "stderr",
     "output_type": "stream",
     "text": [
      "1 file moved. 0 failed.\n"
     ]
    },
    {
     "name": "stdout",
     "output_type": "stream",
     "text": [
      "[1] \"Done.\"\n",
      "File  356  out of  613 . Name: LUC_0207_Scan_1.nii.gzNULL\n",
      "Making folder U:\\LUCADI\\NIFTI\\LUC_0207_Scan_1NULL\n",
      "[1] \"Moving files\"\n"
     ]
    },
    {
     "name": "stderr",
     "output_type": "stream",
     "text": [
      "1 file moved. 0 failed.\n"
     ]
    },
    {
     "name": "stdout",
     "output_type": "stream",
     "text": [
      "[1] \"Done.\"\n",
      "File  357  out of  613 . Name: LUC_0208_Scan_1.nii.gzNULL\n",
      "Making folder U:\\LUCADI\\NIFTI\\LUC_0208_Scan_1NULL\n",
      "[1] \"Moving files\"\n"
     ]
    },
    {
     "name": "stderr",
     "output_type": "stream",
     "text": [
      "1 file moved. 0 failed.\n"
     ]
    },
    {
     "name": "stdout",
     "output_type": "stream",
     "text": [
      "[1] \"Done.\"\n",
      "File  358  out of  613 . Name: LUC_0208_Scan_2.nii.gzNULL\n",
      "Making folder U:\\LUCADI\\NIFTI\\LUC_0208_Scan_2NULL\n",
      "[1] \"Moving files\"\n"
     ]
    },
    {
     "name": "stderr",
     "output_type": "stream",
     "text": [
      "1 file moved. 0 failed.\n"
     ]
    },
    {
     "name": "stdout",
     "output_type": "stream",
     "text": [
      "[1] \"Done.\"\n",
      "File  359  out of  613 . Name: LUC_0209_Scan_1.nii.gzNULL\n",
      "Making folder U:\\LUCADI\\NIFTI\\LUC_0209_Scan_1NULL\n",
      "[1] \"Moving files\"\n"
     ]
    },
    {
     "name": "stderr",
     "output_type": "stream",
     "text": [
      "1 file moved. 0 failed.\n"
     ]
    },
    {
     "name": "stdout",
     "output_type": "stream",
     "text": [
      "[1] \"Done.\"\n",
      "File  360  out of  613 . Name: LUC_0209_Scan_2.nii.gzNULL\n",
      "Making folder U:\\LUCADI\\NIFTI\\LUC_0209_Scan_2NULL\n",
      "[1] \"Moving files\"\n"
     ]
    },
    {
     "name": "stderr",
     "output_type": "stream",
     "text": [
      "1 file moved. 0 failed.\n"
     ]
    },
    {
     "name": "stdout",
     "output_type": "stream",
     "text": [
      "[1] \"Done.\"\n",
      "File  361  out of  613 . Name: LUC_0209_Scan_3.nii.gzNULL\n",
      "Making folder U:\\LUCADI\\NIFTI\\LUC_0209_Scan_3NULL\n",
      "[1] \"Moving files\"\n"
     ]
    },
    {
     "name": "stderr",
     "output_type": "stream",
     "text": [
      "1 file moved. 0 failed.\n"
     ]
    },
    {
     "name": "stdout",
     "output_type": "stream",
     "text": [
      "[1] \"Done.\"\n",
      "File  362  out of  613 . Name: LUC_0210_Scan_1.nii.gzNULL\n",
      "Making folder U:\\LUCADI\\NIFTI\\LUC_0210_Scan_1NULL\n",
      "[1] \"Moving files\"\n"
     ]
    },
    {
     "name": "stderr",
     "output_type": "stream",
     "text": [
      "1 file moved. 0 failed.\n"
     ]
    },
    {
     "name": "stdout",
     "output_type": "stream",
     "text": [
      "[1] \"Done.\"\n",
      "File  363  out of  613 . Name: LUC_0210_Scan_2.nii.gzNULL\n",
      "Making folder U:\\LUCADI\\NIFTI\\LUC_0210_Scan_2NULL\n",
      "[1] \"Moving files\"\n"
     ]
    },
    {
     "name": "stderr",
     "output_type": "stream",
     "text": [
      "1 file moved. 0 failed.\n"
     ]
    },
    {
     "name": "stdout",
     "output_type": "stream",
     "text": [
      "[1] \"Done.\"\n",
      "File  364  out of  613 . Name: LUC_0210_Scan_3.nii.gzNULL\n",
      "Making folder U:\\LUCADI\\NIFTI\\LUC_0210_Scan_3NULL\n",
      "[1] \"Moving files\"\n"
     ]
    },
    {
     "name": "stderr",
     "output_type": "stream",
     "text": [
      "1 file moved. 0 failed.\n"
     ]
    },
    {
     "name": "stdout",
     "output_type": "stream",
     "text": [
      "[1] \"Done.\"\n",
      "File  365  out of  613 . Name: LUC_0211_Scan_1.nii.gzNULL\n",
      "Making folder U:\\LUCADI\\NIFTI\\LUC_0211_Scan_1NULL\n",
      "[1] \"Moving files\"\n"
     ]
    },
    {
     "name": "stderr",
     "output_type": "stream",
     "text": [
      "1 file moved. 0 failed.\n"
     ]
    },
    {
     "name": "stdout",
     "output_type": "stream",
     "text": [
      "[1] \"Done.\"\n",
      "File  366  out of  613 . Name: LUC_0211_Scan_2.nii.gzNULL\n",
      "Making folder U:\\LUCADI\\NIFTI\\LUC_0211_Scan_2NULL\n",
      "[1] \"Moving files\"\n"
     ]
    },
    {
     "name": "stderr",
     "output_type": "stream",
     "text": [
      "1 file moved. 0 failed.\n"
     ]
    },
    {
     "name": "stdout",
     "output_type": "stream",
     "text": [
      "[1] \"Done.\"\n",
      "File  367  out of  613 . Name: LUC_0211_Scan_3.nii.gzNULL\n",
      "Making folder U:\\LUCADI\\NIFTI\\LUC_0211_Scan_3NULL\n",
      "[1] \"Moving files\"\n"
     ]
    },
    {
     "name": "stderr",
     "output_type": "stream",
     "text": [
      "1 file moved. 0 failed.\n"
     ]
    },
    {
     "name": "stdout",
     "output_type": "stream",
     "text": [
      "[1] \"Done.\"\n",
      "File  368  out of  613 . Name: LUC_0212_Scan_1.nii.gzNULL\n",
      "Making folder U:\\LUCADI\\NIFTI\\LUC_0212_Scan_1NULL\n",
      "[1] \"Moving files\"\n"
     ]
    },
    {
     "name": "stderr",
     "output_type": "stream",
     "text": [
      "1 file moved. 0 failed.\n"
     ]
    },
    {
     "name": "stdout",
     "output_type": "stream",
     "text": [
      "[1] \"Done.\"\n",
      "File  369  out of  613 . Name: LUC_0212_Scan_2.nii.gzNULL\n",
      "Making folder U:\\LUCADI\\NIFTI\\LUC_0212_Scan_2NULL\n",
      "[1] \"Moving files\"\n"
     ]
    },
    {
     "name": "stderr",
     "output_type": "stream",
     "text": [
      "1 file moved. 0 failed.\n"
     ]
    },
    {
     "name": "stdout",
     "output_type": "stream",
     "text": [
      "[1] \"Done.\"\n",
      "File  370  out of  613 . Name: LUC_0212_Scan_3.nii.gzNULL\n",
      "Making folder U:\\LUCADI\\NIFTI\\LUC_0212_Scan_3NULL\n",
      "[1] \"Moving files\"\n"
     ]
    },
    {
     "name": "stderr",
     "output_type": "stream",
     "text": [
      "1 file moved. 0 failed.\n"
     ]
    },
    {
     "name": "stdout",
     "output_type": "stream",
     "text": [
      "[1] \"Done.\"\n",
      "File  371  out of  613 . Name: LUC_0213_Scan_1.nii.gzNULL\n",
      "Making folder U:\\LUCADI\\NIFTI\\LUC_0213_Scan_1NULL\n",
      "[1] \"Moving files\"\n"
     ]
    },
    {
     "name": "stderr",
     "output_type": "stream",
     "text": [
      "1 file moved. 0 failed.\n"
     ]
    },
    {
     "name": "stdout",
     "output_type": "stream",
     "text": [
      "[1] \"Done.\"\n",
      "File  372  out of  613 . Name: LUC_0213_Scan_2.nii.gzNULL\n",
      "Making folder U:\\LUCADI\\NIFTI\\LUC_0213_Scan_2NULL\n",
      "[1] \"Moving files\"\n"
     ]
    },
    {
     "name": "stderr",
     "output_type": "stream",
     "text": [
      "1 file moved. 0 failed.\n"
     ]
    },
    {
     "name": "stdout",
     "output_type": "stream",
     "text": [
      "[1] \"Done.\"\n",
      "File  373  out of  613 . Name: LUC_0214_Scan_1.nii.gzNULL\n",
      "Making folder U:\\LUCADI\\NIFTI\\LUC_0214_Scan_1NULL\n",
      "[1] \"Moving files\"\n"
     ]
    },
    {
     "name": "stderr",
     "output_type": "stream",
     "text": [
      "1 file moved. 0 failed.\n"
     ]
    },
    {
     "name": "stdout",
     "output_type": "stream",
     "text": [
      "[1] \"Done.\"\n",
      "File  374  out of  613 . Name: LUC_0214_Scan_2.nii.gzNULL\n",
      "Making folder U:\\LUCADI\\NIFTI\\LUC_0214_Scan_2NULL\n",
      "[1] \"Moving files\"\n"
     ]
    },
    {
     "name": "stderr",
     "output_type": "stream",
     "text": [
      "1 file moved. 0 failed.\n"
     ]
    },
    {
     "name": "stdout",
     "output_type": "stream",
     "text": [
      "[1] \"Done.\"\n",
      "File  375  out of  613 . Name: LUC_0214_Scan_3.nii.gzNULL\n",
      "Making folder U:\\LUCADI\\NIFTI\\LUC_0214_Scan_3NULL\n",
      "[1] \"Moving files\"\n"
     ]
    },
    {
     "name": "stderr",
     "output_type": "stream",
     "text": [
      "1 file moved. 0 failed.\n"
     ]
    },
    {
     "name": "stdout",
     "output_type": "stream",
     "text": [
      "[1] \"Done.\"\n",
      "File  376  out of  613 . Name: LUC_0215_Scan_1.nii.gzNULL\n",
      "Making folder U:\\LUCADI\\NIFTI\\LUC_0215_Scan_1NULL\n",
      "[1] \"Moving files\"\n"
     ]
    },
    {
     "name": "stderr",
     "output_type": "stream",
     "text": [
      "1 file moved. 0 failed.\n"
     ]
    },
    {
     "name": "stdout",
     "output_type": "stream",
     "text": [
      "[1] \"Done.\"\n",
      "File  377  out of  613 . Name: LUC_0215_Scan_2.nii.gzNULL\n",
      "Making folder U:\\LUCADI\\NIFTI\\LUC_0215_Scan_2NULL\n",
      "[1] \"Moving files\"\n"
     ]
    },
    {
     "name": "stderr",
     "output_type": "stream",
     "text": [
      "1 file moved. 0 failed.\n"
     ]
    },
    {
     "name": "stdout",
     "output_type": "stream",
     "text": [
      "[1] \"Done.\"\n",
      "File  378  out of  613 . Name: LUC_0216_Scan_1.nii.gzNULL\n",
      "Making folder U:\\LUCADI\\NIFTI\\LUC_0216_Scan_1NULL\n",
      "[1] \"Moving files\"\n"
     ]
    },
    {
     "name": "stderr",
     "output_type": "stream",
     "text": [
      "1 file moved. 0 failed.\n"
     ]
    },
    {
     "name": "stdout",
     "output_type": "stream",
     "text": [
      "[1] \"Done.\"\n",
      "File  379  out of  613 . Name: LUC_0217_Scan_1.nii.gzNULL\n",
      "Making folder U:\\LUCADI\\NIFTI\\LUC_0217_Scan_1NULL\n",
      "[1] \"Moving files\"\n"
     ]
    },
    {
     "name": "stderr",
     "output_type": "stream",
     "text": [
      "1 file moved. 0 failed.\n"
     ]
    },
    {
     "name": "stdout",
     "output_type": "stream",
     "text": [
      "[1] \"Done.\"\n",
      "File  380  out of  613 . Name: LUC_0217_Scan_2.nii.gzNULL\n",
      "Making folder U:\\LUCADI\\NIFTI\\LUC_0217_Scan_2NULL\n",
      "[1] \"Moving files\"\n"
     ]
    },
    {
     "name": "stderr",
     "output_type": "stream",
     "text": [
      "1 file moved. 0 failed.\n"
     ]
    },
    {
     "name": "stdout",
     "output_type": "stream",
     "text": [
      "[1] \"Done.\"\n",
      "File  381  out of  613 . Name: LUC_0217_Scan_3.nii.gzNULL\n",
      "Making folder U:\\LUCADI\\NIFTI\\LUC_0217_Scan_3NULL\n",
      "[1] \"Moving files\"\n"
     ]
    },
    {
     "name": "stderr",
     "output_type": "stream",
     "text": [
      "1 file moved. 0 failed.\n"
     ]
    },
    {
     "name": "stdout",
     "output_type": "stream",
     "text": [
      "[1] \"Done.\"\n",
      "File  382  out of  613 . Name: LUC_0218_Scan_1.nii.gzNULL\n",
      "Making folder U:\\LUCADI\\NIFTI\\LUC_0218_Scan_1NULL\n",
      "[1] \"Moving files\"\n"
     ]
    },
    {
     "name": "stderr",
     "output_type": "stream",
     "text": [
      "1 file moved. 0 failed.\n"
     ]
    },
    {
     "name": "stdout",
     "output_type": "stream",
     "text": [
      "[1] \"Done.\"\n",
      "File  383  out of  613 . Name: LUC_0218_Scan_2.nii.gzNULL\n",
      "Making folder U:\\LUCADI\\NIFTI\\LUC_0218_Scan_2NULL\n",
      "[1] \"Moving files\"\n"
     ]
    },
    {
     "name": "stderr",
     "output_type": "stream",
     "text": [
      "1 file moved. 0 failed.\n"
     ]
    },
    {
     "name": "stdout",
     "output_type": "stream",
     "text": [
      "[1] \"Done.\"\n",
      "File  384  out of  613 . Name: LUC_0219_Scan_1.nii.gzNULL\n",
      "Making folder U:\\LUCADI\\NIFTI\\LUC_0219_Scan_1NULL\n",
      "[1] \"Moving files\"\n"
     ]
    },
    {
     "name": "stderr",
     "output_type": "stream",
     "text": [
      "1 file moved. 0 failed.\n"
     ]
    },
    {
     "name": "stdout",
     "output_type": "stream",
     "text": [
      "[1] \"Done.\"\n",
      "File  385  out of  613 . Name: LUC_0219_Scan_2.nii.gzNULL\n",
      "Making folder U:\\LUCADI\\NIFTI\\LUC_0219_Scan_2NULL\n",
      "[1] \"Moving files\"\n"
     ]
    },
    {
     "name": "stderr",
     "output_type": "stream",
     "text": [
      "1 file moved. 0 failed.\n"
     ]
    },
    {
     "name": "stdout",
     "output_type": "stream",
     "text": [
      "[1] \"Done.\"\n",
      "File  386  out of  613 . Name: LUC_0219_Scan_3.nii.gzNULL\n",
      "Making folder U:\\LUCADI\\NIFTI\\LUC_0219_Scan_3NULL\n",
      "[1] \"Moving files\"\n"
     ]
    },
    {
     "name": "stderr",
     "output_type": "stream",
     "text": [
      "1 file moved. 0 failed.\n"
     ]
    },
    {
     "name": "stdout",
     "output_type": "stream",
     "text": [
      "[1] \"Done.\"\n",
      "File  387  out of  613 . Name: LUC_0220_Scan_1.nii.gzNULL\n",
      "Making folder U:\\LUCADI\\NIFTI\\LUC_0220_Scan_1NULL\n",
      "[1] \"Moving files\"\n"
     ]
    },
    {
     "name": "stderr",
     "output_type": "stream",
     "text": [
      "1 file moved. 0 failed.\n"
     ]
    },
    {
     "name": "stdout",
     "output_type": "stream",
     "text": [
      "[1] \"Done.\"\n",
      "File  388  out of  613 . Name: LUC_0220_Scan_2.nii.gzNULL\n",
      "Making folder U:\\LUCADI\\NIFTI\\LUC_0220_Scan_2NULL\n",
      "[1] \"Moving files\"\n"
     ]
    },
    {
     "name": "stderr",
     "output_type": "stream",
     "text": [
      "1 file moved. 0 failed.\n"
     ]
    },
    {
     "name": "stdout",
     "output_type": "stream",
     "text": [
      "[1] \"Done.\"\n",
      "File  389  out of  613 . Name: LUC_0220_Scan_3.nii.gzNULL\n",
      "Making folder U:\\LUCADI\\NIFTI\\LUC_0220_Scan_3NULL\n",
      "[1] \"Moving files\"\n"
     ]
    },
    {
     "name": "stderr",
     "output_type": "stream",
     "text": [
      "1 file moved. 0 failed.\n"
     ]
    },
    {
     "name": "stdout",
     "output_type": "stream",
     "text": [
      "[1] \"Done.\"\n",
      "File  390  out of  613 . Name: LUC_0221_Scan_1.nii.gzNULL\n",
      "Making folder U:\\LUCADI\\NIFTI\\LUC_0221_Scan_1NULL\n",
      "[1] \"Moving files\"\n"
     ]
    },
    {
     "name": "stderr",
     "output_type": "stream",
     "text": [
      "1 file moved. 0 failed.\n"
     ]
    },
    {
     "name": "stdout",
     "output_type": "stream",
     "text": [
      "[1] \"Done.\"\n",
      "File  391  out of  613 . Name: LUC_0221_Scan_2.nii.gzNULL\n",
      "Making folder U:\\LUCADI\\NIFTI\\LUC_0221_Scan_2NULL\n",
      "[1] \"Moving files\"\n"
     ]
    },
    {
     "name": "stderr",
     "output_type": "stream",
     "text": [
      "1 file moved. 0 failed.\n"
     ]
    },
    {
     "name": "stdout",
     "output_type": "stream",
     "text": [
      "[1] \"Done.\"\n",
      "File  392  out of  613 . Name: LUC_0222_Scan_1.nii.gzNULL\n",
      "Making folder U:\\LUCADI\\NIFTI\\LUC_0222_Scan_1NULL\n",
      "[1] \"Moving files\"\n"
     ]
    },
    {
     "name": "stderr",
     "output_type": "stream",
     "text": [
      "1 file moved. 0 failed.\n"
     ]
    },
    {
     "name": "stdout",
     "output_type": "stream",
     "text": [
      "[1] \"Done.\"\n",
      "File  393  out of  613 . Name: LUC_0222_Scan_2.nii.gzNULL\n",
      "Making folder U:\\LUCADI\\NIFTI\\LUC_0222_Scan_2NULL\n",
      "[1] \"Moving files\"\n"
     ]
    },
    {
     "name": "stderr",
     "output_type": "stream",
     "text": [
      "1 file moved. 0 failed.\n"
     ]
    },
    {
     "name": "stdout",
     "output_type": "stream",
     "text": [
      "[1] \"Done.\"\n",
      "File  394  out of  613 . Name: LUC_0222_Scan_3.nii.gzNULL\n",
      "Making folder U:\\LUCADI\\NIFTI\\LUC_0222_Scan_3NULL\n",
      "[1] \"Moving files\"\n"
     ]
    },
    {
     "name": "stderr",
     "output_type": "stream",
     "text": [
      "1 file moved. 0 failed.\n"
     ]
    },
    {
     "name": "stdout",
     "output_type": "stream",
     "text": [
      "[1] \"Done.\"\n",
      "File  395  out of  613 . Name: LUC_0223_Scan_1.nii.gzNULL\n",
      "Making folder U:\\LUCADI\\NIFTI\\LUC_0223_Scan_1NULL\n",
      "[1] \"Moving files\"\n"
     ]
    },
    {
     "name": "stderr",
     "output_type": "stream",
     "text": [
      "1 file moved. 0 failed.\n"
     ]
    },
    {
     "name": "stdout",
     "output_type": "stream",
     "text": [
      "[1] \"Done.\"\n",
      "File  396  out of  613 . Name: LUC_0223_Scan_2.nii.gzNULL\n",
      "Making folder U:\\LUCADI\\NIFTI\\LUC_0223_Scan_2NULL\n",
      "[1] \"Moving files\"\n"
     ]
    },
    {
     "name": "stderr",
     "output_type": "stream",
     "text": [
      "1 file moved. 0 failed.\n"
     ]
    },
    {
     "name": "stdout",
     "output_type": "stream",
     "text": [
      "[1] \"Done.\"\n",
      "File  397  out of  613 . Name: LUC_0224_Scan_1.nii.gzNULL\n",
      "Making folder U:\\LUCADI\\NIFTI\\LUC_0224_Scan_1NULL\n",
      "[1] \"Moving files\"\n"
     ]
    },
    {
     "name": "stderr",
     "output_type": "stream",
     "text": [
      "1 file moved. 0 failed.\n"
     ]
    },
    {
     "name": "stdout",
     "output_type": "stream",
     "text": [
      "[1] \"Done.\"\n",
      "File  398  out of  613 . Name: LUC_0224_Scan_2.nii.gzNULL\n",
      "Making folder U:\\LUCADI\\NIFTI\\LUC_0224_Scan_2NULL\n",
      "[1] \"Moving files\"\n"
     ]
    },
    {
     "name": "stderr",
     "output_type": "stream",
     "text": [
      "1 file moved. 0 failed.\n"
     ]
    },
    {
     "name": "stdout",
     "output_type": "stream",
     "text": [
      "[1] \"Done.\"\n",
      "File  399  out of  613 . Name: LUC_0224_Scan_3.nii.gzNULL\n",
      "Making folder U:\\LUCADI\\NIFTI\\LUC_0224_Scan_3NULL\n",
      "[1] \"Moving files\"\n"
     ]
    },
    {
     "name": "stderr",
     "output_type": "stream",
     "text": [
      "1 file moved. 0 failed.\n"
     ]
    },
    {
     "name": "stdout",
     "output_type": "stream",
     "text": [
      "[1] \"Done.\"\n",
      "File  400  out of  613 . Name: LUC_0225_Scan_1.nii.gzNULL\n",
      "Making folder U:\\LUCADI\\NIFTI\\LUC_0225_Scan_1NULL\n",
      "[1] \"Moving files\"\n"
     ]
    },
    {
     "name": "stderr",
     "output_type": "stream",
     "text": [
      "1 file moved. 0 failed.\n"
     ]
    },
    {
     "name": "stdout",
     "output_type": "stream",
     "text": [
      "[1] \"Done.\"\n",
      "File  401  out of  613 . Name: LUC_0225_Scan_2.nii.gzNULL\n",
      "Making folder U:\\LUCADI\\NIFTI\\LUC_0225_Scan_2NULL\n",
      "[1] \"Moving files\"\n"
     ]
    },
    {
     "name": "stderr",
     "output_type": "stream",
     "text": [
      "1 file moved. 0 failed.\n"
     ]
    },
    {
     "name": "stdout",
     "output_type": "stream",
     "text": [
      "[1] \"Done.\"\n",
      "File  402  out of  613 . Name: LUC_0225_Scan_3.nii.gzNULL\n",
      "Making folder U:\\LUCADI\\NIFTI\\LUC_0225_Scan_3NULL\n",
      "[1] \"Moving files\"\n"
     ]
    },
    {
     "name": "stderr",
     "output_type": "stream",
     "text": [
      "1 file moved. 0 failed.\n"
     ]
    },
    {
     "name": "stdout",
     "output_type": "stream",
     "text": [
      "[1] \"Done.\"\n",
      "File  403  out of  613 . Name: LUC_0226_Scan_1.nii.gzNULL\n",
      "Making folder U:\\LUCADI\\NIFTI\\LUC_0226_Scan_1NULL\n",
      "[1] \"Moving files\"\n"
     ]
    },
    {
     "name": "stderr",
     "output_type": "stream",
     "text": [
      "1 file moved. 0 failed.\n"
     ]
    },
    {
     "name": "stdout",
     "output_type": "stream",
     "text": [
      "[1] \"Done.\"\n",
      "File  404  out of  613 . Name: LUC_0226_Scan_2.nii.gzNULL\n",
      "Making folder U:\\LUCADI\\NIFTI\\LUC_0226_Scan_2NULL\n",
      "[1] \"Moving files\"\n"
     ]
    },
    {
     "name": "stderr",
     "output_type": "stream",
     "text": [
      "1 file moved. 0 failed.\n"
     ]
    },
    {
     "name": "stdout",
     "output_type": "stream",
     "text": [
      "[1] \"Done.\"\n",
      "File  405  out of  613 . Name: LUC_0227_Scan_1.nii.gzNULL\n",
      "Making folder U:\\LUCADI\\NIFTI\\LUC_0227_Scan_1NULL\n",
      "[1] \"Moving files\"\n"
     ]
    },
    {
     "name": "stderr",
     "output_type": "stream",
     "text": [
      "1 file moved. 0 failed.\n"
     ]
    },
    {
     "name": "stdout",
     "output_type": "stream",
     "text": [
      "[1] \"Done.\"\n",
      "File  406  out of  613 . Name: LUC_0227_Scan_2.nii.gzNULL\n",
      "Making folder U:\\LUCADI\\NIFTI\\LUC_0227_Scan_2NULL\n",
      "[1] \"Moving files\"\n"
     ]
    },
    {
     "name": "stderr",
     "output_type": "stream",
     "text": [
      "1 file moved. 0 failed.\n"
     ]
    },
    {
     "name": "stdout",
     "output_type": "stream",
     "text": [
      "[1] \"Done.\"\n",
      "File  407  out of  613 . Name: LUC_0228_Scan_1.nii.gzNULL\n",
      "Making folder U:\\LUCADI\\NIFTI\\LUC_0228_Scan_1NULL\n",
      "[1] \"Moving files\"\n"
     ]
    },
    {
     "name": "stderr",
     "output_type": "stream",
     "text": [
      "1 file moved. 0 failed.\n"
     ]
    },
    {
     "name": "stdout",
     "output_type": "stream",
     "text": [
      "[1] \"Done.\"\n",
      "File  408  out of  613 . Name: LUC_0228_Scan_2.nii.gzNULL\n",
      "Making folder U:\\LUCADI\\NIFTI\\LUC_0228_Scan_2NULL\n",
      "[1] \"Moving files\"\n"
     ]
    },
    {
     "name": "stderr",
     "output_type": "stream",
     "text": [
      "1 file moved. 0 failed.\n"
     ]
    },
    {
     "name": "stdout",
     "output_type": "stream",
     "text": [
      "[1] \"Done.\"\n",
      "File  409  out of  613 . Name: LUC_0228_Scan_3.nii.gzNULL\n",
      "Making folder U:\\LUCADI\\NIFTI\\LUC_0228_Scan_3NULL\n",
      "[1] \"Moving files\"\n"
     ]
    },
    {
     "name": "stderr",
     "output_type": "stream",
     "text": [
      "1 file moved. 0 failed.\n"
     ]
    },
    {
     "name": "stdout",
     "output_type": "stream",
     "text": [
      "[1] \"Done.\"\n",
      "File  410  out of  613 . Name: LUC_0229_Scan_1.nii.gzNULL\n",
      "Making folder U:\\LUCADI\\NIFTI\\LUC_0229_Scan_1NULL\n",
      "[1] \"Moving files\"\n"
     ]
    },
    {
     "name": "stderr",
     "output_type": "stream",
     "text": [
      "1 file moved. 0 failed.\n"
     ]
    },
    {
     "name": "stdout",
     "output_type": "stream",
     "text": [
      "[1] \"Done.\"\n",
      "File  411  out of  613 . Name: LUC_0229_Scan_2.nii.gzNULL\n",
      "Making folder U:\\LUCADI\\NIFTI\\LUC_0229_Scan_2NULL\n",
      "[1] \"Moving files\"\n"
     ]
    },
    {
     "name": "stderr",
     "output_type": "stream",
     "text": [
      "1 file moved. 0 failed.\n"
     ]
    },
    {
     "name": "stdout",
     "output_type": "stream",
     "text": [
      "[1] \"Done.\"\n",
      "File  412  out of  613 . Name: LUC_0229_Scan_3.nii.gzNULL\n",
      "Making folder U:\\LUCADI\\NIFTI\\LUC_0229_Scan_3NULL\n",
      "[1] \"Moving files\"\n"
     ]
    },
    {
     "name": "stderr",
     "output_type": "stream",
     "text": [
      "1 file moved. 0 failed.\n"
     ]
    },
    {
     "name": "stdout",
     "output_type": "stream",
     "text": [
      "[1] \"Done.\"\n",
      "File  413  out of  613 . Name: LUC_0230_Scan_1.nii.gzNULL\n",
      "Making folder U:\\LUCADI\\NIFTI\\LUC_0230_Scan_1NULL\n",
      "[1] \"Moving files\"\n"
     ]
    },
    {
     "name": "stderr",
     "output_type": "stream",
     "text": [
      "1 file moved. 0 failed.\n"
     ]
    },
    {
     "name": "stdout",
     "output_type": "stream",
     "text": [
      "[1] \"Done.\"\n",
      "File  414  out of  613 . Name: LUC_0230_Scan_2.nii.gzNULL\n",
      "Making folder U:\\LUCADI\\NIFTI\\LUC_0230_Scan_2NULL\n",
      "[1] \"Moving files\"\n"
     ]
    },
    {
     "name": "stderr",
     "output_type": "stream",
     "text": [
      "1 file moved. 0 failed.\n"
     ]
    },
    {
     "name": "stdout",
     "output_type": "stream",
     "text": [
      "[1] \"Done.\"\n",
      "File  415  out of  613 . Name: LUC_0230_Scan_3.nii.gzNULL\n",
      "Making folder U:\\LUCADI\\NIFTI\\LUC_0230_Scan_3NULL\n",
      "[1] \"Moving files\"\n"
     ]
    },
    {
     "name": "stderr",
     "output_type": "stream",
     "text": [
      "1 file moved. 0 failed.\n"
     ]
    },
    {
     "name": "stdout",
     "output_type": "stream",
     "text": [
      "[1] \"Done.\"\n",
      "File  416  out of  613 . Name: LUC_0231_Scan_1.nii.gzNULL\n",
      "Making folder U:\\LUCADI\\NIFTI\\LUC_0231_Scan_1NULL\n",
      "[1] \"Moving files\"\n"
     ]
    },
    {
     "name": "stderr",
     "output_type": "stream",
     "text": [
      "1 file moved. 0 failed.\n"
     ]
    },
    {
     "name": "stdout",
     "output_type": "stream",
     "text": [
      "[1] \"Done.\"\n",
      "File  417  out of  613 . Name: LUC_0233_Scan_1.nii.gzNULL\n",
      "Making folder U:\\LUCADI\\NIFTI\\LUC_0233_Scan_1NULL\n",
      "[1] \"Moving files\"\n"
     ]
    },
    {
     "name": "stderr",
     "output_type": "stream",
     "text": [
      "1 file moved. 0 failed.\n"
     ]
    },
    {
     "name": "stdout",
     "output_type": "stream",
     "text": [
      "[1] \"Done.\"\n",
      "File  418  out of  613 . Name: LUC_0233_Scan_2.nii.gzNULL\n",
      "Making folder U:\\LUCADI\\NIFTI\\LUC_0233_Scan_2NULL\n",
      "[1] \"Moving files\"\n"
     ]
    },
    {
     "name": "stderr",
     "output_type": "stream",
     "text": [
      "1 file moved. 0 failed.\n"
     ]
    },
    {
     "name": "stdout",
     "output_type": "stream",
     "text": [
      "[1] \"Done.\"\n",
      "File  419  out of  613 . Name: LUC_0233_Scan_3.nii.gzNULL\n",
      "Making folder U:\\LUCADI\\NIFTI\\LUC_0233_Scan_3NULL\n",
      "[1] \"Moving files\"\n"
     ]
    },
    {
     "name": "stderr",
     "output_type": "stream",
     "text": [
      "1 file moved. 0 failed.\n"
     ]
    },
    {
     "name": "stdout",
     "output_type": "stream",
     "text": [
      "[1] \"Done.\"\n",
      "File  420  out of  613 . Name: LUC_0234_Scan_1.nii.gzNULL\n",
      "Making folder U:\\LUCADI\\NIFTI\\LUC_0234_Scan_1NULL\n",
      "[1] \"Moving files\"\n"
     ]
    },
    {
     "name": "stderr",
     "output_type": "stream",
     "text": [
      "1 file moved. 0 failed.\n"
     ]
    },
    {
     "name": "stdout",
     "output_type": "stream",
     "text": [
      "[1] \"Done.\"\n",
      "File  421  out of  613 . Name: LUC_0235_Scan_1.nii.gzNULL\n",
      "Making folder U:\\LUCADI\\NIFTI\\LUC_0235_Scan_1NULL\n",
      "[1] \"Moving files\"\n"
     ]
    },
    {
     "name": "stderr",
     "output_type": "stream",
     "text": [
      "1 file moved. 0 failed.\n"
     ]
    },
    {
     "name": "stdout",
     "output_type": "stream",
     "text": [
      "[1] \"Done.\"\n",
      "File  422  out of  613 . Name: LUC_0235_Scan_2.nii.gzNULL\n",
      "Making folder U:\\LUCADI\\NIFTI\\LUC_0235_Scan_2NULL\n",
      "[1] \"Moving files\"\n"
     ]
    },
    {
     "name": "stderr",
     "output_type": "stream",
     "text": [
      "1 file moved. 0 failed.\n"
     ]
    },
    {
     "name": "stdout",
     "output_type": "stream",
     "text": [
      "[1] \"Done.\"\n",
      "File  423  out of  613 . Name: LUC_0236_Scan_1.nii.gzNULL\n",
      "Making folder U:\\LUCADI\\NIFTI\\LUC_0236_Scan_1NULL\n",
      "[1] \"Moving files\"\n"
     ]
    },
    {
     "name": "stderr",
     "output_type": "stream",
     "text": [
      "1 file moved. 0 failed.\n"
     ]
    },
    {
     "name": "stdout",
     "output_type": "stream",
     "text": [
      "[1] \"Done.\"\n",
      "File  424  out of  613 . Name: LUC_0236_Scan_2.nii.gzNULL\n",
      "Making folder U:\\LUCADI\\NIFTI\\LUC_0236_Scan_2NULL\n",
      "[1] \"Moving files\"\n"
     ]
    },
    {
     "name": "stderr",
     "output_type": "stream",
     "text": [
      "1 file moved. 0 failed.\n"
     ]
    },
    {
     "name": "stdout",
     "output_type": "stream",
     "text": [
      "[1] \"Done.\"\n",
      "File  425  out of  613 . Name: LUC_0236_Scan_3.nii.gzNULL\n",
      "Making folder U:\\LUCADI\\NIFTI\\LUC_0236_Scan_3NULL\n",
      "[1] \"Moving files\"\n"
     ]
    },
    {
     "name": "stderr",
     "output_type": "stream",
     "text": [
      "1 file moved. 0 failed.\n"
     ]
    },
    {
     "name": "stdout",
     "output_type": "stream",
     "text": [
      "[1] \"Done.\"\n",
      "File  426  out of  613 . Name: LUC_0237_Scan_1.nii.gzNULL\n",
      "Making folder U:\\LUCADI\\NIFTI\\LUC_0237_Scan_1NULL\n",
      "[1] \"Moving files\"\n"
     ]
    },
    {
     "name": "stderr",
     "output_type": "stream",
     "text": [
      "1 file moved. 0 failed.\n"
     ]
    },
    {
     "name": "stdout",
     "output_type": "stream",
     "text": [
      "[1] \"Done.\"\n",
      "File  427  out of  613 . Name: LUC_0237_Scan_2.nii.gzNULL\n",
      "Making folder U:\\LUCADI\\NIFTI\\LUC_0237_Scan_2NULL\n",
      "[1] \"Moving files\"\n"
     ]
    },
    {
     "name": "stderr",
     "output_type": "stream",
     "text": [
      "1 file moved. 0 failed.\n"
     ]
    },
    {
     "name": "stdout",
     "output_type": "stream",
     "text": [
      "[1] \"Done.\"\n",
      "File  428  out of  613 . Name: LUC_0238_Scan_1.nii.gzNULL\n",
      "Making folder U:\\LUCADI\\NIFTI\\LUC_0238_Scan_1NULL\n",
      "[1] \"Moving files\"\n"
     ]
    },
    {
     "name": "stderr",
     "output_type": "stream",
     "text": [
      "1 file moved. 0 failed.\n"
     ]
    },
    {
     "name": "stdout",
     "output_type": "stream",
     "text": [
      "[1] \"Done.\"\n",
      "File  429  out of  613 . Name: LUC_0238_Scan_2.nii.gzNULL\n",
      "Making folder U:\\LUCADI\\NIFTI\\LUC_0238_Scan_2NULL\n",
      "[1] \"Moving files\"\n"
     ]
    },
    {
     "name": "stderr",
     "output_type": "stream",
     "text": [
      "1 file moved. 0 failed.\n"
     ]
    },
    {
     "name": "stdout",
     "output_type": "stream",
     "text": [
      "[1] \"Done.\"\n",
      "File  430  out of  613 . Name: LUC_0238_Scan_3.nii.gzNULL\n",
      "Making folder U:\\LUCADI\\NIFTI\\LUC_0238_Scan_3NULL\n",
      "[1] \"Moving files\"\n"
     ]
    },
    {
     "name": "stderr",
     "output_type": "stream",
     "text": [
      "1 file moved. 0 failed.\n"
     ]
    },
    {
     "name": "stdout",
     "output_type": "stream",
     "text": [
      "[1] \"Done.\"\n",
      "File  431  out of  613 . Name: LUC_0239_Scan_1.nii.gzNULL\n",
      "Making folder U:\\LUCADI\\NIFTI\\LUC_0239_Scan_1NULL\n",
      "[1] \"Moving files\"\n"
     ]
    },
    {
     "name": "stderr",
     "output_type": "stream",
     "text": [
      "1 file moved. 0 failed.\n"
     ]
    },
    {
     "name": "stdout",
     "output_type": "stream",
     "text": [
      "[1] \"Done.\"\n",
      "File  432  out of  613 . Name: LUC_0239_Scan_2.nii.gzNULL\n",
      "Making folder U:\\LUCADI\\NIFTI\\LUC_0239_Scan_2NULL\n",
      "[1] \"Moving files\"\n"
     ]
    },
    {
     "name": "stderr",
     "output_type": "stream",
     "text": [
      "1 file moved. 0 failed.\n"
     ]
    },
    {
     "name": "stdout",
     "output_type": "stream",
     "text": [
      "[1] \"Done.\"\n",
      "File  433  out of  613 . Name: LUC_0239_Scan_3.nii.gzNULL\n",
      "Making folder U:\\LUCADI\\NIFTI\\LUC_0239_Scan_3NULL\n",
      "[1] \"Moving files\"\n"
     ]
    },
    {
     "name": "stderr",
     "output_type": "stream",
     "text": [
      "1 file moved. 0 failed.\n"
     ]
    },
    {
     "name": "stdout",
     "output_type": "stream",
     "text": [
      "[1] \"Done.\"\n",
      "File  434  out of  613 . Name: LUC_0240_Scan_1.nii.gzNULL\n",
      "Making folder U:\\LUCADI\\NIFTI\\LUC_0240_Scan_1NULL\n",
      "[1] \"Moving files\"\n"
     ]
    },
    {
     "name": "stderr",
     "output_type": "stream",
     "text": [
      "1 file moved. 0 failed.\n"
     ]
    },
    {
     "name": "stdout",
     "output_type": "stream",
     "text": [
      "[1] \"Done.\"\n",
      "File  435  out of  613 . Name: LUC_0240_Scan_2.nii.gzNULL\n",
      "Making folder U:\\LUCADI\\NIFTI\\LUC_0240_Scan_2NULL\n",
      "[1] \"Moving files\"\n"
     ]
    },
    {
     "name": "stderr",
     "output_type": "stream",
     "text": [
      "1 file moved. 0 failed.\n"
     ]
    },
    {
     "name": "stdout",
     "output_type": "stream",
     "text": [
      "[1] \"Done.\"\n",
      "File  436  out of  613 . Name: LUC_0241_Scan_1.nii.gzNULL\n",
      "Making folder U:\\LUCADI\\NIFTI\\LUC_0241_Scan_1NULL\n",
      "[1] \"Moving files\"\n"
     ]
    },
    {
     "name": "stderr",
     "output_type": "stream",
     "text": [
      "1 file moved. 0 failed.\n"
     ]
    },
    {
     "name": "stdout",
     "output_type": "stream",
     "text": [
      "[1] \"Done.\"\n",
      "File  437  out of  613 . Name: LUC_0241_Scan_2.nii.gzNULL\n",
      "Making folder U:\\LUCADI\\NIFTI\\LUC_0241_Scan_2NULL\n",
      "[1] \"Moving files\"\n"
     ]
    },
    {
     "name": "stderr",
     "output_type": "stream",
     "text": [
      "1 file moved. 0 failed.\n"
     ]
    },
    {
     "name": "stdout",
     "output_type": "stream",
     "text": [
      "[1] \"Done.\"\n",
      "File  438  out of  613 . Name: LUC_0242_Scan_1.nii.gzNULL\n",
      "Making folder U:\\LUCADI\\NIFTI\\LUC_0242_Scan_1NULL\n",
      "[1] \"Moving files\"\n"
     ]
    },
    {
     "name": "stderr",
     "output_type": "stream",
     "text": [
      "1 file moved. 0 failed.\n"
     ]
    },
    {
     "name": "stdout",
     "output_type": "stream",
     "text": [
      "[1] \"Done.\"\n",
      "File  439  out of  613 . Name: LUC_0242_Scan_2.nii.gzNULL\n",
      "Making folder U:\\LUCADI\\NIFTI\\LUC_0242_Scan_2NULL\n",
      "[1] \"Moving files\"\n"
     ]
    },
    {
     "name": "stderr",
     "output_type": "stream",
     "text": [
      "1 file moved. 0 failed.\n"
     ]
    },
    {
     "name": "stdout",
     "output_type": "stream",
     "text": [
      "[1] \"Done.\"\n",
      "File  440  out of  613 . Name: LUC_0243_Scan_1.nii.gzNULL\n",
      "Making folder U:\\LUCADI\\NIFTI\\LUC_0243_Scan_1NULL\n",
      "[1] \"Moving files\"\n"
     ]
    },
    {
     "name": "stderr",
     "output_type": "stream",
     "text": [
      "1 file moved. 0 failed.\n"
     ]
    },
    {
     "name": "stdout",
     "output_type": "stream",
     "text": [
      "[1] \"Done.\"\n",
      "File  441  out of  613 . Name: LUC_0243_Scan_2.nii.gzNULL\n",
      "Making folder U:\\LUCADI\\NIFTI\\LUC_0243_Scan_2NULL\n",
      "[1] \"Moving files\"\n"
     ]
    },
    {
     "name": "stderr",
     "output_type": "stream",
     "text": [
      "1 file moved. 0 failed.\n"
     ]
    },
    {
     "name": "stdout",
     "output_type": "stream",
     "text": [
      "[1] \"Done.\"\n",
      "File  442  out of  613 . Name: LUC_0243_Scan_3.nii.gzNULL\n",
      "Making folder U:\\LUCADI\\NIFTI\\LUC_0243_Scan_3NULL\n",
      "[1] \"Moving files\"\n"
     ]
    },
    {
     "name": "stderr",
     "output_type": "stream",
     "text": [
      "1 file moved. 0 failed.\n"
     ]
    },
    {
     "name": "stdout",
     "output_type": "stream",
     "text": [
      "[1] \"Done.\"\n",
      "File  443  out of  613 . Name: LUC_0244_Scan_1.nii.gzNULL\n",
      "Making folder U:\\LUCADI\\NIFTI\\LUC_0244_Scan_1NULL\n",
      "[1] \"Moving files\"\n"
     ]
    },
    {
     "name": "stderr",
     "output_type": "stream",
     "text": [
      "1 file moved. 0 failed.\n"
     ]
    },
    {
     "name": "stdout",
     "output_type": "stream",
     "text": [
      "[1] \"Done.\"\n",
      "File  444  out of  613 . Name: LUC_0244_Scan_2.nii.gzNULL\n",
      "Making folder U:\\LUCADI\\NIFTI\\LUC_0244_Scan_2NULL\n",
      "[1] \"Moving files\"\n"
     ]
    },
    {
     "name": "stderr",
     "output_type": "stream",
     "text": [
      "1 file moved. 0 failed.\n"
     ]
    },
    {
     "name": "stdout",
     "output_type": "stream",
     "text": [
      "[1] \"Done.\"\n",
      "File  445  out of  613 . Name: LUC_0244_Scan_3.nii.gzNULL\n",
      "Making folder U:\\LUCADI\\NIFTI\\LUC_0244_Scan_3NULL\n",
      "[1] \"Moving files\"\n"
     ]
    },
    {
     "name": "stderr",
     "output_type": "stream",
     "text": [
      "1 file moved. 0 failed.\n"
     ]
    },
    {
     "name": "stdout",
     "output_type": "stream",
     "text": [
      "[1] \"Done.\"\n",
      "File  446  out of  613 . Name: LUC_0245_Scan_1.nii.gzNULL\n",
      "Making folder U:\\LUCADI\\NIFTI\\LUC_0245_Scan_1NULL\n",
      "[1] \"Moving files\"\n"
     ]
    },
    {
     "name": "stderr",
     "output_type": "stream",
     "text": [
      "1 file moved. 0 failed.\n"
     ]
    },
    {
     "name": "stdout",
     "output_type": "stream",
     "text": [
      "[1] \"Done.\"\n",
      "File  447  out of  613 . Name: LUC_0245_Scan_2.nii.gzNULL\n",
      "Making folder U:\\LUCADI\\NIFTI\\LUC_0245_Scan_2NULL\n",
      "[1] \"Moving files\"\n"
     ]
    },
    {
     "name": "stderr",
     "output_type": "stream",
     "text": [
      "1 file moved. 0 failed.\n"
     ]
    },
    {
     "name": "stdout",
     "output_type": "stream",
     "text": [
      "[1] \"Done.\"\n",
      "File  448  out of  613 . Name: LUC_0246_Scan_1.nii.gzNULL\n",
      "Making folder U:\\LUCADI\\NIFTI\\LUC_0246_Scan_1NULL\n",
      "[1] \"Moving files\"\n"
     ]
    },
    {
     "name": "stderr",
     "output_type": "stream",
     "text": [
      "1 file moved. 0 failed.\n"
     ]
    },
    {
     "name": "stdout",
     "output_type": "stream",
     "text": [
      "[1] \"Done.\"\n",
      "File  449  out of  613 . Name: LUC_0246_Scan_2.nii.gzNULL\n",
      "Making folder U:\\LUCADI\\NIFTI\\LUC_0246_Scan_2NULL\n",
      "[1] \"Moving files\"\n"
     ]
    },
    {
     "name": "stderr",
     "output_type": "stream",
     "text": [
      "1 file moved. 0 failed.\n"
     ]
    },
    {
     "name": "stdout",
     "output_type": "stream",
     "text": [
      "[1] \"Done.\"\n",
      "File  450  out of  613 . Name: LUC_0246_Scan_3.nii.gzNULL\n",
      "Making folder U:\\LUCADI\\NIFTI\\LUC_0246_Scan_3NULL\n",
      "[1] \"Moving files\"\n"
     ]
    },
    {
     "name": "stderr",
     "output_type": "stream",
     "text": [
      "1 file moved. 0 failed.\n"
     ]
    },
    {
     "name": "stdout",
     "output_type": "stream",
     "text": [
      "[1] \"Done.\"\n",
      "File  451  out of  613 . Name: LUC_0247_Scan_1.nii.gzNULL\n",
      "Making folder U:\\LUCADI\\NIFTI\\LUC_0247_Scan_1NULL\n",
      "[1] \"Moving files\"\n"
     ]
    },
    {
     "name": "stderr",
     "output_type": "stream",
     "text": [
      "1 file moved. 0 failed.\n"
     ]
    },
    {
     "name": "stdout",
     "output_type": "stream",
     "text": [
      "[1] \"Done.\"\n",
      "File  452  out of  613 . Name: LUC_0247_Scan_2.nii.gzNULL\n",
      "Making folder U:\\LUCADI\\NIFTI\\LUC_0247_Scan_2NULL\n",
      "[1] \"Moving files\"\n"
     ]
    },
    {
     "name": "stderr",
     "output_type": "stream",
     "text": [
      "1 file moved. 0 failed.\n"
     ]
    },
    {
     "name": "stdout",
     "output_type": "stream",
     "text": [
      "[1] \"Done.\"\n",
      "File  453  out of  613 . Name: LUC_0248_Scan_1.nii.gzNULL\n",
      "Making folder U:\\LUCADI\\NIFTI\\LUC_0248_Scan_1NULL\n",
      "[1] \"Moving files\"\n"
     ]
    },
    {
     "name": "stderr",
     "output_type": "stream",
     "text": [
      "1 file moved. 0 failed.\n"
     ]
    },
    {
     "name": "stdout",
     "output_type": "stream",
     "text": [
      "[1] \"Done.\"\n",
      "File  454  out of  613 . Name: LUC_0248_Scan_2.nii.gzNULL\n",
      "Making folder U:\\LUCADI\\NIFTI\\LUC_0248_Scan_2NULL\n",
      "[1] \"Moving files\"\n"
     ]
    },
    {
     "name": "stderr",
     "output_type": "stream",
     "text": [
      "1 file moved. 0 failed.\n"
     ]
    },
    {
     "name": "stdout",
     "output_type": "stream",
     "text": [
      "[1] \"Done.\"\n",
      "File  455  out of  613 . Name: LUC_0249_Scan_1.nii.gzNULL\n",
      "Making folder U:\\LUCADI\\NIFTI\\LUC_0249_Scan_1NULL\n",
      "[1] \"Moving files\"\n"
     ]
    },
    {
     "name": "stderr",
     "output_type": "stream",
     "text": [
      "1 file moved. 0 failed.\n"
     ]
    },
    {
     "name": "stdout",
     "output_type": "stream",
     "text": [
      "[1] \"Done.\"\n",
      "File  456  out of  613 . Name: LUC_0249_Scan_2.nii.gzNULL\n",
      "Making folder U:\\LUCADI\\NIFTI\\LUC_0249_Scan_2NULL\n",
      "[1] \"Moving files\"\n"
     ]
    },
    {
     "name": "stderr",
     "output_type": "stream",
     "text": [
      "1 file moved. 0 failed.\n"
     ]
    },
    {
     "name": "stdout",
     "output_type": "stream",
     "text": [
      "[1] \"Done.\"\n",
      "File  457  out of  613 . Name: LUC_0250_Scan_1.nii.gzNULL\n",
      "Making folder U:\\LUCADI\\NIFTI\\LUC_0250_Scan_1NULL\n",
      "[1] \"Moving files\"\n"
     ]
    },
    {
     "name": "stderr",
     "output_type": "stream",
     "text": [
      "1 file moved. 0 failed.\n"
     ]
    },
    {
     "name": "stdout",
     "output_type": "stream",
     "text": [
      "[1] \"Done.\"\n",
      "File  458  out of  613 . Name: LUC_0251_Scan_1.nii.gzNULL\n",
      "Making folder U:\\LUCADI\\NIFTI\\LUC_0251_Scan_1NULL\n",
      "[1] \"Moving files\"\n"
     ]
    },
    {
     "name": "stderr",
     "output_type": "stream",
     "text": [
      "1 file moved. 0 failed.\n"
     ]
    },
    {
     "name": "stdout",
     "output_type": "stream",
     "text": [
      "[1] \"Done.\"\n",
      "File  459  out of  613 . Name: LUC_0251_Scan_2.nii.gzNULL\n",
      "Making folder U:\\LUCADI\\NIFTI\\LUC_0251_Scan_2NULL\n",
      "[1] \"Moving files\"\n"
     ]
    },
    {
     "name": "stderr",
     "output_type": "stream",
     "text": [
      "1 file moved. 0 failed.\n"
     ]
    },
    {
     "name": "stdout",
     "output_type": "stream",
     "text": [
      "[1] \"Done.\"\n",
      "File  460  out of  613 . Name: LUC_0252_Scan_1.nii.gzNULL\n",
      "Making folder U:\\LUCADI\\NIFTI\\LUC_0252_Scan_1NULL\n",
      "[1] \"Moving files\"\n"
     ]
    },
    {
     "name": "stderr",
     "output_type": "stream",
     "text": [
      "1 file moved. 0 failed.\n"
     ]
    },
    {
     "name": "stdout",
     "output_type": "stream",
     "text": [
      "[1] \"Done.\"\n",
      "File  461  out of  613 . Name: LUC_0252_Scan_2.nii.gzNULL\n",
      "Making folder U:\\LUCADI\\NIFTI\\LUC_0252_Scan_2NULL\n",
      "[1] \"Moving files\"\n"
     ]
    },
    {
     "name": "stderr",
     "output_type": "stream",
     "text": [
      "1 file moved. 0 failed.\n"
     ]
    },
    {
     "name": "stdout",
     "output_type": "stream",
     "text": [
      "[1] \"Done.\"\n",
      "File  462  out of  613 . Name: LUC_0252_Scan_3.nii.gzNULL\n",
      "Making folder U:\\LUCADI\\NIFTI\\LUC_0252_Scan_3NULL\n",
      "[1] \"Moving files\"\n"
     ]
    },
    {
     "name": "stderr",
     "output_type": "stream",
     "text": [
      "1 file moved. 0 failed.\n"
     ]
    },
    {
     "name": "stdout",
     "output_type": "stream",
     "text": [
      "[1] \"Done.\"\n",
      "File  463  out of  613 . Name: LUC_0253_Scan_1.nii.gzNULL\n",
      "Making folder U:\\LUCADI\\NIFTI\\LUC_0253_Scan_1NULL\n",
      "[1] \"Moving files\"\n"
     ]
    },
    {
     "name": "stderr",
     "output_type": "stream",
     "text": [
      "1 file moved. 0 failed.\n"
     ]
    },
    {
     "name": "stdout",
     "output_type": "stream",
     "text": [
      "[1] \"Done.\"\n",
      "File  464  out of  613 . Name: LUC_0253_Scan_2.nii.gzNULL\n",
      "Making folder U:\\LUCADI\\NIFTI\\LUC_0253_Scan_2NULL\n",
      "[1] \"Moving files\"\n"
     ]
    },
    {
     "name": "stderr",
     "output_type": "stream",
     "text": [
      "1 file moved. 0 failed.\n"
     ]
    },
    {
     "name": "stdout",
     "output_type": "stream",
     "text": [
      "[1] \"Done.\"\n",
      "File  465  out of  613 . Name: LUC_0254_Scan_1.nii.gzNULL\n",
      "Making folder U:\\LUCADI\\NIFTI\\LUC_0254_Scan_1NULL\n",
      "[1] \"Moving files\"\n"
     ]
    },
    {
     "name": "stderr",
     "output_type": "stream",
     "text": [
      "1 file moved. 0 failed.\n"
     ]
    },
    {
     "name": "stdout",
     "output_type": "stream",
     "text": [
      "[1] \"Done.\"\n",
      "File  466  out of  613 . Name: LUC_0255_Scan_1.nii.gzNULL\n",
      "Making folder U:\\LUCADI\\NIFTI\\LUC_0255_Scan_1NULL\n",
      "[1] \"Moving files\"\n"
     ]
    },
    {
     "name": "stderr",
     "output_type": "stream",
     "text": [
      "1 file moved. 0 failed.\n"
     ]
    },
    {
     "name": "stdout",
     "output_type": "stream",
     "text": [
      "[1] \"Done.\"\n",
      "File  467  out of  613 . Name: LUC_0256_Scan_1.nii.gzNULL\n",
      "Making folder U:\\LUCADI\\NIFTI\\LUC_0256_Scan_1NULL\n",
      "[1] \"Moving files\"\n"
     ]
    },
    {
     "name": "stderr",
     "output_type": "stream",
     "text": [
      "1 file moved. 0 failed.\n"
     ]
    },
    {
     "name": "stdout",
     "output_type": "stream",
     "text": [
      "[1] \"Done.\"\n",
      "File  468  out of  613 . Name: LUC_0256_Scan_2.nii.gzNULL\n",
      "Making folder U:\\LUCADI\\NIFTI\\LUC_0256_Scan_2NULL\n",
      "[1] \"Moving files\"\n"
     ]
    },
    {
     "name": "stderr",
     "output_type": "stream",
     "text": [
      "1 file moved. 0 failed.\n"
     ]
    },
    {
     "name": "stdout",
     "output_type": "stream",
     "text": [
      "[1] \"Done.\"\n",
      "File  469  out of  613 . Name: LUC_0256_Scan_3.nii.gzNULL\n",
      "Making folder U:\\LUCADI\\NIFTI\\LUC_0256_Scan_3NULL\n",
      "[1] \"Moving files\"\n"
     ]
    },
    {
     "name": "stderr",
     "output_type": "stream",
     "text": [
      "1 file moved. 0 failed.\n"
     ]
    },
    {
     "name": "stdout",
     "output_type": "stream",
     "text": [
      "[1] \"Done.\"\n",
      "File  470  out of  613 . Name: LUC_0257_Scan_1.nii.gzNULL\n",
      "Making folder U:\\LUCADI\\NIFTI\\LUC_0257_Scan_1NULL\n",
      "[1] \"Moving files\"\n"
     ]
    },
    {
     "name": "stderr",
     "output_type": "stream",
     "text": [
      "1 file moved. 0 failed.\n"
     ]
    },
    {
     "name": "stdout",
     "output_type": "stream",
     "text": [
      "[1] \"Done.\"\n",
      "File  471  out of  613 . Name: LUC_0257_Scan_2.nii.gzNULL\n",
      "Making folder U:\\LUCADI\\NIFTI\\LUC_0257_Scan_2NULL\n",
      "[1] \"Moving files\"\n"
     ]
    },
    {
     "name": "stderr",
     "output_type": "stream",
     "text": [
      "1 file moved. 0 failed.\n"
     ]
    },
    {
     "name": "stdout",
     "output_type": "stream",
     "text": [
      "[1] \"Done.\"\n",
      "File  472  out of  613 . Name: LUC_0257_Scan_3.nii.gzNULL\n",
      "Making folder U:\\LUCADI\\NIFTI\\LUC_0257_Scan_3NULL\n",
      "[1] \"Moving files\"\n"
     ]
    },
    {
     "name": "stderr",
     "output_type": "stream",
     "text": [
      "1 file moved. 0 failed.\n"
     ]
    },
    {
     "name": "stdout",
     "output_type": "stream",
     "text": [
      "[1] \"Done.\"\n",
      "File  473  out of  613 . Name: LUC_0258_Scan_1.nii.gzNULL\n",
      "Making folder U:\\LUCADI\\NIFTI\\LUC_0258_Scan_1NULL\n",
      "[1] \"Moving files\"\n"
     ]
    },
    {
     "name": "stderr",
     "output_type": "stream",
     "text": [
      "1 file moved. 0 failed.\n"
     ]
    },
    {
     "name": "stdout",
     "output_type": "stream",
     "text": [
      "[1] \"Done.\"\n",
      "File  474  out of  613 . Name: LUC_0258_Scan_2.nii.gzNULL\n",
      "Making folder U:\\LUCADI\\NIFTI\\LUC_0258_Scan_2NULL\n",
      "[1] \"Moving files\"\n"
     ]
    },
    {
     "name": "stderr",
     "output_type": "stream",
     "text": [
      "1 file moved. 0 failed.\n"
     ]
    },
    {
     "name": "stdout",
     "output_type": "stream",
     "text": [
      "[1] \"Done.\"\n",
      "File  475  out of  613 . Name: LUC_0259_Scan_1.nii.gzNULL\n",
      "Making folder U:\\LUCADI\\NIFTI\\LUC_0259_Scan_1NULL\n",
      "[1] \"Moving files\"\n"
     ]
    },
    {
     "name": "stderr",
     "output_type": "stream",
     "text": [
      "1 file moved. 0 failed.\n"
     ]
    },
    {
     "name": "stdout",
     "output_type": "stream",
     "text": [
      "[1] \"Done.\"\n",
      "File  476  out of  613 . Name: LUC_0259_Scan_2.nii.gzNULL\n",
      "Making folder U:\\LUCADI\\NIFTI\\LUC_0259_Scan_2NULL\n",
      "[1] \"Moving files\"\n"
     ]
    },
    {
     "name": "stderr",
     "output_type": "stream",
     "text": [
      "1 file moved. 0 failed.\n"
     ]
    },
    {
     "name": "stdout",
     "output_type": "stream",
     "text": [
      "[1] \"Done.\"\n",
      "File  477  out of  613 . Name: LUC_0260_Scan_1.nii.gzNULL\n",
      "Making folder U:\\LUCADI\\NIFTI\\LUC_0260_Scan_1NULL\n",
      "[1] \"Moving files\"\n"
     ]
    },
    {
     "name": "stderr",
     "output_type": "stream",
     "text": [
      "1 file moved. 0 failed.\n"
     ]
    },
    {
     "name": "stdout",
     "output_type": "stream",
     "text": [
      "[1] \"Done.\"\n",
      "File  478  out of  613 . Name: LUC_0261_Scan_1.nii.gzNULL\n",
      "Making folder U:\\LUCADI\\NIFTI\\LUC_0261_Scan_1NULL\n",
      "[1] \"Moving files\"\n"
     ]
    },
    {
     "name": "stderr",
     "output_type": "stream",
     "text": [
      "1 file moved. 0 failed.\n"
     ]
    },
    {
     "name": "stdout",
     "output_type": "stream",
     "text": [
      "[1] \"Done.\"\n",
      "File  479  out of  613 . Name: LUC_0261_Scan_2.nii.gzNULL\n",
      "Making folder U:\\LUCADI\\NIFTI\\LUC_0261_Scan_2NULL\n",
      "[1] \"Moving files\"\n"
     ]
    },
    {
     "name": "stderr",
     "output_type": "stream",
     "text": [
      "1 file moved. 0 failed.\n"
     ]
    },
    {
     "name": "stdout",
     "output_type": "stream",
     "text": [
      "[1] \"Done.\"\n",
      "File  480  out of  613 . Name: LUC_0262_Scan_1.nii.gzNULL\n",
      "Making folder U:\\LUCADI\\NIFTI\\LUC_0262_Scan_1NULL\n",
      "[1] \"Moving files\"\n"
     ]
    },
    {
     "name": "stderr",
     "output_type": "stream",
     "text": [
      "1 file moved. 0 failed.\n"
     ]
    },
    {
     "name": "stdout",
     "output_type": "stream",
     "text": [
      "[1] \"Done.\"\n",
      "File  481  out of  613 . Name: LUC_0263_Scan_1.nii.gzNULL\n",
      "Making folder U:\\LUCADI\\NIFTI\\LUC_0263_Scan_1NULL\n",
      "[1] \"Moving files\"\n"
     ]
    },
    {
     "name": "stderr",
     "output_type": "stream",
     "text": [
      "1 file moved. 0 failed.\n"
     ]
    },
    {
     "name": "stdout",
     "output_type": "stream",
     "text": [
      "[1] \"Done.\"\n",
      "File  482  out of  613 . Name: LUC_0263_Scan_2.nii.gzNULL\n",
      "Making folder U:\\LUCADI\\NIFTI\\LUC_0263_Scan_2NULL\n",
      "[1] \"Moving files\"\n"
     ]
    },
    {
     "name": "stderr",
     "output_type": "stream",
     "text": [
      "1 file moved. 0 failed.\n"
     ]
    },
    {
     "name": "stdout",
     "output_type": "stream",
     "text": [
      "[1] \"Done.\"\n",
      "File  483  out of  613 . Name: LUC_0264_Scan_1.nii.gzNULL\n",
      "Making folder U:\\LUCADI\\NIFTI\\LUC_0264_Scan_1NULL\n",
      "[1] \"Moving files\"\n"
     ]
    },
    {
     "name": "stderr",
     "output_type": "stream",
     "text": [
      "1 file moved. 0 failed.\n"
     ]
    },
    {
     "name": "stdout",
     "output_type": "stream",
     "text": [
      "[1] \"Done.\"\n",
      "File  484  out of  613 . Name: LUC_0264_Scan_2.nii.gzNULL\n",
      "Making folder U:\\LUCADI\\NIFTI\\LUC_0264_Scan_2NULL\n",
      "[1] \"Moving files\"\n"
     ]
    },
    {
     "name": "stderr",
     "output_type": "stream",
     "text": [
      "1 file moved. 0 failed.\n"
     ]
    },
    {
     "name": "stdout",
     "output_type": "stream",
     "text": [
      "[1] \"Done.\"\n",
      "File  485  out of  613 . Name: LUC_0264_Scan_3.nii.gzNULL\n",
      "Making folder U:\\LUCADI\\NIFTI\\LUC_0264_Scan_3NULL\n",
      "[1] \"Moving files\"\n"
     ]
    },
    {
     "name": "stderr",
     "output_type": "stream",
     "text": [
      "1 file moved. 0 failed.\n"
     ]
    },
    {
     "name": "stdout",
     "output_type": "stream",
     "text": [
      "[1] \"Done.\"\n",
      "File  486  out of  613 . Name: LUC_0265_Scan_1.nii.gzNULL\n",
      "Making folder U:\\LUCADI\\NIFTI\\LUC_0265_Scan_1NULL\n",
      "[1] \"Moving files\"\n"
     ]
    },
    {
     "name": "stderr",
     "output_type": "stream",
     "text": [
      "1 file moved. 0 failed.\n"
     ]
    },
    {
     "name": "stdout",
     "output_type": "stream",
     "text": [
      "[1] \"Done.\"\n",
      "File  487  out of  613 . Name: LUC_0266_Scan_1.nii.gzNULL\n",
      "Making folder U:\\LUCADI\\NIFTI\\LUC_0266_Scan_1NULL\n",
      "[1] \"Moving files\"\n"
     ]
    },
    {
     "name": "stderr",
     "output_type": "stream",
     "text": [
      "1 file moved. 0 failed.\n"
     ]
    },
    {
     "name": "stdout",
     "output_type": "stream",
     "text": [
      "[1] \"Done.\"\n",
      "File  488  out of  613 . Name: LUC_0267_Scan_1.nii.gzNULL\n",
      "Making folder U:\\LUCADI\\NIFTI\\LUC_0267_Scan_1NULL\n",
      "[1] \"Moving files\"\n"
     ]
    },
    {
     "name": "stderr",
     "output_type": "stream",
     "text": [
      "1 file moved. 0 failed.\n"
     ]
    },
    {
     "name": "stdout",
     "output_type": "stream",
     "text": [
      "[1] \"Done.\"\n",
      "File  489  out of  613 . Name: LUC_0268_Scan_1.nii.gzNULL\n",
      "Making folder U:\\LUCADI\\NIFTI\\LUC_0268_Scan_1NULL\n",
      "[1] \"Moving files\"\n"
     ]
    },
    {
     "name": "stderr",
     "output_type": "stream",
     "text": [
      "1 file moved. 0 failed.\n"
     ]
    },
    {
     "name": "stdout",
     "output_type": "stream",
     "text": [
      "[1] \"Done.\"\n",
      "File  490  out of  613 . Name: LUC_0268_Scan_2.nii.gzNULL\n",
      "Making folder U:\\LUCADI\\NIFTI\\LUC_0268_Scan_2NULL\n",
      "[1] \"Moving files\"\n"
     ]
    },
    {
     "name": "stderr",
     "output_type": "stream",
     "text": [
      "1 file moved. 0 failed.\n"
     ]
    },
    {
     "name": "stdout",
     "output_type": "stream",
     "text": [
      "[1] \"Done.\"\n",
      "File  491  out of  613 . Name: LUC_0268_Scan_3.nii.gzNULL\n",
      "Making folder U:\\LUCADI\\NIFTI\\LUC_0268_Scan_3NULL\n",
      "[1] \"Moving files\"\n"
     ]
    },
    {
     "name": "stderr",
     "output_type": "stream",
     "text": [
      "1 file moved. 0 failed.\n"
     ]
    },
    {
     "name": "stdout",
     "output_type": "stream",
     "text": [
      "[1] \"Done.\"\n",
      "File  492  out of  613 . Name: LUC_0269_Scan_1.nii.gzNULL\n",
      "Making folder U:\\LUCADI\\NIFTI\\LUC_0269_Scan_1NULL\n",
      "[1] \"Moving files\"\n"
     ]
    },
    {
     "name": "stderr",
     "output_type": "stream",
     "text": [
      "1 file moved. 0 failed.\n"
     ]
    },
    {
     "name": "stdout",
     "output_type": "stream",
     "text": [
      "[1] \"Done.\"\n",
      "File  493  out of  613 . Name: LUC_0270_Scan_1.nii.gzNULL\n",
      "Making folder U:\\LUCADI\\NIFTI\\LUC_0270_Scan_1NULL\n",
      "[1] \"Moving files\"\n"
     ]
    },
    {
     "name": "stderr",
     "output_type": "stream",
     "text": [
      "1 file moved. 0 failed.\n"
     ]
    },
    {
     "name": "stdout",
     "output_type": "stream",
     "text": [
      "[1] \"Done.\"\n",
      "File  494  out of  613 . Name: LUC_0270_Scan_2.nii.gzNULL\n",
      "Making folder U:\\LUCADI\\NIFTI\\LUC_0270_Scan_2NULL\n",
      "[1] \"Moving files\"\n"
     ]
    },
    {
     "name": "stderr",
     "output_type": "stream",
     "text": [
      "1 file moved. 0 failed.\n"
     ]
    },
    {
     "name": "stdout",
     "output_type": "stream",
     "text": [
      "[1] \"Done.\"\n",
      "File  495  out of  613 . Name: LUC_0271_Scan_1.nii.gzNULL\n",
      "Making folder U:\\LUCADI\\NIFTI\\LUC_0271_Scan_1NULL\n",
      "[1] \"Moving files\"\n"
     ]
    },
    {
     "name": "stderr",
     "output_type": "stream",
     "text": [
      "1 file moved. 0 failed.\n"
     ]
    },
    {
     "name": "stdout",
     "output_type": "stream",
     "text": [
      "[1] \"Done.\"\n",
      "File  496  out of  613 . Name: LUC_0271_Scan_2.nii.gzNULL\n",
      "Making folder U:\\LUCADI\\NIFTI\\LUC_0271_Scan_2NULL\n",
      "[1] \"Moving files\"\n"
     ]
    },
    {
     "name": "stderr",
     "output_type": "stream",
     "text": [
      "1 file moved. 0 failed.\n"
     ]
    },
    {
     "name": "stdout",
     "output_type": "stream",
     "text": [
      "[1] \"Done.\"\n",
      "File  497  out of  613 . Name: LUC_0272_Scan_1.nii.gzNULL\n",
      "Making folder U:\\LUCADI\\NIFTI\\LUC_0272_Scan_1NULL\n",
      "[1] \"Moving files\"\n"
     ]
    },
    {
     "name": "stderr",
     "output_type": "stream",
     "text": [
      "1 file moved. 0 failed.\n"
     ]
    },
    {
     "name": "stdout",
     "output_type": "stream",
     "text": [
      "[1] \"Done.\"\n",
      "File  498  out of  613 . Name: LUC_0272_Scan_2.nii.gzNULL\n",
      "Making folder U:\\LUCADI\\NIFTI\\LUC_0272_Scan_2NULL\n",
      "[1] \"Moving files\"\n"
     ]
    },
    {
     "name": "stderr",
     "output_type": "stream",
     "text": [
      "1 file moved. 0 failed.\n"
     ]
    },
    {
     "name": "stdout",
     "output_type": "stream",
     "text": [
      "[1] \"Done.\"\n",
      "File  499  out of  613 . Name: LUC_0273_Scan_1.nii.gzNULL\n",
      "Making folder U:\\LUCADI\\NIFTI\\LUC_0273_Scan_1NULL\n",
      "[1] \"Moving files\"\n"
     ]
    },
    {
     "name": "stderr",
     "output_type": "stream",
     "text": [
      "1 file moved. 0 failed.\n"
     ]
    },
    {
     "name": "stdout",
     "output_type": "stream",
     "text": [
      "[1] \"Done.\"\n",
      "File  500  out of  613 . Name: LUC_0273_Scan_2.nii.gzNULL\n",
      "Making folder U:\\LUCADI\\NIFTI\\LUC_0273_Scan_2NULL\n",
      "[1] \"Moving files\"\n"
     ]
    },
    {
     "name": "stderr",
     "output_type": "stream",
     "text": [
      "1 file moved. 0 failed.\n"
     ]
    },
    {
     "name": "stdout",
     "output_type": "stream",
     "text": [
      "[1] \"Done.\"\n",
      "File  501  out of  613 . Name: LUC_0273_Scan_3.nii.gzNULL\n",
      "Making folder U:\\LUCADI\\NIFTI\\LUC_0273_Scan_3NULL\n",
      "[1] \"Moving files\"\n"
     ]
    },
    {
     "name": "stderr",
     "output_type": "stream",
     "text": [
      "1 file moved. 0 failed.\n"
     ]
    },
    {
     "name": "stdout",
     "output_type": "stream",
     "text": [
      "[1] \"Done.\"\n",
      "File  502  out of  613 . Name: LUC_0274_Scan_1.nii.gzNULL\n",
      "Making folder U:\\LUCADI\\NIFTI\\LUC_0274_Scan_1NULL\n",
      "[1] \"Moving files\"\n"
     ]
    },
    {
     "name": "stderr",
     "output_type": "stream",
     "text": [
      "1 file moved. 0 failed.\n"
     ]
    },
    {
     "name": "stdout",
     "output_type": "stream",
     "text": [
      "[1] \"Done.\"\n",
      "File  503  out of  613 . Name: LUC_0274_Scan_2.nii.gzNULL\n",
      "Making folder U:\\LUCADI\\NIFTI\\LUC_0274_Scan_2NULL\n",
      "[1] \"Moving files\"\n"
     ]
    },
    {
     "name": "stderr",
     "output_type": "stream",
     "text": [
      "1 file moved. 0 failed.\n"
     ]
    },
    {
     "name": "stdout",
     "output_type": "stream",
     "text": [
      "[1] \"Done.\"\n",
      "File  504  out of  613 . Name: LUC_0275_Scan_1.nii.gzNULL\n",
      "Making folder U:\\LUCADI\\NIFTI\\LUC_0275_Scan_1NULL\n",
      "[1] \"Moving files\"\n"
     ]
    },
    {
     "name": "stderr",
     "output_type": "stream",
     "text": [
      "1 file moved. 0 failed.\n"
     ]
    },
    {
     "name": "stdout",
     "output_type": "stream",
     "text": [
      "[1] \"Done.\"\n",
      "File  505  out of  613 . Name: LUC_0275_Scan_2.nii.gzNULL\n",
      "Making folder U:\\LUCADI\\NIFTI\\LUC_0275_Scan_2NULL\n",
      "[1] \"Moving files\"\n"
     ]
    },
    {
     "name": "stderr",
     "output_type": "stream",
     "text": [
      "1 file moved. 0 failed.\n"
     ]
    },
    {
     "name": "stdout",
     "output_type": "stream",
     "text": [
      "[1] \"Done.\"\n",
      "File  506  out of  613 . Name: LUC_0275_Scan_3.nii.gzNULL\n",
      "Making folder U:\\LUCADI\\NIFTI\\LUC_0275_Scan_3NULL\n",
      "[1] \"Moving files\"\n"
     ]
    },
    {
     "name": "stderr",
     "output_type": "stream",
     "text": [
      "1 file moved. 0 failed.\n"
     ]
    },
    {
     "name": "stdout",
     "output_type": "stream",
     "text": [
      "[1] \"Done.\"\n",
      "File  507  out of  613 . Name: LUC_0276_Scan_1.nii.gzNULL\n",
      "Making folder U:\\LUCADI\\NIFTI\\LUC_0276_Scan_1NULL\n",
      "[1] \"Moving files\"\n"
     ]
    },
    {
     "name": "stderr",
     "output_type": "stream",
     "text": [
      "1 file moved. 0 failed.\n"
     ]
    },
    {
     "name": "stdout",
     "output_type": "stream",
     "text": [
      "[1] \"Done.\"\n",
      "File  508  out of  613 . Name: LUC_0276_Scan_2.nii.gzNULL\n",
      "Making folder U:\\LUCADI\\NIFTI\\LUC_0276_Scan_2NULL\n",
      "[1] \"Moving files\"\n"
     ]
    },
    {
     "name": "stderr",
     "output_type": "stream",
     "text": [
      "1 file moved. 0 failed.\n"
     ]
    },
    {
     "name": "stdout",
     "output_type": "stream",
     "text": [
      "[1] \"Done.\"\n",
      "File  509  out of  613 . Name: LUC_0276_Scan_3.nii.gzNULL\n",
      "Making folder U:\\LUCADI\\NIFTI\\LUC_0276_Scan_3NULL\n",
      "[1] \"Moving files\"\n"
     ]
    },
    {
     "name": "stderr",
     "output_type": "stream",
     "text": [
      "1 file moved. 0 failed.\n"
     ]
    },
    {
     "name": "stdout",
     "output_type": "stream",
     "text": [
      "[1] \"Done.\"\n",
      "File  510  out of  613 . Name: LUC_0277_Scan_1.nii.gzNULL\n",
      "Making folder U:\\LUCADI\\NIFTI\\LUC_0277_Scan_1NULL\n",
      "[1] \"Moving files\"\n"
     ]
    },
    {
     "name": "stderr",
     "output_type": "stream",
     "text": [
      "1 file moved. 0 failed.\n"
     ]
    },
    {
     "name": "stdout",
     "output_type": "stream",
     "text": [
      "[1] \"Done.\"\n",
      "File  511  out of  613 . Name: LUC_0278_Scan_1.nii.gzNULL\n",
      "Making folder U:\\LUCADI\\NIFTI\\LUC_0278_Scan_1NULL\n",
      "[1] \"Moving files\"\n"
     ]
    },
    {
     "name": "stderr",
     "output_type": "stream",
     "text": [
      "1 file moved. 0 failed.\n"
     ]
    },
    {
     "name": "stdout",
     "output_type": "stream",
     "text": [
      "[1] \"Done.\"\n",
      "File  512  out of  613 . Name: LUC_0278_Scan_2.nii.gzNULL\n",
      "Making folder U:\\LUCADI\\NIFTI\\LUC_0278_Scan_2NULL\n",
      "[1] \"Moving files\"\n"
     ]
    },
    {
     "name": "stderr",
     "output_type": "stream",
     "text": [
      "1 file moved. 0 failed.\n"
     ]
    },
    {
     "name": "stdout",
     "output_type": "stream",
     "text": [
      "[1] \"Done.\"\n",
      "File  513  out of  613 . Name: LUC_0279_Scan_1.nii.gzNULL\n",
      "Making folder U:\\LUCADI\\NIFTI\\LUC_0279_Scan_1NULL\n",
      "[1] \"Moving files\"\n"
     ]
    },
    {
     "name": "stderr",
     "output_type": "stream",
     "text": [
      "1 file moved. 0 failed.\n"
     ]
    },
    {
     "name": "stdout",
     "output_type": "stream",
     "text": [
      "[1] \"Done.\"\n",
      "File  514  out of  613 . Name: LUC_0279_Scan_2.nii.gzNULL\n",
      "Making folder U:\\LUCADI\\NIFTI\\LUC_0279_Scan_2NULL\n",
      "[1] \"Moving files\"\n"
     ]
    },
    {
     "name": "stderr",
     "output_type": "stream",
     "text": [
      "1 file moved. 0 failed.\n"
     ]
    },
    {
     "name": "stdout",
     "output_type": "stream",
     "text": [
      "[1] \"Done.\"\n",
      "File  515  out of  613 . Name: LUC_0279_Scan_3.nii.gzNULL\n",
      "Making folder U:\\LUCADI\\NIFTI\\LUC_0279_Scan_3NULL\n",
      "[1] \"Moving files\"\n"
     ]
    },
    {
     "name": "stderr",
     "output_type": "stream",
     "text": [
      "1 file moved. 0 failed.\n"
     ]
    },
    {
     "name": "stdout",
     "output_type": "stream",
     "text": [
      "[1] \"Done.\"\n",
      "File  516  out of  613 . Name: LUC_0280_Scan_1.nii.gzNULL\n",
      "Making folder U:\\LUCADI\\NIFTI\\LUC_0280_Scan_1NULL\n",
      "[1] \"Moving files\"\n"
     ]
    },
    {
     "name": "stderr",
     "output_type": "stream",
     "text": [
      "1 file moved. 0 failed.\n"
     ]
    },
    {
     "name": "stdout",
     "output_type": "stream",
     "text": [
      "[1] \"Done.\"\n",
      "File  517  out of  613 . Name: LUC_0280_Scan_2.nii.gzNULL\n",
      "Making folder U:\\LUCADI\\NIFTI\\LUC_0280_Scan_2NULL\n",
      "[1] \"Moving files\"\n"
     ]
    },
    {
     "name": "stderr",
     "output_type": "stream",
     "text": [
      "1 file moved. 0 failed.\n"
     ]
    },
    {
     "name": "stdout",
     "output_type": "stream",
     "text": [
      "[1] \"Done.\"\n",
      "File  518  out of  613 . Name: LUC_0280_Scan_3.nii.gzNULL\n",
      "Making folder U:\\LUCADI\\NIFTI\\LUC_0280_Scan_3NULL\n",
      "[1] \"Moving files\"\n"
     ]
    },
    {
     "name": "stderr",
     "output_type": "stream",
     "text": [
      "1 file moved. 0 failed.\n"
     ]
    },
    {
     "name": "stdout",
     "output_type": "stream",
     "text": [
      "[1] \"Done.\"\n",
      "File  519  out of  613 . Name: LUC_0281_Scan_1.nii.gzNULL\n",
      "Making folder U:\\LUCADI\\NIFTI\\LUC_0281_Scan_1NULL\n",
      "[1] \"Moving files\"\n"
     ]
    },
    {
     "name": "stderr",
     "output_type": "stream",
     "text": [
      "1 file moved. 0 failed.\n"
     ]
    },
    {
     "name": "stdout",
     "output_type": "stream",
     "text": [
      "[1] \"Done.\"\n",
      "File  520  out of  613 . Name: LUC_0281_Scan_2.nii.gzNULL\n",
      "Making folder U:\\LUCADI\\NIFTI\\LUC_0281_Scan_2NULL\n",
      "[1] \"Moving files\"\n"
     ]
    },
    {
     "name": "stderr",
     "output_type": "stream",
     "text": [
      "1 file moved. 0 failed.\n"
     ]
    },
    {
     "name": "stdout",
     "output_type": "stream",
     "text": [
      "[1] \"Done.\"\n",
      "File  521  out of  613 . Name: LUC_0281_Scan_3.nii.gzNULL\n",
      "Making folder U:\\LUCADI\\NIFTI\\LUC_0281_Scan_3NULL\n",
      "[1] \"Moving files\"\n"
     ]
    },
    {
     "name": "stderr",
     "output_type": "stream",
     "text": [
      "1 file moved. 0 failed.\n"
     ]
    },
    {
     "name": "stdout",
     "output_type": "stream",
     "text": [
      "[1] \"Done.\"\n",
      "File  522  out of  613 . Name: LUC_0282_Scan_1.nii.gzNULL\n",
      "Making folder U:\\LUCADI\\NIFTI\\LUC_0282_Scan_1NULL\n",
      "[1] \"Moving files\"\n"
     ]
    },
    {
     "name": "stderr",
     "output_type": "stream",
     "text": [
      "1 file moved. 0 failed.\n"
     ]
    },
    {
     "name": "stdout",
     "output_type": "stream",
     "text": [
      "[1] \"Done.\"\n",
      "File  523  out of  613 . Name: LUC_0282_Scan_2.nii.gzNULL\n",
      "Making folder U:\\LUCADI\\NIFTI\\LUC_0282_Scan_2NULL\n",
      "[1] \"Moving files\"\n"
     ]
    },
    {
     "name": "stderr",
     "output_type": "stream",
     "text": [
      "1 file moved. 0 failed.\n"
     ]
    },
    {
     "name": "stdout",
     "output_type": "stream",
     "text": [
      "[1] \"Done.\"\n",
      "File  524  out of  613 . Name: LUC_0283_Scan_1.nii.gzNULL\n",
      "Making folder U:\\LUCADI\\NIFTI\\LUC_0283_Scan_1NULL\n",
      "[1] \"Moving files\"\n"
     ]
    },
    {
     "name": "stderr",
     "output_type": "stream",
     "text": [
      "1 file moved. 0 failed.\n"
     ]
    },
    {
     "name": "stdout",
     "output_type": "stream",
     "text": [
      "[1] \"Done.\"\n",
      "File  525  out of  613 . Name: LUC_0283_Scan_2.nii.gzNULL\n",
      "Making folder U:\\LUCADI\\NIFTI\\LUC_0283_Scan_2NULL\n",
      "[1] \"Moving files\"\n"
     ]
    },
    {
     "name": "stderr",
     "output_type": "stream",
     "text": [
      "1 file moved. 0 failed.\n"
     ]
    },
    {
     "name": "stdout",
     "output_type": "stream",
     "text": [
      "[1] \"Done.\"\n",
      "File  526  out of  613 . Name: LUC_0284_Scan_1.nii.gzNULL\n",
      "Making folder U:\\LUCADI\\NIFTI\\LUC_0284_Scan_1NULL\n",
      "[1] \"Moving files\"\n"
     ]
    },
    {
     "name": "stderr",
     "output_type": "stream",
     "text": [
      "1 file moved. 0 failed.\n"
     ]
    },
    {
     "name": "stdout",
     "output_type": "stream",
     "text": [
      "[1] \"Done.\"\n",
      "File  527  out of  613 . Name: LUC_0284_Scan_2.nii.gzNULL\n",
      "Making folder U:\\LUCADI\\NIFTI\\LUC_0284_Scan_2NULL\n",
      "[1] \"Moving files\"\n"
     ]
    },
    {
     "name": "stderr",
     "output_type": "stream",
     "text": [
      "1 file moved. 0 failed.\n"
     ]
    },
    {
     "name": "stdout",
     "output_type": "stream",
     "text": [
      "[1] \"Done.\"\n",
      "File  528  out of  613 . Name: LUC_0284_Scan_3.nii.gzNULL\n",
      "Making folder U:\\LUCADI\\NIFTI\\LUC_0284_Scan_3NULL\n",
      "[1] \"Moving files\"\n"
     ]
    },
    {
     "name": "stderr",
     "output_type": "stream",
     "text": [
      "1 file moved. 0 failed.\n"
     ]
    },
    {
     "name": "stdout",
     "output_type": "stream",
     "text": [
      "[1] \"Done.\"\n",
      "File  529  out of  613 . Name: LUC_0285_Scan_1.nii.gzNULL\n",
      "Making folder U:\\LUCADI\\NIFTI\\LUC_0285_Scan_1NULL\n",
      "[1] \"Moving files\"\n"
     ]
    },
    {
     "name": "stderr",
     "output_type": "stream",
     "text": [
      "1 file moved. 0 failed.\n"
     ]
    },
    {
     "name": "stdout",
     "output_type": "stream",
     "text": [
      "[1] \"Done.\"\n",
      "File  530  out of  613 . Name: LUC_0285_Scan_2.nii.gzNULL\n",
      "Making folder U:\\LUCADI\\NIFTI\\LUC_0285_Scan_2NULL\n",
      "[1] \"Moving files\"\n"
     ]
    },
    {
     "name": "stderr",
     "output_type": "stream",
     "text": [
      "1 file moved. 0 failed.\n"
     ]
    },
    {
     "name": "stdout",
     "output_type": "stream",
     "text": [
      "[1] \"Done.\"\n",
      "File  531  out of  613 . Name: LUC_0286_Scan_1.nii.gzNULL\n",
      "Making folder U:\\LUCADI\\NIFTI\\LUC_0286_Scan_1NULL\n",
      "[1] \"Moving files\"\n"
     ]
    },
    {
     "name": "stderr",
     "output_type": "stream",
     "text": [
      "1 file moved. 0 failed.\n"
     ]
    },
    {
     "name": "stdout",
     "output_type": "stream",
     "text": [
      "[1] \"Done.\"\n",
      "File  532  out of  613 . Name: LUC_0286_Scan_2.nii.gzNULL\n",
      "Making folder U:\\LUCADI\\NIFTI\\LUC_0286_Scan_2NULL\n",
      "[1] \"Moving files\"\n"
     ]
    },
    {
     "name": "stderr",
     "output_type": "stream",
     "text": [
      "1 file moved. 0 failed.\n"
     ]
    },
    {
     "name": "stdout",
     "output_type": "stream",
     "text": [
      "[1] \"Done.\"\n",
      "File  533  out of  613 . Name: LUC_0287_Scan_1.nii.gzNULL\n",
      "Making folder U:\\LUCADI\\NIFTI\\LUC_0287_Scan_1NULL\n",
      "[1] \"Moving files\"\n"
     ]
    },
    {
     "name": "stderr",
     "output_type": "stream",
     "text": [
      "1 file moved. 0 failed.\n"
     ]
    },
    {
     "name": "stdout",
     "output_type": "stream",
     "text": [
      "[1] \"Done.\"\n",
      "File  534  out of  613 . Name: LUC_0288_Scan_1.nii.gzNULL\n",
      "Making folder U:\\LUCADI\\NIFTI\\LUC_0288_Scan_1NULL\n",
      "[1] \"Moving files\"\n"
     ]
    },
    {
     "name": "stderr",
     "output_type": "stream",
     "text": [
      "1 file moved. 0 failed.\n"
     ]
    },
    {
     "name": "stdout",
     "output_type": "stream",
     "text": [
      "[1] \"Done.\"\n",
      "File  535  out of  613 . Name: LUC_0289_Scan_1.nii.gzNULL\n",
      "Making folder U:\\LUCADI\\NIFTI\\LUC_0289_Scan_1NULL\n",
      "[1] \"Moving files\"\n"
     ]
    },
    {
     "name": "stderr",
     "output_type": "stream",
     "text": [
      "1 file moved. 0 failed.\n"
     ]
    },
    {
     "name": "stdout",
     "output_type": "stream",
     "text": [
      "[1] \"Done.\"\n",
      "File  536  out of  613 . Name: LUC_0289_Scan_2.nii.gzNULL\n",
      "Making folder U:\\LUCADI\\NIFTI\\LUC_0289_Scan_2NULL\n",
      "[1] \"Moving files\"\n"
     ]
    },
    {
     "name": "stderr",
     "output_type": "stream",
     "text": [
      "1 file moved. 0 failed.\n"
     ]
    },
    {
     "name": "stdout",
     "output_type": "stream",
     "text": [
      "[1] \"Done.\"\n",
      "File  537  out of  613 . Name: LUC_0290_Scan_1.nii.gzNULL\n",
      "Making folder U:\\LUCADI\\NIFTI\\LUC_0290_Scan_1NULL\n",
      "[1] \"Moving files\"\n"
     ]
    },
    {
     "name": "stderr",
     "output_type": "stream",
     "text": [
      "1 file moved. 0 failed.\n"
     ]
    },
    {
     "name": "stdout",
     "output_type": "stream",
     "text": [
      "[1] \"Done.\"\n",
      "File  538  out of  613 . Name: LUC_0290_Scan_2.nii.gzNULL\n",
      "Making folder U:\\LUCADI\\NIFTI\\LUC_0290_Scan_2NULL\n",
      "[1] \"Moving files\"\n"
     ]
    },
    {
     "name": "stderr",
     "output_type": "stream",
     "text": [
      "1 file moved. 0 failed.\n"
     ]
    },
    {
     "name": "stdout",
     "output_type": "stream",
     "text": [
      "[1] \"Done.\"\n",
      "File  539  out of  613 . Name: LUC_0290_Scan_3.nii.gzNULL\n",
      "Making folder U:\\LUCADI\\NIFTI\\LUC_0290_Scan_3NULL\n",
      "[1] \"Moving files\"\n"
     ]
    },
    {
     "name": "stderr",
     "output_type": "stream",
     "text": [
      "1 file moved. 0 failed.\n"
     ]
    },
    {
     "name": "stdout",
     "output_type": "stream",
     "text": [
      "[1] \"Done.\"\n",
      "File  540  out of  613 . Name: LUC_0291_Scan_1.nii.gzNULL\n",
      "Making folder U:\\LUCADI\\NIFTI\\LUC_0291_Scan_1NULL\n",
      "[1] \"Moving files\"\n"
     ]
    },
    {
     "name": "stderr",
     "output_type": "stream",
     "text": [
      "1 file moved. 0 failed.\n"
     ]
    },
    {
     "name": "stdout",
     "output_type": "stream",
     "text": [
      "[1] \"Done.\"\n",
      "File  541  out of  613 . Name: LUC_0291_Scan_2.nii.gzNULL\n",
      "Making folder U:\\LUCADI\\NIFTI\\LUC_0291_Scan_2NULL\n",
      "[1] \"Moving files\"\n"
     ]
    },
    {
     "name": "stderr",
     "output_type": "stream",
     "text": [
      "1 file moved. 0 failed.\n"
     ]
    },
    {
     "name": "stdout",
     "output_type": "stream",
     "text": [
      "[1] \"Done.\"\n",
      "File  542  out of  613 . Name: LUC_0292_Scan_1.nii.gzNULL\n",
      "Making folder U:\\LUCADI\\NIFTI\\LUC_0292_Scan_1NULL\n",
      "[1] \"Moving files\"\n"
     ]
    },
    {
     "name": "stderr",
     "output_type": "stream",
     "text": [
      "1 file moved. 0 failed.\n"
     ]
    },
    {
     "name": "stdout",
     "output_type": "stream",
     "text": [
      "[1] \"Done.\"\n",
      "File  543  out of  613 . Name: LUC_0292_Scan_2.nii.gzNULL\n",
      "Making folder U:\\LUCADI\\NIFTI\\LUC_0292_Scan_2NULL\n",
      "[1] \"Moving files\"\n"
     ]
    },
    {
     "name": "stderr",
     "output_type": "stream",
     "text": [
      "1 file moved. 0 failed.\n"
     ]
    },
    {
     "name": "stdout",
     "output_type": "stream",
     "text": [
      "[1] \"Done.\"\n",
      "File  544  out of  613 . Name: LUC_0293_Scan_1.nii.gzNULL\n",
      "Making folder U:\\LUCADI\\NIFTI\\LUC_0293_Scan_1NULL\n",
      "[1] \"Moving files\"\n"
     ]
    },
    {
     "name": "stderr",
     "output_type": "stream",
     "text": [
      "1 file moved. 0 failed.\n"
     ]
    },
    {
     "name": "stdout",
     "output_type": "stream",
     "text": [
      "[1] \"Done.\"\n",
      "File  545  out of  613 . Name: LUC_0293_Scan_2.nii.gzNULL\n",
      "Making folder U:\\LUCADI\\NIFTI\\LUC_0293_Scan_2NULL\n",
      "[1] \"Moving files\"\n"
     ]
    },
    {
     "name": "stderr",
     "output_type": "stream",
     "text": [
      "1 file moved. 0 failed.\n"
     ]
    },
    {
     "name": "stdout",
     "output_type": "stream",
     "text": [
      "[1] \"Done.\"\n",
      "File  546  out of  613 . Name: LUC_0293_Scan_3.nii.gzNULL\n",
      "Making folder U:\\LUCADI\\NIFTI\\LUC_0293_Scan_3NULL\n",
      "[1] \"Moving files\"\n"
     ]
    },
    {
     "name": "stderr",
     "output_type": "stream",
     "text": [
      "1 file moved. 0 failed.\n"
     ]
    },
    {
     "name": "stdout",
     "output_type": "stream",
     "text": [
      "[1] \"Done.\"\n",
      "File  547  out of  613 . Name: LUC_0294_Scan_1.nii.gzNULL\n",
      "Making folder U:\\LUCADI\\NIFTI\\LUC_0294_Scan_1NULL\n",
      "[1] \"Moving files\"\n"
     ]
    },
    {
     "name": "stderr",
     "output_type": "stream",
     "text": [
      "1 file moved. 0 failed.\n"
     ]
    },
    {
     "name": "stdout",
     "output_type": "stream",
     "text": [
      "[1] \"Done.\"\n",
      "File  548  out of  613 . Name: LUC_0295_Scan_1.nii.gzNULL\n",
      "Making folder U:\\LUCADI\\NIFTI\\LUC_0295_Scan_1NULL\n",
      "[1] \"Moving files\"\n"
     ]
    },
    {
     "name": "stderr",
     "output_type": "stream",
     "text": [
      "1 file moved. 0 failed.\n"
     ]
    },
    {
     "name": "stdout",
     "output_type": "stream",
     "text": [
      "[1] \"Done.\"\n",
      "File  549  out of  613 . Name: LUC_0295_Scan_2.nii.gzNULL\n",
      "Making folder U:\\LUCADI\\NIFTI\\LUC_0295_Scan_2NULL\n",
      "[1] \"Moving files\"\n"
     ]
    },
    {
     "name": "stderr",
     "output_type": "stream",
     "text": [
      "1 file moved. 0 failed.\n"
     ]
    },
    {
     "name": "stdout",
     "output_type": "stream",
     "text": [
      "[1] \"Done.\"\n",
      "File  550  out of  613 . Name: LUC_0295_Scan_3.nii.gzNULL\n",
      "Making folder U:\\LUCADI\\NIFTI\\LUC_0295_Scan_3NULL\n",
      "[1] \"Moving files\"\n"
     ]
    },
    {
     "name": "stderr",
     "output_type": "stream",
     "text": [
      "1 file moved. 0 failed.\n"
     ]
    },
    {
     "name": "stdout",
     "output_type": "stream",
     "text": [
      "[1] \"Done.\"\n",
      "File  551  out of  613 . Name: LUC_0296_Scan_1.nii.gzNULL\n",
      "Making folder U:\\LUCADI\\NIFTI\\LUC_0296_Scan_1NULL\n",
      "[1] \"Moving files\"\n"
     ]
    },
    {
     "name": "stderr",
     "output_type": "stream",
     "text": [
      "1 file moved. 0 failed.\n"
     ]
    },
    {
     "name": "stdout",
     "output_type": "stream",
     "text": [
      "[1] \"Done.\"\n",
      "File  552  out of  613 . Name: LUC_0296_Scan_3.nii.gzNULL\n",
      "Making folder U:\\LUCADI\\NIFTI\\LUC_0296_Scan_3NULL\n",
      "[1] \"Moving files\"\n"
     ]
    },
    {
     "name": "stderr",
     "output_type": "stream",
     "text": [
      "1 file moved. 0 failed.\n"
     ]
    },
    {
     "name": "stdout",
     "output_type": "stream",
     "text": [
      "[1] \"Done.\"\n",
      "File  553  out of  613 . Name: LUC_0297_Scan_1.nii.gzNULL\n",
      "Making folder U:\\LUCADI\\NIFTI\\LUC_0297_Scan_1NULL\n",
      "[1] \"Moving files\"\n"
     ]
    },
    {
     "name": "stderr",
     "output_type": "stream",
     "text": [
      "1 file moved. 0 failed.\n"
     ]
    },
    {
     "name": "stdout",
     "output_type": "stream",
     "text": [
      "[1] \"Done.\"\n",
      "File  554  out of  613 . Name: LUC_0297_Scan_2.nii.gzNULL\n",
      "Making folder U:\\LUCADI\\NIFTI\\LUC_0297_Scan_2NULL\n",
      "[1] \"Moving files\"\n"
     ]
    },
    {
     "name": "stderr",
     "output_type": "stream",
     "text": [
      "1 file moved. 0 failed.\n"
     ]
    },
    {
     "name": "stdout",
     "output_type": "stream",
     "text": [
      "[1] \"Done.\"\n",
      "File  555  out of  613 . Name: LUC_0298_Scan_1.nii.gzNULL\n",
      "Making folder U:\\LUCADI\\NIFTI\\LUC_0298_Scan_1NULL\n",
      "[1] \"Moving files\"\n"
     ]
    },
    {
     "name": "stderr",
     "output_type": "stream",
     "text": [
      "1 file moved. 0 failed.\n"
     ]
    },
    {
     "name": "stdout",
     "output_type": "stream",
     "text": [
      "[1] \"Done.\"\n",
      "File  556  out of  613 . Name: LUC_0298_Scan_2.nii.gzNULL\n",
      "Making folder U:\\LUCADI\\NIFTI\\LUC_0298_Scan_2NULL\n",
      "[1] \"Moving files\"\n"
     ]
    },
    {
     "name": "stderr",
     "output_type": "stream",
     "text": [
      "1 file moved. 0 failed.\n"
     ]
    },
    {
     "name": "stdout",
     "output_type": "stream",
     "text": [
      "[1] \"Done.\"\n",
      "File  557  out of  613 . Name: LUC_0299_Scan_1.nii.gzNULL\n",
      "Making folder U:\\LUCADI\\NIFTI\\LUC_0299_Scan_1NULL\n",
      "[1] \"Moving files\"\n"
     ]
    },
    {
     "name": "stderr",
     "output_type": "stream",
     "text": [
      "1 file moved. 0 failed.\n"
     ]
    },
    {
     "name": "stdout",
     "output_type": "stream",
     "text": [
      "[1] \"Done.\"\n",
      "File  558  out of  613 . Name: LUC_0299_Scan_2.nii.gzNULL\n",
      "Making folder U:\\LUCADI\\NIFTI\\LUC_0299_Scan_2NULL\n",
      "[1] \"Moving files\"\n"
     ]
    },
    {
     "name": "stderr",
     "output_type": "stream",
     "text": [
      "1 file moved. 0 failed.\n"
     ]
    },
    {
     "name": "stdout",
     "output_type": "stream",
     "text": [
      "[1] \"Done.\"\n",
      "File  559  out of  613 . Name: LUC_0299_Scan_3.nii.gzNULL\n",
      "Making folder U:\\LUCADI\\NIFTI\\LUC_0299_Scan_3NULL\n",
      "[1] \"Moving files\"\n"
     ]
    },
    {
     "name": "stderr",
     "output_type": "stream",
     "text": [
      "1 file moved. 0 failed.\n"
     ]
    },
    {
     "name": "stdout",
     "output_type": "stream",
     "text": [
      "[1] \"Done.\"\n",
      "File  560  out of  613 . Name: LUC_0300_Scan_1.nii.gzNULL\n",
      "Making folder U:\\LUCADI\\NIFTI\\LUC_0300_Scan_1NULL\n",
      "[1] \"Moving files\"\n"
     ]
    },
    {
     "name": "stderr",
     "output_type": "stream",
     "text": [
      "1 file moved. 0 failed.\n"
     ]
    },
    {
     "name": "stdout",
     "output_type": "stream",
     "text": [
      "[1] \"Done.\"\n",
      "File  561  out of  613 . Name: LUC_0300_Scan_2.nii.gzNULL\n",
      "Making folder U:\\LUCADI\\NIFTI\\LUC_0300_Scan_2NULL\n",
      "[1] \"Moving files\"\n"
     ]
    },
    {
     "name": "stderr",
     "output_type": "stream",
     "text": [
      "1 file moved. 0 failed.\n"
     ]
    },
    {
     "name": "stdout",
     "output_type": "stream",
     "text": [
      "[1] \"Done.\"\n",
      "File  562  out of  613 . Name: LUC_0301_Scan_1.nii.gzNULL\n",
      "Making folder U:\\LUCADI\\NIFTI\\LUC_0301_Scan_1NULL\n",
      "[1] \"Moving files\"\n"
     ]
    },
    {
     "name": "stderr",
     "output_type": "stream",
     "text": [
      "1 file moved. 0 failed.\n"
     ]
    },
    {
     "name": "stdout",
     "output_type": "stream",
     "text": [
      "[1] \"Done.\"\n",
      "File  563  out of  613 . Name: LUC_0301_Scan_2.nii.gzNULL\n",
      "Making folder U:\\LUCADI\\NIFTI\\LUC_0301_Scan_2NULL\n",
      "[1] \"Moving files\"\n"
     ]
    },
    {
     "name": "stderr",
     "output_type": "stream",
     "text": [
      "1 file moved. 0 failed.\n"
     ]
    },
    {
     "name": "stdout",
     "output_type": "stream",
     "text": [
      "[1] \"Done.\"\n",
      "File  564  out of  613 . Name: LUC_0301_Scan_3.nii.gzNULL\n",
      "Making folder U:\\LUCADI\\NIFTI\\LUC_0301_Scan_3NULL\n",
      "[1] \"Moving files\"\n"
     ]
    },
    {
     "name": "stderr",
     "output_type": "stream",
     "text": [
      "1 file moved. 0 failed.\n"
     ]
    },
    {
     "name": "stdout",
     "output_type": "stream",
     "text": [
      "[1] \"Done.\"\n",
      "File  565  out of  613 . Name: LUC_0302_Scan_1.nii.gzNULL\n",
      "Making folder U:\\LUCADI\\NIFTI\\LUC_0302_Scan_1NULL\n",
      "[1] \"Moving files\"\n"
     ]
    },
    {
     "name": "stderr",
     "output_type": "stream",
     "text": [
      "1 file moved. 0 failed.\n"
     ]
    },
    {
     "name": "stdout",
     "output_type": "stream",
     "text": [
      "[1] \"Done.\"\n",
      "File  566  out of  613 . Name: LUC_0302_Scan_2.nii.gzNULL\n",
      "Making folder U:\\LUCADI\\NIFTI\\LUC_0302_Scan_2NULL\n",
      "[1] \"Moving files\"\n"
     ]
    },
    {
     "name": "stderr",
     "output_type": "stream",
     "text": [
      "1 file moved. 0 failed.\n"
     ]
    },
    {
     "name": "stdout",
     "output_type": "stream",
     "text": [
      "[1] \"Done.\"\n",
      "File  567  out of  613 . Name: LUC_0302_Scan_3.nii.gzNULL\n",
      "Making folder U:\\LUCADI\\NIFTI\\LUC_0302_Scan_3NULL\n",
      "[1] \"Moving files\"\n"
     ]
    },
    {
     "name": "stderr",
     "output_type": "stream",
     "text": [
      "1 file moved. 0 failed.\n"
     ]
    },
    {
     "name": "stdout",
     "output_type": "stream",
     "text": [
      "[1] \"Done.\"\n",
      "File  568  out of  613 . Name: LUC_0303_Scan_1.nii.gzNULL\n",
      "Making folder U:\\LUCADI\\NIFTI\\LUC_0303_Scan_1NULL\n",
      "[1] \"Moving files\"\n"
     ]
    },
    {
     "name": "stderr",
     "output_type": "stream",
     "text": [
      "1 file moved. 0 failed.\n"
     ]
    },
    {
     "name": "stdout",
     "output_type": "stream",
     "text": [
      "[1] \"Done.\"\n",
      "File  569  out of  613 . Name: LUC_0303_Scan_2.nii.gzNULL\n",
      "Making folder U:\\LUCADI\\NIFTI\\LUC_0303_Scan_2NULL\n",
      "[1] \"Moving files\"\n"
     ]
    },
    {
     "name": "stderr",
     "output_type": "stream",
     "text": [
      "1 file moved. 0 failed.\n"
     ]
    },
    {
     "name": "stdout",
     "output_type": "stream",
     "text": [
      "[1] \"Done.\"\n",
      "File  570  out of  613 . Name: LUC_0303_Scan_3.nii.gzNULL\n",
      "Making folder U:\\LUCADI\\NIFTI\\LUC_0303_Scan_3NULL\n",
      "[1] \"Moving files\"\n"
     ]
    },
    {
     "name": "stderr",
     "output_type": "stream",
     "text": [
      "1 file moved. 0 failed.\n"
     ]
    },
    {
     "name": "stdout",
     "output_type": "stream",
     "text": [
      "[1] \"Done.\"\n",
      "File  571  out of  613 . Name: LUC_0304_Scan_1.nii.gzNULL\n",
      "Making folder U:\\LUCADI\\NIFTI\\LUC_0304_Scan_1NULL\n",
      "[1] \"Moving files\"\n"
     ]
    },
    {
     "name": "stderr",
     "output_type": "stream",
     "text": [
      "1 file moved. 0 failed.\n"
     ]
    },
    {
     "name": "stdout",
     "output_type": "stream",
     "text": [
      "[1] \"Done.\"\n",
      "File  572  out of  613 . Name: LUC_0304_Scan_2.nii.gzNULL\n",
      "Making folder U:\\LUCADI\\NIFTI\\LUC_0304_Scan_2NULL\n",
      "[1] \"Moving files\"\n"
     ]
    },
    {
     "name": "stderr",
     "output_type": "stream",
     "text": [
      "1 file moved. 0 failed.\n"
     ]
    },
    {
     "name": "stdout",
     "output_type": "stream",
     "text": [
      "[1] \"Done.\"\n",
      "File  573  out of  613 . Name: LUC_0304_Scan_3.nii.gzNULL\n",
      "Making folder U:\\LUCADI\\NIFTI\\LUC_0304_Scan_3NULL\n",
      "[1] \"Moving files\"\n"
     ]
    },
    {
     "name": "stderr",
     "output_type": "stream",
     "text": [
      "1 file moved. 0 failed.\n"
     ]
    },
    {
     "name": "stdout",
     "output_type": "stream",
     "text": [
      "[1] \"Done.\"\n",
      "File  574  out of  613 . Name: LUC_0305_Scan_1.nii.gzNULL\n",
      "Making folder U:\\LUCADI\\NIFTI\\LUC_0305_Scan_1NULL\n",
      "[1] \"Moving files\"\n"
     ]
    },
    {
     "name": "stderr",
     "output_type": "stream",
     "text": [
      "1 file moved. 0 failed.\n"
     ]
    },
    {
     "name": "stdout",
     "output_type": "stream",
     "text": [
      "[1] \"Done.\"\n",
      "File  575  out of  613 . Name: LUC_0305_Scan_2.nii.gzNULL\n",
      "Making folder U:\\LUCADI\\NIFTI\\LUC_0305_Scan_2NULL\n",
      "[1] \"Moving files\"\n"
     ]
    },
    {
     "name": "stderr",
     "output_type": "stream",
     "text": [
      "1 file moved. 0 failed.\n"
     ]
    },
    {
     "name": "stdout",
     "output_type": "stream",
     "text": [
      "[1] \"Done.\"\n",
      "File  576  out of  613 . Name: LUC_0306_Scan_1.nii.gzNULL\n",
      "Making folder U:\\LUCADI\\NIFTI\\LUC_0306_Scan_1NULL\n",
      "[1] \"Moving files\"\n"
     ]
    },
    {
     "name": "stderr",
     "output_type": "stream",
     "text": [
      "1 file moved. 0 failed.\n"
     ]
    },
    {
     "name": "stdout",
     "output_type": "stream",
     "text": [
      "[1] \"Done.\"\n",
      "File  577  out of  613 . Name: LUC_0306_Scan_2.nii.gzNULL\n",
      "Making folder U:\\LUCADI\\NIFTI\\LUC_0306_Scan_2NULL\n",
      "[1] \"Moving files\"\n"
     ]
    },
    {
     "name": "stderr",
     "output_type": "stream",
     "text": [
      "1 file moved. 0 failed.\n"
     ]
    },
    {
     "name": "stdout",
     "output_type": "stream",
     "text": [
      "[1] \"Done.\"\n",
      "File  578  out of  613 . Name: LUC_0307_Scan_1.nii.gzNULL\n",
      "Making folder U:\\LUCADI\\NIFTI\\LUC_0307_Scan_1NULL\n",
      "[1] \"Moving files\"\n"
     ]
    },
    {
     "name": "stderr",
     "output_type": "stream",
     "text": [
      "1 file moved. 0 failed.\n"
     ]
    },
    {
     "name": "stdout",
     "output_type": "stream",
     "text": [
      "[1] \"Done.\"\n",
      "File  579  out of  613 . Name: LUC_0308_Scan_1.nii.gzNULL\n",
      "Making folder U:\\LUCADI\\NIFTI\\LUC_0308_Scan_1NULL\n",
      "[1] \"Moving files\"\n"
     ]
    },
    {
     "name": "stderr",
     "output_type": "stream",
     "text": [
      "1 file moved. 0 failed.\n"
     ]
    },
    {
     "name": "stdout",
     "output_type": "stream",
     "text": [
      "[1] \"Done.\"\n",
      "File  580  out of  613 . Name: LUC_0308_Scan_2.nii.gzNULL\n",
      "Making folder U:\\LUCADI\\NIFTI\\LUC_0308_Scan_2NULL\n",
      "[1] \"Moving files\"\n"
     ]
    },
    {
     "name": "stderr",
     "output_type": "stream",
     "text": [
      "1 file moved. 0 failed.\n"
     ]
    },
    {
     "name": "stdout",
     "output_type": "stream",
     "text": [
      "[1] \"Done.\"\n",
      "File  581  out of  613 . Name: LUC_0308_Scan_3.nii.gzNULL\n",
      "Making folder U:\\LUCADI\\NIFTI\\LUC_0308_Scan_3NULL\n",
      "[1] \"Moving files\"\n"
     ]
    },
    {
     "name": "stderr",
     "output_type": "stream",
     "text": [
      "1 file moved. 0 failed.\n"
     ]
    },
    {
     "name": "stdout",
     "output_type": "stream",
     "text": [
      "[1] \"Done.\"\n",
      "File  582  out of  613 . Name: LUC_0309_Scan_1.nii.gzNULL\n",
      "Making folder U:\\LUCADI\\NIFTI\\LUC_0309_Scan_1NULL\n",
      "[1] \"Moving files\"\n"
     ]
    },
    {
     "name": "stderr",
     "output_type": "stream",
     "text": [
      "1 file moved. 0 failed.\n"
     ]
    },
    {
     "name": "stdout",
     "output_type": "stream",
     "text": [
      "[1] \"Done.\"\n",
      "File  583  out of  613 . Name: LUC_0309_Scan_2.nii.gzNULL\n",
      "Making folder U:\\LUCADI\\NIFTI\\LUC_0309_Scan_2NULL\n",
      "[1] \"Moving files\"\n"
     ]
    },
    {
     "name": "stderr",
     "output_type": "stream",
     "text": [
      "1 file moved. 0 failed.\n"
     ]
    },
    {
     "name": "stdout",
     "output_type": "stream",
     "text": [
      "[1] \"Done.\"\n",
      "File  584  out of  613 . Name: LUC_0310_Scan_1.nii.gzNULL\n",
      "Making folder U:\\LUCADI\\NIFTI\\LUC_0310_Scan_1NULL\n",
      "[1] \"Moving files\"\n"
     ]
    },
    {
     "name": "stderr",
     "output_type": "stream",
     "text": [
      "1 file moved. 0 failed.\n"
     ]
    },
    {
     "name": "stdout",
     "output_type": "stream",
     "text": [
      "[1] \"Done.\"\n",
      "File  585  out of  613 . Name: LUC_0310_Scan_2.nii.gzNULL\n",
      "Making folder U:\\LUCADI\\NIFTI\\LUC_0310_Scan_2NULL\n",
      "[1] \"Moving files\"\n"
     ]
    },
    {
     "name": "stderr",
     "output_type": "stream",
     "text": [
      "1 file moved. 0 failed.\n"
     ]
    },
    {
     "name": "stdout",
     "output_type": "stream",
     "text": [
      "[1] \"Done.\"\n",
      "File  586  out of  613 . Name: LUC_0311_Scan_1.nii.gzNULL\n",
      "Making folder U:\\LUCADI\\NIFTI\\LUC_0311_Scan_1NULL\n",
      "[1] \"Moving files\"\n"
     ]
    },
    {
     "name": "stderr",
     "output_type": "stream",
     "text": [
      "1 file moved. 0 failed.\n"
     ]
    },
    {
     "name": "stdout",
     "output_type": "stream",
     "text": [
      "[1] \"Done.\"\n",
      "File  587  out of  613 . Name: LUC_0311_Scan_2.nii.gzNULL\n",
      "Making folder U:\\LUCADI\\NIFTI\\LUC_0311_Scan_2NULL\n",
      "[1] \"Moving files\"\n"
     ]
    },
    {
     "name": "stderr",
     "output_type": "stream",
     "text": [
      "1 file moved. 0 failed.\n"
     ]
    },
    {
     "name": "stdout",
     "output_type": "stream",
     "text": [
      "[1] \"Done.\"\n",
      "File  588  out of  613 . Name: LUC_0312_Scan_1.nii.gzNULL\n",
      "Making folder U:\\LUCADI\\NIFTI\\LUC_0312_Scan_1NULL\n",
      "[1] \"Moving files\"\n"
     ]
    },
    {
     "name": "stderr",
     "output_type": "stream",
     "text": [
      "1 file moved. 0 failed.\n"
     ]
    },
    {
     "name": "stdout",
     "output_type": "stream",
     "text": [
      "[1] \"Done.\"\n",
      "File  589  out of  613 . Name: LUC_0312_Scan_2.nii.gzNULL\n",
      "Making folder U:\\LUCADI\\NIFTI\\LUC_0312_Scan_2NULL\n",
      "[1] \"Moving files\"\n"
     ]
    },
    {
     "name": "stderr",
     "output_type": "stream",
     "text": [
      "1 file moved. 0 failed.\n"
     ]
    },
    {
     "name": "stdout",
     "output_type": "stream",
     "text": [
      "[1] \"Done.\"\n",
      "File  590  out of  613 . Name: LUC_0313_Scan_1.nii.gzNULL\n",
      "Making folder U:\\LUCADI\\NIFTI\\LUC_0313_Scan_1NULL\n",
      "[1] \"Moving files\"\n"
     ]
    },
    {
     "name": "stderr",
     "output_type": "stream",
     "text": [
      "1 file moved. 0 failed.\n"
     ]
    },
    {
     "name": "stdout",
     "output_type": "stream",
     "text": [
      "[1] \"Done.\"\n",
      "File  591  out of  613 . Name: LUC_0313_Scan_2.nii.gzNULL\n",
      "Making folder U:\\LUCADI\\NIFTI\\LUC_0313_Scan_2NULL\n",
      "[1] \"Moving files\"\n"
     ]
    },
    {
     "name": "stderr",
     "output_type": "stream",
     "text": [
      "1 file moved. 0 failed.\n"
     ]
    },
    {
     "name": "stdout",
     "output_type": "stream",
     "text": [
      "[1] \"Done.\"\n",
      "File  592  out of  613 . Name: LUC_0314_Scan_1.nii.gzNULL\n",
      "Making folder U:\\LUCADI\\NIFTI\\LUC_0314_Scan_1NULL\n",
      "[1] \"Moving files\"\n"
     ]
    },
    {
     "name": "stderr",
     "output_type": "stream",
     "text": [
      "1 file moved. 0 failed.\n"
     ]
    },
    {
     "name": "stdout",
     "output_type": "stream",
     "text": [
      "[1] \"Done.\"\n",
      "File  593  out of  613 . Name: LUC_0314_Scan_2.nii.gzNULL\n",
      "Making folder U:\\LUCADI\\NIFTI\\LUC_0314_Scan_2NULL\n",
      "[1] \"Moving files\"\n"
     ]
    },
    {
     "name": "stderr",
     "output_type": "stream",
     "text": [
      "1 file moved. 0 failed.\n"
     ]
    },
    {
     "name": "stdout",
     "output_type": "stream",
     "text": [
      "[1] \"Done.\"\n",
      "File  594  out of  613 . Name: LUC_0315_Scan_1.nii.gzNULL\n",
      "Making folder U:\\LUCADI\\NIFTI\\LUC_0315_Scan_1NULL\n",
      "[1] \"Moving files\"\n"
     ]
    },
    {
     "name": "stderr",
     "output_type": "stream",
     "text": [
      "1 file moved. 0 failed.\n"
     ]
    },
    {
     "name": "stdout",
     "output_type": "stream",
     "text": [
      "[1] \"Done.\"\n",
      "File  595  out of  613 . Name: LUC_0315_Scan_2.nii.gzNULL\n",
      "Making folder U:\\LUCADI\\NIFTI\\LUC_0315_Scan_2NULL\n",
      "[1] \"Moving files\"\n"
     ]
    },
    {
     "name": "stderr",
     "output_type": "stream",
     "text": [
      "1 file moved. 0 failed.\n"
     ]
    },
    {
     "name": "stdout",
     "output_type": "stream",
     "text": [
      "[1] \"Done.\"\n",
      "File  596  out of  613 . Name: LUC_0316_Scan_1.nii.gzNULL\n",
      "Making folder U:\\LUCADI\\NIFTI\\LUC_0316_Scan_1NULL\n",
      "[1] \"Moving files\"\n"
     ]
    },
    {
     "name": "stderr",
     "output_type": "stream",
     "text": [
      "1 file moved. 0 failed.\n"
     ]
    },
    {
     "name": "stdout",
     "output_type": "stream",
     "text": [
      "[1] \"Done.\"\n",
      "File  597  out of  613 . Name: LUC_0316_Scan_2.nii.gzNULL\n",
      "Making folder U:\\LUCADI\\NIFTI\\LUC_0316_Scan_2NULL\n",
      "[1] \"Moving files\"\n"
     ]
    },
    {
     "name": "stderr",
     "output_type": "stream",
     "text": [
      "1 file moved. 0 failed.\n"
     ]
    },
    {
     "name": "stdout",
     "output_type": "stream",
     "text": [
      "[1] \"Done.\"\n",
      "File  598  out of  613 . Name: LUC_0316_Scan_3.nii.gzNULL\n",
      "Making folder U:\\LUCADI\\NIFTI\\LUC_0316_Scan_3NULL\n",
      "[1] \"Moving files\"\n"
     ]
    },
    {
     "name": "stderr",
     "output_type": "stream",
     "text": [
      "1 file moved. 0 failed.\n"
     ]
    },
    {
     "name": "stdout",
     "output_type": "stream",
     "text": [
      "[1] \"Done.\"\n",
      "File  599  out of  613 . Name: LUC_0318_Scan_1.nii.gzNULL\n",
      "Making folder U:\\LUCADI\\NIFTI\\LUC_0318_Scan_1NULL\n",
      "[1] \"Moving files\"\n"
     ]
    },
    {
     "name": "stderr",
     "output_type": "stream",
     "text": [
      "1 file moved. 0 failed.\n"
     ]
    },
    {
     "name": "stdout",
     "output_type": "stream",
     "text": [
      "[1] \"Done.\"\n",
      "File  600  out of  613 . Name: LUC_0318_Scan_2.nii.gzNULL\n",
      "Making folder U:\\LUCADI\\NIFTI\\LUC_0318_Scan_2NULL\n",
      "[1] \"Moving files\"\n"
     ]
    },
    {
     "name": "stderr",
     "output_type": "stream",
     "text": [
      "1 file moved. 0 failed.\n"
     ]
    },
    {
     "name": "stdout",
     "output_type": "stream",
     "text": [
      "[1] \"Done.\"\n",
      "File  601  out of  613 . Name: LUC_0319_Scan_1.nii.gzNULL\n",
      "Making folder U:\\LUCADI\\NIFTI\\LUC_0319_Scan_1NULL\n",
      "[1] \"Moving files\"\n"
     ]
    },
    {
     "name": "stderr",
     "output_type": "stream",
     "text": [
      "1 file moved. 0 failed.\n"
     ]
    },
    {
     "name": "stdout",
     "output_type": "stream",
     "text": [
      "[1] \"Done.\"\n",
      "File  602  out of  613 . Name: LUC_0320_Scan_1.nii.gzNULL\n",
      "Making folder U:\\LUCADI\\NIFTI\\LUC_0320_Scan_1NULL\n",
      "[1] \"Moving files\"\n"
     ]
    },
    {
     "name": "stderr",
     "output_type": "stream",
     "text": [
      "1 file moved. 0 failed.\n"
     ]
    },
    {
     "name": "stdout",
     "output_type": "stream",
     "text": [
      "[1] \"Done.\"\n",
      "File  603  out of  613 . Name: LUC_0320_Scan_2.nii.gzNULL\n",
      "Making folder U:\\LUCADI\\NIFTI\\LUC_0320_Scan_2NULL\n",
      "[1] \"Moving files\"\n"
     ]
    },
    {
     "name": "stderr",
     "output_type": "stream",
     "text": [
      "1 file moved. 0 failed.\n"
     ]
    },
    {
     "name": "stdout",
     "output_type": "stream",
     "text": [
      "[1] \"Done.\"\n",
      "File  604  out of  613 . Name: LUC_0321_Scan_1.nii.gzNULL\n",
      "Making folder U:\\LUCADI\\NIFTI\\LUC_0321_Scan_1NULL\n",
      "[1] \"Moving files\"\n"
     ]
    },
    {
     "name": "stderr",
     "output_type": "stream",
     "text": [
      "1 file moved. 0 failed.\n"
     ]
    },
    {
     "name": "stdout",
     "output_type": "stream",
     "text": [
      "[1] \"Done.\"\n",
      "File  605  out of  613 . Name: LUC_0321_Scan_2.nii.gzNULL\n",
      "Making folder U:\\LUCADI\\NIFTI\\LUC_0321_Scan_2NULL\n",
      "[1] \"Moving files\"\n"
     ]
    },
    {
     "name": "stderr",
     "output_type": "stream",
     "text": [
      "1 file moved. 0 failed.\n"
     ]
    },
    {
     "name": "stdout",
     "output_type": "stream",
     "text": [
      "[1] \"Done.\"\n",
      "File  606  out of  613 . Name: LUC_0322_Scan_1.nii.gzNULL\n",
      "Making folder U:\\LUCADI\\NIFTI\\LUC_0322_Scan_1NULL\n",
      "[1] \"Moving files\"\n"
     ]
    },
    {
     "name": "stderr",
     "output_type": "stream",
     "text": [
      "1 file moved. 0 failed.\n"
     ]
    },
    {
     "name": "stdout",
     "output_type": "stream",
     "text": [
      "[1] \"Done.\"\n",
      "File  607  out of  613 . Name: LUC_0323_Scan_1.nii.gzNULL\n",
      "Making folder U:\\LUCADI\\NIFTI\\LUC_0323_Scan_1NULL\n",
      "[1] \"Moving files\"\n"
     ]
    },
    {
     "name": "stderr",
     "output_type": "stream",
     "text": [
      "1 file moved. 0 failed.\n"
     ]
    },
    {
     "name": "stdout",
     "output_type": "stream",
     "text": [
      "[1] \"Done.\"\n",
      "File  608  out of  613 . Name: LUC_0323_Scan_2.nii.gzNULL\n",
      "Making folder U:\\LUCADI\\NIFTI\\LUC_0323_Scan_2NULL\n",
      "[1] \"Moving files\"\n"
     ]
    },
    {
     "name": "stderr",
     "output_type": "stream",
     "text": [
      "1 file moved. 0 failed.\n"
     ]
    },
    {
     "name": "stdout",
     "output_type": "stream",
     "text": [
      "[1] \"Done.\"\n",
      "File  609  out of  613 . Name: LUC_0324_Scan_1.nii.gzNULL\n",
      "Making folder U:\\LUCADI\\NIFTI\\LUC_0324_Scan_1NULL\n",
      "[1] \"Moving files\"\n"
     ]
    },
    {
     "name": "stderr",
     "output_type": "stream",
     "text": [
      "1 file moved. 0 failed.\n"
     ]
    },
    {
     "name": "stdout",
     "output_type": "stream",
     "text": [
      "[1] \"Done.\"\n",
      "File  610  out of  613 . Name: LUC_0325_Scan_1.nii.gzNULL\n",
      "Making folder U:\\LUCADI\\NIFTI\\LUC_0325_Scan_1NULL\n",
      "[1] \"Moving files\"\n"
     ]
    },
    {
     "name": "stderr",
     "output_type": "stream",
     "text": [
      "1 file moved. 0 failed.\n"
     ]
    },
    {
     "name": "stdout",
     "output_type": "stream",
     "text": [
      "[1] \"Done.\"\n",
      "File  611  out of  613 . Name: LUC_0325_Scan_2.nii.gzNULL\n",
      "Making folder U:\\LUCADI\\NIFTI\\LUC_0325_Scan_2NULL\n",
      "[1] \"Moving files\"\n"
     ]
    },
    {
     "name": "stderr",
     "output_type": "stream",
     "text": [
      "1 file moved. 0 failed.\n"
     ]
    },
    {
     "name": "stdout",
     "output_type": "stream",
     "text": [
      "[1] \"Done.\"\n",
      "File  612  out of  613 . Name: LUC_0326_Scan_1.nii.gzNULL\n",
      "Making folder U:\\LUCADI\\NIFTI\\LUC_0326_Scan_1NULL\n",
      "[1] \"Moving files\"\n"
     ]
    },
    {
     "name": "stderr",
     "output_type": "stream",
     "text": [
      "1 file moved. 0 failed.\n"
     ]
    },
    {
     "name": "stdout",
     "output_type": "stream",
     "text": [
      "[1] \"Done.\"\n",
      "File  613  out of  613 . Name: LUC_0326_Scan_2.nii.gzNULL\n",
      "Making folder U:\\LUCADI\\NIFTI\\LUC_0326_Scan_2NULL\n",
      "[1] \"Moving files\"\n"
     ]
    },
    {
     "name": "stderr",
     "output_type": "stream",
     "text": [
      "1 file moved. 0 failed.\n"
     ]
    },
    {
     "name": "stdout",
     "output_type": "stream",
     "text": [
      "[1] \"Done.\"\n"
     ]
    }
   ],
   "source": [
    "dirStem = \"U:\\\\LUCADI\\\\NIFTI\\\\\"\n",
    "\n",
    "for (i in 1:length(FileList)) {\n",
    "    print(cat(\"File \", i, \" out of \", length(FileList), \". Name:\", FileList[i]))\n",
    "    dirTarget = paste(dirStem, FileList[i], sep = \"\")\n",
    "    dirTarget = substr(dirTarget, 1, 31)\n",
    "    print(cat(\"Making folder\", dirTarget))\n",
    "    dir.create(dirTarget)\n",
    "    print(\"Moving files\")\n",
    "    file.move(FileList[i], dirTarget)\n",
    "    print(\"Done.\")\n",
    "    } \n",
    "    \n",
    "    "
   ]
  },
  {
   "cell_type": "code",
   "execution_count": null,
   "metadata": {},
   "outputs": [],
   "source": []
  }
 ],
 "metadata": {
  "kernelspec": {
   "display_name": "R",
   "language": "R",
   "name": "ir"
  }
 },
 "nbformat": 4,
 "nbformat_minor": 4
}
